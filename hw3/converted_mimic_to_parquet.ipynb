{
 "cells": [
  {
   "cell_type": "code",
   "execution_count": 1,
   "id": "47700ed0-74fd-4aac-b3cb-de7332375011",
   "metadata": {},
   "outputs": [],
   "source": [
    "from convert_to_pq import csvgz_parquet"
   ]
  },
  {
   "cell_type": "code",
   "execution_count": 2,
   "id": "6311eedd-d316-4d19-8658-697c4fbe0814",
   "metadata": {},
   "outputs": [
    {
     "name": "stdout",
     "output_type": "stream",
     "text": [
      "Working on ./mimic/hosp/poe.csv.gz\n",
      "Working on ./mimic/hosp/d_hcpcs.csv.gz\n",
      "Working on ./mimic/hosp/poe_detail.csv.gz\n",
      "Working on ./mimic/hosp/patients.csv.gz\n",
      "Working on ./mimic/hosp/diagnoses_icd.csv.gz\n",
      "Working on ./mimic/hosp/emar_detail.csv.gz\n",
      "Working on ./mimic/hosp/provider.csv.gz\n",
      "Working on ./mimic/hosp/prescriptions.csv.gz\n",
      "Working on ./mimic/hosp/drgcodes.csv.gz\n",
      "Working on ./mimic/hosp/d_icd_diagnoses.csv.gz\n",
      "Working on ./mimic/hosp/d_labitems.csv.gz\n",
      "Working on ./mimic/hosp/transfers.csv.gz\n",
      "Working on ./mimic/hosp/admissions.csv.gz\n",
      "Working on ./mimic/hosp/labevents.csv.gz\n",
      "Working on ./mimic/hosp/pharmacy.csv.gz\n",
      "Working on ./mimic/hosp/procedures_icd.csv.gz\n",
      "Working on ./mimic/hosp/hcpcsevents.csv.gz\n",
      "Working on ./mimic/hosp/services.csv.gz\n",
      "Working on ./mimic/hosp/d_icd_procedures.csv.gz\n",
      "Working on ./mimic/hosp/omr.csv.gz\n",
      "Working on ./mimic/hosp/emar.csv.gz\n",
      "Working on ./mimic/hosp/microbiologyevents.csv.gz\n"
     ]
    }
   ],
   "source": [
    "csvgz_parquet('./mimic/hosp/')"
   ]
  },
  {
   "cell_type": "code",
   "execution_count": 3,
   "id": "b7876077-d4a7-44d9-91e7-fa7b4d797f5d",
   "metadata": {},
   "outputs": [
    {
     "name": "stdout",
     "output_type": "stream",
     "text": [
      "Working on ./mimic/icu/datetimeevents.csv.gz\n",
      "Working on ./mimic/icu/caregiver.csv.gz\n",
      "Working on ./mimic/icu/ingredientevents.csv.gz\n",
      "Working on ./mimic/icu/inputevents.csv.gz\n",
      "Working on ./mimic/icu/procedureevents.csv.gz\n",
      "Working on ./mimic/icu/d_items.csv.gz\n",
      "Working on ./mimic/icu/chartevents.csv.gz\n",
      "Working on ./mimic/icu/icustays.csv.gz\n",
      "Working on ./mimic/icu/outputevents.csv.gz\n"
     ]
    }
   ],
   "source": [
    "csvgz_parquet('./mimic/icu/')"
   ]
  }
 ],
 "metadata": {
  "kernelspec": {
   "display_name": "203C",
   "language": "python",
   "name": "203c"
  },
  "language_info": {
   "codemirror_mode": {
    "name": "ipython",
    "version": 3
   },
   "file_extension": ".py",
   "mimetype": "text/x-python",
   "name": "python",
   "nbconvert_exporter": "python",
   "pygments_lexer": "ipython3",
   "version": "3.10.14"
  }
 },
 "nbformat": 4,
 "nbformat_minor": 5
}
