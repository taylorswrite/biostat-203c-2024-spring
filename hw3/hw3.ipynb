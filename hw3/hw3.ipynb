{
 "cells": [
  {
   "cell_type": "markdown",
   "id": "8a457678-d904-4d83-9e4f-ef9de36fe848",
   "metadata": {},
   "source": [
    "# Homework 3\n",
    "### Name: William Martinez\n",
    "### Collaborators: None\n",
    "\n",
    "Due date: May 19, 2024\n",
    "\n",
    "Submission instructions: \n",
    "- __Autograder will not be used for scoring, but you still need to submit the python file converted from this notebook (.py) and the notebook file (.ipynb) to the code submission window.__ \n",
    "To convert a Jupyter Notebook (`.ipynb`) to a regular Python script (`.py`):\n",
    "  - In Jupyter Notebook: File > Download as > Python (.py)\n",
    "  - In JupyterLab: File > Save and Export Notebook As... > Executable Script\n",
    "  - In VS Code Jupyter Notebook App: In the toolbar, there is an Export menu. Click on it, and select Python script.\n",
    "- Submit `hw3.ipynb` and `hw3.py` on Gradescope under the window \"Homework 3 - code\". Do **NOT** change the file name.\n",
    "- Convert this notebook into a pdf file and submit it on Gradescope under the window \"Homework 3 - PDF\". Make sure all your code and text outputs in the problems are visible. \n",
    "\n",
    "\n",
    "This homework requires two new packages, `pyarrow` and `duckdb`. Pleas make sure to install them in your `BIOSTAT203C-24S` environment:\n",
    "\n",
    "```bash\n",
    "conda activate BIOSTAT203C-24S\n",
    "conda install -c conda-forge pyarrow python-duckdb\n",
    "```"
   ]
  },
  {
   "cell_type": "code",
   "execution_count": 1,
   "id": "8b6401a3-a60d-46ca-8d4a-6603451ec7d9",
   "metadata": {},
   "outputs": [],
   "source": [
    "import sys\n",
    "import gzip\n",
    "import time\n",
    "import random\n",
    "import duckdb\n",
    "import numpy as np\n",
    "import pandas as pd\n",
    "import polars as pl\n",
    "import pyarrow as pa\n",
    "import pyarrow.csv as csv\n",
    "import pyarrow.compute as pc\n",
    "import pyarrow.parquet as pq\n",
    "from matplotlib import pyplot as plt\n",
    "\n",
    "# Create a syslink named `mimic` in working directory.\n",
    "pth_hsp = './mimic/hosp/'\n",
    "pth_icu = './mimic/icu/'\n",
    "\n",
    "# Common Objects. Added here in case of kernel crash.\n",
    "lab_col = ['subject_id', 'itemid', 'charttime', 'valuenum']\n",
    "lab_itemid = [50912, 50971, 50983, 50902, 50882, 51221, 51301, 50931]"
   ]
  },
  {
   "cell_type": "markdown",
   "id": "28a7a9c1-47d2-41ab-8df6-9a96a1a22639",
   "metadata": {},
   "source": [
    "## Problem 1. \n",
    "\n",
    "Recall the simple random walk.  At each step, we flip a fair coin. If heads, we move \"foward\" one unit; if tails, we move \"backward.\" \n",
    "\n",
    "### (A).\n",
    "\n",
    "Way back in Homework 1, you wrote some code to simulate a random walk in Python. \n",
    "\n",
    "Start with this code, or use posted solutions for HW1. If you have since written random walk code that you prefer, you can use this instead. Regardless, take your code, modify it, and enclose it in a function `rw()`. This function should accept a single argument `n`, the length of the walk. The output should be a list giving the position of the random walker, starting with the position after the first step. For example, \n",
    "\n",
    "```python\n",
    "rw(5)\n",
    "[1, 2, 3, 2, 3]\n",
    "```\n",
    "\n",
    "Unlike in the HW1 problem, you should not use upper or lower bounds. The walk should always run for as long as the user-specified number of steps `n`. \n",
    "\n",
    "Use your function to print out the positions of a random walk of length `n = 10`. \n",
    "\n",
    "Don't forget a helpful docstring!"
   ]
  },
  {
   "cell_type": "markdown",
   "id": "d916aa86-e235-4556-a188-73707ef7ea71",
   "metadata": {},
   "source": [
    "### ANSWER 1A"
   ]
  },
  {
   "cell_type": "code",
   "execution_count": 2,
   "id": "8f0e4a4f-fee7-4d02-ad4d-32c61b65b762",
   "metadata": {},
   "outputs": [
    {
     "data": {
      "text/plain": [
       "[-1, -2, -3, -2, -1, 0, 1, 2, 1, 0]"
      ]
     },
     "execution_count": 2,
     "metadata": {},
     "output_type": "execute_result"
    }
   ],
   "source": [
    "def rw(n):\n",
    "  \"\"\"\n",
    "  A list of positions from a random walk.\n",
    "  ---\n",
    "  Args:\n",
    "    n: A positive integer. Number of steps.\n",
    "  Returns:\n",
    "    positions: A list of poistions.\n",
    "  \"\"\"\n",
    "  pos = 0 # Initialized current position\n",
    "  positions = [] # Empty list. Track positions after a step.\n",
    "  while len(positions) < n:\n",
    "    x = random.choice([\"heads\", \"tails\"])\n",
    "    if x == \"heads\":\n",
    "        pos += 1 # If heads, move forward one step.\n",
    "        positions.append(pos) # Append position after step.\n",
    "    elif x == \"tails\":\n",
    "        pos -= 1 # If tails, move backward one step.\n",
    "        positions.append(pos) # Append position after step.\n",
    "  return positions\n",
    "\n",
    "rw(10)\n",
    "    "
   ]
  },
  {
   "cell_type": "markdown",
   "id": "678abaa8-a334-47e1-81f6-590724c0a75f",
   "metadata": {},
   "source": [
    "### (B). \n",
    "\n",
    "Now create a function called `rw2(n)`, where the argument `n` means the same thing that it did in Part A. Do so using `numpy` tools. Demonstrate your function as above, by creating a random walk of length 10. You can (and should) return your walk as a `numpy` array. \n",
    "\n",
    "**Requirements**: \n",
    "\n",
    "- No for-loops. \n",
    "- This function is simple enough to be implemented as a one-liner of fewer than 80 characters, using lambda notation. Even if you choose not to use lambda notation, the body of your function definition should be no more than three lines long. Importing `numpy` does not count as a line. \n",
    "- A docstring is required if and only if you take more than one line to define the function. \n",
    "\n",
    "**Hints**:\n",
    "\n",
    "- Check the documentation for `np.random.choice()`. \n",
    "- `np.cumsum()`. \n"
   ]
  },
  {
   "cell_type": "markdown",
   "id": "040848b7-f5ea-4d24-a81a-566343bdf039",
   "metadata": {},
   "source": [
    "### Answer 1B"
   ]
  },
  {
   "cell_type": "code",
   "execution_count": 3,
   "id": "a940cccd-ff22-492e-8957-b7cf0da5939f",
   "metadata": {},
   "outputs": [
    {
     "data": {
      "text/plain": [
       "array([-1,  0,  1,  0,  1,  0,  1,  0,  1,  2])"
      ]
     },
     "execution_count": 3,
     "metadata": {},
     "output_type": "execute_result"
    }
   ],
   "source": [
    "# Return positions from n random steps\n",
    "rw2 = lambda n: np.random.choice([-1, 1], size=n, replace=True).cumsum()\n",
    "\n",
    "rw2(10)\n"
   ]
  },
  {
   "cell_type": "markdown",
   "id": "0ad5c360-3302-4375-a151-ab3a63ec5fa3",
   "metadata": {},
   "source": [
    "### (C).\n",
    "\n",
    "Use the `%timeit` magic macro to compare the runtime of `rw()` and `rw2()`. Test how each function does in computing a random walk of length `n = 10000`. "
   ]
  },
  {
   "cell_type": "markdown",
   "id": "36f95eb2-c6dd-40bd-86a5-a828e1052d78",
   "metadata": {},
   "source": [
    "### Answer 1C"
   ]
  },
  {
   "cell_type": "code",
   "execution_count": 4,
   "id": "5e097a85-c7ba-415b-b31f-d153ec3ef667",
   "metadata": {},
   "outputs": [
    {
     "name": "stdout",
     "output_type": "stream",
     "text": [
      "3.78 ms ± 24.9 µs per loop (mean ± std. dev. of 7 runs, 100 loops each)\n"
     ]
    }
   ],
   "source": [
    "%%timeit\n",
    "rw(10_000)"
   ]
  },
  {
   "cell_type": "code",
   "execution_count": 5,
   "id": "24524a29-f01b-4491-b776-525626deca0b",
   "metadata": {},
   "outputs": [
    {
     "name": "stdout",
     "output_type": "stream",
     "text": [
      "61.3 µs ± 203 ns per loop (mean ± std. dev. of 7 runs, 10,000 loops each)\n"
     ]
    }
   ],
   "source": [
    "%%timeit\n",
    "rw2(10_000)"
   ]
  },
  {
   "cell_type": "markdown",
   "id": "4fbea2f6-1e39-415a-aa16-defe9ba79268",
   "metadata": {},
   "source": [
    "### (D). \n",
    "\n",
    "Write a few sentences in which you comment on (a) the performance of each function and (b) the ease of writing and reading each function. "
   ]
  },
  {
   "cell_type": "markdown",
   "id": "cf6d1d1a-efa5-41db-bc3f-bcc2f86be13b",
   "metadata": {},
   "source": [
    "### ANSWER 1D\n",
    "\n",
    "The function, `rw2()`, was 82% faster than the function, `rw()`. Built-in python list operations were used in `rw()` and numpy array operations were used in `rw2()`. The average run-times for `rw()` and `rw2()` were 61.1 µs and 362 µs, respectively. The numpy array function, `rw2()`, was easier to write, occupying only one line, and was more readable than the built-in python list operations in `rw()`."
   ]
  },
  {
   "cell_type": "markdown",
   "id": "d85b5fcb-9c45-4a16-8642-1e47216ccbc4",
   "metadata": {},
   "source": [
    "### (E). \n",
    "\n",
    "\n",
    "In this problem, we will perform a `d`-dimensional random walk. There are many ways to define such a walk. Here's the definition we'll use for this problem: \n",
    "\n",
    "> At each timestep, the walker takes one random step forward or backward **in each of `d` directions.** \n",
    "\n",
    "For example, in a two-dimensional walk on a grid, in each timestep the walker would take a step either north or south, and then another step either east or west. Another way to think about is as the walker taking a single \"diagonal\" step either northeast, southeast, southwest, or northwest. \n",
    "\n",
    "Write a function called `rw_d(n,d)` that implements a `d`-dimensional random walk. `n` is again the number of steps that the walker should take, and `d` is the dimension of the walk. The output should be given as a `numpy` array of shape `(n,d)`, where the `k`th row of the array specifies the position of the walker after `k` steps. For example: \n",
    "\n",
    "```python\n",
    "P = rw_d(5, 3)\n",
    "P\n",
    "```\n",
    "```\n",
    "array([[-1, -1, -1],\n",
    "       [ 0, -2, -2],\n",
    "       [-1, -3, -3],\n",
    "       [-2, -2, -2],\n",
    "       [-1, -3, -1]])\n",
    "```\n",
    "\n",
    "In this example, the third row `P[2,:] = [-1, -3, -3]` gives the position of the walk after 3 steps. \n",
    "\n",
    "Demonstrate your function by generating a 3d walk with 5 steps, as shown in the example above. \n",
    "\n",
    "All the same requirements and hints from Part B apply in this problem as well. It should be possible to solve this problem by making only a few small modifications to your solution from Part B. If you are finding that this is not possible, you may want to either (a) read the documentation for the relevant `numpy` functions more closely or (b) reconsider your Part B approach. \n",
    "\n",
    "\n",
    "\n"
   ]
  },
  {
   "cell_type": "markdown",
   "id": "a24f7178-5b7f-49a0-9ee7-4a5a7bf203a8",
   "metadata": {},
   "source": [
    "### Answer 1E"
   ]
  },
  {
   "cell_type": "code",
   "execution_count": 6,
   "id": "0d762975-6f8a-4235-b4a7-3a16eb0b05e9",
   "metadata": {},
   "outputs": [
    {
     "data": {
      "text/plain": [
       "array([[-1, -1,  1],\n",
       "       [-2, -2,  0],\n",
       "       [-1, -3,  1],\n",
       "       [-2, -4,  2],\n",
       "       [-3, -3,  3]])"
      ]
     },
     "execution_count": 6,
     "metadata": {},
     "output_type": "execute_result"
    }
   ],
   "source": [
    "def rw_d(n, d):\n",
    "  \"\"\"\n",
    "  A list of positions from a multidimential random walk.\n",
    "  ---\n",
    "  Args:\n",
    "    n: A positive integer. The number of steps in each dimention.\n",
    "    d: A positive integer. The number of dimentions.\n",
    "  Return:\n",
    "    positions: An numpy array. The positions after step in a dimention.\n",
    "  \"\"\"\n",
    "  positions = (\n",
    "    np.random.choice(\n",
    "      [-1, 1], # -1 for tails and 1 for heads.\n",
    "      size = (n * d), # The number of elements in array.\n",
    "      replace = True) # Reuse heads and tails.\n",
    "    .reshape(n, d) # Reshape into n rows and d columns.\n",
    "    .cumsum(axis=0) # Columnar Cumulative Sum \n",
    "  )\n",
    "  return positions\n",
    "\n",
    "rw_d(5, 3)"
   ]
  },
  {
   "cell_type": "markdown",
   "id": "5b383552-1ec5-4bd1-9c7b-b67dc7fe67cb",
   "metadata": {},
   "source": [
    "### (F).\n",
    "\n",
    "In a few sentences, describe how you would have solved Part E without `numpy` tools. Take a guess as to how many lines it would have taken you to define the appropriate function. Based on your findings in Parts C and D, how would you expect its performance to compare to your `numpy`-based function from Part E? Which approach would your recommend? \n",
    "\n",
    "Note: while I obviously prefer the `numpy` approach, it is reasonable and valid to prefer the \"vanilla\" way instead. Either way, you should be ready to justify your preference on the basis of writeability, readability, and performance. "
   ]
  },
  {
   "cell_type": "markdown",
   "id": "b8b63ced-cb79-4aed-8321-c68722237e94",
   "metadata": {},
   "source": [
    "### Answer 1F\n",
    "\n",
    "Without using numpy tools, Part E could be solved by creating a 2-D list. Use a for-loop to call `rw()`  d times with an input of n. For each iteration, zip the old list with the new list. Results in an array shape of (n,d). The resulting function would be approximately 9 lines long (20 lines including `rw()`) and would have a longer runtime than if numpy tools were used. The numpy based function from part E 5-10 times faster than the non-numpy function proposed. Therefore, the utilization of numpy tooling is preferred for its readability and  speed."
   ]
  },
  {
   "cell_type": "markdown",
   "id": "b307e8e5-1278-4bba-b22f-bf7816eb43c8",
   "metadata": {},
   "source": [
    "### (G).\n",
    "\n",
    "Once you've implemented `rw_d()`, you can run the following code to generate a large random walk and visualize it. \n",
    "\n",
    "```python\n",
    "from matplotlib import pyplot as plt\n",
    "\n",
    "W = rw_d(20000, 2)\n",
    "plt.plot(W[:,0], W[:,1])\n",
    "```\n",
    "\n",
    "You may be interested in looking at several other visualizations of multidimensional random walks [on Wikipedia](https://en.wikipedia.org/wiki/Random_walk). Your result in this part will not look exactly the same, but should look qualitatively fairly similar. \n",
    "\n",
    "You only need to show one plot. If you like, you might enjoy playing around with the plot settings. While `ax.plot()` is the normal method to use here, `ax.scatter()` with partially transparent points can also produce some intriguing images. "
   ]
  },
  {
   "cell_type": "markdown",
   "id": "3ad649a4-9ad8-4a12-9e7c-cdd2202d54cf",
   "metadata": {},
   "source": [
    "### Answer 1G"
   ]
  },
  {
   "cell_type": "code",
   "execution_count": 7,
   "id": "0da1d9e7-9625-445d-b3c9-a9957d2b435c",
   "metadata": {},
   "outputs": [
    {
     "data": {
      "text/plain": [
       "[<matplotlib.lines.Line2D at 0x141e5d000>]"
      ]
     },
     "execution_count": 7,
     "metadata": {},
     "output_type": "execute_result"
    },
    {
     "data": {
      "image/png": "[encoded data removed]",
      "text/plain": [
       "<Figure size 640x480 with 1 Axes>"
      ]
     },
     "metadata": {},
     "output_type": "display_data"
    }
   ],
   "source": [
    "# Plot 2-D Random Walk\n",
    "W = rw_d(20000, 2)\n",
    "plt.plot(W[:,0], W[:,1])"
   ]
  },
  {
   "cell_type": "markdown",
   "id": "def78985-0fc4-4ac7-a804-4debe01426b4",
   "metadata": {},
   "source": [
    "## Problem 2. Reading MIMIC-IV datafile\n",
    "In this exercise, we explore various tools for ingesting the [MIMIC-IV](https://mimic.mit.edu/docs/iv/) data introduced in BIOSTAT 203B, but we will do it in Python this time.\n",
    "\n",
    "Let's display the contents of MIMIC `hosp` and `icu` data folders: (if a cell starts with a `!`, the command is run in the shell.)"
   ]
  },
  {
   "cell_type": "markdown",
   "id": "399f529e-488c-4fdb-b63f-11b864bbd7e7",
   "metadata": {},
   "source": [
    "### Directions To Setup Mimic\n",
    "\n",
    "- Create a system link (`ln -s`) between Mimic and the current working directory of this notebook. Using a system link is storage efficient and allows for more readable relative paths to be used to reference the mimic data.\n",
    "\n",
    "- Use the tags `-goh` to show permissions, size, and filename."
   ]
  },
  {
   "cell_type": "code",
   "execution_count": 8,
   "id": "1948eaab-6f54-482a-a0ca-b1fa36a38f4c",
   "metadata": {
    "tags": []
   },
   "outputs": [
    {
     "name": "stdout",
     "output_type": "stream",
     "text": [
      "total 8859752\n",
      "-rw-------@ 1     15M Jan  5  2023 admissions.csv.gz\n",
      "-rw-------@ 1    417K Jan  5  2023 d_hcpcs.csv.gz\n",
      "-rw-------@ 1    839K Jan  5  2023 d_icd_diagnoses.csv.gz\n",
      "-rw-------@ 1    565K Jan  5  2023 d_icd_procedures.csv.gz\n",
      "-rw-------@ 1     13K Jan  5  2023 d_labitems.csv.gz\n",
      "-rw-------@ 1     24M Jan  5  2023 diagnoses_icd.csv.gz\n",
      "-rw-------@ 1    7.1M Jan  5  2023 drgcodes.csv.gz\n",
      "-rw-------@ 1    485M Jan  5  2023 emar.csv.gz\n",
      "-rw-------@ 1    449M Jan  5  2023 emar_detail.csv.gz\n",
      "-rw-------@ 1    1.7M Jan  5  2023 hcpcsevents.csv.gz\n",
      "-rw-------@ 1    1.8G Jan  5  2023 labevents.csv.gz\n",
      "-rw-------@ 1     92M Jan  5  2023 microbiologyevents.csv.gz\n",
      "-rw-------@ 1     34M Jan  5  2023 omr.csv.gz\n",
      "-rw-------@ 1    2.2M Jan  5  2023 patients.csv.gz\n",
      "-rw-------@ 1    380M Jan  5  2023 pharmacy.csv.gz\n",
      "-rw-------@ 1    475M Jan  5  2023 poe.csv.gz\n",
      "-rw-------@ 1     24M Jan  5  2023 poe_detail.csv.gz\n",
      "-rw-------@ 1    438M Jan  5  2023 prescriptions.csv.gz\n",
      "-rw-------@ 1    5.7M Jan  5  2023 procedures_icd.csv.gz\n",
      "-rw-------@ 1    120K Jan  5  2023 provider.csv.gz\n",
      "-rw-------@ 1    6.5M Jan  5  2023 services.csv.gz\n",
      "-rw-------@ 1     34M Jan  5  2023 transfers.csv.gz\n"
     ]
    }
   ],
   "source": [
    "# Hosp Files\n",
    "!ls -goh ./mimic/hosp/"
   ]
  },
  {
   "cell_type": "code",
   "execution_count": 9,
   "id": "512dcc57-1024-4e42-a2f5-c028ee351d82",
   "metadata": {
    "tags": []
   },
   "outputs": [
    {
     "name": "stdout",
     "output_type": "stream",
     "text": [
      "total 6155968\n",
      "-rw-------@ 1     35K Jan  5  2023 caregiver.csv.gz\n",
      "-rw-------@ 1    2.3G Jan  5  2023 chartevents.csv.gz\n",
      "-rw-------@ 1     56K Jan  5  2023 d_items.csv.gz\n",
      "-rw-------@ 1     44M Jan  5  2023 datetimeevents.csv.gz\n",
      "-rw-------@ 1    2.5M Jan  5  2023 icustays.csv.gz\n",
      "-rw-------@ 1    240M Jan  5  2023 ingredientevents.csv.gz\n",
      "-rw-------@ 1    309M Jan  5  2023 inputevents.csv.gz\n",
      "-rw-------@ 1     37M Jan  5  2023 outputevents.csv.gz\n",
      "-rw-------@ 1     20M Jan  5  2023 procedureevents.csv.gz\n"
     ]
    }
   ],
   "source": [
    "# ICU Files\n",
    "!ls -goh ./mimic/icu/"
   ]
  },
  {
   "cell_type": "markdown",
   "id": "c9b9d704-df48-4dc8-a3d2-35747b75f2f8",
   "metadata": {},
   "source": [
    "### (A). Speed, memory, and data types\n",
    "\n",
    "Standard way to read a CSV file would be using the `read_csv` function of the `pandas` package. Let us check the speed of reading a moderate-sized compressed csv file, `admissions.csv.gz`. How much memory does the resulting data frame use?\n",
    "\n",
    "_Note:_ If you start a cell with `%%time`, the runtime will be measured. "
   ]
  },
  {
   "cell_type": "code",
   "execution_count": 12,
   "id": "0f2c2dd7-0169-4a54-b177-79bcf85e8d2a",
   "metadata": {},
   "outputs": [],
   "source": [
    "def percent_diff(i_time=None, f_time=None, i_mem=None, f_mem=None):\n",
    "  \"\"\"\n",
    "  Print Pandas and Polars Comparison Metrics\n",
    "  ---\n",
    "  Args:\n",
    "    i_time: A positive float. The runtime of a initial cell in s.\n",
    "    f_time: A positive float. The runtime of a final cell in s.\n",
    "  Optional Args:\n",
    "    i_mem: A positive float. Initial dataframe object memory usage in GB.\n",
    "    f_mem: A positive float. Final dataframe object memory usage in GB.\n",
    "  Return:\n",
    "    None\n",
    "  \"\"\"\n",
    "  if (i_time is not None) and (f_time is not None): # Check if empty\n",
    "    time_diff = round((f_time - i_time) / i_time * 100) # percent diff.\n",
    "    if time_diff > 0: # if percent diff. is greater than 0 output text\n",
    "      print(f\"final runtime was {abs(time_diff)}% slower than initial.\")\n",
    "    elif time_diff < 0: # if percent diff. is less than 0 output text\n",
    "      print(f\"final runtime was {abs(time_diff)}% faster than initial.\")\n",
    "    elif time_diff == 0: # if percent diff. is equal to 0 output text\n",
    "      print(f\"final runtime was the same as initial.\")\n",
    "    else:\n",
    "      raise TypeError\n",
    "  else:\n",
    "    pass\n",
    "  if (i_mem is not None) and (f_mem is not None): # Check if empty\n",
    "    mem_diff = round((f_mem - i_mem) / i_mem * 100) # percent diff\n",
    "    if mem_diff > 0: # if percent diff. is greater than 0 output text\n",
    "      print(f\"final df memory usage was {abs(mem_diff)}% more than initial.\")\n",
    "    elif mem_diff < 0: # if percent diff. is less than 0 output text\n",
    "      print(f\"final df memory usage was {abs(mem_diff)}% less than initial.\")\n",
    "    elif mem_diff == 0: # if percent diff. is equal to 0 output text\n",
    "      print(f\"final df memory usage was the same as initial.\")\n",
    "    else:\n",
    "      raise TypeError\n",
    "  else:\n",
    "    pass"
   ]
  },
  {
   "cell_type": "markdown",
   "id": "dd6a5360-c392-4c6d-b493-7a623b9a2110",
   "metadata": {},
   "source": [
    "### Answer 2A\n",
    "\n",
    "#### Pandas\n",
    "\n",
    "The runtime to ingest `admissions.csv.gz` using pandas was 884 ms and the resulting data frame memory usage was 0.368 GB.\n",
    "\n",
    "#### Polars\n",
    "\n",
    "The runtime to ingest `admissions.csv.gz` using pandas was 214 ms and the resulting data frame memory usage was 4.8e-08 GB.\n",
    "\n",
    "#### Summary\n",
    "\n",
    "Polars consumed less resources than pandas. The Polars runtime was __34% faster__ and the Polars data frame object memory usage was __2% less__ than Pandas."
   ]
  },
  {
   "cell_type": "code",
   "execution_count": 7,
   "id": "73258362-fb47-405c-80a4-a7d79e73409c",
   "metadata": {
    "tags": []
   },
   "outputs": [
    {
     "name": "stdout",
     "output_type": "stream",
     "text": [
      "CPU times: user 747 ms, sys: 43.3 ms, total: 790 ms\n",
      "Wall time: 806 ms\n"
     ]
    }
   ],
   "source": [
    "%%time\n",
    "# Read admissions using Pandas\n",
    "df_pd_adm = pd.read_csv(\"./mimic/hosp/admissions.csv.gz\")"
   ]
  },
  {
   "cell_type": "code",
   "execution_count": 8,
   "id": "afb7f580-7f07-4e1d-8c95-4424412f4f7d",
   "metadata": {},
   "outputs": [
    {
     "name": "stdout",
     "output_type": "stream",
     "text": [
      "0.368 GB\n"
     ]
    }
   ],
   "source": [
    "print(round(sys.getsizeof(df_pd_adm)/10**9, 3), \"GB\")"
   ]
  },
  {
   "cell_type": "code",
   "execution_count": 3,
   "id": "ac090c4c-8d60-441e-938e-2ee4668f6601",
   "metadata": {},
   "outputs": [
    {
     "name": "stdout",
     "output_type": "stream",
     "text": [
      "CPU times: user 540 ms, sys: 135 ms, total: 675 ms\n",
      "Wall time: 525 ms\n"
     ]
    }
   ],
   "source": [
    "%%time\n",
    "# Read admissions using Polars\n",
    "df_pl_adm = pl.read_csv(\"./mimic/hosp/admissions.csv.gz\").to_pandas()"
   ]
  },
  {
   "cell_type": "code",
   "execution_count": 6,
   "id": "1a90e5b4-9783-498c-958e-7125fd658b66",
   "metadata": {},
   "outputs": [
    {
     "name": "stdout",
     "output_type": "stream",
     "text": [
      "0.362 GB\n"
     ]
    }
   ],
   "source": [
    "print(round(sys.getsizeof(df_pl_adm)/10**9, 3), \"GB\")"
   ]
  },
  {
   "cell_type": "code",
   "execution_count": 13,
   "id": "65169559-982d-4a63-a9d1-68263ac3de82",
   "metadata": {},
   "outputs": [
    {
     "name": "stdout",
     "output_type": "stream",
     "text": [
      "final runtime was 35% faster than initial.\n",
      "final df memory usage was 2% less than initial.\n"
     ]
    }
   ],
   "source": [
    "# Initial: Pandas reading admissions.csv.gz\n",
    "# Final: Polars reading admissions.csv.gz\n",
    "percent_diff(i_time=0.806, i_mem=0.368, f_time=0.525, f_mem=0.362)"
   ]
  },
  {
   "cell_type": "code",
   "execution_count": 16,
   "id": "e06e763c-7024-47e2-a73e-ee222040f071",
   "metadata": {},
   "outputs": [],
   "source": [
    "del df_pd_adm\n",
    "del df_pl_adm"
   ]
  },
  {
   "cell_type": "markdown",
   "id": "e1491db4-c6ea-4ad1-8071-42c129cb08c3",
   "metadata": {},
   "source": [
    "### (B). User-supplied data types\n",
    "\n",
    "Re-ingest `admissions.csv.gz` by indicating appropriate column data types in [`pd.read_csv`](https://pandas.pydata.org/pandas-docs/stable/reference/api/pandas.read_csv.html). Does the run time change? How much memory does the result dataframe use? (Hint: `dtype` and `parse_dates` arguments in `pd.read_csv`.)"
   ]
  },
  {
   "cell_type": "markdown",
   "id": "31071aec-c82a-492f-a3bb-93c2a3420eea",
   "metadata": {},
   "source": [
    "### Answer 2B\n",
    "\n",
    "#### Pandas (Categorical) \n",
    "\n",
    "Categorical variables were assigned as type `categorical`. Dates were assigned as date. The runtime to ingest `admissions.csv.gz` using pandas and declaring data types was 3.69 seconds and the resulting data frame memory usage was 0.029 GB. Compared to pandas reading without declaring data types (1A), the pandas runtime with declared data types was __331% slower__ but the data frame memory usage was __92% less__.\n",
    "\n",
    "#### Pandas (String)\n",
    "\n",
    "Categorical variables were assigned as type `string`. Dates were assigned as date. The runtime to ingest `admissions.csv.gz` using pandas and declaring data types was 3.76 seconds and the resulting data frame memory usage was 0.277 GB. Compared to pandas reading without declaring data types (1A), the pandas runtime with declared data types was __328% slower__ but the data frame memory usage was __25% less__.\n",
    "\n",
    "#### Polars (Categorical)\n",
    "\n",
    "Categorical variables were assigned as type `string`. Dates were assigned as date. The runtime to ingest `admissions.csv.gz` using polar and declaring data types was 0.207 seconds and the resulting data frame memory usage was 0.029 GB. Compared to pandas reading without declaring data types (1A), the pandas runtime with declared data types was __328% slower__ but the data frame memory usage was __604,165x more__.\n",
    "\n",
    "\n",
    "#### Summary\n",
    "For pandas, declaring variables increased the runtime but decreased the the size of the resulting data frame. Additionally, for pandas the size of the resulting data frame was less when categorical variables were assigned the type, `categorical`. Polars, had a slower runtime and larger resulting data frame; however, compared to pandas, the it was faster and the resulting data frame was smaller. Of the methods tested, polars was best because it accomplished the same task as pandas while using less resources."
   ]
  },
  {
   "cell_type": "code",
   "execution_count": 17,
   "id": "2d8a6a2e-8b82-4612-84b7-f45370094b97",
   "metadata": {},
   "outputs": [
    {
     "name": "stdout",
     "output_type": "stream",
     "text": [
      "CPU times: user 3.48 s, sys: 83.9 ms, total: 3.57 s\n",
      "Wall time: 3.6 s\n"
     ]
    }
   ],
   "source": [
    "%%time\n",
    "# Pandas: Assigning data types while reading (category)\n",
    "df_pd_cat_adm = pd.read_csv(\n",
    "  \"./mimic/hosp/admissions.csv.gz\",\n",
    "  # assign data types\n",
    "  dtype={\n",
    "    'subject_id': 'int64',\n",
    "    'hadm_id': 'int64',\n",
    "    'admission_type': 'category',\n",
    "    'admit_provider_id': 'category',\n",
    "    'admission_location': 'category',\n",
    "    'discharge_location': 'category',\n",
    "    'insurance': 'category',\n",
    "    'language': 'category',\n",
    "    'marital_status': 'category',\n",
    "    'race': 'category',\n",
    "    'hospital_expire_flag': 'category'\n",
    "  },\n",
    "  # assign date types\n",
    "  parse_dates=[\n",
    "    'admittime',\n",
    "    'dischtime',\n",
    "    'deathtime',\n",
    "    'edregtime',\n",
    "    'admittime',\n",
    "    'edouttime',\n",
    "    'deathtime',\n",
    "  ]\n",
    ")"
   ]
  },
  {
   "cell_type": "code",
   "execution_count": 18,
   "id": "78d4d8f0-bfee-412f-a1a6-a6ab1f2b9fa4",
   "metadata": {},
   "outputs": [
    {
     "name": "stdout",
     "output_type": "stream",
     "text": [
      "0.029 GB\n"
     ]
    }
   ],
   "source": [
    "print(round(sys.getsizeof(df_pd_cat_adm)/10**9,3), \"GB\")"
   ]
  },
  {
   "cell_type": "code",
   "execution_count": 19,
   "id": "7d93170e-ef36-4503-b273-97a29b2ba32c",
   "metadata": {},
   "outputs": [
    {
     "name": "stdout",
     "output_type": "stream",
     "text": [
      "final runtime was 330.524% slower than initial.\n",
      "final df memory usage was 92.12% less than initial.\n"
     ]
    }
   ],
   "source": [
    "# Initial = Pandas without declared data types\n",
    "# Final = Pandas with declared data types (categorical)\n",
    "percent_diff(i_time=0.878, i_mem=0.368, f_time=3.78, f_mem=0.029)"
   ]
  },
  {
   "cell_type": "code",
   "execution_count": 20,
   "id": "00de7ee2-e719-4a71-8fad-40cfed096551",
   "metadata": {},
   "outputs": [
    {
     "name": "stdout",
     "output_type": "stream",
     "text": [
      "CPU times: user 3.46 s, sys: 69.4 ms, total: 3.53 s\n",
      "Wall time: 3.54 s\n"
     ]
    }
   ],
   "source": [
    "%%time\n",
    "# Pandas: Assigning data types while reading (string)\n",
    "df_pd_str_adm = (\n",
    "  pd.read_csv(\n",
    "    \"./mimic/hosp/admissions.csv.gz\",\n",
    "    # assign data types\n",
    "    dtype={\n",
    "      'subject_id': 'int64',\n",
    "      'hadm_id': 'int64',\n",
    "      'admission_type': 'string',\n",
    "      'admit_provider_id': 'string',\n",
    "      'admission_location': 'string',\n",
    "      'discharge_location': 'string',\n",
    "      'insurance': 'string',\n",
    "      'language': 'string',\n",
    "      'marital_status': 'string',\n",
    "      'race': 'string',\n",
    "      'hospital_expire_flag': 'string'\n",
    "    },\n",
    "    # assign date types\n",
    "    parse_dates=[\n",
    "      'admittime',\n",
    "      'dischtime',\n",
    "      'deathtime',\n",
    "      'edregtime',\n",
    "      'admittime',\n",
    "      'edouttime',\n",
    "      'deathtime',])\n",
    ")"
   ]
  },
  {
   "cell_type": "code",
   "execution_count": 21,
   "id": "610e2761-9818-48f5-80b2-9443e0ae2c81",
   "metadata": {},
   "outputs": [
    {
     "name": "stdout",
     "output_type": "stream",
     "text": [
      "0.277 GB\n"
     ]
    }
   ],
   "source": [
    "print(round(sys.getsizeof(df_pd_str_adm)/10**9, 3), \"GB\")"
   ]
  },
  {
   "cell_type": "code",
   "execution_count": 22,
   "id": "790c8f9a-8d29-4438-9183-f575d5a5103d",
   "metadata": {},
   "outputs": [
    {
     "name": "stdout",
     "output_type": "stream",
     "text": [
      "final runtime was 328.246% slower than initial.\n",
      "final df memory usage was 24.728% less than initial.\n"
     ]
    }
   ],
   "source": [
    "# Initial = Pandas without declared data types\n",
    "# Final = Pandas with declared data types (string)\n",
    "percent_diff(i_time=0.878, i_mem=0.368, f_time=3.76, f_mem=0.277)"
   ]
  },
  {
   "cell_type": "code",
   "execution_count": 23,
   "id": "a428c864-dbbf-4157-a9ab-a16863bf0513",
   "metadata": {},
   "outputs": [
    {
     "name": "stdout",
     "output_type": "stream",
     "text": [
      "CPU times: user 354 ms, sys: 28.3 ms, total: 383 ms\n",
      "Wall time: 188 ms\n"
     ]
    }
   ],
   "source": [
    "%%time\n",
    "# Polars: Assigning data types while reading (category)\n",
    "df_pl_cat_adm = (\n",
    "  pl.read_csv(\n",
    "    \"./mimic/hosp/admissions.csv.gz\", # read file\n",
    "    # assign data types\n",
    "    dtypes={ \n",
    "      'subject_id': pl.Int64,\n",
    "      'hadm_id': pl.Int64,\n",
    "      'admission_type': pl.Categorical,\n",
    "      'admit_provider_id': pl.Categorical,\n",
    "      'admission_location': pl.Categorical,\n",
    "      'discharge_location': pl.Categorical,\n",
    "      'insurance': pl.Categorical,\n",
    "      'language': pl.Categorical,\n",
    "      'marital_status': pl.Categorical,\n",
    "      'race': pl.Categorical,\n",
    "      'hospital_expire_flag': pl.Categorical}, \n",
    "    try_parse_dates=True) # convert columns to date.\n",
    "  .to_pandas() # convert to pd.dataframe\n",
    ")"
   ]
  },
  {
   "cell_type": "code",
   "execution_count": 24,
   "id": "0c15db8b-4e4a-4f07-97ed-62feb01cc361",
   "metadata": {},
   "outputs": [
    {
     "name": "stdout",
     "output_type": "stream",
     "text": [
      "0.029 GB\n"
     ]
    }
   ],
   "source": [
    "print(round(sys.getsizeof(df_pl_cat_adm)/10**9,3), \"GB\")"
   ]
  },
  {
   "cell_type": "code",
   "execution_count": 25,
   "id": "22a34832-0660-4a23-9d9c-cbc26747cd9c",
   "metadata": {},
   "outputs": [
    {
     "name": "stdout",
     "output_type": "stream",
     "text": [
      "final runtime was 7.009% faster than initial.\n",
      "final df memory usage was 60416566.667% more than initial.\n"
     ]
    }
   ],
   "source": [
    "# Initial = Polars without declared data types(initial) \n",
    "# Final = Polars with declared data types\n",
    "percent_diff(i_time=0.214, i_mem=4.8e-08, f_time=0.199, f_mem=0.029)"
   ]
  },
  {
   "cell_type": "code",
   "execution_count": 26,
   "id": "6105a3e9-4017-479e-a824-bc952e2a522e",
   "metadata": {},
   "outputs": [],
   "source": [
    "del df_pd_cat_adm\n",
    "del df_pd_str_adm\n",
    "del df_pl_cat_adm"
   ]
  },
  {
   "cell_type": "markdown",
   "id": "d56d7ab0-adfb-406c-a009-86065a7f4ba1",
   "metadata": {},
   "source": [
    "## Problem 3. Ingest big data files\n",
    "\n",
    "\n",
    "Let us focus on a bigger file, `labevents.csv.gz`, which is about 125x bigger than `admissions.csv.gz`."
   ]
  },
  {
   "cell_type": "code",
   "execution_count": 27,
   "id": "edfd22f7-e1a5-4f5a-aca5-04ce598569f2",
   "metadata": {
    "tags": []
   },
   "outputs": [
    {
     "name": "stdout",
     "output_type": "stream",
     "text": [
      "-rw-------@ 1    1.8G Jan  5  2023 ./mimic/hosp/labevents.csv.gz\n"
     ]
    }
   ],
   "source": [
    "# Size of labevents as a csv.gz\n",
    "!ls -goh ./mimic/hosp/labevents.csv.gz"
   ]
  },
  {
   "cell_type": "markdown",
   "id": "b5a01b57-8d97-4107-aa33-8b64aa97b048",
   "metadata": {},
   "source": [
    "Display the first 10 lines of this file."
   ]
  },
  {
   "cell_type": "code",
   "execution_count": 28,
   "id": "c3b0364a-21d8-434f-9bba-5b35cbd47c15",
   "metadata": {
    "tags": []
   },
   "outputs": [
    {
     "name": "stdout",
     "output_type": "stream",
     "text": [
      "labevent_id,subject_id,hadm_id,specimen_id,itemid,order_provider_id,charttime,storetime,value,valuenum,valueuom,ref_range_lower,ref_range_upper,flag,priority,comments\n",
      "1,10000032,,45421181,51237,P28Z0X,2180-03-23 11:51:00,2180-03-23 15:15:00,1.4,1.4,,0.9,1.1,abnormal,ROUTINE,\n",
      "2,10000032,,45421181,51274,P28Z0X,2180-03-23 11:51:00,2180-03-23 15:15:00,___,15.1,sec,9.4,12.5,abnormal,ROUTINE,VERIFIED.\n",
      "3,10000032,,52958335,50853,P28Z0X,2180-03-23 11:51:00,2180-03-25 11:06:00,___,15,ng/mL,30,60,abnormal,ROUTINE,NEW ASSAY IN USE ___: DETECTS D2 AND D3 25-OH ACCURATELY.\n",
      "4,10000032,,52958335,50861,P28Z0X,2180-03-23 11:51:00,2180-03-23 16:40:00,102,102,IU/L,0,40,abnormal,ROUTINE,\n",
      "5,10000032,,52958335,50862,P28Z0X,2180-03-23 11:51:00,2180-03-23 16:40:00,3.3,3.3,g/dL,3.5,5.2,abnormal,ROUTINE,\n",
      "6,10000032,,52958335,50863,P28Z0X,2180-03-23 11:51:00,2180-03-23 16:40:00,109,109,IU/L,35,105,abnormal,ROUTINE,\n",
      "7,10000032,,52958335,50864,P28Z0X,2180-03-23 11:51:00,2180-03-23 16:40:00,___,8,ng/mL,0,8.7,,ROUTINE,MEASURED BY ___.\n",
      "8,10000032,,52958335,50868,P28Z0X,2180-03-23 11:51:00,2180-03-23 16:40:00,12,12,mEq/L,8,20,,ROUTINE,\n",
      "9,10000032,,52958335,50878,P28Z0X,2180-03-23 11:51:00,2180-03-23 16:40:00,143,143,IU/L,0,40,abnormal,ROUTINE,\n",
      "zcat: error writing to output: Broken pipe\n"
     ]
    }
   ],
   "source": [
    "# First 10 results of labevents\n",
    "!zcat < ./mimic/hosp/labevents.csv.gz | head -10"
   ]
  },
  {
   "cell_type": "markdown",
   "id": "58352877-c834-4488-8ea3-7360c347a754",
   "metadata": {},
   "source": [
    "### (A). Ingest `labevents.csv.gz` by `pd.read_csv`\n",
    "\n",
    "Try to ingest `labevents.csv.gz` using `pd.read_csv`. What happens? If it takes more than 5 minutes on your computer, then abort the program and report your findings. "
   ]
  },
  {
   "cell_type": "markdown",
   "id": "6b38359e-490c-499b-836a-5bd2a65d8332",
   "metadata": {},
   "source": [
    "### Answer 3A\n",
    "\n",
    "#### Pandas\n",
    "\n",
    "Pandas was able to read `labevents.csv.gz` within 5 minutes. The runtime to read the file was 3 minutes and 17 seconds and the resulting data frame memory usage was 61 GB.\n",
    "\n",
    "#### Polars\n",
    "\n",
    "Polars was unable to read `labevents.csv.gz` within 5 minutes. From problem, 4A, it was determined that polars doesn't read compressed csv files and convert them to pandas data frames efficiently for large compressed csv files. The kernel will crash.\n",
    "\n",
    "#### Summary\n",
    "\n",
    "Use Pandas to read in large (but less than memory) compressed files because polars is not efficient at reading large compressed files."
   ]
  },
  {
   "cell_type": "code",
   "execution_count": 29,
   "id": "63167f31-0294-4fcb-83ae-1c72eb4f3082",
   "metadata": {},
   "outputs": [
    {
     "name": "stdout",
     "output_type": "stream",
     "text": [
      "CPU times: user 1min 47s, sys: 31.9 s, total: 2min 18s\n",
      "Wall time: 3min 6s\n"
     ]
    }
   ],
   "source": [
    "%%time\n",
    "#Pandas read labevents.csv.gz\n",
    "df_pd_lab = pd.read_csv(\"./mimic/hosp/labevents.csv.gz\")"
   ]
  },
  {
   "cell_type": "code",
   "execution_count": 30,
   "id": "7ef0b2c5-2089-4c07-98ce-1e158498e30a",
   "metadata": {},
   "outputs": [
    {
     "name": "stdout",
     "output_type": "stream",
     "text": [
      "61.002 GB\n"
     ]
    }
   ],
   "source": [
    "print(round(sys.getsizeof(df_pd_lab)/10**9,3), \"GB\")"
   ]
  },
  {
   "cell_type": "code",
   "execution_count": 31,
   "id": "b562fdf4-709b-466c-bdcb-f48f824c32eb",
   "metadata": {},
   "outputs": [],
   "source": [
    "del df_pd_lab"
   ]
  },
  {
   "cell_type": "code",
   "execution_count": 32,
   "id": "743772bf-85ae-423a-83d2-fa200e3964c3",
   "metadata": {},
   "outputs": [
    {
     "name": "stdout",
     "output_type": "stream",
     "text": [
      "CPU times: user 2 µs, sys: 0 ns, total: 2 µs\n",
      "Wall time: 4.05 µs\n"
     ]
    }
   ],
   "source": [
    "%%time\n",
    "#Polars read labevents.csv.gz Failed\n",
    "# df_pl_lab = pl.read_csv(\"./mimic/hosp/labevents.csv.gz\").to_pandas()"
   ]
  },
  {
   "cell_type": "code",
   "execution_count": 33,
   "id": "4ea5bc13-a4e5-4a68-9999-9e27789ea6dc",
   "metadata": {},
   "outputs": [],
   "source": [
    "# print(round(sys.getsizeof(df_pl_lab)/10**9,3), \"GB\")"
   ]
  },
  {
   "cell_type": "code",
   "execution_count": 34,
   "id": "14dba7ac-3c58-4750-80d9-9750d8adfdee",
   "metadata": {},
   "outputs": [],
   "source": [
    "# del df_pl_lab"
   ]
  },
  {
   "cell_type": "markdown",
   "id": "d9088997-7a48-4b0b-b331-afab3e837925",
   "metadata": {},
   "source": [
    "### (B). Ingest selected columns of `labevents.csv.gz` by `pd.read_csv`\n",
    "\n",
    "Try to ingest only columns `subject_id`, `itemid`, `charttime`, and `valuenum` in `labevents.csv.gz` using `pd.read_csv`.  Does this solve the ingestion issue? (Hint: `usecols` argument in `pd.read_csv`.)"
   ]
  },
  {
   "cell_type": "markdown",
   "id": "70507694-27a6-4b55-bf11-3e9fe09db080",
   "metadata": {},
   "source": [
    "### Answer 3B\n",
    "\n",
    "#### Pandas\n",
    "\n",
    "The runtime to read selected columns of the file was 1 minute and 12 seconds and the resulting data frame memory usage was 11.817 GB. The runtime for reading selected columns in pandas was __63% faster__ and the resulting data frame memory usage was __81% smaller__ when compared the pandas reading all columns.\n",
    "\n",
    "#### Polars\n",
    "\n",
    "The runtime to read selected columns of the file was 44.8 seconds and the resulting data frame memory usage was 11.817 GB. The runtime for reading selected columns in polars was __77% faster__ and the resulting data frame memory usage was __81% smaller__ when compared the pandas reading all columns.\n",
    "\n",
    "#### Summary\n",
    "\n",
    "For large, compressed files, pandas is the preferred method. Pandas increased compatibility, reliability, and readability outweigh the marginal performance increases provided by polars when reading large, compressed files."
   ]
  },
  {
   "cell_type": "code",
   "execution_count": 35,
   "id": "1dfb276a-c541-4f33-9ca9-f3af10ca81b6",
   "metadata": {},
   "outputs": [
    {
     "name": "stdout",
     "output_type": "stream",
     "text": [
      "CPU times: user 1min 4s, sys: 2.36 s, total: 1min 6s\n",
      "Wall time: 1min 6s\n"
     ]
    }
   ],
   "source": [
    "%%time\n",
    "# Pandas Read select labevent columns\n",
    "df_pd_lab = pd.read_csv(\"./mimic/hosp/labevents.csv.gz\", usecols = lab_col)"
   ]
  },
  {
   "cell_type": "code",
   "execution_count": 36,
   "id": "93c0b15c-3210-473d-b0e9-617641318709",
   "metadata": {},
   "outputs": [
    {
     "name": "stdout",
     "output_type": "stream",
     "text": [
      "11.817 GB\n"
     ]
    }
   ],
   "source": [
    "print(round(sys.getsizeof(df_pd_lab)/10**9,3), \"GB\")"
   ]
  },
  {
   "cell_type": "code",
   "execution_count": 37,
   "id": "43021e01-cbae-468c-a647-d6efdfa5987b",
   "metadata": {},
   "outputs": [
    {
     "name": "stdout",
     "output_type": "stream",
     "text": [
      "final runtime was 63.452% faster than initial.\n",
      "final df memory usage was 80.629% less than initial.\n"
     ]
    }
   ],
   "source": [
    "# Initial: Pandas reading all columns\n",
    "# Final: Pandas reading selected columns\n",
    "percent_diff(\n",
    "  i_time= (3 * 60 + 17),\n",
    "  i_mem= 61.002,\n",
    "  f_time= (1 * 60 + 12),\n",
    "  f_mem= 11.817\n",
    ")"
   ]
  },
  {
   "cell_type": "code",
   "execution_count": 38,
   "id": "b7a50b01-39d6-409c-a810-b5ee677f8478",
   "metadata": {},
   "outputs": [],
   "source": [
    "del df_pd_lab"
   ]
  },
  {
   "cell_type": "code",
   "execution_count": 39,
   "id": "937558a2-7282-4d44-9e1a-95fbbc51e746",
   "metadata": {},
   "outputs": [
    {
     "name": "stdout",
     "output_type": "stream",
     "text": [
      "CPU times: user 35.5 s, sys: 15.6 s, total: 51.1 s\n",
      "Wall time: 40.9 s\n"
     ]
    }
   ],
   "source": [
    "%%time\n",
    "# Polars Read select labevent columns\n",
    "df_pl_lab = (\n",
    "  pl.read_csv(\"./mimic/hosp/labevents.csv.gz\", # read file\n",
    "    columns = lab_col) # Select columns\n",
    "    .to_pandas() # Convert pl.dataframe to pd.dataframe\n",
    ")"
   ]
  },
  {
   "cell_type": "code",
   "execution_count": 40,
   "id": "03b79984-ad4a-4803-b558-1821dc56437a",
   "metadata": {},
   "outputs": [
    {
     "name": "stdout",
     "output_type": "stream",
     "text": [
      "11.817 GB\n"
     ]
    }
   ],
   "source": [
    "print(round(sys.getsizeof(df_pl_lab)/10**9,3), \"GB\")"
   ]
  },
  {
   "cell_type": "code",
   "execution_count": 41,
   "id": "85f31ffa-e214-46b3-9e2d-39d9ba745559",
   "metadata": {},
   "outputs": [
    {
     "name": "stdout",
     "output_type": "stream",
     "text": [
      "final runtime was 77.259% faster than initial.\n",
      "final df memory usage was 80.629% less than initial.\n"
     ]
    }
   ],
   "source": [
    "# Initial: Pandas reading all columns\n",
    "# Final: Polars reading specific columns\n",
    "percent_diff(\n",
    "  i_time= (3 * 60 + 17),\n",
    "  i_mem= 61.002,\n",
    "  f_time= (44.8),\n",
    "  f_mem= 11.817\n",
    ")"
   ]
  },
  {
   "cell_type": "code",
   "execution_count": 42,
   "id": "2076448c-f0f5-41e3-a358-eb72d92465dd",
   "metadata": {},
   "outputs": [],
   "source": [
    "del df_pl_lab"
   ]
  },
  {
   "cell_type": "markdown",
   "id": "dd5c3479-c29f-4f4a-be2e-1cdad8bcb622",
   "metadata": {},
   "source": [
    "### (C). Ingest subset of `labevents.csv.gz`\n",
    "\n",
    "Back in BIOSTAT 203B, our first strategy to handle this big data file was to make a subset of the `labevents` data.  Read the [MIMIC documentation](https://mimic.mit.edu/docs/iv/modules/hosp/labevents/) for the content in data file `labevents.csv.gz`.\n",
    "\n",
    "As before, we will only be interested in the following lab items: creatinine (50912), potassium (50971), sodium (50983), chloride (50902), bicarbonate (50882), hematocrit (51221), white blood cell count (51301), and glucose (50931) and the following columns: `subject_id`, `itemid`, `charttime`, `valuenum`. \n",
    "\n",
    "Rerun the Bash command to extract these columns and rows from `labevents.csv.gz` and save the result to a new file `labevents_filtered.csv.gz` in the current working directory (Q2.3 of HW2). How long does it take?\n",
    "\n",
    "Display the first 10 lines of the new file `labevents_filtered.csv.gz`. How many lines are in this new file? How long does it take `pd.read_csv()` to ingest `labevents_filtered.csv.gz`?\n"
   ]
  },
  {
   "cell_type": "markdown",
   "id": "6718e8e0-c499-40d1-8ded-7e94db962c8b",
   "metadata": {},
   "source": [
    "### Answer 3C\n",
    "\n",
    "The runtime to select columns and filter `labevents` using Bash was 5 minutes and 34 seconds and the runtime to ingest `labevents_filtered` was 7 seconds. The number of rows in the resulting dataset was 24,855,909."
   ]
  },
  {
   "cell_type": "code",
   "execution_count": 43,
   "id": "e712a136-6b0d-46ab-8987-50ca1c04e49a",
   "metadata": {},
   "outputs": [
    {
     "name": "stderr",
     "output_type": "stream",
     "text": [
      "\n",
      "real\t5m20.174s\n",
      "user\t5m47.115s\n",
      "sys\t0m2.754s\n"
     ]
    },
    {
     "name": "stdout",
     "output_type": "stream",
     "text": [
      "complete\n"
     ]
    }
   ],
   "source": [
    "%%bash\n",
    "# Read labevents, select columns, and filter rows by itemid\n",
    "time(zcat < ./mimic/hosp/labevents.csv.gz | \\\n",
    "  awk -F, \\\n",
    "  'BEGIN {OFS = \",\"} {if (NR == 1 || $5 == 50912 || $5 == 50971 ||\n",
    "    $5 == 50983 || $5 == 50902 || $5 == 50882 || $5 == 51221 || \n",
    "    $5 == 51301 || $5 == 50931) {print $2, $5, $7, $10}}' | \\\n",
    "  gzip > labevents_filtered.csv.gz)\n",
    "echo \"complete\""
   ]
  },
  {
   "cell_type": "code",
   "execution_count": 44,
   "id": "fe0b341b-5c85-44ae-97ba-4b6e05befffc",
   "metadata": {},
   "outputs": [
    {
     "name": "stdout",
     "output_type": "stream",
     "text": [
      "CPU times: user 6.26 s, sys: 319 ms, total: 6.58 s\n",
      "Wall time: 6.67 s\n"
     ]
    }
   ],
   "source": [
    "%%time\n",
    "# Pandas read labevents_filtered.csv.gz\n",
    "df_pd_lab_filter = pd.read_csv(\"./labevents_filtered.csv.gz\")"
   ]
  },
  {
   "cell_type": "code",
   "execution_count": 45,
   "id": "6dd7fcbc-e370-4e73-9c50-3cc0080424ea",
   "metadata": {},
   "outputs": [
    {
     "data": {
      "text/html": [
       "<div>\n",
       "<style scoped>\n",
       "    .dataframe tbody tr th:only-of-type {\n",
       "        vertical-align: middle;\n",
       "    }\n",
       "\n",
       "    .dataframe tbody tr th {\n",
       "        vertical-align: top;\n",
       "    }\n",
       "\n",
       "    .dataframe thead th {\n",
       "        text-align: right;\n",
       "    }\n",
       "</style>\n",
       "<table border=\"1\" class=\"dataframe\">\n",
       "  <thead>\n",
       "    <tr style=\"text-align: right;\">\n",
       "      <th></th>\n",
       "      <th>subject_id</th>\n",
       "      <th>itemid</th>\n",
       "      <th>charttime</th>\n",
       "      <th>valuenum</th>\n",
       "    </tr>\n",
       "  </thead>\n",
       "  <tbody>\n",
       "    <tr>\n",
       "      <th>0</th>\n",
       "      <td>10000032</td>\n",
       "      <td>50882</td>\n",
       "      <td>2180-03-23 11:51:00</td>\n",
       "      <td>27.0</td>\n",
       "    </tr>\n",
       "    <tr>\n",
       "      <th>1</th>\n",
       "      <td>10000032</td>\n",
       "      <td>50902</td>\n",
       "      <td>2180-03-23 11:51:00</td>\n",
       "      <td>101.0</td>\n",
       "    </tr>\n",
       "    <tr>\n",
       "      <th>2</th>\n",
       "      <td>10000032</td>\n",
       "      <td>50912</td>\n",
       "      <td>2180-03-23 11:51:00</td>\n",
       "      <td>0.4</td>\n",
       "    </tr>\n",
       "    <tr>\n",
       "      <th>3</th>\n",
       "      <td>10000032</td>\n",
       "      <td>50971</td>\n",
       "      <td>2180-03-23 11:51:00</td>\n",
       "      <td>3.7</td>\n",
       "    </tr>\n",
       "    <tr>\n",
       "      <th>4</th>\n",
       "      <td>10000032</td>\n",
       "      <td>50983</td>\n",
       "      <td>2180-03-23 11:51:00</td>\n",
       "      <td>136.0</td>\n",
       "    </tr>\n",
       "    <tr>\n",
       "      <th>5</th>\n",
       "      <td>10000032</td>\n",
       "      <td>50931</td>\n",
       "      <td>2180-03-23 11:51:00</td>\n",
       "      <td>95.0</td>\n",
       "    </tr>\n",
       "    <tr>\n",
       "      <th>6</th>\n",
       "      <td>10000032</td>\n",
       "      <td>51221</td>\n",
       "      <td>2180-03-23 11:51:00</td>\n",
       "      <td>45.4</td>\n",
       "    </tr>\n",
       "    <tr>\n",
       "      <th>7</th>\n",
       "      <td>10000032</td>\n",
       "      <td>51301</td>\n",
       "      <td>2180-03-23 11:51:00</td>\n",
       "      <td>3.0</td>\n",
       "    </tr>\n",
       "    <tr>\n",
       "      <th>8</th>\n",
       "      <td>10000032</td>\n",
       "      <td>51221</td>\n",
       "      <td>2180-05-06 22:25:00</td>\n",
       "      <td>42.6</td>\n",
       "    </tr>\n",
       "    <tr>\n",
       "      <th>9</th>\n",
       "      <td>10000032</td>\n",
       "      <td>51301</td>\n",
       "      <td>2180-05-06 22:25:00</td>\n",
       "      <td>5.0</td>\n",
       "    </tr>\n",
       "  </tbody>\n",
       "</table>\n",
       "</div>"
      ],
      "text/plain": [
       "   subject_id  itemid            charttime  valuenum\n",
       "0    10000032   50882  2180-03-23 11:51:00      27.0\n",
       "1    10000032   50902  2180-03-23 11:51:00     101.0\n",
       "2    10000032   50912  2180-03-23 11:51:00       0.4\n",
       "3    10000032   50971  2180-03-23 11:51:00       3.7\n",
       "4    10000032   50983  2180-03-23 11:51:00     136.0\n",
       "5    10000032   50931  2180-03-23 11:51:00      95.0\n",
       "6    10000032   51221  2180-03-23 11:51:00      45.4\n",
       "7    10000032   51301  2180-03-23 11:51:00       3.0\n",
       "8    10000032   51221  2180-05-06 22:25:00      42.6\n",
       "9    10000032   51301  2180-05-06 22:25:00       5.0"
      ]
     },
     "execution_count": 45,
     "metadata": {},
     "output_type": "execute_result"
    }
   ],
   "source": [
    "df_pd_lab_filter.head(10)"
   ]
  },
  {
   "cell_type": "code",
   "execution_count": 46,
   "id": "c0cf2d10-012e-4606-aee9-9c494cffaa0f",
   "metadata": {},
   "outputs": [
    {
     "data": {
      "text/plain": [
       "(24855909, 4)"
      ]
     },
     "execution_count": 46,
     "metadata": {},
     "output_type": "execute_result"
    }
   ],
   "source": [
    "df_pd_lab_filter.shape"
   ]
  },
  {
   "cell_type": "code",
   "execution_count": 47,
   "id": "4d2fb690-7335-42cb-a335-5f7bd7c4eb12",
   "metadata": {},
   "outputs": [
    {
     "name": "stdout",
     "output_type": "stream",
     "text": [
      "2.486 GB\n"
     ]
    }
   ],
   "source": [
    "print(round(sys.getsizeof(df_pd_lab_filter)/10**9,3), \"GB\")"
   ]
  },
  {
   "cell_type": "code",
   "execution_count": 48,
   "id": "458977d8-db9e-44c6-a37e-c25f6af3e25a",
   "metadata": {},
   "outputs": [],
   "source": [
    "del df_pd_lab_filter"
   ]
  },
  {
   "cell_type": "markdown",
   "id": "35433429-4df8-4d6f-adbf-93dbb35b7ac2",
   "metadata": {},
   "source": [
    "### (D). Review\n",
    "\n",
    "Write several sentences on what Apache Arrow, the Parquet format, and DuckDB are. Imagine you want to explain it to a layman in an elevator, as you did before. (It's OK to copy-paste the sentences from your previous submission.)\n",
    "\n",
    "Also, now is the good time to review [basic SQL commands](https://ucla-biostat-203b.github.io/2024winter/slides/12-dbplyr/dbintro.html) covered in BIOSTAT 203B."
   ]
  },
  {
   "cell_type": "markdown",
   "id": "3661c277-d9ed-4d94-be8c-88d72b386cbf",
   "metadata": {},
   "source": [
    "### Answer 3D\n",
    "\n",
    "#### Apache Arrow\n",
    "\n",
    "Apache Arrow is fast. By organizing data in columnar format and reducing redundant operations, it is able to accomplish similar tasks as pandas in a fraction of the time ([Apache Arrow](https://arrow.apache.org/overview/)).\n",
    "\n",
    "#### Parquet Format\n",
    "\n",
    "Parquet is an efficient storage format. It stores data in a columnar format efficiently by creating encoding dictionaries and bit-packing, allowing it be faster and smaller than csv files ([Apache Parquet](https://parquet.apache.org/docs/file-format/)).\n",
    "\n",
    "#### DuckDB\n",
    "\n",
    "DuckDB is a fast and portable database management system. DuckDB can connect to database servers or be server-less, performing SQL operations on large files and tables while being memory and time efficient. It also has support across a wide range of languages.([DuckDB](https://duckdb.org/why_duckdb.html#:~:text=DuckDB%20offers%20a%20flexible%20extension,protocols%20are%20implemented%20as%20extensions.)).\n"
   ]
  },
  {
   "cell_type": "markdown",
   "id": "5ff21425-0099-419e-9ff1-575719c54050",
   "metadata": {},
   "source": [
    "### (E). Ingest `labevents.csv.gz` by Apache Arrow\n",
    "\n",
    "Our second strategy again is to use [Apache Arrow](https://arrow.apache.org/) for larger-than-memory data analytics. We will use the package `pyarrow`. Unlike in R, this package works with the `csv.gz` format. We don't need to decompress the data. We could just use `dplyr` verbs in R, but here, we need a different set of commands. The core idea behind the commands are still the same, though.\n",
    "\n",
    "- Let's use [`pyarrow.csv.read_csv`](https://arrow.apache.org/docs/python/generated/pyarrow.csv.read_csv.html) to ingest `labevents.csv.gz`. It creates an object of type [`pyarrow.Table`](https://arrow.apache.org/docs/python/generated/pyarrow.Table.html).\n",
    "\n",
    "- Next, select columns using the [`select()`](https://arrow.apache.org/docs/python/generated/pyarrow.Table.html#pyarrow.Table.select) method. \n",
    "\n",
    "- As in (C), filter the rows based on the column `itemid` using the [`filter()`](https://arrow.apache.org/docs/python/generated/pyarrow.Table.html#pyarrow.Table.filter) method. It is strongly recommended to use [`Expression`](https://arrow.apache.org/docs/python/generated/pyarrow.dataset.Expression), in particular, the `isin()` method. \n",
    "\n",
    "- Finally, let's obtain the result in `pandas` `DataFrame` using the method `to_pandas()`. \n",
    "\n",
    "How long does the ingest+select+filter process take? Display the number of rows and the first 10 rows of the result dataframe, and make sure they match those of (C)."
   ]
  },
  {
   "cell_type": "markdown",
   "id": "157ed9e5-96d2-4b2e-b5d1-6823bd3a0a0f",
   "metadata": {},
   "source": [
    "### Answer 3E\n",
    "\n",
    "#### Apache Arrow\n",
    "\n",
    "The runtime to read \"labevents.csv.gz\", select columns, and filter rows was 1 minute 16 seconds and the resulting data frame memory usage was 0.606 GB. "
   ]
  },
  {
   "cell_type": "code",
   "execution_count": 49,
   "id": "25eb0c84-eace-4554-ae9e-7298bcf2d65d",
   "metadata": {},
   "outputs": [
    {
     "name": "stdout",
     "output_type": "stream",
     "text": [
      "CPU times: user 1min 11s, sys: 15 s, total: 1min 26s\n",
      "Wall time: 1min 9s\n"
     ]
    }
   ],
   "source": [
    "%%time\n",
    "# Apache Arrow read labevents\n",
    "df_pa_lab_ftr = csv.read_csv(pth_hsp + \"labevents.csv.gz\") # read file\n",
    "# Apache Arrow filter labevents\n",
    "df_pa_lab_ftr = (\n",
    "  df_pa_lab_ftr # pa.dataframe\n",
    "  .select(lab_col) # select columns\n",
    "  .filter(pc.is_in(pc.field(\"itemid\"), pa.array(lab_itemid))) # filter by itemid\n",
    "  .to_pandas() # convert to pd.dataframe\n",
    ")"
   ]
  },
  {
   "cell_type": "code",
   "execution_count": 50,
   "id": "2ea72bd4-b68d-49c1-af86-599b6d55a885",
   "metadata": {},
   "outputs": [
    {
     "name": "stdout",
     "output_type": "stream",
     "text": [
      "0.795 GB\n"
     ]
    }
   ],
   "source": [
    "print(round(sys.getsizeof(df_pa_lab_ftr)/10**9,3), \"GB\")"
   ]
  },
  {
   "cell_type": "code",
   "execution_count": 51,
   "id": "e0cd45cc-6736-440d-8f8e-4e2174865bc5",
   "metadata": {},
   "outputs": [
    {
     "data": {
      "text/plain": [
       "(24855909, 4)"
      ]
     },
     "execution_count": 51,
     "metadata": {},
     "output_type": "execute_result"
    }
   ],
   "source": [
    "df_pa_lab_ftr.shape"
   ]
  },
  {
   "cell_type": "code",
   "execution_count": 52,
   "id": "c6175eab-45d2-4ed1-af2c-395bcc70d520",
   "metadata": {},
   "outputs": [
    {
     "data": {
      "text/html": [
       "<div>\n",
       "<style scoped>\n",
       "    .dataframe tbody tr th:only-of-type {\n",
       "        vertical-align: middle;\n",
       "    }\n",
       "\n",
       "    .dataframe tbody tr th {\n",
       "        vertical-align: top;\n",
       "    }\n",
       "\n",
       "    .dataframe thead th {\n",
       "        text-align: right;\n",
       "    }\n",
       "</style>\n",
       "<table border=\"1\" class=\"dataframe\">\n",
       "  <thead>\n",
       "    <tr style=\"text-align: right;\">\n",
       "      <th></th>\n",
       "      <th>subject_id</th>\n",
       "      <th>itemid</th>\n",
       "      <th>charttime</th>\n",
       "      <th>valuenum</th>\n",
       "    </tr>\n",
       "  </thead>\n",
       "  <tbody>\n",
       "    <tr>\n",
       "      <th>0</th>\n",
       "      <td>10000032</td>\n",
       "      <td>50882</td>\n",
       "      <td>2180-03-23 11:51:00</td>\n",
       "      <td>27.0</td>\n",
       "    </tr>\n",
       "    <tr>\n",
       "      <th>1</th>\n",
       "      <td>10000032</td>\n",
       "      <td>50902</td>\n",
       "      <td>2180-03-23 11:51:00</td>\n",
       "      <td>101.0</td>\n",
       "    </tr>\n",
       "    <tr>\n",
       "      <th>2</th>\n",
       "      <td>10000032</td>\n",
       "      <td>50912</td>\n",
       "      <td>2180-03-23 11:51:00</td>\n",
       "      <td>0.4</td>\n",
       "    </tr>\n",
       "    <tr>\n",
       "      <th>3</th>\n",
       "      <td>10000032</td>\n",
       "      <td>50971</td>\n",
       "      <td>2180-03-23 11:51:00</td>\n",
       "      <td>3.7</td>\n",
       "    </tr>\n",
       "    <tr>\n",
       "      <th>4</th>\n",
       "      <td>10000032</td>\n",
       "      <td>50983</td>\n",
       "      <td>2180-03-23 11:51:00</td>\n",
       "      <td>136.0</td>\n",
       "    </tr>\n",
       "    <tr>\n",
       "      <th>5</th>\n",
       "      <td>10000032</td>\n",
       "      <td>50931</td>\n",
       "      <td>2180-03-23 11:51:00</td>\n",
       "      <td>95.0</td>\n",
       "    </tr>\n",
       "    <tr>\n",
       "      <th>6</th>\n",
       "      <td>10000032</td>\n",
       "      <td>51221</td>\n",
       "      <td>2180-03-23 11:51:00</td>\n",
       "      <td>45.4</td>\n",
       "    </tr>\n",
       "    <tr>\n",
       "      <th>7</th>\n",
       "      <td>10000032</td>\n",
       "      <td>51301</td>\n",
       "      <td>2180-03-23 11:51:00</td>\n",
       "      <td>3.0</td>\n",
       "    </tr>\n",
       "    <tr>\n",
       "      <th>8</th>\n",
       "      <td>10000032</td>\n",
       "      <td>51221</td>\n",
       "      <td>2180-05-06 22:25:00</td>\n",
       "      <td>42.6</td>\n",
       "    </tr>\n",
       "    <tr>\n",
       "      <th>9</th>\n",
       "      <td>10000032</td>\n",
       "      <td>51301</td>\n",
       "      <td>2180-05-06 22:25:00</td>\n",
       "      <td>5.0</td>\n",
       "    </tr>\n",
       "  </tbody>\n",
       "</table>\n",
       "</div>"
      ],
      "text/plain": [
       "   subject_id  itemid           charttime  valuenum\n",
       "0    10000032   50882 2180-03-23 11:51:00      27.0\n",
       "1    10000032   50902 2180-03-23 11:51:00     101.0\n",
       "2    10000032   50912 2180-03-23 11:51:00       0.4\n",
       "3    10000032   50971 2180-03-23 11:51:00       3.7\n",
       "4    10000032   50983 2180-03-23 11:51:00     136.0\n",
       "5    10000032   50931 2180-03-23 11:51:00      95.0\n",
       "6    10000032   51221 2180-03-23 11:51:00      45.4\n",
       "7    10000032   51301 2180-03-23 11:51:00       3.0\n",
       "8    10000032   51221 2180-05-06 22:25:00      42.6\n",
       "9    10000032   51301 2180-05-06 22:25:00       5.0"
      ]
     },
     "execution_count": 52,
     "metadata": {},
     "output_type": "execute_result"
    }
   ],
   "source": [
    "df_pa_lab_ftr.head(10)"
   ]
  },
  {
   "cell_type": "code",
   "execution_count": 53,
   "id": "43b9e4ee-afbc-46df-a6c6-ef4eecb6f29d",
   "metadata": {},
   "outputs": [],
   "source": [
    "del df_pa_lab_ftr"
   ]
  },
  {
   "cell_type": "markdown",
   "id": "3349e873-3c30-4650-96bc-02ef9b13dbe1",
   "metadata": {},
   "source": [
    "### (F). Compress `labevents.csv.gz` to Parquet format and ingest/select/filter\n",
    "\n",
    "\n",
    "Re-write the csv.gz file `labevents.csv.gz` in the binary Parquet format (Hint: [`pyarrow.parquet.write_table`](https://arrow.apache.org/docs/python/generated/pyarrow.parquet.write_table.html).) How large is the Parquet file(s)? \n",
    "\n",
    "How long does the ingest+select+filter process of the Parquet file(s) take?  \n",
    "Display the number of rows and the first 10 rows of the result dataframe and make sure they match those in (C). \n",
    "\n",
    "__This should be significantly faster than all the previous results.__ \n",
    "_Hint._ Use [`pyarrow.parquet.read_table`](https://arrow.apache.org/docs/python/generated/pyarrow.parquet.read_table.html) method with the keyword argument `columns`. Also, make sure that you are using an `Expression`. "
   ]
  },
  {
   "cell_type": "markdown",
   "id": "0dbe37d8-521a-4cd1-924e-7854095ec686",
   "metadata": {},
   "source": [
    "### Answer 3F\n",
    "\n",
    "#### Apache Arrow (Convert to parquet)\n",
    "\n",
    "The runtime to read `labevents.csv.gz` and write as a parquet was 4 minutes and 10 seconds. The resulting parquet file was 1.6 GB, 11% smaller than `labevents.csv.gz`\n",
    "\n",
    "#### Apache Arrow (Read, Select, and filter)\n",
    "\n",
    "The runtime to read, select, and filter the parquet was 6.6 seconds and the resulting data frame memory usage was 0.795 GB.\n",
    "\n",
    "#### Polars (Read, Select, and filter)\n",
    "\n",
    "The runtime to read, select, and filter the parquet was 1.5 seconds and the resulting data frame memory usage was 0.795 GB.\n",
    "\n",
    "#### Summary\n",
    "\n",
    "The runtime to read, select, and filter the parquet in polars was __78% faster__ than Apache Arrow. Polars shares a similar back-end to Apache Arrow, but polars is able to lazily read and perform operations on non-compressed files, making it faster than Apache Arrow."
   ]
  },
  {
   "cell_type": "code",
   "execution_count": 54,
   "id": "fbd6a3d4-1105-4a2a-8fd7-0edf8fa6c85c",
   "metadata": {},
   "outputs": [
    {
     "name": "stdout",
     "output_type": "stream",
     "text": [
      "CPU times: user 1min 36s, sys: 41.8 s, total: 2min 18s\n",
      "Wall time: 3min 10s\n"
     ]
    }
   ],
   "source": [
    "%%time\n",
    "# Apache Arrow Read labevents\n",
    "df_pa_lab = csv.read_csv(pth_hsp + \"labevents.csv.gz\")\n",
    "# Apache Arrow write labevents as parquet\n",
    "pq.write_table(df_pa_lab, './pa_labevents.parquet')"
   ]
  },
  {
   "cell_type": "code",
   "execution_count": 55,
   "id": "e5454884-8bc6-46b5-b0dc-92b077686c39",
   "metadata": {},
   "outputs": [],
   "source": [
    "del df_pa_lab"
   ]
  },
  {
   "cell_type": "code",
   "execution_count": 56,
   "id": "35694872-6ffc-411f-a97c-cc647c02eb86",
   "metadata": {},
   "outputs": [
    {
     "name": "stdout",
     "output_type": "stream",
     "text": [
      "-rw-r--r--  1    1.6G May  7 15:40 ./pa_labevents.parquet\n"
     ]
    }
   ],
   "source": [
    "# size of labevents parquet file\n",
    "!ls -goh ./pa_labevents.parquet"
   ]
  },
  {
   "cell_type": "code",
   "execution_count": 57,
   "id": "6220cd22-18bb-4d2c-a798-eef27b5c84fa",
   "metadata": {},
   "outputs": [
    {
     "name": "stdout",
     "output_type": "stream",
     "text": [
      "final df memory usage was 11.111% less than initial.\n"
     ]
    }
   ],
   "source": [
    "# Initial: labevents.csv.gz\n",
    "# Final: labevents.parquet\n",
    "percent_diff(\n",
    "  i_mem = 1.8,\n",
    "  f_mem = 1.6\n",
    ")"
   ]
  },
  {
   "cell_type": "code",
   "execution_count": 82,
   "id": "54f41079-e297-499f-96c9-453696998c5e",
   "metadata": {},
   "outputs": [
    {
     "name": "stdout",
     "output_type": "stream",
     "text": [
      "CPU times: user 14.4 s, sys: 17.9 s, total: 32.3 s\n",
      "Wall time: 47.5 s\n"
     ]
    }
   ],
   "source": [
    "%%time\n",
    "df_pa_lab_ftr = (\n",
    "  pq.read_table('./pa_labevents.parquet') # read labevents.parquet\n",
    "  .select(lab_col) # select columns\n",
    "  .filter(pc.is_in(pc.field(\"itemid\"), pa.array(lab_itemid))) # Filter by itemid\n",
    "  .sort_by([(\"subject_id\", \"ascending\"),(\"charttime\", \"ascending\")])\n",
    "  .to_pandas() # Convert to pd.dataframe\n",
    ")"
   ]
  },
  {
   "cell_type": "code",
   "execution_count": 59,
   "id": "eda27bfe-091f-4ee6-8383-09c6bedb6fe1",
   "metadata": {},
   "outputs": [
    {
     "name": "stdout",
     "output_type": "stream",
     "text": [
      "0.795 GB\n"
     ]
    }
   ],
   "source": [
    "print(round(sys.getsizeof(df_pa_lab_ftr)/10**9,3), \"GB\")"
   ]
  },
  {
   "cell_type": "code",
   "execution_count": 84,
   "id": "c3b2558e-60ed-4322-a0ea-0f127accf98b",
   "metadata": {},
   "outputs": [
    {
     "data": {
      "text/html": [
       "<div>\n",
       "<style scoped>\n",
       "    .dataframe tbody tr th:only-of-type {\n",
       "        vertical-align: middle;\n",
       "    }\n",
       "\n",
       "    .dataframe tbody tr th {\n",
       "        vertical-align: top;\n",
       "    }\n",
       "\n",
       "    .dataframe thead th {\n",
       "        text-align: right;\n",
       "    }\n",
       "</style>\n",
       "<table border=\"1\" class=\"dataframe\">\n",
       "  <thead>\n",
       "    <tr style=\"text-align: right;\">\n",
       "      <th></th>\n",
       "      <th>subject_id</th>\n",
       "      <th>itemid</th>\n",
       "      <th>charttime</th>\n",
       "      <th>valuenum</th>\n",
       "    </tr>\n",
       "  </thead>\n",
       "  <tbody>\n",
       "    <tr>\n",
       "      <th>0</th>\n",
       "      <td>10000032</td>\n",
       "      <td>50882</td>\n",
       "      <td>2180-03-23 11:51:00</td>\n",
       "      <td>27.0</td>\n",
       "    </tr>\n",
       "    <tr>\n",
       "      <th>1</th>\n",
       "      <td>10000032</td>\n",
       "      <td>50902</td>\n",
       "      <td>2180-03-23 11:51:00</td>\n",
       "      <td>101.0</td>\n",
       "    </tr>\n",
       "    <tr>\n",
       "      <th>2</th>\n",
       "      <td>10000032</td>\n",
       "      <td>50912</td>\n",
       "      <td>2180-03-23 11:51:00</td>\n",
       "      <td>0.4</td>\n",
       "    </tr>\n",
       "    <tr>\n",
       "      <th>3</th>\n",
       "      <td>10000032</td>\n",
       "      <td>50971</td>\n",
       "      <td>2180-03-23 11:51:00</td>\n",
       "      <td>3.7</td>\n",
       "    </tr>\n",
       "    <tr>\n",
       "      <th>4</th>\n",
       "      <td>10000032</td>\n",
       "      <td>50983</td>\n",
       "      <td>2180-03-23 11:51:00</td>\n",
       "      <td>136.0</td>\n",
       "    </tr>\n",
       "    <tr>\n",
       "      <th>5</th>\n",
       "      <td>10000032</td>\n",
       "      <td>50931</td>\n",
       "      <td>2180-03-23 11:51:00</td>\n",
       "      <td>95.0</td>\n",
       "    </tr>\n",
       "    <tr>\n",
       "      <th>6</th>\n",
       "      <td>10000032</td>\n",
       "      <td>51221</td>\n",
       "      <td>2180-03-23 11:51:00</td>\n",
       "      <td>45.4</td>\n",
       "    </tr>\n",
       "    <tr>\n",
       "      <th>7</th>\n",
       "      <td>10000032</td>\n",
       "      <td>51301</td>\n",
       "      <td>2180-03-23 11:51:00</td>\n",
       "      <td>3.0</td>\n",
       "    </tr>\n",
       "    <tr>\n",
       "      <th>8</th>\n",
       "      <td>10000032</td>\n",
       "      <td>51221</td>\n",
       "      <td>2180-05-06 22:25:00</td>\n",
       "      <td>42.6</td>\n",
       "    </tr>\n",
       "    <tr>\n",
       "      <th>9</th>\n",
       "      <td>10000032</td>\n",
       "      <td>51301</td>\n",
       "      <td>2180-05-06 22:25:00</td>\n",
       "      <td>5.0</td>\n",
       "    </tr>\n",
       "  </tbody>\n",
       "</table>\n",
       "</div>"
      ],
      "text/plain": [
       "   subject_id  itemid           charttime  valuenum\n",
       "0    10000032   50882 2180-03-23 11:51:00      27.0\n",
       "1    10000032   50902 2180-03-23 11:51:00     101.0\n",
       "2    10000032   50912 2180-03-23 11:51:00       0.4\n",
       "3    10000032   50971 2180-03-23 11:51:00       3.7\n",
       "4    10000032   50983 2180-03-23 11:51:00     136.0\n",
       "5    10000032   50931 2180-03-23 11:51:00      95.0\n",
       "6    10000032   51221 2180-03-23 11:51:00      45.4\n",
       "7    10000032   51301 2180-03-23 11:51:00       3.0\n",
       "8    10000032   51221 2180-05-06 22:25:00      42.6\n",
       "9    10000032   51301 2180-05-06 22:25:00       5.0"
      ]
     },
     "execution_count": 84,
     "metadata": {},
     "output_type": "execute_result"
    }
   ],
   "source": [
    "df_pa_lab_ftr.head(10)"
   ]
  },
  {
   "cell_type": "code",
   "execution_count": 60,
   "id": "f9d64ddf-78e1-4c56-bbae-0a26f431d6f9",
   "metadata": {},
   "outputs": [],
   "source": [
    "del df_pa_lab_ftr"
   ]
  },
  {
   "cell_type": "code",
   "execution_count": 81,
   "id": "7d74d9dc-baa9-4fc7-89d7-28346534f885",
   "metadata": {},
   "outputs": [
    {
     "name": "stdout",
     "output_type": "stream",
     "text": [
      "CPU times: user 3.43 s, sys: 2.09 s, total: 5.52 s\n",
      "Wall time: 1.95 s\n"
     ]
    }
   ],
   "source": [
    "%%time\n",
    "df_pl_lab_ftr = (\n",
    "  pl.scan_parquet('./pa_labevents.parquet') # lazy read\n",
    "  .select(lab_col) # select columns\n",
    "  .filter(pl.col('itemid').is_in(lab_itemid)) # filter rows\n",
    "  .sort(['subject_id','charttime'])\n",
    "  .collect() # collect pl.lazyframe to pl.dataframe\n",
    "  .to_pandas() # convert to pd.dataframe\n",
    ")"
   ]
  },
  {
   "cell_type": "code",
   "execution_count": 62,
   "id": "83cbb805-c4bf-4d8a-82a5-42b814221622",
   "metadata": {},
   "outputs": [
    {
     "name": "stdout",
     "output_type": "stream",
     "text": [
      "0.795 GB\n"
     ]
    }
   ],
   "source": [
    "print(round(sys.getsizeof(df_pl_lab_ftr)/10**9,3), \"GB\")"
   ]
  },
  {
   "cell_type": "code",
   "execution_count": 91,
   "id": "640a7b58-02ab-4f1a-a66a-de10a74e0964",
   "metadata": {},
   "outputs": [
    {
     "data": {
      "text/html": [
       "<div>\n",
       "<style scoped>\n",
       "    .dataframe tbody tr th:only-of-type {\n",
       "        vertical-align: middle;\n",
       "    }\n",
       "\n",
       "    .dataframe tbody tr th {\n",
       "        vertical-align: top;\n",
       "    }\n",
       "\n",
       "    .dataframe thead th {\n",
       "        text-align: right;\n",
       "    }\n",
       "</style>\n",
       "<table border=\"1\" class=\"dataframe\">\n",
       "  <thead>\n",
       "    <tr style=\"text-align: right;\">\n",
       "      <th></th>\n",
       "      <th>subject_id</th>\n",
       "      <th>itemid</th>\n",
       "      <th>charttime</th>\n",
       "      <th>valuenum</th>\n",
       "    </tr>\n",
       "  </thead>\n",
       "  <tbody>\n",
       "    <tr>\n",
       "      <th>0</th>\n",
       "      <td>10000032</td>\n",
       "      <td>50882</td>\n",
       "      <td>2180-03-23 11:51:00</td>\n",
       "      <td>27.0</td>\n",
       "    </tr>\n",
       "    <tr>\n",
       "      <th>1</th>\n",
       "      <td>10000032</td>\n",
       "      <td>50902</td>\n",
       "      <td>2180-03-23 11:51:00</td>\n",
       "      <td>101.0</td>\n",
       "    </tr>\n",
       "    <tr>\n",
       "      <th>2</th>\n",
       "      <td>10000032</td>\n",
       "      <td>50912</td>\n",
       "      <td>2180-03-23 11:51:00</td>\n",
       "      <td>0.4</td>\n",
       "    </tr>\n",
       "    <tr>\n",
       "      <th>3</th>\n",
       "      <td>10000032</td>\n",
       "      <td>50971</td>\n",
       "      <td>2180-03-23 11:51:00</td>\n",
       "      <td>3.7</td>\n",
       "    </tr>\n",
       "    <tr>\n",
       "      <th>4</th>\n",
       "      <td>10000032</td>\n",
       "      <td>50983</td>\n",
       "      <td>2180-03-23 11:51:00</td>\n",
       "      <td>136.0</td>\n",
       "    </tr>\n",
       "    <tr>\n",
       "      <th>5</th>\n",
       "      <td>10000032</td>\n",
       "      <td>50931</td>\n",
       "      <td>2180-03-23 11:51:00</td>\n",
       "      <td>95.0</td>\n",
       "    </tr>\n",
       "    <tr>\n",
       "      <th>6</th>\n",
       "      <td>10000032</td>\n",
       "      <td>51221</td>\n",
       "      <td>2180-03-23 11:51:00</td>\n",
       "      <td>45.4</td>\n",
       "    </tr>\n",
       "    <tr>\n",
       "      <th>7</th>\n",
       "      <td>10000032</td>\n",
       "      <td>51301</td>\n",
       "      <td>2180-03-23 11:51:00</td>\n",
       "      <td>3.0</td>\n",
       "    </tr>\n",
       "    <tr>\n",
       "      <th>8</th>\n",
       "      <td>10000032</td>\n",
       "      <td>51221</td>\n",
       "      <td>2180-05-06 22:25:00</td>\n",
       "      <td>42.6</td>\n",
       "    </tr>\n",
       "    <tr>\n",
       "      <th>9</th>\n",
       "      <td>10000032</td>\n",
       "      <td>51301</td>\n",
       "      <td>2180-05-06 22:25:00</td>\n",
       "      <td>5.0</td>\n",
       "    </tr>\n",
       "  </tbody>\n",
       "</table>\n",
       "</div>"
      ],
      "text/plain": [
       "   subject_id  itemid           charttime  valuenum\n",
       "0    10000032   50882 2180-03-23 11:51:00      27.0\n",
       "1    10000032   50902 2180-03-23 11:51:00     101.0\n",
       "2    10000032   50912 2180-03-23 11:51:00       0.4\n",
       "3    10000032   50971 2180-03-23 11:51:00       3.7\n",
       "4    10000032   50983 2180-03-23 11:51:00     136.0\n",
       "5    10000032   50931 2180-03-23 11:51:00      95.0\n",
       "6    10000032   51221 2180-03-23 11:51:00      45.4\n",
       "7    10000032   51301 2180-03-23 11:51:00       3.0\n",
       "8    10000032   51221 2180-05-06 22:25:00      42.6\n",
       "9    10000032   51301 2180-05-06 22:25:00       5.0"
      ]
     },
     "execution_count": 91,
     "metadata": {},
     "output_type": "execute_result"
    }
   ],
   "source": [
    "df_pl_lab_ftr.head(10)"
   ]
  },
  {
   "cell_type": "code",
   "execution_count": 63,
   "id": "588da84d-8e7f-46bd-b828-af84485375e8",
   "metadata": {},
   "outputs": [
    {
     "name": "stdout",
     "output_type": "stream",
     "text": [
      "final runtime was 77.626% faster than initial.\n",
      "final df memory usage was the same as initial.\n"
     ]
    }
   ],
   "source": [
    "# Initial: Apache Arrow read, select, and filter\n",
    "# Final: Polars read, select, and filter (lazy)\n",
    "percent_diff(\n",
    "  i_time = 6.57,\n",
    "  i_mem = 0.606,\n",
    "  f_time = 1.47,\n",
    "  f_mem = 0.606\n",
    ")"
   ]
  },
  {
   "cell_type": "markdown",
   "id": "1d97b623-6c1d-4db4-a604-ec35841dbc8e",
   "metadata": {},
   "source": [
    "### (G). DuckDB\n",
    "\n",
    "Let's use `duckdb` package in Python to use the DuckDB interface. In Python, DuckDB can interact smoothly with `pandas` and `pyarrow`. I recommend reading: \n",
    "\n",
    "- https://duckdb.org/2021/05/14/sql-on-pandas.html\n",
    "- https://duckdb.org/docs/guides/python/sql_on_arrow.html\n",
    "\n",
    "In Python, you will mostly use SQL commands to work with DuckDB. Check out the [data ingestion API](https://duckdb.org/docs/api/python/data_ingestion).\n",
    "\n",
    "\n",
    "Ingest the Parquet file, select columns, and filter rows as in (F). How long does the ingest+select+filter process take? Please make sure to call `.df()` method to have the final result as a `pandas` `DataFrame`. Display the number of rows and the first 10 rows of the result dataframe and make sure they match those in (C). \n",
    "\n",
    "__This should be significantly faster than the results before (but not including) Part (F).__ \n",
    "_Hint_: It could be a single SQL command.\n"
   ]
  },
  {
   "cell_type": "markdown",
   "id": "a073c302-f07e-4c00-8e27-b89f9e5f61c3",
   "metadata": {},
   "source": [
    "### Answer 3G\n",
    "\n",
    "#### DuckDB\n",
    "\n",
    "The runtime to read, select, and filter the parquet was 3.47 seconds and the resulting data frame memory usage was 1.893 GB.\n",
    "\n",
    "#### Summary\n",
    "\n",
    "The runtime to read, select, and filter the parquet in polars was __58% faster__ and the resulting data frame memory usage was __68% less__ than using DuckDB."
   ]
  },
  {
   "cell_type": "code",
   "execution_count": 89,
   "id": "881419d7-0a94-4a50-9bd4-5f90d5af0fac",
   "metadata": {},
   "outputs": [
    {
     "name": "stdout",
     "output_type": "stream",
     "text": [
      "CPU times: user 22.3 s, sys: 12.3 s, total: 34.6 s\n",
      "Wall time: 9.66 s\n"
     ]
    }
   ],
   "source": [
    "%%time\n",
    "# open server-less database and close when done\n",
    "with duckdb.connect(database=':memory:') as con:\n",
    "  # SQL query\n",
    "  df_db_lab_ftr = con.execute(\n",
    "    \"\"\"\n",
    "    SELECT subject_id, itemid, charttime, valuenum\n",
    "    FROM './pl_labevents.parquet' \n",
    "    WHERE itemid IN (50912, 50971, 50983, 50902, 50882, 51221, 51301, 50931)\n",
    "    ORDER BY subject_id, charttime ASC\n",
    "    \"\"\"\n",
    "  ).df() # Output as pandas data frame"
   ]
  },
  {
   "cell_type": "code",
   "execution_count": 76,
   "id": "7dafb97f-6157-45a4-bfcc-6b481cb64585",
   "metadata": {},
   "outputs": [
    {
     "name": "stdout",
     "output_type": "stream",
     "text": [
      "1.893 GB\n"
     ]
    }
   ],
   "source": [
    "print(round(sys.getsizeof(df_db_lab_ftr)/10**9,3), \"GB\")"
   ]
  },
  {
   "cell_type": "code",
   "execution_count": 90,
   "id": "780b255f-da8b-4b9e-adf9-bed70e401bb0",
   "metadata": {},
   "outputs": [
    {
     "data": {
      "text/html": [
       "<div>\n",
       "<style scoped>\n",
       "    .dataframe tbody tr th:only-of-type {\n",
       "        vertical-align: middle;\n",
       "    }\n",
       "\n",
       "    .dataframe tbody tr th {\n",
       "        vertical-align: top;\n",
       "    }\n",
       "\n",
       "    .dataframe thead th {\n",
       "        text-align: right;\n",
       "    }\n",
       "</style>\n",
       "<table border=\"1\" class=\"dataframe\">\n",
       "  <thead>\n",
       "    <tr style=\"text-align: right;\">\n",
       "      <th></th>\n",
       "      <th>subject_id</th>\n",
       "      <th>itemid</th>\n",
       "      <th>charttime</th>\n",
       "      <th>valuenum</th>\n",
       "    </tr>\n",
       "  </thead>\n",
       "  <tbody>\n",
       "    <tr>\n",
       "      <th>0</th>\n",
       "      <td>10000032</td>\n",
       "      <td>50882</td>\n",
       "      <td>2180-03-23 11:51:00</td>\n",
       "      <td>27.0</td>\n",
       "    </tr>\n",
       "    <tr>\n",
       "      <th>1</th>\n",
       "      <td>10000032</td>\n",
       "      <td>50902</td>\n",
       "      <td>2180-03-23 11:51:00</td>\n",
       "      <td>101.0</td>\n",
       "    </tr>\n",
       "    <tr>\n",
       "      <th>2</th>\n",
       "      <td>10000032</td>\n",
       "      <td>50912</td>\n",
       "      <td>2180-03-23 11:51:00</td>\n",
       "      <td>0.4</td>\n",
       "    </tr>\n",
       "    <tr>\n",
       "      <th>3</th>\n",
       "      <td>10000032</td>\n",
       "      <td>50971</td>\n",
       "      <td>2180-03-23 11:51:00</td>\n",
       "      <td>3.7</td>\n",
       "    </tr>\n",
       "    <tr>\n",
       "      <th>4</th>\n",
       "      <td>10000032</td>\n",
       "      <td>50983</td>\n",
       "      <td>2180-03-23 11:51:00</td>\n",
       "      <td>136.0</td>\n",
       "    </tr>\n",
       "    <tr>\n",
       "      <th>5</th>\n",
       "      <td>10000032</td>\n",
       "      <td>50931</td>\n",
       "      <td>2180-03-23 11:51:00</td>\n",
       "      <td>95.0</td>\n",
       "    </tr>\n",
       "    <tr>\n",
       "      <th>6</th>\n",
       "      <td>10000032</td>\n",
       "      <td>51221</td>\n",
       "      <td>2180-03-23 11:51:00</td>\n",
       "      <td>45.4</td>\n",
       "    </tr>\n",
       "    <tr>\n",
       "      <th>7</th>\n",
       "      <td>10000032</td>\n",
       "      <td>51301</td>\n",
       "      <td>2180-03-23 11:51:00</td>\n",
       "      <td>3.0</td>\n",
       "    </tr>\n",
       "    <tr>\n",
       "      <th>8</th>\n",
       "      <td>10000032</td>\n",
       "      <td>51221</td>\n",
       "      <td>2180-05-06 22:25:00</td>\n",
       "      <td>42.6</td>\n",
       "    </tr>\n",
       "    <tr>\n",
       "      <th>9</th>\n",
       "      <td>10000032</td>\n",
       "      <td>51301</td>\n",
       "      <td>2180-05-06 22:25:00</td>\n",
       "      <td>5.0</td>\n",
       "    </tr>\n",
       "  </tbody>\n",
       "</table>\n",
       "</div>"
      ],
      "text/plain": [
       "   subject_id  itemid            charttime  valuenum\n",
       "0    10000032   50882  2180-03-23 11:51:00      27.0\n",
       "1    10000032   50902  2180-03-23 11:51:00     101.0\n",
       "2    10000032   50912  2180-03-23 11:51:00       0.4\n",
       "3    10000032   50971  2180-03-23 11:51:00       3.7\n",
       "4    10000032   50983  2180-03-23 11:51:00     136.0\n",
       "5    10000032   50931  2180-03-23 11:51:00      95.0\n",
       "6    10000032   51221  2180-03-23 11:51:00      45.4\n",
       "7    10000032   51301  2180-03-23 11:51:00       3.0\n",
       "8    10000032   51221  2180-05-06 22:25:00      42.6\n",
       "9    10000032   51301  2180-05-06 22:25:00       5.0"
      ]
     },
     "execution_count": 90,
     "metadata": {},
     "output_type": "execute_result"
    }
   ],
   "source": [
    "df_db_lab_ftr.head(10)"
   ]
  },
  {
   "cell_type": "code",
   "execution_count": 67,
   "id": "4f2f9306-daf1-43a6-abaa-c1dcb5b89711",
   "metadata": {},
   "outputs": [],
   "source": [
    "del df_db_lab_ftr"
   ]
  },
  {
   "cell_type": "code",
   "execution_count": 68,
   "id": "5801e60b-3c72-4ce4-bc25-5388893c850e",
   "metadata": {},
   "outputs": [
    {
     "name": "stdout",
     "output_type": "stream",
     "text": [
      "final runtime was 57.637% faster than initial.\n",
      "final df memory usage was 67.987% less than initial.\n"
     ]
    }
   ],
   "source": [
    "# Initial: DuckDB read, select, and filter\n",
    "# Final: Polars read, select, and filter\n",
    "percent_diff(\n",
    "  i_time = 3.47,\n",
    "  i_mem = 1.893,\n",
    "  f_time = 1.47,\n",
    "  f_mem = 0.606\n",
    ")"
   ]
  },
  {
   "cell_type": "markdown",
   "id": "02da79d3-c8ec-4785-a9c3-3a5fc63de358",
   "metadata": {},
   "source": [
    "## Problem 4. Ingest and filter `chartevents.csv.gz`\n",
    "\n",
    "[`chartevents.csv.gz`](https://mimic.mit.edu/docs/iv/modules/icu/chartevents/) contains all the charted data available for a patient. During their ICU stay, the primary repository of a patient’s information is their electronic chart. The `itemid` variable indicates a single measurement type in the database. The `value` variable is the value measured for `itemid`. The first 10 lines of `chartevents.csv.gz` are\n"
   ]
  },
  {
   "cell_type": "code",
   "execution_count": 69,
   "id": "69d1f3a0-6342-42f9-9902-44030612c6d1",
   "metadata": {
    "tags": []
   },
   "outputs": [
    {
     "name": "stdout",
     "output_type": "stream",
     "text": [
      "subject_id,hadm_id,stay_id,caregiver_id,charttime,storetime,itemid,value,valuenum,valueuom,warning\n",
      "10000032,29079034,39553978,47007,2180-07-23 21:01:00,2180-07-23 22:15:00,220179,82,82,mmHg,0\n",
      "10000032,29079034,39553978,47007,2180-07-23 21:01:00,2180-07-23 22:15:00,220180,59,59,mmHg,0\n",
      "10000032,29079034,39553978,47007,2180-07-23 21:01:00,2180-07-23 22:15:00,220181,63,63,mmHg,0\n",
      "10000032,29079034,39553978,47007,2180-07-23 22:00:00,2180-07-23 22:15:00,220045,94,94,bpm,0\n",
      "10000032,29079034,39553978,47007,2180-07-23 22:00:00,2180-07-23 22:15:00,220179,85,85,mmHg,0\n",
      "10000032,29079034,39553978,47007,2180-07-23 22:00:00,2180-07-23 22:15:00,220180,55,55,mmHg,0\n",
      "10000032,29079034,39553978,47007,2180-07-23 22:00:00,2180-07-23 22:15:00,220181,62,62,mmHg,0\n",
      "10000032,29079034,39553978,47007,2180-07-23 22:00:00,2180-07-23 22:15:00,220210,20,20,insp/min,0\n",
      "10000032,29079034,39553978,47007,2180-07-23 22:00:00,2180-07-23 22:15:00,220277,95,95,%,0\n",
      "zcat: error writing to output: Broken pipe\n"
     ]
    }
   ],
   "source": [
    "!zcat < ./mimic/icu/chartevents.csv.gz | head -10"
   ]
  },
  {
   "cell_type": "markdown",
   "id": "503e290e-44cf-4ac8-9060-43d96bef0160",
   "metadata": {},
   "source": [
    "[`d_items.csv.gz`](https://mimic.mit.edu/docs/iv/modules/icu/d_items/) is the dictionary for the `itemid` in `chartevents.csv.gz`."
   ]
  },
  {
   "cell_type": "code",
   "execution_count": 70,
   "id": "a1bd8d66-0961-4f95-9f02-f576fb7a07c0",
   "metadata": {
    "tags": []
   },
   "outputs": [
    {
     "name": "stdout",
     "output_type": "stream",
     "text": [
      "itemid,label,abbreviation,linksto,category,unitname,param_type,lownormalvalue,highnormalvalue\n",
      "220001,Problem List,Problem List,chartevents,General,,Text,,\n",
      "220003,ICU Admission date,ICU Admission date,datetimeevents,ADT,,Date and time,,\n",
      "220045,Heart Rate,HR,chartevents,Routine Vital Signs,bpm,Numeric,,\n",
      "220046,Heart rate Alarm - High,HR Alarm - High,chartevents,Alarms,bpm,Numeric,,\n",
      "220047,Heart Rate Alarm - Low,HR Alarm - Low,chartevents,Alarms,bpm,Numeric,,\n",
      "220048,Heart Rhythm,Heart Rhythm,chartevents,Routine Vital Signs,,Text,,\n",
      "220050,Arterial Blood Pressure systolic,ABPs,chartevents,Routine Vital Signs,mmHg,Numeric,90,140\n",
      "220051,Arterial Blood Pressure diastolic,ABPd,chartevents,Routine Vital Signs,mmHg,Numeric,60,90\n",
      "220052,Arterial Blood Pressure mean,ABPm,chartevents,Routine Vital Signs,mmHg,Numeric,,\n",
      "zcat: error writing to output: Broken pipe\n"
     ]
    }
   ],
   "source": [
    "!zcat < ./mimic/icu/d_items.csv.gz | head -10"
   ]
  },
  {
   "cell_type": "markdown",
   "id": "b8f757e5-9637-4549-b746-1aefce427a75",
   "metadata": {},
   "source": [
    "Again, we are interested in the vitals for ICU patients: heart rate (220045), mean non-invasive blood pressure (220181), systolic non-invasive blood pressure (220179), body temperature in Fahrenheit (223761), and respiratory rate (220210). Retrieve a subset of `chartevents.csv.gz` only containing these items, using the favorite method you learnt in Problem 3. \n",
    "\n",
    "Document the steps and show your code. Display the number of rows and the first 10 rows of the result `DataFrame`."
   ]
  },
  {
   "cell_type": "markdown",
   "id": "1ea0e528-b01f-4e24-9e9e-f4d2b3eea17f",
   "metadata": {},
   "source": [
    "### Answer 4\n",
    "\n",
    "#### DuckDB\n",
    "\n",
    "DuckDB was chosen over pandas, Apache Arrow, and polars becuase it was the fastest and most reliable at reading in a large, compressed csv. The runtime to read, select, and filter `chartevents.csv.gz` was 1min 31s and the resulting data frame was .\n",
    "\n",
    "Polars was unable to read the compressed csv."
   ]
  },
  {
   "cell_type": "code",
   "execution_count": 71,
   "id": "7df06b43-f8c9-4642-9729-8ec45ac8e42c",
   "metadata": {},
   "outputs": [
    {
     "name": "stdout",
     "output_type": "stream",
     "text": [
      "CPU times: user 2min 3s, sys: 13.4 s, total: 2min 17s\n",
      "Wall time: 1min 27s\n"
     ]
    }
   ],
   "source": [
    "%%time\n",
    "# open server-less database in memory and close when done.\n",
    "with duckdb.connect(database=':memory:') as con:\n",
    "    df_db_chrt_ftr = con.execute( # SQL query\n",
    "      \"\"\"\n",
    "      SELECT *\n",
    "      FROM './mimic/icu/chartevents.csv.gz' \n",
    "      WHERE itemid IN (220045, 220181, 220179, 223761, 220210)\n",
    "      \"\"\"\n",
    "    ).df() # Output as pandas dataframe"
   ]
  },
  {
   "cell_type": "code",
   "execution_count": 72,
   "id": "466778c2-731e-4108-b439-dfbd4cb33103",
   "metadata": {},
   "outputs": [
    {
     "data": {
      "text/plain": [
       "(22502319, 11)"
      ]
     },
     "execution_count": 72,
     "metadata": {},
     "output_type": "execute_result"
    }
   ],
   "source": [
    "df_db_chrt_ftr.shape"
   ]
  },
  {
   "cell_type": "code",
   "execution_count": 73,
   "id": "d5c93abf-4029-405e-94f4-29fb565c9f8a",
   "metadata": {},
   "outputs": [
    {
     "name": "stdout",
     "output_type": "stream",
     "text": [
      "4.381 GB\n"
     ]
    }
   ],
   "source": [
    "print(round(sys.getsizeof(df_db_chrt_ftr)/10**9,3), \"GB\")"
   ]
  },
  {
   "cell_type": "code",
   "execution_count": 74,
   "id": "68f52c13-a7b1-4de4-a529-246c7802f100",
   "metadata": {},
   "outputs": [
    {
     "data": {
      "text/html": [
       "<div>\n",
       "<style scoped>\n",
       "    .dataframe tbody tr th:only-of-type {\n",
       "        vertical-align: middle;\n",
       "    }\n",
       "\n",
       "    .dataframe tbody tr th {\n",
       "        vertical-align: top;\n",
       "    }\n",
       "\n",
       "    .dataframe thead th {\n",
       "        text-align: right;\n",
       "    }\n",
       "</style>\n",
       "<table border=\"1\" class=\"dataframe\">\n",
       "  <thead>\n",
       "    <tr style=\"text-align: right;\">\n",
       "      <th></th>\n",
       "      <th>subject_id</th>\n",
       "      <th>hadm_id</th>\n",
       "      <th>stay_id</th>\n",
       "      <th>caregiver_id</th>\n",
       "      <th>charttime</th>\n",
       "      <th>storetime</th>\n",
       "      <th>itemid</th>\n",
       "      <th>value</th>\n",
       "      <th>valuenum</th>\n",
       "      <th>valueuom</th>\n",
       "      <th>warning</th>\n",
       "    </tr>\n",
       "  </thead>\n",
       "  <tbody>\n",
       "    <tr>\n",
       "      <th>0</th>\n",
       "      <td>10000032</td>\n",
       "      <td>29079034</td>\n",
       "      <td>39553978</td>\n",
       "      <td>47007</td>\n",
       "      <td>2180-07-23 21:01:00</td>\n",
       "      <td>2180-07-23 22:15:00</td>\n",
       "      <td>220179</td>\n",
       "      <td>82</td>\n",
       "      <td>82.0</td>\n",
       "      <td>mmHg</td>\n",
       "      <td>0</td>\n",
       "    </tr>\n",
       "    <tr>\n",
       "      <th>1</th>\n",
       "      <td>10000032</td>\n",
       "      <td>29079034</td>\n",
       "      <td>39553978</td>\n",
       "      <td>47007</td>\n",
       "      <td>2180-07-23 21:01:00</td>\n",
       "      <td>2180-07-23 22:15:00</td>\n",
       "      <td>220181</td>\n",
       "      <td>63</td>\n",
       "      <td>63.0</td>\n",
       "      <td>mmHg</td>\n",
       "      <td>0</td>\n",
       "    </tr>\n",
       "    <tr>\n",
       "      <th>2</th>\n",
       "      <td>10000032</td>\n",
       "      <td>29079034</td>\n",
       "      <td>39553978</td>\n",
       "      <td>47007</td>\n",
       "      <td>2180-07-23 22:00:00</td>\n",
       "      <td>2180-07-23 22:15:00</td>\n",
       "      <td>220045</td>\n",
       "      <td>94</td>\n",
       "      <td>94.0</td>\n",
       "      <td>bpm</td>\n",
       "      <td>0</td>\n",
       "    </tr>\n",
       "    <tr>\n",
       "      <th>3</th>\n",
       "      <td>10000032</td>\n",
       "      <td>29079034</td>\n",
       "      <td>39553978</td>\n",
       "      <td>47007</td>\n",
       "      <td>2180-07-23 22:00:00</td>\n",
       "      <td>2180-07-23 22:15:00</td>\n",
       "      <td>220179</td>\n",
       "      <td>85</td>\n",
       "      <td>85.0</td>\n",
       "      <td>mmHg</td>\n",
       "      <td>0</td>\n",
       "    </tr>\n",
       "    <tr>\n",
       "      <th>4</th>\n",
       "      <td>10000032</td>\n",
       "      <td>29079034</td>\n",
       "      <td>39553978</td>\n",
       "      <td>47007</td>\n",
       "      <td>2180-07-23 22:00:00</td>\n",
       "      <td>2180-07-23 22:15:00</td>\n",
       "      <td>220181</td>\n",
       "      <td>62</td>\n",
       "      <td>62.0</td>\n",
       "      <td>mmHg</td>\n",
       "      <td>0</td>\n",
       "    </tr>\n",
       "    <tr>\n",
       "      <th>5</th>\n",
       "      <td>10000032</td>\n",
       "      <td>29079034</td>\n",
       "      <td>39553978</td>\n",
       "      <td>47007</td>\n",
       "      <td>2180-07-23 22:00:00</td>\n",
       "      <td>2180-07-23 22:15:00</td>\n",
       "      <td>220210</td>\n",
       "      <td>20</td>\n",
       "      <td>20.0</td>\n",
       "      <td>insp/min</td>\n",
       "      <td>0</td>\n",
       "    </tr>\n",
       "    <tr>\n",
       "      <th>6</th>\n",
       "      <td>10000032</td>\n",
       "      <td>29079034</td>\n",
       "      <td>39553978</td>\n",
       "      <td>66056</td>\n",
       "      <td>2180-07-23 19:00:00</td>\n",
       "      <td>2180-07-23 19:59:00</td>\n",
       "      <td>220045</td>\n",
       "      <td>97</td>\n",
       "      <td>97.0</td>\n",
       "      <td>bpm</td>\n",
       "      <td>0</td>\n",
       "    </tr>\n",
       "    <tr>\n",
       "      <th>7</th>\n",
       "      <td>10000032</td>\n",
       "      <td>29079034</td>\n",
       "      <td>39553978</td>\n",
       "      <td>66056</td>\n",
       "      <td>2180-07-23 19:00:00</td>\n",
       "      <td>2180-07-23 19:59:00</td>\n",
       "      <td>220179</td>\n",
       "      <td>93</td>\n",
       "      <td>93.0</td>\n",
       "      <td>mmHg</td>\n",
       "      <td>0</td>\n",
       "    </tr>\n",
       "    <tr>\n",
       "      <th>8</th>\n",
       "      <td>10000032</td>\n",
       "      <td>29079034</td>\n",
       "      <td>39553978</td>\n",
       "      <td>66056</td>\n",
       "      <td>2180-07-23 19:00:00</td>\n",
       "      <td>2180-07-23 19:59:00</td>\n",
       "      <td>220181</td>\n",
       "      <td>56</td>\n",
       "      <td>56.0</td>\n",
       "      <td>mmHg</td>\n",
       "      <td>0</td>\n",
       "    </tr>\n",
       "    <tr>\n",
       "      <th>9</th>\n",
       "      <td>10000032</td>\n",
       "      <td>29079034</td>\n",
       "      <td>39553978</td>\n",
       "      <td>66056</td>\n",
       "      <td>2180-07-23 19:00:00</td>\n",
       "      <td>2180-07-23 19:59:00</td>\n",
       "      <td>220210</td>\n",
       "      <td>16</td>\n",
       "      <td>16.0</td>\n",
       "      <td>insp/min</td>\n",
       "      <td>0</td>\n",
       "    </tr>\n",
       "  </tbody>\n",
       "</table>\n",
       "</div>"
      ],
      "text/plain": [
       "   subject_id   hadm_id   stay_id  caregiver_id           charttime  \\\n",
       "0    10000032  29079034  39553978         47007 2180-07-23 21:01:00   \n",
       "1    10000032  29079034  39553978         47007 2180-07-23 21:01:00   \n",
       "2    10000032  29079034  39553978         47007 2180-07-23 22:00:00   \n",
       "3    10000032  29079034  39553978         47007 2180-07-23 22:00:00   \n",
       "4    10000032  29079034  39553978         47007 2180-07-23 22:00:00   \n",
       "5    10000032  29079034  39553978         47007 2180-07-23 22:00:00   \n",
       "6    10000032  29079034  39553978         66056 2180-07-23 19:00:00   \n",
       "7    10000032  29079034  39553978         66056 2180-07-23 19:00:00   \n",
       "8    10000032  29079034  39553978         66056 2180-07-23 19:00:00   \n",
       "9    10000032  29079034  39553978         66056 2180-07-23 19:00:00   \n",
       "\n",
       "            storetime  itemid value  valuenum  valueuom  warning  \n",
       "0 2180-07-23 22:15:00  220179    82      82.0      mmHg        0  \n",
       "1 2180-07-23 22:15:00  220181    63      63.0      mmHg        0  \n",
       "2 2180-07-23 22:15:00  220045    94      94.0       bpm        0  \n",
       "3 2180-07-23 22:15:00  220179    85      85.0      mmHg        0  \n",
       "4 2180-07-23 22:15:00  220181    62      62.0      mmHg        0  \n",
       "5 2180-07-23 22:15:00  220210    20      20.0  insp/min        0  \n",
       "6 2180-07-23 19:59:00  220045    97      97.0       bpm        0  \n",
       "7 2180-07-23 19:59:00  220179    93      93.0      mmHg        0  \n",
       "8 2180-07-23 19:59:00  220181    56      56.0      mmHg        0  \n",
       "9 2180-07-23 19:59:00  220210    16      16.0  insp/min        0  "
      ]
     },
     "execution_count": 74,
     "metadata": {},
     "output_type": "execute_result"
    }
   ],
   "source": [
    "df_db_chrt_ftr.head(10)"
   ]
  },
  {
   "cell_type": "markdown",
   "id": "33f4b3ee-0a7c-463c-b58c-81368cdc6760",
   "metadata": {},
   "source": [
    "### Summary and Conclusion\n",
    "\n",
    "Use DuckDB to read and query on large, compressed data files. Use polars to lazily read and query parquet files. Use pandas for compatibility. From this analysis, there is no clear reason to use Apache Arrow over DuckDB, polars, and pandas."
   ]
  }
 ],
 "metadata": {
  "kernelspec": {
   "display_name": "203C",
   "language": "python",
   "name": "203c"
  },
  "language_info": {
   "codemirror_mode": {
    "name": "ipython",
    "version": 3
   },
   "file_extension": ".py",
   "mimetype": "text/x-python",
   "name": "python",
   "nbconvert_exporter": "python",
   "pygments_lexer": "ipython3",
   "version": "3.10.14"
  }
 },
 "nbformat": 4,
 "nbformat_minor": 5
}
