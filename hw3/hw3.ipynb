{
 "cells": [
  {
   "cell_type": "markdown",
   "id": "8a457678-d904-4d83-9e4f-ef9de36fe848",
   "metadata": {},
   "source": [
    "# Homework 3\n",
    "\n",
    "Due date: May 19, 2024\n",
    "\n",
    "Submission instructions: \n",
    "- __Autograder will not be used for scoring, but you still need to submit the python file converted from this notebook (.py) and the notebook file (.ipynb) to the code submission window.__ \n",
    "To convert a Jupyter Notebook (`.ipynb`) to a regular Python script (`.py`):\n",
    "  - In Jupyter Notebook: File > Download as > Python (.py)\n",
    "  - In JupyterLab: File > Save and Export Notebook As... > Executable Script\n",
    "  - In VS Code Jupyter Notebook App: In the toolbar, there is an Export menu. Click on it, and select Python script.\n",
    "- Submit `hw3.ipynb` and `hw3.py` on Gradescope under the window \"Homework 3 - code\". Do **NOT** change the file name.\n",
    "- Convert this notebook into a pdf file and submit it on Gradescope under the window \"Homework 3 - PDF\". Make sure all your code and text outputs in the problems are visible. \n",
    "\n",
    "\n",
    "This homework requires two new packages, `pyarrow` and `duckdb`. Pleas make sure to install them in your `BIOSTAT203C-24S` environment:\n",
    "\n",
    "```bash\n",
    "conda activate BIOSTAT203C-24S\n",
    "conda install -c conda-forge pyarrow python-duckdb\n",
    "```"
   ]
  },
  {
   "cell_type": "code",
   "execution_count": 1,
   "id": "8b6401a3-a60d-46ca-8d4a-6603451ec7d9",
   "metadata": {},
   "outputs": [],
   "source": [
    "import sys\n",
    "import gzip\n",
    "import time\n",
    "import random\n",
    "import duckdb\n",
    "import numpy as np\n",
    "import pandas as pd\n",
    "import polars as pl\n",
    "import pyarrow as pa\n",
    "import pyarrow.csv as csv\n",
    "import pyarrow.compute as pc\n",
    "import pyarrow.parquet as pq\n",
    "from matplotlib import pyplot as plt\n",
    "\n",
    "# Create a syslink named `mimic` in working directory. \n",
    "pth_hsp = './mimic/hosp/'\n",
    "pth_icu = './mimic/icu/'\n",
    "\n",
    "# Common Objects. Added here in case of kernel crash.\n",
    "lab_col = ['subject_id', 'itemid', 'charttime', 'valuenum']\n",
    "lab_itemid = [50912, 50971, 50983, 50902, 50882, 51221, 51301, 50931]"
   ]
  },
  {
   "cell_type": "markdown",
   "id": "28a7a9c1-47d2-41ab-8df6-9a96a1a22639",
   "metadata": {},
   "source": [
    "## Problem 1. \n",
    "\n",
    "Recall the simple random walk.  At each step, we flip a fair coin. If heads, we move \"foward\" one unit; if tails, we move \"backward.\" \n",
    "\n",
    "### (A).\n",
    "\n",
    "Way back in Homework 1, you wrote some code to simulate a random walk in Python. \n",
    "\n",
    "Start with this code, or use posted solutions for HW1. If you have since written random walk code that you prefer, you can use this instead. Regardless, take your code, modify it, and enclose it in a function `rw()`. This function should accept a single argument `n`, the length of the walk. The output should be a list giving the position of the random walker, starting with the position after the first step. For example, \n",
    "\n",
    "```python\n",
    "rw(5)\n",
    "[1, 2, 3, 2, 3]\n",
    "```\n",
    "\n",
    "Unlike in the HW1 problem, you should not use upper or lower bounds. The walk should always run for as long as the user-specified number of steps `n`. \n",
    "\n",
    "Use your function to print out the positions of a random walk of length `n = 10`. \n",
    "\n",
    "Don't forget a helpful docstring!"
   ]
  },
  {
   "cell_type": "markdown",
   "id": "d916aa86-e235-4556-a188-73707ef7ea71",
   "metadata": {},
   "source": [
    "### ANSWER 1A"
   ]
  },
  {
   "cell_type": "markdown",
   "id": "d77bfe85-bb0d-4e56-8fed-fbb48112d23c",
   "metadata": {},
   "source": [
    "#### Documentation\n",
    "rw  takes a positive integer, `n`, and returns a list of all positions from a random walk of `n` steps where each step is decided by a coin flip. If the coin flip results in heads, step forward. If the coin flip results in tails, step backward. The variable, `pos`, is the current position; therefore, append that position after each step.\n",
    "\n",
    "If n is not an integer or `n` is less than zero, the user will be prompted to enter a new `n`."
   ]
  },
  {
   "cell_type": "code",
   "execution_count": 2,
   "id": "e7fc837e-6785-4edc-a341-2a1a56690d7a",
   "metadata": {},
   "outputs": [
    {
     "data": {
      "text/plain": [
       "[1, 2, 1, 0, -1, -2, -1, -2, -1, 0]"
      ]
     },
     "execution_count": 2,
     "metadata": {},
     "output_type": "execute_result"
    }
   ],
   "source": [
    "def rw(n):\n",
    "  \"\"\"\n",
    "  A list of positions from a random walk.\n",
    "  ---\n",
    "  Args:\n",
    "    n: A positive integer. Number of steps.\n",
    "  Returns:\n",
    "    positions: A list of poistions.\n",
    "  \"\"\"\n",
    "  # Input Catch. Must be int.\n",
    "  while not isinstance(n, int) or n < 0:\n",
    "    user = input(\"Enter a positive integer for n: \")\n",
    "    # try to make users input an int\n",
    "    try:\n",
    "        n = int(user)\n",
    "    # Supply back into the while while loop if error\n",
    "    except ValueError:\n",
    "        n\n",
    "  pos = 0 # Initialized current position\n",
    "  positions = [] # Empty list. Track positions after a step.\n",
    "  while len(positions) < n:\n",
    "    x = random.choice([\"heads\", \"tails\"])\n",
    "    if x == \"heads\":\n",
    "        pos += 1 # If heads, move forward one step.\n",
    "        positions.append(pos) # Append position after step.\n",
    "    elif x == \"tails\":\n",
    "        pos -= 1 # If tails, move backward one step.\n",
    "        positions.append(pos) # Append position after step.\n",
    "  return positions\n",
    "\n",
    "rw(10)"
   ]
  },
  {
   "cell_type": "markdown",
   "id": "f310c21a-145e-458b-874f-fb75408b04db",
   "metadata": {},
   "source": [
    "#### Robustness Test"
   ]
  },
  {
   "cell_type": "code",
   "execution_count": 3,
   "id": "32b46c44-e925-45f0-bbd6-06bd99c5e191",
   "metadata": {},
   "outputs": [
    {
     "name": "stdin",
     "output_type": "stream",
     "text": [
      "Enter a positive integer for n:  I\n",
      "Enter a positive integer for n:  did\n",
      "Enter a positive integer for n:  it\n",
      "Enter a positive integer for n:  again\n",
      "Enter a positive integer for n:  4\n"
     ]
    },
    {
     "data": {
      "text/plain": [
       "[-1, 0, 1, 0]"
      ]
     },
     "execution_count": 3,
     "metadata": {},
     "output_type": "execute_result"
    }
   ],
   "source": [
    "rw(\"Oops\")"
   ]
  },
  {
   "cell_type": "code",
   "execution_count": 4,
   "id": "fa72a6ba-1bec-4cfb-899f-4bbed058a7b6",
   "metadata": {},
   "outputs": [
    {
     "name": "stdin",
     "output_type": "stream",
     "text": [
      "Enter a positive integer for n:  -2\n",
      "Enter a positive integer for n:  -10\n",
      "Enter a positive integer for n:  -12.1\n",
      "Enter a positive integer for n:  5\n"
     ]
    },
    {
     "data": {
      "text/plain": [
       "[-1, -2, -3, -2, -3]"
      ]
     },
     "execution_count": 4,
     "metadata": {},
     "output_type": "execute_result"
    }
   ],
   "source": [
    "rw(-10)"
   ]
  },
  {
   "cell_type": "code",
   "execution_count": 5,
   "id": "97b291d3-67d4-475a-bfbf-f46a72f105db",
   "metadata": {},
   "outputs": [
    {
     "name": "stdin",
     "output_type": "stream",
     "text": [
      "Enter a positive integer for n:  1.2\n",
      "Enter a positive integer for n:  1.9\n",
      "Enter a positive integer for n:  2025.\n",
      "Enter a positive integer for n:  6\n"
     ]
    },
    {
     "data": {
      "text/plain": [
       "[1, 0, 1, 2, 3, 4]"
      ]
     },
     "execution_count": 5,
     "metadata": {},
     "output_type": "execute_result"
    }
   ],
   "source": [
    "rw(10.0)"
   ]
  },
  {
   "cell_type": "code",
   "execution_count": 6,
   "id": "e6f39047-7183-4a2a-85bb-3de830436e89",
   "metadata": {},
   "outputs": [
    {
     "name": "stdout",
     "output_type": "stream",
     "text": [
      "0 Random Positions (length = 0):\n",
      "[]\n",
      "1 Random Positions (length = 1):\n",
      "[1]\n",
      "5 Random Positions (length = 5):\n",
      "[-1, -2, -1, 0, 1]\n",
      "30 Random Positions (length = 30):\n",
      "[-1, -2, -1, 0, -1, -2, -3, -4, -3, -2, -3, -4, -5, -4, -3, -2, -3, -2, -1, -2, -3, -2, -1, -2, -3, -4, -5, -6, -7, -8]\n",
      "50 Random Positions (length = 50):\n",
      "[1, 2, 1, 2, 1, 0, 1, 2, 3, 2, 1, 2, 3, 4, 5, 4, 5, 6, 5, 6, 5, 6, 7, 8, 7, 8, 7, 6, 5, 6, 5, 6, 5, 6, 7, 6, 7, 6, 5, 4, 3, 2, 3, 2, 3, 2, 3, 4, 5, 4]\n"
     ]
    }
   ],
   "source": [
    "# Comprehensive test. All test in list should result in no errors\n",
    "tests = [0, 1, 5, 30, 50]\n",
    "# Store results in a dictionary.\n",
    "rw_results = dict()\n",
    "# loop through tests and store in dictionary\n",
    "for test in tests:\n",
    "  # label for the values\n",
    "  name = f\"{test} Random Positions\"\n",
    "  # Store the result in the dictionary\n",
    "  rw_results[name] = rw(test)\n",
    "\n",
    "# Loop through dictionary and print the results in a readable format\n",
    "# also print the length of the object\n",
    "for key, val in rw_results.items():\n",
    "  print(f\"{key} (length = {len(val)}):\\n{val}\")"
   ]
  },
  {
   "cell_type": "markdown",
   "id": "678abaa8-a334-47e1-81f6-590724c0a75f",
   "metadata": {},
   "source": [
    "### (B). \n",
    "\n",
    "Now create a function called `rw2(n)`, where the argument `n` means the same thing that it did in Part A. Do so using `numpy` tools. Demonstrate your function as above, by creating a random walk of length 10. You can (and should) return your walk as a `numpy` array. \n",
    "\n",
    "**Requirements**: \n",
    "\n",
    "- No for-loops. \n",
    "- This function is simple enough to be implemented as a one-liner of fewer than 80 characters, using lambda notation. Even if you choose not to use lambda notation, the body of your function definition should be no more than three lines long. Importing `numpy` does not count as a line. \n",
    "- A docstring is required if and only if you take more than one line to define the function. \n",
    "\n",
    "**Hints**:\n",
    "\n",
    "- Check the documentation for `np.random.choice()`. \n",
    "- `np.cumsum()`. \n"
   ]
  },
  {
   "cell_type": "markdown",
   "id": "040848b7-f5ea-4d24-a81a-566343bdf039",
   "metadata": {},
   "source": [
    "### Answer 1B"
   ]
  },
  {
   "cell_type": "markdown",
   "id": "f8dce5f5-08fb-43f0-957b-c960e3804d28",
   "metadata": {},
   "source": [
    "#### Documentation\n",
    "`rw2` is a lambda function that uses numpy to perform the same operations as `rw`. Because of numpy's vast number of methods that can be applied on a numpy array, the function was able to be simplified into one line without the input catch error. `rw2` uses the numpy and random libraries to create an array of -1 and 1 with replacement which signify a coin flip of heads and tails. The cumulative sum of the numpy array acts like the current position of the random walk."
   ]
  },
  {
   "cell_type": "code",
   "execution_count": 7,
   "id": "a940cccd-ff22-492e-8957-b7cf0da5939f",
   "metadata": {},
   "outputs": [
    {
     "data": {
      "text/plain": [
       "array([-1,  0,  1,  2,  3,  2,  3,  4,  3,  2])"
      ]
     },
     "execution_count": 7,
     "metadata": {},
     "output_type": "execute_result"
    }
   ],
   "source": [
    "# Return positions from n random steps\n",
    "# random choice is used like a coin flip 1=heads -1=tails\n",
    "# cumsum is used to get the position after each step.\n",
    "rw2 = lambda n: np.random.choice([-1, 1], size=n, replace=True).cumsum()\n",
    "\n",
    "rw2(10)"
   ]
  },
  {
   "cell_type": "code",
   "execution_count": 8,
   "id": "b6cd7989-7fbc-411f-a943-c4746e88ea43",
   "metadata": {},
   "outputs": [
    {
     "name": "stdout",
     "output_type": "stream",
     "text": [
      "0 Random Positions (length = 0):\n",
      "[]\n",
      "1 Random Positions (length = 1):\n",
      "[-1]\n",
      "5 Random Positions (length = 5):\n",
      "[-1, -2, -1, 0, 1]\n",
      "30 Random Positions (length = 30):\n",
      "[1, 0, 1, 2, 3, 2, 1, 0, 1, 0, -1, -2, -3, -4, -3, -2, -3, -4, -3, -4, -3, -4, -5, -6, -5, -4, -5, -6, -5, -4]\n",
      "50 Random Positions (length = 50):\n",
      "[1, 0, -1, 0, -1, 0, 1, 2, 1, 0, -1, 0, 1, 0, 1, 2, 1, 0, 1, 2, 3, 4, 3, 2, 1, 0, 1, 0, -1, 0, -1, -2, -3, -2, -1, -2, -1, 0, -1, -2, -3, -4, -5, -4, -3, -2, -3, -2, -3, -4]\n"
     ]
    }
   ],
   "source": [
    "# list of error free tests because rw2 does not have an input catch.\n",
    "tests = [0, 1, 5, 30, 50]\n",
    "# store results in dictionary\n",
    "rw_results = dict()\n",
    "# loop through the tests and store the results in the dictionary\n",
    "for test in tests:\n",
    "  name = f\"{test} Random Positions\"\n",
    "  rw_results[name] = rw2(test)\n",
    "# loop thought the dictionary and print the results in a readable format.\n",
    "# Also output the length of the object.\n",
    "for key, val in rw_results.items():\n",
    "  print(f\"{key} (length = {len(val)}):\\n{list(val)}\")"
   ]
  },
  {
   "cell_type": "markdown",
   "id": "0ad5c360-3302-4375-a151-ab3a63ec5fa3",
   "metadata": {},
   "source": [
    "### (C).\n",
    "\n",
    "Use the `%timeit` magic macro to compare the runtime of `rw()` and `rw2()`. Test how each function does in computing a random walk of length `n = 10000`. "
   ]
  },
  {
   "cell_type": "markdown",
   "id": "36f95eb2-c6dd-40bd-86a5-a828e1052d78",
   "metadata": {},
   "source": [
    "### Answer 1C"
   ]
  },
  {
   "cell_type": "code",
   "execution_count": 9,
   "id": "5e097a85-c7ba-415b-b31f-d153ec3ef667",
   "metadata": {},
   "outputs": [
    {
     "name": "stdout",
     "output_type": "stream",
     "text": [
      "2.31 ms ± 4.98 µs per loop (mean ± std. dev. of 7 runs, 100 loops each)\n"
     ]
    }
   ],
   "source": [
    "%%timeit\n",
    "rw(10_000)"
   ]
  },
  {
   "cell_type": "code",
   "execution_count": 10,
   "id": "1454c2f8-67bf-423f-83ae-bd5330c54d2c",
   "metadata": {},
   "outputs": [
    {
     "name": "stdout",
     "output_type": "stream",
     "text": [
      "231 µs ± 708 ns per loop (mean ± std. dev. of 7 runs, 1,000 loops each)\n"
     ]
    }
   ],
   "source": [
    "%%timeit\n",
    "rw(1_000)"
   ]
  },
  {
   "cell_type": "code",
   "execution_count": 11,
   "id": "07359dc9-943e-4812-81da-cfc02e93f222",
   "metadata": {},
   "outputs": [
    {
     "name": "stdout",
     "output_type": "stream",
     "text": [
      "22.9 µs ± 48 ns per loop (mean ± std. dev. of 7 runs, 10,000 loops each)\n"
     ]
    }
   ],
   "source": [
    "%%timeit\n",
    "rw(100)"
   ]
  },
  {
   "cell_type": "code",
   "execution_count": 12,
   "id": "24524a29-f01b-4491-b776-525626deca0b",
   "metadata": {},
   "outputs": [
    {
     "name": "stdout",
     "output_type": "stream",
     "text": [
      "42.7 µs ± 33.4 ns per loop (mean ± std. dev. of 7 runs, 10,000 loops each)\n"
     ]
    }
   ],
   "source": [
    "%%timeit\n",
    "rw2(10_000)"
   ]
  },
  {
   "cell_type": "code",
   "execution_count": 13,
   "id": "2f61054b-65dc-4022-b30a-fef6de159225",
   "metadata": {},
   "outputs": [
    {
     "name": "stdout",
     "output_type": "stream",
     "text": [
      "12.2 µs ± 21 ns per loop (mean ± std. dev. of 7 runs, 100,000 loops each)\n"
     ]
    }
   ],
   "source": [
    "%%timeit\n",
    "rw2(1_000)"
   ]
  },
  {
   "cell_type": "code",
   "execution_count": 14,
   "id": "cf20b05b-5c85-4002-825b-6f68d0b5c9cd",
   "metadata": {},
   "outputs": [
    {
     "name": "stdout",
     "output_type": "stream",
     "text": [
      "9.8 µs ± 1.19 µs per loop (mean ± std. dev. of 7 runs, 100,000 loops each)\n"
     ]
    }
   ],
   "source": [
    "%%timeit\n",
    "rw2(100)"
   ]
  },
  {
   "cell_type": "markdown",
   "id": "4fbea2f6-1e39-415a-aa16-defe9ba79268",
   "metadata": {},
   "source": [
    "### (D). \n",
    "\n",
    "Write a few sentences in which you comment on (a) the performance of each function and (b) the ease of writing and reading each function. "
   ]
  },
  {
   "cell_type": "markdown",
   "id": "cf6d1d1a-efa5-41db-bc3f-bcc2f86be13b",
   "metadata": {},
   "source": [
    "### ANSWER 1D\n",
    "\n",
    "The function, `rw2()`, was 82% faster than the function, `rw()`. Built-in python list operations were used in `rw()` and numpy array operations were used in `rw2()`. The average run-times for `rw()` and `rw2()` were 61.1 µs and 362 µs, respectively. The numpy array function, `rw2()`, was easier to write, occupying only one line, and was more readable than the built-in python list operations in `rw()`.\n",
    "\n",
    "For robustness, multiple values of an were supplied to the functions to test if different lengths resulted in differing results. from this test numpy was always significantly faster than using base python functions."
   ]
  },
  {
   "cell_type": "markdown",
   "id": "d85b5fcb-9c45-4a16-8642-1e47216ccbc4",
   "metadata": {},
   "source": [
    "### (E). \n",
    "\n",
    "\n",
    "In this problem, we will perform a `d`-dimensional random walk. There are many ways to define such a walk. Here's the definition we'll use for this problem: \n",
    "\n",
    "> At each timestep, the walker takes one random step forward or backward **in each of `d` directions.** \n",
    "\n",
    "For example, in a two-dimensional walk on a grid, in each timestep the walker would take a step either north or south, and then another step either east or west. Another way to think about is as the walker taking a single \"diagonal\" step either northeast, southeast, southwest, or northwest. \n",
    "\n",
    "Write a function called `rw_d(n,d)` that implements a `d`-dimensional random walk. `n` is again the number of steps that the walker should take, and `d` is the dimension of the walk. The output should be given as a `numpy` array of shape `(n,d)`, where the `k`th row of the array specifies the position of the walker after `k` steps. For example: \n",
    "\n",
    "```python\n",
    "P = rw_d(5, 3)\n",
    "P\n",
    "```\n",
    "```\n",
    "array([[-1, -1, -1],\n",
    "       [ 0, -2, -2],\n",
    "       [-1, -3, -3],\n",
    "       [-2, -2, -2],\n",
    "       [-1, -3, -1]])\n",
    "```\n",
    "\n",
    "In this example, the third row `P[2,:] = [-1, -3, -3]` gives the position of the walk after 3 steps. \n",
    "\n",
    "Demonstrate your function by generating a 3d walk with 5 steps, as shown in the example above. \n",
    "\n",
    "All the same requirements and hints from Part B apply in this problem as well. It should be possible to solve this problem by making only a few small modifications to your solution from Part B. If you are finding that this is not possible, you may want to either (a) read the documentation for the relevant `numpy` functions more closely or (b) reconsider your Part B approach. \n",
    "\n",
    "\n",
    "\n"
   ]
  },
  {
   "cell_type": "markdown",
   "id": "a24f7178-5b7f-49a0-9ee7-4a5a7bf203a8",
   "metadata": {},
   "source": [
    "### Answer 1E"
   ]
  },
  {
   "cell_type": "markdown",
   "id": "9f6c8355-d12a-467a-b3ad-fc12dfb91c88",
   "metadata": {},
   "source": [
    "#### Documentation\n",
    "`rw_d` uses the numpy library to list positions from a multi directional random walk. It takes two values. `d` describes the number of directions. `n`, describes the number of steps in each direction. Both `d` and `n` must be positive integers, but if positive integers are not supplied then the user is prompted to enter a new set. The biggest difference between `rw_d` and `rw2` is that the array is reshaped into the correct shape and a cumulative sum is applied along the vertical axis. "
   ]
  },
  {
   "cell_type": "code",
   "execution_count": 102,
   "id": "0d762975-6f8a-4235-b4a7-3a16eb0b05e9",
   "metadata": {},
   "outputs": [
    {
     "data": {
      "text/plain": [
       "array([[-1, -1, -1],\n",
       "       [-2, -2,  0],\n",
       "       [-3, -1,  1],\n",
       "       [-2, -2,  0],\n",
       "       [-3, -3, -1]])"
      ]
     },
     "execution_count": 102,
     "metadata": {},
     "output_type": "execute_result"
    }
   ],
   "source": [
    "def rw_d(n, d):\n",
    "  \"\"\"\n",
    "  A list of positions from a multidimential random walk.\n",
    "  ---\n",
    "  Args:\n",
    "    n: A positive integer. The number of steps in each dimention.\n",
    "    d: A positive integer. The number of dimentions.\n",
    "  Return:\n",
    "    positions: An numpy array. The positions after step in a dimention.\n",
    "  \"\"\"\n",
    "  while not isinstance(n, int) or n < 0:\n",
    "    user_n = input(\"Enter a positive integer for n: \")\n",
    "    try:\n",
    "      n = int(user_n)\n",
    "    except ValueError:\n",
    "        pass\n",
    "  while not isinstance(d, int) or d < 0:\n",
    "    user_d = input(\"Enter a positive integer for d: \")\n",
    "    try:\n",
    "      d = int(user_d)\n",
    "    except ValueError:\n",
    "        pass\n",
    "  positions = (\n",
    "    np.random.choice(\n",
    "      [-1, 1], # -1 for tails and 1 for heads.\n",
    "      size = (n * d), # The number of elements in array.\n",
    "      replace = True) # Reuse heads and tails.\n",
    "    .reshape(n, d) # Reshape into n rows and d columns.\n",
    "    .cumsum(axis=0) # Columnar Cumulative Sum \n",
    "  )\n",
    "  return positions\n",
    "\n",
    "rw_d(5,3)"
   ]
  },
  {
   "cell_type": "markdown",
   "id": "68a97a83-7e21-4473-a36a-cea10587a07a",
   "metadata": {},
   "source": [
    "#### Robustness Test"
   ]
  },
  {
   "cell_type": "code",
   "execution_count": 103,
   "id": "23e808a1-6dbb-4927-b1fd-b82971043e62",
   "metadata": {},
   "outputs": [
    {
     "name": "stdin",
     "output_type": "stream",
     "text": [
      "Enter a positive integer for n:  is\n",
      "Enter a positive integer for n:  a\n",
      "Enter a positive integer for n:  resource\n",
      "Enter a positive integer for n:  -1\n",
      "Enter a positive integer for n:  -100\n",
      "Enter a positive integer for n:  20.\n",
      "Enter a positive integer for n:  204.25\n",
      "Enter a positive integer for n:  3\n"
     ]
    },
    {
     "data": {
      "text/plain": [
       "array([[-1, -1],\n",
       "       [-2,  0],\n",
       "       [-3, -1]])"
      ]
     },
     "execution_count": 103,
     "metadata": {},
     "output_type": "execute_result"
    }
   ],
   "source": [
    "rw_d('goggle', 2)"
   ]
  },
  {
   "cell_type": "code",
   "execution_count": 104,
   "id": "1db23b89-eb2f-4ef7-bb8f-5af05974a67d",
   "metadata": {},
   "outputs": [
    {
     "name": "stdin",
     "output_type": "stream",
     "text": [
      "Enter a positive integer for d:  is\n",
      "Enter a positive integer for d:  useless\n",
      "Enter a positive integer for d:  -10\n",
      "Enter a positive integer for d:  -25\n",
      "Enter a positive integer for d:  25.\n",
      "Enter a positive integer for d:  60023.1\n",
      "Enter a positive integer for d:  4\n"
     ]
    },
    {
     "data": {
      "text/plain": [
       "array([[ 1, -1, -1,  1],\n",
       "       [ 0,  0,  0,  0]])"
      ]
     },
     "execution_count": 104,
     "metadata": {},
     "output_type": "execute_result"
    }
   ],
   "source": [
    "rw_d(2, \"bing\")"
   ]
  },
  {
   "cell_type": "code",
   "execution_count": 105,
   "id": "8a0c83e9-b174-468f-9a00-a030bfc6da3d",
   "metadata": {},
   "outputs": [
    {
     "name": "stdout",
     "output_type": "stream",
     "text": [
      "[0, 0] Random Positions (Shape = (0, 0)):\n",
      "[]\n",
      "[1, 5] Random Positions (Shape = (1, 5)):\n",
      "[[-1 -1  1 -1 -1]]\n",
      "[10, 10] Random Positions (Shape = (10, 10)):\n",
      "[[ 1 -1  1  1  1  1 -1  1 -1  1]\n",
      " [ 0  0  2  2  2  0  0  0 -2  2]\n",
      " [ 1  1  3  3  1  1  1  1 -1  1]\n",
      " [ 0  0  2  2  0  2  0  2  0  2]\n",
      " [-1 -1  1  3 -1  3 -1  1  1  1]\n",
      " [-2 -2  0  4  0  2 -2  2  2  0]\n",
      " [-3 -1 -1  5  1  1 -1  1  3 -1]\n",
      " [-4 -2  0  6  0  0 -2  2  2 -2]\n",
      " [-5 -1  1  5  1  1 -1  3  3 -3]\n",
      " [-6  0  2  6  2  2 -2  2  4 -4]]\n",
      "[10, 5] Random Positions (Shape = (10, 5)):\n",
      "[[ 1  1 -1  1  1]\n",
      " [ 0  0 -2  0  2]\n",
      " [-1  1 -1  1  1]\n",
      " [-2  0 -2  2  0]\n",
      " [-1  1 -1  1  1]\n",
      " [-2  0 -2  2  0]\n",
      " [-1  1 -1  3 -1]\n",
      " [ 0  0 -2  4 -2]\n",
      " [-1  1 -1  3 -3]\n",
      " [ 0  0  0  4 -4]]\n"
     ]
    }
   ],
   "source": [
    "# list of tests to perform\n",
    "tests = [[0, 0], [1, 5],[10, 10],[10, 5]]\n",
    "# Store in dictionary\n",
    "rw_results = dict()\n",
    "# loop through tests\n",
    "for test in tests:\n",
    "  # for each list, [0]=n and [1]=d\n",
    "  n = test[0]\n",
    "  d = test[1]\n",
    "  # label the results\n",
    "  name = f\"{test} Random Positions\"\n",
    "  # store the results in dictionary\n",
    "  rw_results[name] = rw_d(n, d)\n",
    "# Loop through the dictionary and print the results in a readable format\n",
    "# Also add the shape of the array.\n",
    "for key, val in rw_results.items():\n",
    "  print(f\"{key} (Shape = {val.shape}):\\n{val}\")"
   ]
  },
  {
   "cell_type": "markdown",
   "id": "5b383552-1ec5-4bd1-9c7b-b67dc7fe67cb",
   "metadata": {},
   "source": [
    "### (F).\n",
    "\n",
    "In a few sentences, describe how you would have solved Part E without `numpy` tools. Take a guess as to how many lines it would have taken you to define the appropriate function. Based on your findings in Parts C and D, how would you expect its performance to compare to your `numpy`-based function from Part E? Which approach would your recommend? \n",
    "\n",
    "Note: while I obviously prefer the `numpy` approach, it is reasonable and valid to prefer the \"vanilla\" way instead. Either way, you should be ready to justify your preference on the basis of writeability, readability, and performance. "
   ]
  },
  {
   "cell_type": "markdown",
   "id": "b8b63ced-cb79-4aed-8321-c68722237e94",
   "metadata": {},
   "source": [
    "### Answer 1F\n",
    "\n",
    "Without using numpy tools, Part E could be solved by creating a 2-D list. Use a for-loop to call `rw()`  d times with an input of n. For each iteration, zip the old list with the new list. Results in an array shape of (n,d). The resulting function would be approximately 9 lines long (20 lines including `rw()`) and would have a longer runtime than if numpy tools were used. The numpy based function from part E 5-10 times faster than the non-numpy function proposed. Therefore, the utilization of numpy tooling is preferred for its readability and  speed."
   ]
  },
  {
   "cell_type": "markdown",
   "id": "b307e8e5-1278-4bba-b22f-bf7816eb43c8",
   "metadata": {},
   "source": [
    "### (G).\n",
    "\n",
    "Once you've implemented `rw_d()`, you can run the following code to generate a large random walk and visualize it. \n",
    "\n",
    "```python\n",
    "from matplotlib import pyplot as plt\n",
    "\n",
    "W = rw_d(20000, 2)\n",
    "plt.plot(W[:,0], W[:,1])\n",
    "```\n",
    "\n",
    "You may be interested in looking at several other visualizations of multidimensional random walks [on Wikipedia](https://en.wikipedia.org/wiki/Random_walk). Your result in this part will not look exactly the same, but should look qualitatively fairly similar. \n",
    "\n",
    "You only need to show one plot. If you like, you might enjoy playing around with the plot settings. While `ax.plot()` is the normal method to use here, `ax.scatter()` with partially transparent points can also produce some intriguing images. "
   ]
  },
  {
   "cell_type": "markdown",
   "id": "3ad649a4-9ad8-4a12-9e7c-cdd2202d54cf",
   "metadata": {},
   "source": [
    "### Answer 1G"
   ]
  },
  {
   "cell_type": "code",
   "execution_count": 19,
   "id": "0da1d9e7-9625-445d-b3c9-a9957d2b435c",
   "metadata": {},
   "outputs": [
    {
     "data": {
      "text/plain": [
       "[<matplotlib.lines.Line2D at 0x7c030d745850>]"
      ]
     },
     "execution_count": 19,
     "metadata": {},
     "output_type": "execute_result"
    },
    {
     "data": {
      "image/png": "[encoded data removed]",
      "text/plain": [
       "<Figure size 640x480 with 1 Axes>"
      ]
     },
     "metadata": {},
     "output_type": "display_data"
    }
   ],
   "source": [
    "# Plot 2-D Random Walk\n",
    "W = rw_d(20000, 2)\n",
    "plt.plot(W[:,0], W[:,1])"
   ]
  },
  {
   "cell_type": "markdown",
   "id": "def78985-0fc4-4ac7-a804-4debe01426b4",
   "metadata": {},
   "source": [
    "## Problem 2. Reading MIMIC-IV datafile\n",
    "In this exercise, we explore various tools for ingesting the [MIMIC-IV](https://mimic.mit.edu/docs/iv/) data introduced in BIOSTAT 203B, but we will do it in Python this time.\n",
    "\n",
    "Let's display the contents of MIMIC `hosp` and `icu` data folders: (if a cell starts with a `!`, the command is run in the shell.)"
   ]
  },
  {
   "cell_type": "markdown",
   "id": "399f529e-488c-4fdb-b63f-11b864bbd7e7",
   "metadata": {},
   "source": [
    "### Directions To Setup Mimic\n",
    "\n",
    "- Create a system link (`ln -s`) between Mimic and the current working directory of this notebook. Using a system link is storage efficient and allows for more readable relative paths to be used to reference the mimic data.\n",
    "\n",
    "- Use the tags `-goh` to show permissions, size, and filename."
   ]
  },
  {
   "cell_type": "code",
   "execution_count": 20,
   "id": "1948eaab-6f54-482a-a0ca-b1fa36a38f4c",
   "metadata": {
    "tags": []
   },
   "outputs": [
    {
     "name": "stdout",
     "output_type": "stream",
     "text": [
      "total 9.6G\n",
      "-rwxr-xr-x 1  15M May 19 14:49 admissions.csv.gz\n",
      "-rwxr-xr-x 1  21M May 16 10:28 admissions.parquet\n",
      "-rwxr-xr-x 1 418K May 19 14:49 d_hcpcs.csv.gz\n",
      "-rwxr-xr-x 1 724K May  7 16:54 d_hcpcs.parquet\n",
      "-rwxr-xr-x 1  24M May 19 14:49 diagnoses_icd.csv.gz\n",
      "-rwxr-xr-x 1  21M May 16 10:28 diagnoses_icd.parquet\n",
      "-rwxr-xr-x 1 840K May 19 14:49 d_icd_diagnoses.csv.gz\n",
      "-rwxr-xr-x 1 1.7M May  7 16:55 d_icd_diagnoses.parquet\n",
      "-rwxr-xr-x 1 565K May 19 14:49 d_icd_procedures.csv.gz\n",
      "-rwxr-xr-x 1 1.3M May  7 16:55 d_icd_procedures.parquet\n",
      "-rwxr-xr-x 1  13K May 19 14:49 d_labitems.csv.gz\n",
      "-rwxr-xr-x 1  21K May  7 16:55 d_labitems.parquet\n",
      "-rwxr-xr-x 1 7.1M May 19 14:49 drgcodes.csv.gz\n",
      "-rwxr-xr-x 1 6.8M May 16 10:28 drgcodes.parquet\n",
      "-rwxr-xr-x 1 485M May 19 14:49 emar.csv.gz\n",
      "-rwxr-xr-x 1 450M May 19 14:49 emar_detail.csv.gz\n",
      "-rwxr-xr-x 1 855M May  7 16:55 emar_detail.parquet\n",
      "-rwxr-xr-x 1 754M May 16 14:38 emar.parquet\n",
      "-rwxr-xr-x 1 1.7M May 19 14:49 hcpcsevents.csv.gz\n",
      "-rwxr-xr-x 1 2.4M May  7 16:55 hcpcsevents.parquet\n",
      "-rwxr-xr-x 1 1.9G May 19 13:24 labevents.csv.gz\n",
      "-rwxr-xr-x 1 1.8G May 16 14:38 labevents.parquet\n",
      "-rwxr-xr-x 1  93M May 19 14:49 microbiologyevents.csv.gz\n",
      "-rwxr-xr-x 1 103M May 16 10:28 microbiologyevents.parquet\n",
      "-rwxr-xr-x 1  35M May 19 14:49 omr.csv.gz\n",
      "-rwxr-xr-x 1  35M May 16 10:28 omr.parquet\n",
      "-rwxr-xr-x 1 2.3M May 19 14:49 patients.csv.gz\n",
      "-rwxr-xr-x 1 2.9M May 16 10:28 patients.parquet\n",
      "-rwxr-xr-x 1 381M May 19 14:49 pharmacy.csv.gz\n",
      "-rwxr-xr-x 1 579M May 16 14:38 pharmacy.parquet\n",
      "-rwxr-xr-x 1 476M May 19 14:49 poe.csv.gz\n",
      "-rwxr-xr-x 1  25M May 19 14:49 poe_detail.csv.gz\n",
      "-rwxr-xr-x 1  40M May 16 10:28 poe_detail.parquet\n",
      "-rwxr-xr-x 1 611M May 16 14:38 poe.parquet\n",
      "-rwxr-xr-x 1 438M May 19 14:49 prescriptions.csv.gz\n",
      "-rwxr-xr-x 1 588M May 16 14:38 prescriptions.parquet\n",
      "-rwxr-xr-x 1 5.8M May 19 14:49 procedures_icd.csv.gz\n",
      "-rwxr-xr-x 1 7.2M May 16 10:28 procedures_icd.parquet\n",
      "-rwxr-xr-x 1 120K May 19 14:49 provider.csv.gz\n",
      "-rwxr-xr-x 1 222K May  7 16:55 provider.parquet\n",
      "-rwxr-xr-x 1 6.5M May 19 14:49 services.csv.gz\n",
      "-rwxr-xr-x 1 9.9M May 16 10:28 services.parquet\n",
      "-rwxr-xr-x 1  35M May 19 14:49 transfers.csv.gz\n",
      "-rwxr-xr-x 1  56M May 16 10:28 transfers.parquet\n"
     ]
    }
   ],
   "source": [
    "# Hosp Files\n",
    "!ls -goh ./mimic/hosp/"
   ]
  },
  {
   "cell_type": "code",
   "execution_count": 21,
   "id": "512dcc57-1024-4e42-a2f5-c028ee351d82",
   "metadata": {
    "tags": []
   },
   "outputs": [
    {
     "name": "stdout",
     "output_type": "stream",
     "text": [
      "total 5.4G\n",
      "-rwxr-xr-x 1  36K May 19 14:49 caregiver.csv.gz\n",
      "-rwxr-xr-x 1  68K May  7 16:57 caregiver.parquet\n",
      "-rwxr-xr-x 1 2.3G May 19 14:49 chartevents.csv.gz\n",
      "-rwxr-xr-x 1 1.4G May 16 14:38 chartevents.parquet\n",
      "-rwxr-xr-x 1  44M May 19 14:49 datetimeevents.csv.gz\n",
      "-rwxr-xr-x 1  57M May  7 16:57 datetimeevents.parquet\n",
      "-rwxr-xr-x 1  57K May 19 14:49 d_items.csv.gz\n",
      "-rwxr-xr-x 1 114K May  7 16:58 d_items.parquet\n",
      "-rwxr-xr-x 1 2.5M May 19 14:49 icustays.csv.gz\n",
      "-rwxr-xr-x 1 3.8M May  7 16:59 icustays.parquet\n",
      "-rwxr-xr-x 1 241M May 19 14:49 ingredientevents.csv.gz\n",
      "-rwxr-xr-x 1 383M May 16 14:38 ingredientevents.parquet\n",
      "-rwxr-xr-x 1 310M May 19 14:49 inputevents.csv.gz\n",
      "-rwxr-xr-x 1 520M May 16 14:38 inputevents.parquet\n",
      "-rwxr-xr-x 1  37M May 19 14:49 outputevents.csv.gz\n",
      "-rwxr-xr-x 1  65M May 16 10:28 outputevents.parquet\n",
      "-rwxr-xr-x 1  20M May 19 14:49 procedureevents.csv.gz\n",
      "-rwxr-xr-x 1  34M May 16 10:28 procedureevents.parquet\n"
     ]
    }
   ],
   "source": [
    "# ICU Files\n",
    "!ls -goh ./mimic/icu/"
   ]
  },
  {
   "cell_type": "markdown",
   "id": "c9b9d704-df48-4dc8-a3d2-35747b75f2f8",
   "metadata": {},
   "source": [
    "### (A). Speed, memory, and data types\n",
    "\n",
    "Standard way to read a CSV file would be using the `read_csv` function of the `pandas` package. Let us check the speed of reading a moderate-sized compressed csv file, `admissions.csv.gz`. How much memory does the resulting data frame use?\n",
    "\n",
    "_Note:_ If you start a cell with `%%time`, the runtime will be measured. "
   ]
  },
  {
   "cell_type": "code",
   "execution_count": 22,
   "id": "0f2c2dd7-0169-4a54-b177-79bcf85e8d2a",
   "metadata": {},
   "outputs": [],
   "source": [
    "# this function is not required as part of the homework. The purpose of\n",
    "# This function is to calculate the percent differences of data ingestion \n",
    "# methods.\n",
    "def percent_diff(i_time=None, f_time=None, i_mem=None, f_mem=None):\n",
    "  \"\"\"\n",
    "  Print Pandas and Polars Comparison Metrics\n",
    "  ---\n",
    "  Optional Args:\n",
    "    i_time: A positive float. The runtime of a initial cell in s.\n",
    "    f_time: A positive float. The runtime of a final cell in s.\n",
    "    i_mem: A positive float. Initial dataframe object memory usage in GB.\n",
    "    f_mem: A positive float. Final dataframe object memory usage in GB.\n",
    "  Return:\n",
    "    None\n",
    "  \"\"\"\n",
    "  if (i_time is not None) and (f_time is not None): # Check if empty\n",
    "    time_diff = round((f_time - i_time) / i_time * 100) # percent diff.\n",
    "    if time_diff > 0: # if percent diff. is greater than 0 output text\n",
    "      print(f\"final runtime was {abs(time_diff)}% slower than initial.\")\n",
    "    elif time_diff < 0: # if percent diff. is less than 0 output text\n",
    "      print(f\"final runtime was {abs(time_diff)}% faster than initial.\")\n",
    "    elif time_diff == 0: # if percent diff. is equal to 0 output text\n",
    "      print(f\"final runtime was the same as initial.\")\n",
    "    else:\n",
    "      raise TypeError\n",
    "  else:\n",
    "    pass\n",
    "  if (i_mem is not None) and (f_mem is not None): # Check if empty\n",
    "    mem_diff = round((f_mem - i_mem) / i_mem * 100) # percent diff\n",
    "    if mem_diff > 0: # if percent diff. is greater than 0 output text\n",
    "      print(f\"final df memory usage was {abs(mem_diff)}% more than initial.\")\n",
    "    elif mem_diff < 0: # if percent diff. is less than 0 output text\n",
    "      print(f\"final df memory usage was {abs(mem_diff)}% less than initial.\")\n",
    "    elif mem_diff == 0: # if percent diff. is equal to 0 output text\n",
    "      print(f\"final df memory usage was the same as initial.\")\n",
    "    else:\n",
    "      raise TypeError\n",
    "  else:\n",
    "    pass"
   ]
  },
  {
   "cell_type": "markdown",
   "id": "dd6a5360-c392-4c6d-b493-7a623b9a2110",
   "metadata": {},
   "source": [
    "### Answer 2A\n",
    "\n",
    "#### Preface\n",
    "\n",
    "It is more beneficial to compare the time and memory consumption of pandas to another method to better understand strengths and weaknesses of data ingestion methods therefore for each problem pandas will be compared to either polars or DuckDB. Runtime is a good metric to measure the performance of these libraries however, it is not consistent and will vary across systems and even within the same system depending on resource availability. Therefore the relative performance is a better metric than the absolute performance of these python libraries.\n",
    "\n",
    "EDIT: The changes to the homework implimented on 5/6 disrupted the order of my test. Therefore, please don't markdown if the numbers changed significantly because the homework was significantly changed after I completed the assignment. Please don't change the homework after you disperse it. It is disruptive.\n",
    "\n",
    "#### Pandas\n",
    "\n",
    "The runtime to ingest `admissions.csv.gz` using pandas was 884 ms and the resulting data frame memory usage was 0.368 GB.\n",
    "\n",
    "#### Polars\n",
    "\n",
    "The runtime to ingest `admissions.csv.gz` using pandas was 214 ms and the resulting data frame memory usage was 0.362 GB.\n",
    "\n",
    "#### Summary\n",
    "\n",
    "Polars consumed less resources than pandas. The Polars runtime was __42% faster__ and the Polars data frame object memory usage was __2% less__ than Pandas. "
   ]
  },
  {
   "cell_type": "markdown",
   "id": "6cc29753-bd8c-4f9b-82bc-14c04bbcc724",
   "metadata": {},
   "source": [
    "#### Description\n",
    "Pandas was used to read in the admissions.csv.gz file from a symbolic link of the mimic data set located in the working directory."
   ]
  },
  {
   "cell_type": "code",
   "execution_count": 23,
   "id": "73258362-fb47-405c-80a4-a7d79e73409c",
   "metadata": {
    "tags": []
   },
   "outputs": [
    {
     "name": "stdout",
     "output_type": "stream",
     "text": [
      "CPU times: user 703 ms, sys: 76.7 ms, total: 780 ms\n",
      "Wall time: 1.17 s\n"
     ]
    }
   ],
   "source": [
    "%%time\n",
    "## Pandas\n",
    "# Read admissions using Pandas\n",
    "df_pd_adm = pd.read_csv(\"./mimic/hosp/admissions.csv.gz\")"
   ]
  },
  {
   "cell_type": "code",
   "execution_count": 24,
   "id": "afb7f580-7f07-4e1d-8c95-4424412f4f7d",
   "metadata": {},
   "outputs": [
    {
     "name": "stdout",
     "output_type": "stream",
     "text": [
      "0.368 GB\n"
     ]
    }
   ],
   "source": [
    "# Print the memory usage of the pandas object\n",
    "print(round(sys.getsizeof(df_pd_adm)/10**9, 3), \"GB\")"
   ]
  },
  {
   "cell_type": "markdown",
   "id": "983dca85-f936-4e3a-8287-c3dc2b7d12a8",
   "metadata": {},
   "source": [
    "#### Description\n",
    "Polars was used to read in the admissions.csv.gz file from a symbolic link of the mimic data set located in the working directory. Results are documented in the answer above. To make the memory usage consistent, the polars data frame was converted to a pandas data frame."
   ]
  },
  {
   "cell_type": "code",
   "execution_count": 25,
   "id": "ac090c4c-8d60-441e-938e-2ee4668f6601",
   "metadata": {},
   "outputs": [
    {
     "name": "stdout",
     "output_type": "stream",
     "text": [
      "CPU times: user 580 ms, sys: 495 ms, total: 1.08 s\n",
      "Wall time: 690 ms\n"
     ]
    }
   ],
   "source": [
    "%%time\n",
    "## Polars\n",
    "# Read admissions using Polars then convert the Polars DataFrame (pl.DataFrame)\n",
    "# to a Pandas DataFrame (pd.DataFrame).\n",
    "df_pl_adm = pl.read_csv(\"./mimic/hosp/admissions.csv.gz\").to_pandas()"
   ]
  },
  {
   "cell_type": "code",
   "execution_count": 26,
   "id": "1a90e5b4-9783-498c-958e-7125fd658b66",
   "metadata": {},
   "outputs": [
    {
     "name": "stdout",
     "output_type": "stream",
     "text": [
      "0.362 GB\n"
     ]
    }
   ],
   "source": [
    "# Print the memory usage of the pandas object.\n",
    "# The pl.DataFrame was converted to a pd.DataFrame\n",
    "print(round(sys.getsizeof(df_pl_adm)/10**9, 3), \"GB\")"
   ]
  },
  {
   "cell_type": "code",
   "execution_count": 106,
   "id": "65169559-982d-4a63-a9d1-68263ac3de82",
   "metadata": {},
   "outputs": [
    {
     "name": "stdout",
     "output_type": "stream",
     "text": [
      "final runtime was 41% faster than initial.\n",
      "final df memory usage was 2% less than initial.\n"
     ]
    }
   ],
   "source": [
    "# Initial: Pandas reading admissions.csv.gz\n",
    "# Final: Polars reading admissions.csv.gz\n",
    "percent_diff(i_time=1.17, i_mem=0.368, f_time=0.690, f_mem=0.362)"
   ]
  },
  {
   "cell_type": "markdown",
   "id": "e1491db4-c6ea-4ad1-8071-42c129cb08c3",
   "metadata": {},
   "source": [
    "### (B). User-supplied data types\n",
    "\n",
    "Re-ingest `admissions.csv.gz` by indicating appropriate column data types in [`pd.read_csv`](https://pandas.pydata.org/pandas-docs/stable/reference/api/pandas.read_csv.html). Does the run time change? How much memory does the result dataframe use? (Hint: `dtype` and `parse_dates` arguments in `pd.read_csv`.)"
   ]
  },
  {
   "cell_type": "markdown",
   "id": "31071aec-c82a-492f-a3bb-93c2a3420eea",
   "metadata": {},
   "source": [
    "### Answer 2B\n",
    "\n",
    "\n",
    "#### Pandas (Categorical) \n",
    "\n",
    "Categorical variables were assigned as type `categorical`. Dates were assigned as date. The runtime to ingest `admissions.csv.gz` using pandas and declaring data types was 1.05 seconds and the resulting data frame memory usage was 0.029 GB. Compared to pandas reading without declaring data types (1A), the pandas runtime with declared data types was __10% Faster__ and the data frame memory usage was __92% less__.\n",
    "\n",
    "#### Pandas (String)\n",
    "\n",
    "Categorical variables were assigned as type `string`. Dates were assigned as date. The runtime to ingest `admissions.csv.gz` using pandas and declaring data types was 3.76 seconds and the resulting data frame memory usage was 0.277 GB. Compared to pandas reading without declaring data types (1A), the pandas runtime with declared data types was __6% Faster__ and the data frame memory usage was __24% less__.\n",
    "\n",
    "#### Polars (Categorical)\n",
    "\n",
    "Categorical variables were assigned as type `categorical`. Dates were assigned as date. The runtime to ingest `admissions.csv.gz` using polar and declaring data types was 0.207 seconds and the resulting data frame memory usage was 0.029 GB. Compared to pandas reading without declaring data types (1A), the polars runtime with declared data types was __81% faster__ and the data frame memory usage was __92% less__.\n",
    "\n",
    "\n",
    "#### Summary\n",
    "For pandas, declaring variables decreased the runtime and decreased the size of the resulting data frame. Additionally, for pandas the size of the resulting data frame was less when categorical variables were assigned the type, `categorical`, instead of `string`. Polars, was the fastest and had similar memory usage as pandas. This makes sense becasue polars is multi-threaded and built with rust."
   ]
  },
  {
   "cell_type": "markdown",
   "id": "2838ffa7-6750-49fa-8181-c9b189c2c2bf",
   "metadata": {},
   "source": [
    "#### Documentation\n",
    "\n",
    "The admissions data set was read by pandas and while reading in the data, types were declared. declaring column has the potential to improve resource usage while upholding data, integrity. In addition, polars was used to also read in the data using a similar method of declaring column. for pandas two methods were tested. One method declared categorical variables as string type however that did not perform as well as declaring the categorical variables as categories instead of strings. To make the memory usage consistent, the polars data frame was converted to a pandas data frame."
   ]
  },
  {
   "cell_type": "code",
   "execution_count": 28,
   "id": "2d8a6a2e-8b82-4612-84b7-f45370094b97",
   "metadata": {},
   "outputs": [
    {
     "name": "stdout",
     "output_type": "stream",
     "text": [
      "CPU times: user 971 ms, sys: 92.4 ms, total: 1.06 s\n",
      "Wall time: 1.05 s\n"
     ]
    }
   ],
   "source": [
    "%%time\n",
    "\n",
    "## Pandas\n",
    "# Assign data types while reading. For categorical variables assign the dtype as\n",
    "# a category.\n",
    "df_pd_cat_adm = pd.read_csv(\n",
    "  \"./mimic/hosp/admissions.csv.gz\",\n",
    "  # assign data types\n",
    "  dtype={\n",
    "    'subject_id': 'int64',\n",
    "    'hadm_id': 'int64',\n",
    "    'admission_type': 'category',\n",
    "    'admit_provider_id': 'category',\n",
    "    'admission_location': 'category',\n",
    "    'discharge_location': 'category',\n",
    "    'insurance': 'category',\n",
    "    'language': 'category',\n",
    "    'marital_status': 'category',\n",
    "    'race': 'category',\n",
    "    'hospital_expire_flag': 'category'\n",
    "  },\n",
    "  # assign date types\n",
    "  parse_dates=[\n",
    "    'admittime',\n",
    "    'dischtime',\n",
    "    'deathtime',\n",
    "    'edregtime',\n",
    "    'admittime',\n",
    "    'edouttime',\n",
    "    'deathtime',\n",
    "  ]\n",
    ")"
   ]
  },
  {
   "cell_type": "code",
   "execution_count": 29,
   "id": "78d4d8f0-bfee-412f-a1a6-a6ab1f2b9fa4",
   "metadata": {},
   "outputs": [
    {
     "name": "stdout",
     "output_type": "stream",
     "text": [
      "0.029 GB\n"
     ]
    }
   ],
   "source": [
    "# Object memory usage\n",
    "print(round(sys.getsizeof(df_pd_cat_adm)/10**9,3), \"GB\")"
   ]
  },
  {
   "cell_type": "code",
   "execution_count": 107,
   "id": "7d93170e-ef36-4503-b273-97a29b2ba32c",
   "metadata": {},
   "outputs": [
    {
     "name": "stdout",
     "output_type": "stream",
     "text": [
      "final runtime was 10% faster than initial.\n",
      "final df memory usage was 92% less than initial.\n"
     ]
    }
   ],
   "source": [
    "# Initial = Pandas without declared data types\n",
    "# Final = Pandas with declared data types (categorical)\n",
    "percent_diff(i_time=1.17, i_mem=0.368, f_time=1.05, f_mem=0.029)"
   ]
  },
  {
   "cell_type": "code",
   "execution_count": 31,
   "id": "00de7ee2-e719-4a71-8fad-40cfed096551",
   "metadata": {},
   "outputs": [
    {
     "name": "stdout",
     "output_type": "stream",
     "text": [
      "CPU times: user 1.03 s, sys: 68.1 ms, total: 1.1 s\n",
      "Wall time: 1.1 s\n"
     ]
    }
   ],
   "source": [
    "%%time\n",
    "\n",
    "## Pandas\n",
    "# Assign data types while reading. For categorical variables assign the dtype as\n",
    "# a string.\n",
    "df_pd_str_adm = (\n",
    "  pd.read_csv(\n",
    "    \"./mimic/hosp/admissions.csv.gz\",\n",
    "    # assign data types\n",
    "    dtype={\n",
    "      'subject_id': 'int64',\n",
    "      'hadm_id': 'int64',\n",
    "      'admission_type': 'string',\n",
    "      'admit_provider_id': 'string',\n",
    "      'admission_location': 'string',\n",
    "      'discharge_location': 'string',\n",
    "      'insurance': 'string',\n",
    "      'language': 'string',\n",
    "      'marital_status': 'string',\n",
    "      'race': 'string',\n",
    "      'hospital_expire_flag': 'string'\n",
    "    },\n",
    "    # assign date types\n",
    "    parse_dates=[\n",
    "      'admittime',\n",
    "      'dischtime',\n",
    "      'deathtime',\n",
    "      'edregtime',\n",
    "      'admittime',\n",
    "      'edouttime',\n",
    "      'deathtime',])\n",
    ")"
   ]
  },
  {
   "cell_type": "code",
   "execution_count": 32,
   "id": "610e2761-9818-48f5-80b2-9443e0ae2c81",
   "metadata": {},
   "outputs": [
    {
     "name": "stdout",
     "output_type": "stream",
     "text": [
      "0.278 GB\n"
     ]
    }
   ],
   "source": [
    "# Object memory Usage\n",
    "print(round(sys.getsizeof(df_pd_str_adm)/10**9, 3), \"GB\")"
   ]
  },
  {
   "cell_type": "code",
   "execution_count": 108,
   "id": "790c8f9a-8d29-4438-9183-f575d5a5103d",
   "metadata": {},
   "outputs": [
    {
     "name": "stdout",
     "output_type": "stream",
     "text": [
      "final runtime was 6% faster than initial.\n",
      "final df memory usage was 24% less than initial.\n"
     ]
    }
   ],
   "source": [
    "# Initial = Pandas without declared data types\n",
    "# Final = Pandas with declared data types (string)\n",
    "percent_diff(i_time=1.17, i_mem=0.368, f_time=1.1, f_mem=0.278)"
   ]
  },
  {
   "cell_type": "code",
   "execution_count": 34,
   "id": "a428c864-dbbf-4157-a9ab-a16863bf0513",
   "metadata": {},
   "outputs": [
    {
     "name": "stdout",
     "output_type": "stream",
     "text": [
      "CPU times: user 573 ms, sys: 91.5 ms, total: 665 ms\n",
      "Wall time: 228 ms\n"
     ]
    }
   ],
   "source": [
    "%%time\n",
    "\n",
    "## Polars\n",
    "# Assign data types while reading. For categorical variables assign the dtype as\n",
    "# a category.\n",
    "df_pl_cat_adm = (\n",
    "  pl.read_csv(\n",
    "    \"./mimic/hosp/admissions.csv.gz\", # read file\n",
    "    # assign data types\n",
    "    dtypes={ \n",
    "      'subject_id': pl.Int64,\n",
    "      'hadm_id': pl.Int64,\n",
    "      'admission_type': pl.Categorical,\n",
    "      'admit_provider_id': pl.Categorical,\n",
    "      'admission_location': pl.Categorical,\n",
    "      'discharge_location': pl.Categorical,\n",
    "      'insurance': pl.Categorical,\n",
    "      'language': pl.Categorical,\n",
    "      'marital_status': pl.Categorical,\n",
    "      'race': pl.Categorical,\n",
    "      'hospital_expire_flag': pl.Categorical}, \n",
    "    try_parse_dates=True) # convert columns to date.\n",
    "  .to_pandas() # convert to pd.dataframe\n",
    ")"
   ]
  },
  {
   "cell_type": "code",
   "execution_count": 109,
   "id": "0c15db8b-4e4a-4f07-97ed-62feb01cc361",
   "metadata": {},
   "outputs": [
    {
     "name": "stdout",
     "output_type": "stream",
     "text": [
      "0.029 GB\n"
     ]
    }
   ],
   "source": [
    "# Polars Object memory usage\n",
    "print(round(sys.getsizeof(df_pl_cat_adm)/10**9,3), \"GB\")"
   ]
  },
  {
   "cell_type": "code",
   "execution_count": 111,
   "id": "22a34832-0660-4a23-9d9c-cbc26747cd9c",
   "metadata": {},
   "outputs": [
    {
     "name": "stdout",
     "output_type": "stream",
     "text": [
      "final runtime was 81% faster than initial.\n",
      "final df memory usage was 92% less than initial.\n"
     ]
    }
   ],
   "source": [
    "# Initial = Polars without declared data types(initial) \n",
    "# Final = Polars with declared data types\n",
    "percent_diff(i_time=1.17, i_mem=0.368, f_time=0.220, f_mem=0.029)"
   ]
  },
  {
   "cell_type": "markdown",
   "id": "d56d7ab0-adfb-406c-a009-86065a7f4ba1",
   "metadata": {},
   "source": [
    "## Problem 3. Ingest big data files\n",
    "\n",
    "\n",
    "Let us focus on a bigger file, `labevents.csv.gz`, which is about 125x bigger than `admissions.csv.gz`."
   ]
  },
  {
   "cell_type": "markdown",
   "id": "6f6a69d9-e2f4-4efe-92a5-706daec64e98",
   "metadata": {},
   "source": [
    "##### Documentation\n",
    "The below code is bash. The size of lab events is 1.8 GB below that code are the first 10 rows of lab events using bash."
   ]
  },
  {
   "cell_type": "code",
   "execution_count": 37,
   "id": "edfd22f7-e1a5-4f5a-aca5-04ce598569f2",
   "metadata": {
    "tags": []
   },
   "outputs": [
    {
     "name": "stdout",
     "output_type": "stream",
     "text": [
      "-rwxr-xr-x 1 1.9G May 19 13:24 ./mimic/hosp/labevents.csv.gz\n"
     ]
    }
   ],
   "source": [
    "# Size of labevents as a csv.gz\n",
    "!ls -goh ./mimic/hosp/labevents.csv.gz"
   ]
  },
  {
   "cell_type": "markdown",
   "id": "b5a01b57-8d97-4107-aa33-8b64aa97b048",
   "metadata": {},
   "source": [
    "Display the first 10 lines of this file."
   ]
  },
  {
   "cell_type": "code",
   "execution_count": 38,
   "id": "c3b0364a-21d8-434f-9bba-5b35cbd47c15",
   "metadata": {
    "tags": []
   },
   "outputs": [
    {
     "name": "stdout",
     "output_type": "stream",
     "text": [
      "labevent_id,subject_id,hadm_id,specimen_id,itemid,order_provider_id,charttime,storetime,value,valuenum,valueuom,ref_range_lower,ref_range_upper,flag,priority,comments\n",
      "1,10000032,,45421181,51237,P28Z0X,2180-03-23 11:51:00,2180-03-23 15:15:00,1.4,1.4,,0.9,1.1,abnormal,ROUTINE,\n",
      "2,10000032,,45421181,51274,P28Z0X,2180-03-23 11:51:00,2180-03-23 15:15:00,___,15.1,sec,9.4,12.5,abnormal,ROUTINE,VERIFIED.\n",
      "3,10000032,,52958335,50853,P28Z0X,2180-03-23 11:51:00,2180-03-25 11:06:00,___,15,ng/mL,30,60,abnormal,ROUTINE,NEW ASSAY IN USE ___: DETECTS D2 AND D3 25-OH ACCURATELY.\n",
      "4,10000032,,52958335,50861,P28Z0X,2180-03-23 11:51:00,2180-03-23 16:40:00,102,102,IU/L,0,40,abnormal,ROUTINE,\n",
      "5,10000032,,52958335,50862,P28Z0X,2180-03-23 11:51:00,2180-03-23 16:40:00,3.3,3.3,g/dL,3.5,5.2,abnormal,ROUTINE,\n",
      "6,10000032,,52958335,50863,P28Z0X,2180-03-23 11:51:00,2180-03-23 16:40:00,109,109,IU/L,35,105,abnormal,ROUTINE,\n",
      "7,10000032,,52958335,50864,P28Z0X,2180-03-23 11:51:00,2180-03-23 16:40:00,___,8,ng/mL,0,8.7,,ROUTINE,MEASURED BY ___.\n",
      "8,10000032,,52958335,50868,P28Z0X,2180-03-23 11:51:00,2180-03-23 16:40:00,12,12,mEq/L,8,20,,ROUTINE,\n",
      "9,10000032,,52958335,50878,P28Z0X,2180-03-23 11:51:00,2180-03-23 16:40:00,143,143,IU/L,0,40,abnormal,ROUTINE,\n",
      "\n",
      "gzip: stdout: Broken pipe\n"
     ]
    }
   ],
   "source": [
    "# First 10 results of labevents\n",
    "!zcat < ./mimic/hosp/labevents.csv.gz | head -10"
   ]
  },
  {
   "cell_type": "markdown",
   "id": "58352877-c834-4488-8ea3-7360c347a754",
   "metadata": {},
   "source": [
    "### (A). Ingest `labevents.csv.gz` by `pd.read_csv`\n",
    "\n",
    "Try to ingest `labevents.csv.gz` using `pd.read_csv`. What happens? If it takes more than 5 minutes on your computer, then abort the program and report your findings. "
   ]
  },
  {
   "cell_type": "markdown",
   "id": "6b38359e-490c-499b-836a-5bd2a65d8332",
   "metadata": {},
   "source": [
    "### Answer 3A\n",
    "\n",
    "#### Pandas\n",
    "\n",
    "Pandas was able to read `labevents.csv.gz` within 5 minutes. The runtime to read the file was 2 minutes and the resulting data frame memory usage was 61 GB.\n",
    "\n",
    "final runtime was 32% faster than initial.\n",
    "final df memory usage was 3% more than initial.\n",
    "#### Polars\n",
    "\n",
    "Polars was able to read `labevents.csv.gz` within 5 min. The runtime to read the file was 1 minute and 22 seconds.\n",
    "\n",
    "#### Summary\n",
    "\n",
    "The runtime to read in the compressed csv, labevents, using Polars was 32% faster than Pandas, but the resulting memory usage of the dataframe was 3% more which is an acceptable tradeoff for the time savings."
   ]
  },
  {
   "cell_type": "markdown",
   "id": "faeb1385-10a0-4a2e-874b-3ef4612bd032",
   "metadata": {},
   "source": [
    "#### Description\n",
    "The compressed CSV labevents was read by pandas and polars. To make the memory usage consistent, the polars data frame was converted to a pandas data frame."
   ]
  },
  {
   "cell_type": "code",
   "execution_count": 39,
   "id": "63167f31-0294-4fcb-83ae-1c72eb4f3082",
   "metadata": {},
   "outputs": [
    {
     "name": "stdout",
     "output_type": "stream",
     "text": [
      "CPU times: user 1min 40s, sys: 21.1 s, total: 2min 1s\n",
      "Wall time: 2min 1s\n"
     ]
    }
   ],
   "source": [
    "%%time\n",
    "#Pandas read labevents.csv.gz\n",
    "df_pd_lab = pd.read_csv(\"./mimic/hosp/labevents.csv.gz\")"
   ]
  },
  {
   "cell_type": "code",
   "execution_count": 40,
   "id": "7ef0b2c5-2089-4c07-98ce-1e158498e30a",
   "metadata": {},
   "outputs": [
    {
     "name": "stdout",
     "output_type": "stream",
     "text": [
      "61.002 GB\n"
     ]
    }
   ],
   "source": [
    "print(round(sys.getsizeof(df_pd_lab)/10**9,3), \"GB\")"
   ]
  },
  {
   "cell_type": "code",
   "execution_count": 41,
   "id": "743772bf-85ae-423a-83d2-fa200e3964c3",
   "metadata": {},
   "outputs": [
    {
     "name": "stdout",
     "output_type": "stream",
     "text": [
      "CPU times: user 1min 48s, sys: 2min, total: 3min 48s\n",
      "Wall time: 1min 22s\n"
     ]
    }
   ],
   "source": [
    "%%time\n",
    "#Polars read labevents.csv.gz\n",
    "df_pl_lab = pl.read_csv(\"./mimic/hosp/labevents.csv.gz\").to_pandas()"
   ]
  },
  {
   "cell_type": "code",
   "execution_count": 42,
   "id": "4ea5bc13-a4e5-4a68-9999-9e27789ea6dc",
   "metadata": {},
   "outputs": [
    {
     "name": "stdout",
     "output_type": "stream",
     "text": [
      "62.998 GB\n"
     ]
    }
   ],
   "source": [
    "print(round(sys.getsizeof(df_pl_lab)/10**9,3), \"GB\")"
   ]
  },
  {
   "cell_type": "code",
   "execution_count": 112,
   "id": "bac4c4c5-3665-416b-b6a9-b030d986c483",
   "metadata": {},
   "outputs": [
    {
     "name": "stdout",
     "output_type": "stream",
     "text": [
      "final runtime was 32% faster than initial.\n",
      "final df memory usage was 3% more than initial.\n"
     ]
    }
   ],
   "source": [
    "# Initial: Pandas reading labevents\n",
    "# Final: Polars reading labevents\n",
    "percent_diff(\n",
    "  i_time=(2 * 60 + 1),\n",
    "  i_mem=61.002, \n",
    "  f_time=(1 * 60 + 22), \n",
    "  f_mem=62.998\n",
    ")"
   ]
  },
  {
   "cell_type": "markdown",
   "id": "d9088997-7a48-4b0b-b331-afab3e837925",
   "metadata": {},
   "source": [
    "### (B). Ingest selected columns of `labevents.csv.gz` by `pd.read_csv`\n",
    "\n",
    "Try to ingest only columns `subject_id`, `itemid`, `charttime`, and `valuenum` in `labevents.csv.gz` using `pd.read_csv`.  Does this solve the ingestion issue? (Hint: `usecols` argument in `pd.read_csv`.)"
   ]
  },
  {
   "cell_type": "markdown",
   "id": "70507694-27a6-4b55-bf11-3e9fe09db080",
   "metadata": {},
   "source": [
    "### Answer 3B\n",
    "\n",
    "#### Pandas\n",
    "\n",
    "The runtime to read selected columns of the file was 1 minute and 7 seconds and the resulting data frame memory usage was 11.817 GB. The runtime for reading selected columns in pandas was __45% faster__ and the resulting data frame memory usage was __81% smaller__ when compared the pandas reading all columns.\n",
    "\n",
    "#### Polars\n",
    "\n",
    "The runtime to read selected columns of the file was 44.8 seconds and the resulting data frame memory usage was 11.817 GB. The runtime for reading selected columns in polars was __74% faster__ and the resulting data frame memory usage was __81% smaller__ when compared the pandas reading all columns.\n",
    "\n",
    "#### Summary\n",
    "\n",
    "Again, Polars was the fastest method for reading in an selecting columns."
   ]
  },
  {
   "cell_type": "markdown",
   "id": "5b82518c-63d7-4fb6-8ff7-942b78218444",
   "metadata": {},
   "source": [
    "Description: While reading the compressed CSV file labevents using pandas, the columns were selected. This was replicated for polars as well. To make the memory usage consistent, the polars data frame was converted to a pandas data frame."
   ]
  },
  {
   "cell_type": "code",
   "execution_count": 113,
   "id": "1dfb276a-c541-4f33-9ca9-f3af10ca81b6",
   "metadata": {},
   "outputs": [
    {
     "name": "stdout",
     "output_type": "stream",
     "text": [
      "CPU times: user 1min 7s, sys: 2.13 s, total: 1min 9s\n",
      "Wall time: 1min 14s\n"
     ]
    }
   ],
   "source": [
    "%%time\n",
    "# Pandas Read select labevent columns\n",
    "df_pd_lab = pd.read_csv(\"./mimic/hosp/labevents.csv.gz\", usecols = lab_col)"
   ]
  },
  {
   "cell_type": "code",
   "execution_count": 114,
   "id": "93c0b15c-3210-473d-b0e9-617641318709",
   "metadata": {},
   "outputs": [
    {
     "name": "stdout",
     "output_type": "stream",
     "text": [
      "11.817 GB\n"
     ]
    }
   ],
   "source": [
    "print(round(sys.getsizeof(df_pd_lab)/10**9,3), \"GB\")"
   ]
  },
  {
   "cell_type": "code",
   "execution_count": 115,
   "id": "43021e01-cbae-468c-a647-d6efdfa5987b",
   "metadata": {},
   "outputs": [
    {
     "name": "stdout",
     "output_type": "stream",
     "text": [
      "final runtime was 45% faster than initial.\n",
      "final df memory usage was 81% less than initial.\n"
     ]
    }
   ],
   "source": [
    "# Initial: Pandas reading all columns\n",
    "# Final: Pandas reading selected columns\n",
    "percent_diff(\n",
    "  i_time= (2 * 60 + 1),\n",
    "  i_mem= 61.002,\n",
    "  f_time= (1 * 60 + 7),\n",
    "  f_mem= 11.817\n",
    ")"
   ]
  },
  {
   "cell_type": "code",
   "execution_count": 116,
   "id": "937558a2-7282-4d44-9e1a-95fbbc51e746",
   "metadata": {},
   "outputs": [
    {
     "name": "stdout",
     "output_type": "stream",
     "text": [
      "CPU times: user 39.8 s, sys: 19.8 s, total: 59.6 s\n",
      "Wall time: 30.9 s\n"
     ]
    }
   ],
   "source": [
    "%%time\n",
    "# Polars Read select labevent columns\n",
    "df_pl_lab = (\n",
    "  pl.read_csv(\"./mimic/hosp/labevents.csv.gz\", # read file\n",
    "    columns = lab_col) # Select columns\n",
    "    .to_pandas() # Convert pl.dataframe to pd.dataframe\n",
    ")"
   ]
  },
  {
   "cell_type": "code",
   "execution_count": 117,
   "id": "03b79984-ad4a-4803-b558-1821dc56437a",
   "metadata": {},
   "outputs": [
    {
     "name": "stdout",
     "output_type": "stream",
     "text": [
      "11.817 GB\n"
     ]
    }
   ],
   "source": [
    "print(round(sys.getsizeof(df_pl_lab)/10**9,3), \"GB\")"
   ]
  },
  {
   "cell_type": "code",
   "execution_count": 118,
   "id": "85f31ffa-e214-46b3-9e2d-39d9ba745559",
   "metadata": {},
   "outputs": [
    {
     "name": "stdout",
     "output_type": "stream",
     "text": [
      "final runtime was 74% faster than initial.\n",
      "final df memory usage was 81% less than initial.\n"
     ]
    }
   ],
   "source": [
    "# Initial: Pandas reading all columns\n",
    "# Final: Polars reading specific columns\n",
    "percent_diff(\n",
    "  i_time= (2 * 60 + 1),\n",
    "  i_mem= 61.002,\n",
    "  f_time= (30.9),\n",
    "  f_mem= 11.817\n",
    ")"
   ]
  },
  {
   "cell_type": "markdown",
   "id": "dd5c3479-c29f-4f4a-be2e-1cdad8bcb622",
   "metadata": {},
   "source": [
    "### (C). Ingest subset of `labevents.csv.gz`\n",
    "\n",
    "Back in BIOSTAT 203B, our first strategy to handle this big data file was to make a subset of the `labevents` data.  Read the [MIMIC documentation](https://mimic.mit.edu/docs/iv/modules/hosp/labevents/) for the content in data file `labevents.csv.gz`.\n",
    "\n",
    "As before, we will only be interested in the following lab items: creatinine (50912), potassium (50971), sodium (50983), chloride (50902), bicarbonate (50882), hematocrit (51221), white blood cell count (51301), and glucose (50931) and the following columns: `subject_id`, `itemid`, `charttime`, `valuenum`. \n",
    "\n",
    "Rerun the Bash command to extract these columns and rows from `labevents.csv.gz` and save the result to a new file `labevents_filtered.csv.gz` in the current working directory (Q2.3 of HW2). How long does it take?(_Updated 5/6: You may reuse the file you created last quarter and report the elapsed time from the last quarter for this part._)\n",
    "\n",
    "Display the first 10 lines of the new file `labevents_filtered.csv.gz`. How many lines are in this new file? How long does it take `pd.read_csv()` to ingest `labevents_filtered.csv.gz`?\n"
   ]
  },
  {
   "cell_type": "markdown",
   "id": "6718e8e0-c499-40d1-8ded-7e94db962c8b",
   "metadata": {},
   "source": [
    "### Answer 3C\n",
    "\n",
    "The runtime to select columns and filter `labevents` using Bash was 1 minute and 36 seconds and the runtime to ingest `labevents_filtered` was 10 seconds. The number of rows in the resulting dataset was 24,855,909."
   ]
  },
  {
   "cell_type": "markdown",
   "id": "07c4a7dc-2261-4612-ae9a-556b2c840dca",
   "metadata": {},
   "source": [
    "Description: the below bash code reads in the compressed CSV labevents using zcat, then is filtered by Rows that equal the necessary item IDs and finally select the columns. This is then saved to another compressed CSV called lab events filtered. After processing the data using bash, pandas was used to read the file that was created in bash. The first 10 rows of the file was displayed using pandas `head` function."
   ]
  },
  {
   "cell_type": "code",
   "execution_count": 65,
   "id": "e712a136-6b0d-46ab-8987-50ca1c04e49a",
   "metadata": {},
   "outputs": [
    {
     "name": "stderr",
     "output_type": "stream",
     "text": [
      "\n",
      "real\t1m36.863s\n",
      "user\t2m39.064s\n",
      "sys\t0m6.787s\n"
     ]
    },
    {
     "name": "stdout",
     "output_type": "stream",
     "text": [
      "complete\n"
     ]
    }
   ],
   "source": [
    "%%bash\n",
    "# Read labevents, select columns, and filter rows by itemid\n",
    "time(zcat < ./mimic/hosp/labevents.csv.gz | \\\n",
    "  awk -F, \\\n",
    "  'BEGIN {OFS = \",\"} {if (NR == 1 || $5 == 50912 || $5 == 50971 ||\n",
    "    $5 == 50983 || $5 == 50902 || $5 == 50882 || $5 == 51221 || \n",
    "    $5 == 51301 || $5 == 50931) {print $2, $5, $7, $10}}' | \\\n",
    "  gzip > labevents_filtered.csv.gz)\n",
    "echo \"complete\""
   ]
  },
  {
   "cell_type": "code",
   "execution_count": 66,
   "id": "fe0b341b-5c85-44ae-97ba-4b6e05befffc",
   "metadata": {},
   "outputs": [
    {
     "name": "stdout",
     "output_type": "stream",
     "text": [
      "CPU times: user 6.33 s, sys: 845 ms, total: 7.17 s\n",
      "Wall time: 10.2 s\n"
     ]
    }
   ],
   "source": [
    "%%time\n",
    "# Pandas read labevents_filtered.csv.gz\n",
    "df_pd_lab_filter = pd.read_csv(\"./labevents_filtered.csv.gz\")"
   ]
  },
  {
   "cell_type": "code",
   "execution_count": 67,
   "id": "6dd7fcbc-e370-4e73-9c50-3cc0080424ea",
   "metadata": {},
   "outputs": [
    {
     "data": {
      "text/html": [
       "<div>\n",
       "<style scoped>\n",
       "    .dataframe tbody tr th:only-of-type {\n",
       "        vertical-align: middle;\n",
       "    }\n",
       "\n",
       "    .dataframe tbody tr th {\n",
       "        vertical-align: top;\n",
       "    }\n",
       "\n",
       "    .dataframe thead th {\n",
       "        text-align: right;\n",
       "    }\n",
       "</style>\n",
       "<table border=\"1\" class=\"dataframe\">\n",
       "  <thead>\n",
       "    <tr style=\"text-align: right;\">\n",
       "      <th></th>\n",
       "      <th>subject_id</th>\n",
       "      <th>itemid</th>\n",
       "      <th>charttime</th>\n",
       "      <th>valuenum</th>\n",
       "    </tr>\n",
       "  </thead>\n",
       "  <tbody>\n",
       "    <tr>\n",
       "      <th>0</th>\n",
       "      <td>10000032</td>\n",
       "      <td>50882</td>\n",
       "      <td>2180-03-23 11:51:00</td>\n",
       "      <td>27.0</td>\n",
       "    </tr>\n",
       "    <tr>\n",
       "      <th>1</th>\n",
       "      <td>10000032</td>\n",
       "      <td>50902</td>\n",
       "      <td>2180-03-23 11:51:00</td>\n",
       "      <td>101.0</td>\n",
       "    </tr>\n",
       "    <tr>\n",
       "      <th>2</th>\n",
       "      <td>10000032</td>\n",
       "      <td>50912</td>\n",
       "      <td>2180-03-23 11:51:00</td>\n",
       "      <td>0.4</td>\n",
       "    </tr>\n",
       "    <tr>\n",
       "      <th>3</th>\n",
       "      <td>10000032</td>\n",
       "      <td>50971</td>\n",
       "      <td>2180-03-23 11:51:00</td>\n",
       "      <td>3.7</td>\n",
       "    </tr>\n",
       "    <tr>\n",
       "      <th>4</th>\n",
       "      <td>10000032</td>\n",
       "      <td>50983</td>\n",
       "      <td>2180-03-23 11:51:00</td>\n",
       "      <td>136.0</td>\n",
       "    </tr>\n",
       "    <tr>\n",
       "      <th>5</th>\n",
       "      <td>10000032</td>\n",
       "      <td>50931</td>\n",
       "      <td>2180-03-23 11:51:00</td>\n",
       "      <td>95.0</td>\n",
       "    </tr>\n",
       "    <tr>\n",
       "      <th>6</th>\n",
       "      <td>10000032</td>\n",
       "      <td>51221</td>\n",
       "      <td>2180-03-23 11:51:00</td>\n",
       "      <td>45.4</td>\n",
       "    </tr>\n",
       "    <tr>\n",
       "      <th>7</th>\n",
       "      <td>10000032</td>\n",
       "      <td>51301</td>\n",
       "      <td>2180-03-23 11:51:00</td>\n",
       "      <td>3.0</td>\n",
       "    </tr>\n",
       "    <tr>\n",
       "      <th>8</th>\n",
       "      <td>10000032</td>\n",
       "      <td>51221</td>\n",
       "      <td>2180-05-06 22:25:00</td>\n",
       "      <td>42.6</td>\n",
       "    </tr>\n",
       "    <tr>\n",
       "      <th>9</th>\n",
       "      <td>10000032</td>\n",
       "      <td>51301</td>\n",
       "      <td>2180-05-06 22:25:00</td>\n",
       "      <td>5.0</td>\n",
       "    </tr>\n",
       "  </tbody>\n",
       "</table>\n",
       "</div>"
      ],
      "text/plain": [
       "   subject_id  itemid            charttime  valuenum\n",
       "0    10000032   50882  2180-03-23 11:51:00      27.0\n",
       "1    10000032   50902  2180-03-23 11:51:00     101.0\n",
       "2    10000032   50912  2180-03-23 11:51:00       0.4\n",
       "3    10000032   50971  2180-03-23 11:51:00       3.7\n",
       "4    10000032   50983  2180-03-23 11:51:00     136.0\n",
       "5    10000032   50931  2180-03-23 11:51:00      95.0\n",
       "6    10000032   51221  2180-03-23 11:51:00      45.4\n",
       "7    10000032   51301  2180-03-23 11:51:00       3.0\n",
       "8    10000032   51221  2180-05-06 22:25:00      42.6\n",
       "9    10000032   51301  2180-05-06 22:25:00       5.0"
      ]
     },
     "execution_count": 67,
     "metadata": {},
     "output_type": "execute_result"
    }
   ],
   "source": [
    "df_pd_lab_filter.head(10)"
   ]
  },
  {
   "cell_type": "code",
   "execution_count": 68,
   "id": "c0cf2d10-012e-4606-aee9-9c494cffaa0f",
   "metadata": {},
   "outputs": [
    {
     "data": {
      "text/plain": [
       "(24855909, 4)"
      ]
     },
     "execution_count": 68,
     "metadata": {},
     "output_type": "execute_result"
    }
   ],
   "source": [
    "df_pd_lab_filter.shape"
   ]
  },
  {
   "cell_type": "code",
   "execution_count": 69,
   "id": "4d2fb690-7335-42cb-a335-5f7bd7c4eb12",
   "metadata": {},
   "outputs": [
    {
     "name": "stdout",
     "output_type": "stream",
     "text": [
      "2.486 GB\n"
     ]
    }
   ],
   "source": [
    "print(round(sys.getsizeof(df_pd_lab_filter)/10**9,3), \"GB\")"
   ]
  },
  {
   "cell_type": "markdown",
   "id": "35433429-4df8-4d6f-adbf-93dbb35b7ac2",
   "metadata": {},
   "source": [
    "### (D). Review\n",
    "\n",
    "Write several sentences on what Apache Arrow, the Parquet format, and DuckDB are. Imagine you want to explain it to a layman in an elevator, as you did before. (It's OK to copy-paste the sentences from your previous submission.)\n",
    "\n",
    "Also, now is the good time to review [basic SQL commands](https://ucla-biostat-203b.github.io/2024winter/slides/12-dbplyr/dbintro.html) covered in BIOSTAT 203B."
   ]
  },
  {
   "cell_type": "markdown",
   "id": "3661c277-d9ed-4d94-be8c-88d72b386cbf",
   "metadata": {},
   "source": [
    "### Answer 3D\n",
    "\n",
    "#### Apache Arrow\n",
    "\n",
    "Apache Arrow is fast. By organizing data in columnar format and reducing redundant operations, it is able to accomplish similar tasks as pandas in a fraction of the time ([Apache Arrow](https://arrow.apache.org/overview/)).\n",
    "\n",
    "#### Parquet Format\n",
    "\n",
    "Parquet is an efficient storage format. It stores data in a columnar format efficiently by creating encoding dictionaries and bit-packing, allowing it be faster and smaller than csv files ([Apache Parquet](https://parquet.apache.org/docs/file-format/)).\n",
    "\n",
    "#### DuckDB\n",
    "\n",
    "DuckDB is a fast and portable database management system. DuckDB can connect to database servers or be server-less, performing SQL operations on large files and tables while being memory and time efficient. It also has support across a wide range of languages.([DuckDB](https://duckdb.org/why_duckdb.html#:~:text=DuckDB%20offers%20a%20flexible%20extension,protocols%20are%20implemented%20as%20extensions.)).\n"
   ]
  },
  {
   "cell_type": "markdown",
   "id": "5ff21425-0099-419e-9ff1-575719c54050",
   "metadata": {},
   "source": [
    "### (E). Ingest `labevents.csv.gz` by Apache Arrow (modified 5/6)\n",
    "\n",
    "Our second strategy again is to use [Apache Arrow](https://arrow.apache.org/) for larger-than-memory data analytics. We will use the package `pyarrow`. Unlike in R, this package works with the `csv.gz` format. We don't need to keep the decompressed data on disk. We could just use `dplyr` verbs in R, but here, we need a different set of commands. The core idea behind the commands are still similar, though. There is one notable difference in approach: \n",
    "\n",
    "- R's `arrow` package allowed lazy evaluation but required `csv` file to be decompressed beforehand. \n",
    "- On the other hand, `pyarrow` allows `csv.gz` format, but lazy evaluation is not available. For larger-than-memory data, streaming approach can be used.\n",
    "\n",
    "Follow these steps to ingest the data:\n",
    "- Use [`pyarrow.csv.read_csv`](https://arrow.apache.org/docs/python/generated/pyarrow.csv.read_csv.html) to read in `labevents.csv.gz`. It creates an object of type [`pyarrow.Table`](https://arrow.apache.org/docs/python/generated/pyarrow.Table.html). _If this does not work on your computer, state that fact. It's OK to not complete this part in that case. However, you still need the `filter_table()` function for the next part. It's still recommend to _\n",
    "\n",
    "- Define a function `filter_table()` that takes in a `pyarrow.Table` as an argument, and returns `pyarrow.Table` doing the following:\n",
    "    - Select columns using the [`.select()`](https://arrow.apache.org/docs/python/generated/pyarrow.Table.html#pyarrow.Table.select) method. \n",
    "    - Filter the rows based on the column `itemid` using the [`.filter()`](https://arrow.apache.org/docs/python/generated/pyarrow.Table.html#pyarrow.Table.filter) method. You should use [`Expression`](https://arrow.apache.org/docs/python/generated/pyarrow.dataset.Expression) for improved performance. In particular, use the `isin()` method for constructing it.\n",
    "    \n",
    "- Finally, let's obtain the result in `pandas` `DataFrame` using the method `.to_pandas()`. \n",
    "\n",
    "How long does the ingest+select+filter process take? Display the number of rows and the first 10 rows of the result dataframe, and make sure they match those of (C).\n"
   ]
  },
  {
   "cell_type": "markdown",
   "id": "157ed9e5-96d2-4b2e-b5d1-6823bd3a0a0f",
   "metadata": {},
   "source": [
    "### Answer 3E\n",
    "\n",
    "#### Apache Arrow\n",
    "\n",
    "The runtime to read \"labevents.csv.gz\", select columns, and filter rows was 1 minute 16 seconds and the resulting data frame memory usage was 0.606 GB. "
   ]
  },
  {
   "cell_type": "markdown",
   "id": "e4bb33a4-4497-4451-96e0-3c74a606f1a2",
   "metadata": {},
   "source": [
    "Description: homework three was changed and now requires a function to be used to filter a pyarrow table. Therefore, filter_table was used to select columns and filter rose by items in the table and return a filter table. Inside the function are the columns and item IDs. We wish to filter the table. The arrow functions select and filter were used to filter the data set. In order to use the filter function, additional arrow functions were needed such as `is_in` and `field` to specify which column to filter by and format the input in a compatible way."
   ]
  },
  {
   "cell_type": "code",
   "execution_count": 70,
   "id": "70e2c578-19aa-4622-9f9a-8c5f294d6fc9",
   "metadata": {},
   "outputs": [],
   "source": [
    "def filter_table(arrow_tbl):\n",
    "  \"\"\"\n",
    "  Select columns in columns_filter and filter rows by items in items_filter from\n",
    "  a pyarrows table and return a filtered pyarrows table.\n",
    "  Args:\n",
    "    arrow_tbl: A pa.Table of labevents.csv.gz\n",
    "  Return:\n",
    "    pa_tbl_ftr: A filtered pa.Table of labevents.csv.gz\n",
    "  \"\"\"\n",
    "  lab_col = ['subject_id', 'itemid', 'charttime', 'valuenum']\n",
    "  lab_itemid = [50912, 50971, 50983, 50902, 50882, 51221, 51301, 50931]\n",
    "  pa_tbl_ftr = (\n",
    "    arrow_tbl # pa.dataframe\n",
    "    .select(lab_col) # select columns\n",
    "    .filter(pc.is_in(pc.field(\"itemid\"), pa.array(lab_itemid))) # filter by itemid\n",
    "  )\n",
    "  return pa_tbl_ftr"
   ]
  },
  {
   "cell_type": "code",
   "execution_count": 71,
   "id": "55f7214c-7422-43a3-9590-3ffdd285912d",
   "metadata": {},
   "outputs": [
    {
     "name": "stdout",
     "output_type": "stream",
     "text": [
      "CPU times: user 1min 14s, sys: 18 s, total: 1min 32s\n",
      "Wall time: 20 s\n"
     ]
    }
   ],
   "source": [
    "%%time\n",
    "df_pa_lab_ftr = csv.read_csv(pth_hsp + \"labevents.csv.gz\") # read file\n",
    "df_pa_lab_ftr = filter_table(df_pa_lab_ftr).to_pandas()\n"
   ]
  },
  {
   "cell_type": "code",
   "execution_count": 72,
   "id": "2ea72bd4-b68d-49c1-af86-599b6d55a885",
   "metadata": {},
   "outputs": [
    {
     "name": "stdout",
     "output_type": "stream",
     "text": [
      "0.795 GB\n"
     ]
    }
   ],
   "source": [
    "print(round(sys.getsizeof(df_pa_lab_ftr)/10**9,3), \"GB\")"
   ]
  },
  {
   "cell_type": "code",
   "execution_count": 73,
   "id": "e0cd45cc-6736-440d-8f8e-4e2174865bc5",
   "metadata": {},
   "outputs": [
    {
     "data": {
      "text/plain": [
       "(24855909, 4)"
      ]
     },
     "execution_count": 73,
     "metadata": {},
     "output_type": "execute_result"
    }
   ],
   "source": [
    "df_pa_lab_ftr.shape"
   ]
  },
  {
   "cell_type": "code",
   "execution_count": 74,
   "id": "c6175eab-45d2-4ed1-af2c-395bcc70d520",
   "metadata": {},
   "outputs": [
    {
     "data": {
      "text/html": [
       "<div>\n",
       "<style scoped>\n",
       "    .dataframe tbody tr th:only-of-type {\n",
       "        vertical-align: middle;\n",
       "    }\n",
       "\n",
       "    .dataframe tbody tr th {\n",
       "        vertical-align: top;\n",
       "    }\n",
       "\n",
       "    .dataframe thead th {\n",
       "        text-align: right;\n",
       "    }\n",
       "</style>\n",
       "<table border=\"1\" class=\"dataframe\">\n",
       "  <thead>\n",
       "    <tr style=\"text-align: right;\">\n",
       "      <th></th>\n",
       "      <th>subject_id</th>\n",
       "      <th>itemid</th>\n",
       "      <th>charttime</th>\n",
       "      <th>valuenum</th>\n",
       "    </tr>\n",
       "  </thead>\n",
       "  <tbody>\n",
       "    <tr>\n",
       "      <th>0</th>\n",
       "      <td>10000032</td>\n",
       "      <td>50882</td>\n",
       "      <td>2180-03-23 11:51:00</td>\n",
       "      <td>27.0</td>\n",
       "    </tr>\n",
       "    <tr>\n",
       "      <th>1</th>\n",
       "      <td>10000032</td>\n",
       "      <td>50902</td>\n",
       "      <td>2180-03-23 11:51:00</td>\n",
       "      <td>101.0</td>\n",
       "    </tr>\n",
       "    <tr>\n",
       "      <th>2</th>\n",
       "      <td>10000032</td>\n",
       "      <td>50912</td>\n",
       "      <td>2180-03-23 11:51:00</td>\n",
       "      <td>0.4</td>\n",
       "    </tr>\n",
       "    <tr>\n",
       "      <th>3</th>\n",
       "      <td>10000032</td>\n",
       "      <td>50971</td>\n",
       "      <td>2180-03-23 11:51:00</td>\n",
       "      <td>3.7</td>\n",
       "    </tr>\n",
       "    <tr>\n",
       "      <th>4</th>\n",
       "      <td>10000032</td>\n",
       "      <td>50983</td>\n",
       "      <td>2180-03-23 11:51:00</td>\n",
       "      <td>136.0</td>\n",
       "    </tr>\n",
       "    <tr>\n",
       "      <th>5</th>\n",
       "      <td>10000032</td>\n",
       "      <td>50931</td>\n",
       "      <td>2180-03-23 11:51:00</td>\n",
       "      <td>95.0</td>\n",
       "    </tr>\n",
       "    <tr>\n",
       "      <th>6</th>\n",
       "      <td>10000032</td>\n",
       "      <td>51221</td>\n",
       "      <td>2180-03-23 11:51:00</td>\n",
       "      <td>45.4</td>\n",
       "    </tr>\n",
       "    <tr>\n",
       "      <th>7</th>\n",
       "      <td>10000032</td>\n",
       "      <td>51301</td>\n",
       "      <td>2180-03-23 11:51:00</td>\n",
       "      <td>3.0</td>\n",
       "    </tr>\n",
       "    <tr>\n",
       "      <th>8</th>\n",
       "      <td>10000032</td>\n",
       "      <td>51221</td>\n",
       "      <td>2180-05-06 22:25:00</td>\n",
       "      <td>42.6</td>\n",
       "    </tr>\n",
       "    <tr>\n",
       "      <th>9</th>\n",
       "      <td>10000032</td>\n",
       "      <td>51301</td>\n",
       "      <td>2180-05-06 22:25:00</td>\n",
       "      <td>5.0</td>\n",
       "    </tr>\n",
       "  </tbody>\n",
       "</table>\n",
       "</div>"
      ],
      "text/plain": [
       "   subject_id  itemid           charttime  valuenum\n",
       "0    10000032   50882 2180-03-23 11:51:00      27.0\n",
       "1    10000032   50902 2180-03-23 11:51:00     101.0\n",
       "2    10000032   50912 2180-03-23 11:51:00       0.4\n",
       "3    10000032   50971 2180-03-23 11:51:00       3.7\n",
       "4    10000032   50983 2180-03-23 11:51:00     136.0\n",
       "5    10000032   50931 2180-03-23 11:51:00      95.0\n",
       "6    10000032   51221 2180-03-23 11:51:00      45.4\n",
       "7    10000032   51301 2180-03-23 11:51:00       3.0\n",
       "8    10000032   51221 2180-05-06 22:25:00      42.6\n",
       "9    10000032   51301 2180-05-06 22:25:00       5.0"
      ]
     },
     "execution_count": 74,
     "metadata": {},
     "output_type": "execute_result"
    }
   ],
   "source": [
    "df_pa_lab_ftr.head(10)"
   ]
  },
  {
   "cell_type": "markdown",
   "id": "3349e873-3c30-4650-96bc-02ef9b13dbe1",
   "metadata": {},
   "source": [
    "### (F). Streaming data (added 5/6)\n",
    "\n",
    "When working with the `csv.gz` file, the entire file will need to be decompressed in memory, which might not be feasible. You can stream data, and processing them in several chunks that fits into the memory.\n",
    "\n",
    "If the function `filter_table()` is defined correctly, the following should successfully ingest the data. Discuss what this code is doing in markdown. Also, add sufficient comment to the code. "
   ]
  },
  {
   "cell_type": "markdown",
   "id": "0dbe37d8-521a-4cd1-924e-7854095ec686",
   "metadata": {},
   "source": [
    "### Answer 3F\n",
    "\n",
    "#### Apache Arrow (Read, Select, Filter, then Convert to parquet)\n",
    "\n",
    "The runtime to read, select, filter `labevents.csv.gz` in batches and write as a parquet was 80 seconds and the resulting parquet file was 101 MB."
   ]
  },
  {
   "cell_type": "markdown",
   "id": "e26033f0-d6c1-48c7-8ef5-574e6cfd1642",
   "metadata": {},
   "source": [
    "Description: Below is an additional way to read in the compressed CSV of labevents. Similar to the base python function `with open`, arrow has a similar function called `open_csv`. Unlike the previous arrow method, the file is streamed into the python environment instead of all at once. This allows for the file to be batched. Batches consume less memory than reading in the whole data set at once; Therefore, for systems with less resources, those systems are able to open the file. This is done by reading in each batch, then filtering that batch and appending it to a python object. The final object is a arrow table. The arrow table is converted to a pandas data frame."
   ]
  },
  {
   "cell_type": "code",
   "execution_count": 75,
   "id": "4d27c812-670f-4793-a022-af6e43cdd672",
   "metadata": {},
   "outputs": [
    {
     "name": "stdout",
     "output_type": "stream",
     "text": [
      "CPU times: user 1min 16s, sys: 8.31 s, total: 1min 25s\n",
      "Wall time: 59.9 s\n"
     ]
    }
   ],
   "source": [
    "%%time\n",
    "\n",
    "# Path to labevents\n",
    "in_path = './mimic/hosp/labevents.csv.gz'\n",
    "\n",
    "# initialize filtered object\n",
    "filtered = None\n",
    "# open csv as reader\n",
    "with csv.open_csv(in_path) as reader:\n",
    "  # for each partition in the reader.\n",
    "  for next_chunk in reader:\n",
    "    # if the partition is empty stop loop\n",
    "    if next_chunk is None:\n",
    "      break\n",
    "    # Convert chunk/partition into a table\n",
    "    next_table = pa.Table.from_batches([next_chunk])\n",
    "    # Filter that chunk/partition by filter_table\n",
    "    next_subset = filter_table(next_table)\n",
    "    # For the first chunk, have the filtered chunk assigned to filtered.\n",
    "    if filtered is None:\n",
    "      filtered = next_subset\n",
    "    # Otherwise append that chuck to the bottom of the filtered\n",
    "    else:\n",
    "      filtered = pa.concat_tables([filtered, next_subset])\n",
    "\n",
    "filtered_df = filtered.to_pandas()"
   ]
  },
  {
   "cell_type": "code",
   "execution_count": 76,
   "id": "e9873ffe-0c9f-43ef-9841-5cf9a1699c71",
   "metadata": {},
   "outputs": [
    {
     "name": "stdout",
     "output_type": "stream",
     "text": [
      "0.795 GB\n"
     ]
    }
   ],
   "source": [
    "print(round(sys.getsizeof(filtered_df)/10**9,3), \"GB\")"
   ]
  },
  {
   "cell_type": "code",
   "execution_count": 77,
   "id": "c3b2558e-60ed-4322-a0ea-0f127accf98b",
   "metadata": {},
   "outputs": [
    {
     "data": {
      "text/html": [
       "<div>\n",
       "<style scoped>\n",
       "    .dataframe tbody tr th:only-of-type {\n",
       "        vertical-align: middle;\n",
       "    }\n",
       "\n",
       "    .dataframe tbody tr th {\n",
       "        vertical-align: top;\n",
       "    }\n",
       "\n",
       "    .dataframe thead th {\n",
       "        text-align: right;\n",
       "    }\n",
       "</style>\n",
       "<table border=\"1\" class=\"dataframe\">\n",
       "  <thead>\n",
       "    <tr style=\"text-align: right;\">\n",
       "      <th></th>\n",
       "      <th>subject_id</th>\n",
       "      <th>itemid</th>\n",
       "      <th>charttime</th>\n",
       "      <th>valuenum</th>\n",
       "    </tr>\n",
       "  </thead>\n",
       "  <tbody>\n",
       "    <tr>\n",
       "      <th>0</th>\n",
       "      <td>10000032</td>\n",
       "      <td>50882</td>\n",
       "      <td>2180-03-23 11:51:00</td>\n",
       "      <td>27.0</td>\n",
       "    </tr>\n",
       "    <tr>\n",
       "      <th>1</th>\n",
       "      <td>10000032</td>\n",
       "      <td>50902</td>\n",
       "      <td>2180-03-23 11:51:00</td>\n",
       "      <td>101.0</td>\n",
       "    </tr>\n",
       "    <tr>\n",
       "      <th>2</th>\n",
       "      <td>10000032</td>\n",
       "      <td>50912</td>\n",
       "      <td>2180-03-23 11:51:00</td>\n",
       "      <td>0.4</td>\n",
       "    </tr>\n",
       "    <tr>\n",
       "      <th>3</th>\n",
       "      <td>10000032</td>\n",
       "      <td>50971</td>\n",
       "      <td>2180-03-23 11:51:00</td>\n",
       "      <td>3.7</td>\n",
       "    </tr>\n",
       "    <tr>\n",
       "      <th>4</th>\n",
       "      <td>10000032</td>\n",
       "      <td>50983</td>\n",
       "      <td>2180-03-23 11:51:00</td>\n",
       "      <td>136.0</td>\n",
       "    </tr>\n",
       "    <tr>\n",
       "      <th>5</th>\n",
       "      <td>10000032</td>\n",
       "      <td>50931</td>\n",
       "      <td>2180-03-23 11:51:00</td>\n",
       "      <td>95.0</td>\n",
       "    </tr>\n",
       "    <tr>\n",
       "      <th>6</th>\n",
       "      <td>10000032</td>\n",
       "      <td>51221</td>\n",
       "      <td>2180-03-23 11:51:00</td>\n",
       "      <td>45.4</td>\n",
       "    </tr>\n",
       "    <tr>\n",
       "      <th>7</th>\n",
       "      <td>10000032</td>\n",
       "      <td>51301</td>\n",
       "      <td>2180-03-23 11:51:00</td>\n",
       "      <td>3.0</td>\n",
       "    </tr>\n",
       "    <tr>\n",
       "      <th>8</th>\n",
       "      <td>10000032</td>\n",
       "      <td>51221</td>\n",
       "      <td>2180-05-06 22:25:00</td>\n",
       "      <td>42.6</td>\n",
       "    </tr>\n",
       "    <tr>\n",
       "      <th>9</th>\n",
       "      <td>10000032</td>\n",
       "      <td>51301</td>\n",
       "      <td>2180-05-06 22:25:00</td>\n",
       "      <td>5.0</td>\n",
       "    </tr>\n",
       "  </tbody>\n",
       "</table>\n",
       "</div>"
      ],
      "text/plain": [
       "   subject_id  itemid           charttime  valuenum\n",
       "0    10000032   50882 2180-03-23 11:51:00      27.0\n",
       "1    10000032   50902 2180-03-23 11:51:00     101.0\n",
       "2    10000032   50912 2180-03-23 11:51:00       0.4\n",
       "3    10000032   50971 2180-03-23 11:51:00       3.7\n",
       "4    10000032   50983 2180-03-23 11:51:00     136.0\n",
       "5    10000032   50931 2180-03-23 11:51:00      95.0\n",
       "6    10000032   51221 2180-03-23 11:51:00      45.4\n",
       "7    10000032   51301 2180-03-23 11:51:00       3.0\n",
       "8    10000032   51221 2180-05-06 22:25:00      42.6\n",
       "9    10000032   51301 2180-05-06 22:25:00       5.0"
      ]
     },
     "execution_count": 77,
     "metadata": {},
     "output_type": "execute_result"
    }
   ],
   "source": [
    "filtered_df.head(10)"
   ]
  },
  {
   "cell_type": "markdown",
   "id": "c73ff444-120b-4236-8939-639c6f6317c6",
   "metadata": {},
   "source": [
    "### (G). Convert `labevents.csv.gz` to Parquet format and ingest/select/filter\n",
    "\n",
    "Re-write the csv.gz file `labevents.csv.gz` in the binary Parquet format using the code below. Add comments to the code. How large is the Parquet file(s)?"
   ]
  },
  {
   "cell_type": "markdown",
   "id": "3cb4242c-b17e-4a56-bcde-3e62147b3e2d",
   "metadata": {
    "tags": []
   },
   "source": [
    "### Answer 3G\n",
    "\n",
    "The resulting parquet file from the below code was 2.0 gb which is 5% more than the csv.gz counterpart. This is still a good result because the parquet file is not compressed and is faster to load than csv.gz because it does not have to be decompressed when using some libraries.\n",
    "\n",
    "To filter the parquet using pyarrow, the runtime was 5.32 seconds and the memory usage was 0.795 GB. Using pyarrow to filter a parquet file was 91% faster than filtering on the compressed csv file."
   ]
  },
  {
   "cell_type": "markdown",
   "id": "0ce71ef3-6e25-4790-9114-31f717f8af03",
   "metadata": {},
   "source": [
    "#### Documentation\n",
    "\n",
    "PyArrow was used to stream chunks from the compressed csv file, labevents, to a parquet file using `open_csv` to stream in the data and `ParquetWriter` to steam the chucks into a parquet file format. Similar to the base python function with open, arrow has a similar function called `open_csv`. The file is streamed into the python environment instead of all at once. This allows for the file to be batched. Batches consume less memory than reading in the whole data set at once; Therefore, for systems with less resources, those systems are able to open the file. To stream the batches into a parquet file format, the object, `writer`, is initialized to using `ParquetWriter` which is a class that allows for iterative building of a parquet file. Each batch is added to this oject class and once the file is created, the files is closed."
   ]
  },
  {
   "cell_type": "code",
   "execution_count": 90,
   "id": "2addd9ed-34d5-4404-b60f-1e2c418d1c77",
   "metadata": {},
   "outputs": [
    {
     "name": "stdout",
     "output_type": "stream",
     "text": [
      "CPU times: user 1min 43s, sys: 5.81 s, total: 1min 49s\n",
      "Wall time: 1min 29s\n"
     ]
    }
   ],
   "source": [
    "%%time\n",
    "# Set the path to the symbolic link directory and labevents\n",
    "in_path = './mimic/hosp/labevents.csv.gz'\n",
    "# Set the save parquet path\n",
    "out_path = './labevents.parquet'\n",
    "\n",
    "# Initialize the object.\n",
    "writer = None\n",
    "# Stream the compressed csv to the python object reader\n",
    "with csv.open_csv(in_path) as reader:\n",
    "    # Loop through each chuck from the streamed object, reader.\n",
    "    for next_chunk in reader:\n",
    "        # stop if the chunck is the empty which is true when at end of stream\n",
    "        if next_chunk is None:\n",
    "            break\n",
    "        # If writer is empty,\n",
    "        # initialize object, writer, for incrementally building a Parquet file.\n",
    "        if writer is None:\n",
    "            writer = pq.ParquetWriter(out_path, next_chunk.schema)\n",
    "        # For each chunk, add the chunk to next_table\n",
    "        next_table = pa.Table.from_batches([next_chunk])\n",
    "        # For each chunk, write write table as parquet using the\n",
    "        # object, writer which was initialized when it was first empty.\n",
    "        writer.write_table(next_table)\n",
    "writer.close() # Close the streaming to prevent errors and improve security."
   ]
  },
  {
   "cell_type": "code",
   "execution_count": 91,
   "id": "609197b5-adef-4e93-9896-24d6ce2b88a5",
   "metadata": {
    "tags": []
   },
   "outputs": [
    {
     "name": "stdout",
     "output_type": "stream",
     "text": [
      "-rw-r--r-- 1 2.0G May 19 16:45 ./labevents.parquet\n"
     ]
    }
   ],
   "source": [
    "!ls -goh ./labevents.parquet"
   ]
  },
  {
   "cell_type": "code",
   "execution_count": 92,
   "id": "1aa57b7c-f5da-4df5-b170-8b1cda9e96f8",
   "metadata": {
    "tags": []
   },
   "outputs": [
    {
     "name": "stdout",
     "output_type": "stream",
     "text": [
      "-rwxr-xr-x 1 1.9G May 19 13:24 ./mimic/hosp/labevents.csv.gz\n"
     ]
    }
   ],
   "source": [
    "!ls -goh ./mimic/hosp/labevents.csv.gz"
   ]
  },
  {
   "cell_type": "code",
   "execution_count": 93,
   "id": "95fcf94f-1753-4774-a4c4-8053c6bdfc5b",
   "metadata": {
    "tags": []
   },
   "outputs": [
    {
     "name": "stdout",
     "output_type": "stream",
     "text": [
      "final df memory usage was 5% more than initial.\n"
     ]
    }
   ],
   "source": [
    "# Initial is labevents.csv.gz\n",
    "# Final is labevents.parquet\n",
    "percent_diff(\n",
    "    i_mem = 1.9,\n",
    "    f_mem = 2.0\n",
    ")"
   ]
  },
  {
   "cell_type": "code",
   "execution_count": 124,
   "id": "f7b64e70-b392-492c-ac5b-8fa9aad7181b",
   "metadata": {
    "tags": []
   },
   "outputs": [
    {
     "name": "stdout",
     "output_type": "stream",
     "text": [
      "CPU times: user 32.1 s, sys: 13.5 s, total: 45.6 s\n",
      "Wall time: 5.32 s\n"
     ]
    }
   ],
   "source": [
    "%%time\n",
    "df_pa_lab_ftr = (\n",
    "  pq.read_table('./labevents.parquet') # read labevents.parquet\n",
    "  .select(lab_col) # select columns\n",
    "  .filter(pc.is_in(pc.field(\"itemid\"), pa.array(lab_itemid))) # Filter by itemid\n",
    "  .sort_by([(\"subject_id\", \"ascending\"),(\"charttime\", \"ascending\")])\n",
    "  .to_pandas() # Convert to pd.dataframe\n",
    ")"
   ]
  },
  {
   "cell_type": "code",
   "execution_count": 125,
   "id": "b116f691-82e5-4098-ae54-456e03797758",
   "metadata": {
    "tags": []
   },
   "outputs": [
    {
     "name": "stdout",
     "output_type": "stream",
     "text": [
      "0.795 GB\n"
     ]
    }
   ],
   "source": [
    "print(round(sys.getsizeof(df_pa_lab_ftr)/10**9,3), \"GB\")"
   ]
  },
  {
   "cell_type": "code",
   "execution_count": 126,
   "id": "c34a701d-32d7-4d58-aac8-8571f8023d78",
   "metadata": {
    "tags": []
   },
   "outputs": [
    {
     "data": {
      "text/html": [
       "<div>\n",
       "<style scoped>\n",
       "    .dataframe tbody tr th:only-of-type {\n",
       "        vertical-align: middle;\n",
       "    }\n",
       "\n",
       "    .dataframe tbody tr th {\n",
       "        vertical-align: top;\n",
       "    }\n",
       "\n",
       "    .dataframe thead th {\n",
       "        text-align: right;\n",
       "    }\n",
       "</style>\n",
       "<table border=\"1\" class=\"dataframe\">\n",
       "  <thead>\n",
       "    <tr style=\"text-align: right;\">\n",
       "      <th></th>\n",
       "      <th>subject_id</th>\n",
       "      <th>itemid</th>\n",
       "      <th>charttime</th>\n",
       "      <th>valuenum</th>\n",
       "    </tr>\n",
       "  </thead>\n",
       "  <tbody>\n",
       "    <tr>\n",
       "      <th>0</th>\n",
       "      <td>10000032</td>\n",
       "      <td>50882</td>\n",
       "      <td>2180-03-23 11:51:00</td>\n",
       "      <td>27.0</td>\n",
       "    </tr>\n",
       "    <tr>\n",
       "      <th>1</th>\n",
       "      <td>10000032</td>\n",
       "      <td>50902</td>\n",
       "      <td>2180-03-23 11:51:00</td>\n",
       "      <td>101.0</td>\n",
       "    </tr>\n",
       "    <tr>\n",
       "      <th>2</th>\n",
       "      <td>10000032</td>\n",
       "      <td>50912</td>\n",
       "      <td>2180-03-23 11:51:00</td>\n",
       "      <td>0.4</td>\n",
       "    </tr>\n",
       "    <tr>\n",
       "      <th>3</th>\n",
       "      <td>10000032</td>\n",
       "      <td>50971</td>\n",
       "      <td>2180-03-23 11:51:00</td>\n",
       "      <td>3.7</td>\n",
       "    </tr>\n",
       "    <tr>\n",
       "      <th>4</th>\n",
       "      <td>10000032</td>\n",
       "      <td>50983</td>\n",
       "      <td>2180-03-23 11:51:00</td>\n",
       "      <td>136.0</td>\n",
       "    </tr>\n",
       "    <tr>\n",
       "      <th>5</th>\n",
       "      <td>10000032</td>\n",
       "      <td>50931</td>\n",
       "      <td>2180-03-23 11:51:00</td>\n",
       "      <td>95.0</td>\n",
       "    </tr>\n",
       "    <tr>\n",
       "      <th>6</th>\n",
       "      <td>10000032</td>\n",
       "      <td>51221</td>\n",
       "      <td>2180-03-23 11:51:00</td>\n",
       "      <td>45.4</td>\n",
       "    </tr>\n",
       "    <tr>\n",
       "      <th>7</th>\n",
       "      <td>10000032</td>\n",
       "      <td>51301</td>\n",
       "      <td>2180-03-23 11:51:00</td>\n",
       "      <td>3.0</td>\n",
       "    </tr>\n",
       "    <tr>\n",
       "      <th>8</th>\n",
       "      <td>10000032</td>\n",
       "      <td>51221</td>\n",
       "      <td>2180-05-06 22:25:00</td>\n",
       "      <td>42.6</td>\n",
       "    </tr>\n",
       "    <tr>\n",
       "      <th>9</th>\n",
       "      <td>10000032</td>\n",
       "      <td>51301</td>\n",
       "      <td>2180-05-06 22:25:00</td>\n",
       "      <td>5.0</td>\n",
       "    </tr>\n",
       "  </tbody>\n",
       "</table>\n",
       "</div>"
      ],
      "text/plain": [
       "   subject_id  itemid           charttime  valuenum\n",
       "0    10000032   50882 2180-03-23 11:51:00      27.0\n",
       "1    10000032   50902 2180-03-23 11:51:00     101.0\n",
       "2    10000032   50912 2180-03-23 11:51:00       0.4\n",
       "3    10000032   50971 2180-03-23 11:51:00       3.7\n",
       "4    10000032   50983 2180-03-23 11:51:00     136.0\n",
       "5    10000032   50931 2180-03-23 11:51:00      95.0\n",
       "6    10000032   51221 2180-03-23 11:51:00      45.4\n",
       "7    10000032   51301 2180-03-23 11:51:00       3.0\n",
       "8    10000032   51221 2180-05-06 22:25:00      42.6\n",
       "9    10000032   51301 2180-05-06 22:25:00       5.0"
      ]
     },
     "execution_count": 126,
     "metadata": {},
     "output_type": "execute_result"
    }
   ],
   "source": [
    "df_pa_lab_ftr.head(10)"
   ]
  },
  {
   "cell_type": "code",
   "execution_count": 127,
   "id": "859abb47-18b1-4943-89cb-0ec3e50177ad",
   "metadata": {
    "tags": []
   },
   "outputs": [
    {
     "name": "stdout",
     "output_type": "stream",
     "text": [
      "final runtime was 91% faster than initial.\n",
      "final df memory usage was the same as initial.\n"
     ]
    }
   ],
   "source": [
    "percent_diff(\n",
    "    i_time= 59.9,\n",
    "    i_mem= 0.795,\n",
    "    f_time= 5.32,\n",
    "    f_mem= 0.795\n",
    ")"
   ]
  },
  {
   "cell_type": "markdown",
   "id": "1d97b623-6c1d-4db4-a604-ec35841dbc8e",
   "metadata": {},
   "source": [
    "### (H). DuckDB\n",
    "\n",
    "Let's use `duckdb` package in Python to use the DuckDB interface. In Python, DuckDB can interact smoothly with `pandas` and `pyarrow`. I recommend reading: \n",
    "\n",
    "- https://duckdb.org/2021/05/14/sql-on-pandas.html\n",
    "- https://duckdb.org/docs/guides/python/sql_on_arrow.html\n",
    "\n",
    "In Python, you will mostly use SQL commands to work with DuckDB. Check out the [data ingestion API](https://duckdb.org/docs/api/python/data_ingestion).\n",
    "\n",
    "\n",
    "Ingest the Parquet file, select columns, and filter rows as in (F). How long does the ingest+select+filter process take? Please make sure to call `.df()` method to have the final result as a `pandas` `DataFrame`. Display the number of rows and the first 10 rows of the result dataframe and make sure they match those in (C). \n",
    "\n",
    "__This should be significantly faster than the results before (but not including) Part (F).__ \n",
    "_Hint_: It could be a single SQL command.\n"
   ]
  },
  {
   "cell_type": "markdown",
   "id": "a073c302-f07e-4c00-8e27-b89f9e5f61c3",
   "metadata": {},
   "source": [
    "### Answer 3H\n",
    "\n",
    "#### PyArrow\n",
    "\n",
    "The runtime to read, select, and filter the parquet was 5.32 seconds and the resulting data frame memory usage was 0.795 GB.\n",
    "\n",
    "#### DuckDB\n",
    "\n",
    "The runtime to read, select, and filter the parquet was 7.89 seconds and the resulting data frame memory usage was 0.795 GB.\n",
    "\n",
    "#### Polars\n",
    "\n",
    "The runtime to read, select, and filter the parquet was 1.95 seconds and the resulting data frame memory usage was 0.795 GB.\n",
    "\n",
    "final runtime was 75% faster than initial.\n",
    "final df memory usage was the same as initial.\n",
    "\n",
    "#### Summary\n",
    "\n",
    "The runtime to read, select, and filter the parquet in polars was __75% faster__ than DuckDB and __63% faster__ than PyArrow, but resulted in the same memory usage as DuckDB."
   ]
  },
  {
   "cell_type": "markdown",
   "id": "f52fdc42-e0f1-4f36-b374-2b7519376df1",
   "metadata": {},
   "source": [
    "#### Documentation\n",
    "\n",
    "DuckDB was used to read, select columns and filter by item ID. A database was created in memory. The programming language SQL was used to select columns, read in the parquet, and filter by itemid. Using this method however resulted in a dataset with a different order than the bash method. to match the bash method, an order by statement was added to the SQL query. After adding the orderby, the output matched the bash command.\n",
    " \n",
    "PyArrow was used to read, select columns, and filter by item ID. Unlike the previous PyArrow functions, `read_csv`, was used which reads in all of the file at once instead of batches. It is less memory efficient but is faster than reading in batches. In order to use the filter function, additional arrow functions were needed such as `is_in` and `field` to specify which column to filter by and format the input in a compatible way.\n",
    "\n",
    "Polars was used to read, select columns, and filter by item ID. Unlike the other methods, Polars didn't read in the data at all and only created a link because the parquet file was lazy loaded. before reading in the data, queries were supplied to polars and polars organized the queries in the most efficient order and performed them and read in the parquet file when it was collected."
   ]
  },
  {
   "cell_type": "code",
   "execution_count": 96,
   "id": "881419d7-0a94-4a50-9bd4-5f90d5af0fac",
   "metadata": {},
   "outputs": [
    {
     "name": "stdout",
     "output_type": "stream",
     "text": [
      "CPU times: user 13.3 s, sys: 9.36 s, total: 22.7 s\n",
      "Wall time: 7.89 s\n"
     ]
    }
   ],
   "source": [
    "%%time\n",
    "# open server-less database and close when done\n",
    "with duckdb.connect(database=':memory:') as con:\n",
    "  # SQL query\n",
    "  df_db_lab_ftr = con.execute(\n",
    "    \"\"\"\n",
    "    SELECT subject_id, itemid, charttime, valuenum\n",
    "    FROM './labevents.parquet' \n",
    "    WHERE itemid IN (50912, 50971, 50983, 50902, 50882, 51221, 51301, 50931)\n",
    "    ORDER BY subject_id, charttime ASC\n",
    "    \"\"\"\n",
    "  ).df() # Output as pandas data frame"
   ]
  },
  {
   "cell_type": "code",
   "execution_count": 97,
   "id": "7dafb97f-6157-45a4-bfcc-6b481cb64585",
   "metadata": {},
   "outputs": [
    {
     "name": "stdout",
     "output_type": "stream",
     "text": [
      "0.795 GB\n"
     ]
    }
   ],
   "source": [
    "print(round(sys.getsizeof(df_db_lab_ftr)/10**9,3), \"GB\")"
   ]
  },
  {
   "cell_type": "code",
   "execution_count": 98,
   "id": "780b255f-da8b-4b9e-adf9-bed70e401bb0",
   "metadata": {},
   "outputs": [
    {
     "data": {
      "text/html": [
       "<div>\n",
       "<style scoped>\n",
       "    .dataframe tbody tr th:only-of-type {\n",
       "        vertical-align: middle;\n",
       "    }\n",
       "\n",
       "    .dataframe tbody tr th {\n",
       "        vertical-align: top;\n",
       "    }\n",
       "\n",
       "    .dataframe thead th {\n",
       "        text-align: right;\n",
       "    }\n",
       "</style>\n",
       "<table border=\"1\" class=\"dataframe\">\n",
       "  <thead>\n",
       "    <tr style=\"text-align: right;\">\n",
       "      <th></th>\n",
       "      <th>subject_id</th>\n",
       "      <th>itemid</th>\n",
       "      <th>charttime</th>\n",
       "      <th>valuenum</th>\n",
       "    </tr>\n",
       "  </thead>\n",
       "  <tbody>\n",
       "    <tr>\n",
       "      <th>0</th>\n",
       "      <td>10000032</td>\n",
       "      <td>50882</td>\n",
       "      <td>2180-03-23 11:51:00</td>\n",
       "      <td>27.0</td>\n",
       "    </tr>\n",
       "    <tr>\n",
       "      <th>1</th>\n",
       "      <td>10000032</td>\n",
       "      <td>50902</td>\n",
       "      <td>2180-03-23 11:51:00</td>\n",
       "      <td>101.0</td>\n",
       "    </tr>\n",
       "    <tr>\n",
       "      <th>2</th>\n",
       "      <td>10000032</td>\n",
       "      <td>50912</td>\n",
       "      <td>2180-03-23 11:51:00</td>\n",
       "      <td>0.4</td>\n",
       "    </tr>\n",
       "    <tr>\n",
       "      <th>3</th>\n",
       "      <td>10000032</td>\n",
       "      <td>50971</td>\n",
       "      <td>2180-03-23 11:51:00</td>\n",
       "      <td>3.7</td>\n",
       "    </tr>\n",
       "    <tr>\n",
       "      <th>4</th>\n",
       "      <td>10000032</td>\n",
       "      <td>50983</td>\n",
       "      <td>2180-03-23 11:51:00</td>\n",
       "      <td>136.0</td>\n",
       "    </tr>\n",
       "    <tr>\n",
       "      <th>5</th>\n",
       "      <td>10000032</td>\n",
       "      <td>50931</td>\n",
       "      <td>2180-03-23 11:51:00</td>\n",
       "      <td>95.0</td>\n",
       "    </tr>\n",
       "    <tr>\n",
       "      <th>6</th>\n",
       "      <td>10000032</td>\n",
       "      <td>51221</td>\n",
       "      <td>2180-03-23 11:51:00</td>\n",
       "      <td>45.4</td>\n",
       "    </tr>\n",
       "    <tr>\n",
       "      <th>7</th>\n",
       "      <td>10000032</td>\n",
       "      <td>51301</td>\n",
       "      <td>2180-03-23 11:51:00</td>\n",
       "      <td>3.0</td>\n",
       "    </tr>\n",
       "    <tr>\n",
       "      <th>8</th>\n",
       "      <td>10000032</td>\n",
       "      <td>51221</td>\n",
       "      <td>2180-05-06 22:25:00</td>\n",
       "      <td>42.6</td>\n",
       "    </tr>\n",
       "    <tr>\n",
       "      <th>9</th>\n",
       "      <td>10000032</td>\n",
       "      <td>51301</td>\n",
       "      <td>2180-05-06 22:25:00</td>\n",
       "      <td>5.0</td>\n",
       "    </tr>\n",
       "  </tbody>\n",
       "</table>\n",
       "</div>"
      ],
      "text/plain": [
       "   subject_id  itemid           charttime  valuenum\n",
       "0    10000032   50882 2180-03-23 11:51:00      27.0\n",
       "1    10000032   50902 2180-03-23 11:51:00     101.0\n",
       "2    10000032   50912 2180-03-23 11:51:00       0.4\n",
       "3    10000032   50971 2180-03-23 11:51:00       3.7\n",
       "4    10000032   50983 2180-03-23 11:51:00     136.0\n",
       "5    10000032   50931 2180-03-23 11:51:00      95.0\n",
       "6    10000032   51221 2180-03-23 11:51:00      45.4\n",
       "7    10000032   51301 2180-03-23 11:51:00       3.0\n",
       "8    10000032   51221 2180-05-06 22:25:00      42.6\n",
       "9    10000032   51301 2180-05-06 22:25:00       5.0"
      ]
     },
     "execution_count": 98,
     "metadata": {},
     "output_type": "execute_result"
    }
   ],
   "source": [
    "df_db_lab_ftr.head(10)"
   ]
  },
  {
   "cell_type": "code",
   "execution_count": 120,
   "id": "2ef3dc38-afad-4f9e-ae7c-94d0be10ea99",
   "metadata": {
    "tags": []
   },
   "outputs": [
    {
     "name": "stdout",
     "output_type": "stream",
     "text": [
      "CPU times: user 7.16 s, sys: 2.08 s, total: 9.24 s\n",
      "Wall time: 1.95 s\n"
     ]
    }
   ],
   "source": [
    "%%time\n",
    "df_pl_lab_ftr = (\n",
    "  pl.scan_parquet('./labevents.parquet') # lazy read\n",
    "  .select(lab_col) # select columns\n",
    "  .filter(pl.col('itemid').is_in(lab_itemid)) # filter rows\n",
    "  .sort(['subject_id','charttime'])\n",
    "  .collect() # collect pl.lazyframe to pl.dataframe\n",
    "  .to_pandas() # convert to pd.dataframe\n",
    ")"
   ]
  },
  {
   "cell_type": "code",
   "execution_count": 121,
   "id": "936b995f-4af3-475c-9880-4c71d9215889",
   "metadata": {
    "tags": []
   },
   "outputs": [
    {
     "name": "stdout",
     "output_type": "stream",
     "text": [
      "0.795 GB\n"
     ]
    }
   ],
   "source": [
    "print(round(sys.getsizeof(df_pl_lab_ftr)/10**9,3), \"GB\")"
   ]
  },
  {
   "cell_type": "code",
   "execution_count": 123,
   "id": "f6cd2aa1-b80c-4794-9b71-2f4bb834f15c",
   "metadata": {
    "tags": []
   },
   "outputs": [
    {
     "data": {
      "text/html": [
       "<div>\n",
       "<style scoped>\n",
       "    .dataframe tbody tr th:only-of-type {\n",
       "        vertical-align: middle;\n",
       "    }\n",
       "\n",
       "    .dataframe tbody tr th {\n",
       "        vertical-align: top;\n",
       "    }\n",
       "\n",
       "    .dataframe thead th {\n",
       "        text-align: right;\n",
       "    }\n",
       "</style>\n",
       "<table border=\"1\" class=\"dataframe\">\n",
       "  <thead>\n",
       "    <tr style=\"text-align: right;\">\n",
       "      <th></th>\n",
       "      <th>subject_id</th>\n",
       "      <th>itemid</th>\n",
       "      <th>charttime</th>\n",
       "      <th>valuenum</th>\n",
       "    </tr>\n",
       "  </thead>\n",
       "  <tbody>\n",
       "    <tr>\n",
       "      <th>0</th>\n",
       "      <td>10000032</td>\n",
       "      <td>50882</td>\n",
       "      <td>2180-03-23 11:51:00</td>\n",
       "      <td>27.0</td>\n",
       "    </tr>\n",
       "    <tr>\n",
       "      <th>1</th>\n",
       "      <td>10000032</td>\n",
       "      <td>50902</td>\n",
       "      <td>2180-03-23 11:51:00</td>\n",
       "      <td>101.0</td>\n",
       "    </tr>\n",
       "    <tr>\n",
       "      <th>2</th>\n",
       "      <td>10000032</td>\n",
       "      <td>50912</td>\n",
       "      <td>2180-03-23 11:51:00</td>\n",
       "      <td>0.4</td>\n",
       "    </tr>\n",
       "    <tr>\n",
       "      <th>3</th>\n",
       "      <td>10000032</td>\n",
       "      <td>50971</td>\n",
       "      <td>2180-03-23 11:51:00</td>\n",
       "      <td>3.7</td>\n",
       "    </tr>\n",
       "    <tr>\n",
       "      <th>4</th>\n",
       "      <td>10000032</td>\n",
       "      <td>50983</td>\n",
       "      <td>2180-03-23 11:51:00</td>\n",
       "      <td>136.0</td>\n",
       "    </tr>\n",
       "    <tr>\n",
       "      <th>5</th>\n",
       "      <td>10000032</td>\n",
       "      <td>50931</td>\n",
       "      <td>2180-03-23 11:51:00</td>\n",
       "      <td>95.0</td>\n",
       "    </tr>\n",
       "    <tr>\n",
       "      <th>6</th>\n",
       "      <td>10000032</td>\n",
       "      <td>51221</td>\n",
       "      <td>2180-03-23 11:51:00</td>\n",
       "      <td>45.4</td>\n",
       "    </tr>\n",
       "    <tr>\n",
       "      <th>7</th>\n",
       "      <td>10000032</td>\n",
       "      <td>51301</td>\n",
       "      <td>2180-03-23 11:51:00</td>\n",
       "      <td>3.0</td>\n",
       "    </tr>\n",
       "    <tr>\n",
       "      <th>8</th>\n",
       "      <td>10000032</td>\n",
       "      <td>51221</td>\n",
       "      <td>2180-05-06 22:25:00</td>\n",
       "      <td>42.6</td>\n",
       "    </tr>\n",
       "    <tr>\n",
       "      <th>9</th>\n",
       "      <td>10000032</td>\n",
       "      <td>51301</td>\n",
       "      <td>2180-05-06 22:25:00</td>\n",
       "      <td>5.0</td>\n",
       "    </tr>\n",
       "  </tbody>\n",
       "</table>\n",
       "</div>"
      ],
      "text/plain": [
       "   subject_id  itemid           charttime  valuenum\n",
       "0    10000032   50882 2180-03-23 11:51:00      27.0\n",
       "1    10000032   50902 2180-03-23 11:51:00     101.0\n",
       "2    10000032   50912 2180-03-23 11:51:00       0.4\n",
       "3    10000032   50971 2180-03-23 11:51:00       3.7\n",
       "4    10000032   50983 2180-03-23 11:51:00     136.0\n",
       "5    10000032   50931 2180-03-23 11:51:00      95.0\n",
       "6    10000032   51221 2180-03-23 11:51:00      45.4\n",
       "7    10000032   51301 2180-03-23 11:51:00       3.0\n",
       "8    10000032   51221 2180-05-06 22:25:00      42.6\n",
       "9    10000032   51301 2180-05-06 22:25:00       5.0"
      ]
     },
     "execution_count": 123,
     "metadata": {},
     "output_type": "execute_result"
    }
   ],
   "source": [
    "df_pl_lab_ftr.head(10)"
   ]
  },
  {
   "cell_type": "code",
   "execution_count": 122,
   "id": "5801e60b-3c72-4ce4-bc25-5388893c850e",
   "metadata": {},
   "outputs": [
    {
     "name": "stdout",
     "output_type": "stream",
     "text": [
      "final runtime was 75% faster than initial.\n",
      "final df memory usage was the same as initial.\n"
     ]
    }
   ],
   "source": [
    "# Initial: DuckDB read, select, and filter\n",
    "# Final: Polars read, select, and filter\n",
    "percent_diff(\n",
    "  i_time = 7.89,\n",
    "  i_mem = 0.795,\n",
    "  f_time = 1.95,\n",
    "  f_mem = 0.795\n",
    ")"
   ]
  },
  {
   "cell_type": "code",
   "execution_count": 128,
   "id": "abe1fb33-4860-48c1-bb61-76d2e7382d05",
   "metadata": {
    "tags": []
   },
   "outputs": [
    {
     "name": "stdout",
     "output_type": "stream",
     "text": [
      "final runtime was 63% faster than initial.\n",
      "final df memory usage was the same as initial.\n"
     ]
    }
   ],
   "source": [
    "# Initial: Pyarrow read, select, and filter\n",
    "# Final: Polars read, select, and filter\n",
    "percent_diff(\n",
    "  i_time = 5.32,\n",
    "  i_mem = 0.795,\n",
    "  f_time = 1.95,\n",
    "  f_mem = 0.795\n",
    ")"
   ]
  },
  {
   "cell_type": "markdown",
   "id": "4436af19-c809-4741-bcb4-864876181040",
   "metadata": {},
   "source": [
    "### (I). Comparison (added 5/6)\n",
    "Compare your results with those from Homework 2 of BIOSTAT 203B. "
   ]
  },
  {
   "cell_type": "markdown",
   "id": "858990a8-e65f-4609-afb1-e56af079df6b",
   "metadata": {},
   "source": [
    "The biggest comparison between Homework 2 from Biostat 203B and this assignment is between R and python and the packages and libraries that were used in each. For example, reading in the dataset, labevents, with tidyverse did not work, my system crashed and it took over 5 minutes. Similarly, when I tried to read in only select columns of labevents with tidyverse, it also crashed and it took over 5 minutes. Bash was needed to decompress the labevents file for pyarrow to work. Pyarrow was able to read in the decompressed csv. The total time to decompress and read in the data was 119 seconds, significantly more than the 74 seconds to read in the data with pyarrow. DuckDB in R also needed a decompressed csv. Therefore, it's faster to use python and pyarrow, duckdb, polars, and pandas than any of the packages used in R in the 203B HW2."
   ]
  },
  {
   "cell_type": "markdown",
   "id": "02da79d3-c8ec-4785-a9c3-3a5fc63de358",
   "metadata": {},
   "source": [
    "## Problem 4. Ingest and filter `chartevents.csv.gz`\n",
    "\n",
    "[`chartevents.csv.gz`](https://mimic.mit.edu/docs/iv/modules/icu/chartevents/) contains all the charted data available for a patient. During their ICU stay, the primary repository of a patient’s information is their electronic chart. The `itemid` variable indicates a single measurement type in the database. The `value` variable is the value measured for `itemid`. The first 10 lines of `chartevents.csv.gz` are\n"
   ]
  },
  {
   "cell_type": "markdown",
   "id": "ac70480a-97e5-4bf2-9e69-b07b4e6ed708",
   "metadata": {},
   "source": [
    "#### Documentation\n",
    "\n",
    "The bash commands below output the first 10 rows of chartevents and d_items."
   ]
  },
  {
   "cell_type": "code",
   "execution_count": 100,
   "id": "69d1f3a0-6342-42f9-9902-44030612c6d1",
   "metadata": {
    "tags": []
   },
   "outputs": [
    {
     "name": "stdout",
     "output_type": "stream",
     "text": [
      "subject_id,hadm_id,stay_id,caregiver_id,charttime,storetime,itemid,value,valuenum,valueuom,warning\n",
      "10000032,29079034,39553978,47007,2180-07-23 21:01:00,2180-07-23 22:15:00,220179,82,82,mmHg,0\n",
      "10000032,29079034,39553978,47007,2180-07-23 21:01:00,2180-07-23 22:15:00,220180,59,59,mmHg,0\n",
      "10000032,29079034,39553978,47007,2180-07-23 21:01:00,2180-07-23 22:15:00,220181,63,63,mmHg,0\n",
      "10000032,29079034,39553978,47007,2180-07-23 22:00:00,2180-07-23 22:15:00,220045,94,94,bpm,0\n",
      "10000032,29079034,39553978,47007,2180-07-23 22:00:00,2180-07-23 22:15:00,220179,85,85,mmHg,0\n",
      "10000032,29079034,39553978,47007,2180-07-23 22:00:00,2180-07-23 22:15:00,220180,55,55,mmHg,0\n",
      "10000032,29079034,39553978,47007,2180-07-23 22:00:00,2180-07-23 22:15:00,220181,62,62,mmHg,0\n",
      "10000032,29079034,39553978,47007,2180-07-23 22:00:00,2180-07-23 22:15:00,220210,20,20,insp/min,0\n",
      "10000032,29079034,39553978,47007,2180-07-23 22:00:00,2180-07-23 22:15:00,220277,95,95,%,0\n",
      "\n",
      "gzip: stdout: Broken pipe\n"
     ]
    }
   ],
   "source": [
    "!zcat < ./mimic/icu/chartevents.csv.gz | head -10"
   ]
  },
  {
   "cell_type": "markdown",
   "id": "503e290e-44cf-4ac8-9060-43d96bef0160",
   "metadata": {},
   "source": [
    "[`d_items.csv.gz`](https://mimic.mit.edu/docs/iv/modules/icu/d_items/) is the dictionary for the `itemid` in `chartevents.csv.gz`."
   ]
  },
  {
   "cell_type": "code",
   "execution_count": 101,
   "id": "a1bd8d66-0961-4f95-9f02-f576fb7a07c0",
   "metadata": {
    "tags": []
   },
   "outputs": [
    {
     "name": "stdout",
     "output_type": "stream",
     "text": [
      "itemid,label,abbreviation,linksto,category,unitname,param_type,lownormalvalue,highnormalvalue\n",
      "220001,Problem List,Problem List,chartevents,General,,Text,,\n",
      "220003,ICU Admission date,ICU Admission date,datetimeevents,ADT,,Date and time,,\n",
      "220045,Heart Rate,HR,chartevents,Routine Vital Signs,bpm,Numeric,,\n",
      "220046,Heart rate Alarm - High,HR Alarm - High,chartevents,Alarms,bpm,Numeric,,\n",
      "220047,Heart Rate Alarm - Low,HR Alarm - Low,chartevents,Alarms,bpm,Numeric,,\n",
      "220048,Heart Rhythm,Heart Rhythm,chartevents,Routine Vital Signs,,Text,,\n",
      "220050,Arterial Blood Pressure systolic,ABPs,chartevents,Routine Vital Signs,mmHg,Numeric,90,140\n",
      "220051,Arterial Blood Pressure diastolic,ABPd,chartevents,Routine Vital Signs,mmHg,Numeric,60,90\n",
      "220052,Arterial Blood Pressure mean,ABPm,chartevents,Routine Vital Signs,mmHg,Numeric,,\n",
      "\n",
      "gzip: stdout: Broken pipe\n"
     ]
    }
   ],
   "source": [
    "!zcat < ./mimic/icu/d_items.csv.gz | head -10"
   ]
  },
  {
   "cell_type": "markdown",
   "id": "b8f757e5-9637-4549-b746-1aefce427a75",
   "metadata": {},
   "source": [
    "Again, we are interested in the vitals for ICU patients: heart rate (220045), mean non-invasive blood pressure (220181), systolic non-invasive blood pressure (220179), body temperature in Fahrenheit (223761), and respiratory rate (220210). Retrieve a subset of `chartevents.csv.gz` only containing these items, using the favorite method you learnt in Problem 3. \n",
    "\n",
    "Document the steps and show your code. Display the number of rows and the first 10 rows of the result `DataFrame`."
   ]
  },
  {
   "cell_type": "markdown",
   "id": "1ea0e528-b01f-4e24-9e9e-f4d2b3eea17f",
   "metadata": {},
   "source": [
    "### Answer 4\n",
    "\n",
    "#### DuckDB\n",
    "\n",
    "DuckDB was chosen over pandas, Apache Arrow, and polars becuase it was the fastest and most reliable at reading in a large, compressed csv. The runtime to read, select, and filter `chartevents.csv.gz` was 1min 31s and the resulting data frame was .\n",
    "\n",
    "Polars was unable to read the compressed csv."
   ]
  },
  {
   "cell_type": "code",
   "execution_count": 129,
   "id": "7df06b43-f8c9-4642-9729-8ec45ac8e42c",
   "metadata": {},
   "outputs": [
    {
     "name": "stdout",
     "output_type": "stream",
     "text": [
      "CPU times: user 3min 32s, sys: 20.4 s, total: 3min 52s\n",
      "Wall time: 1min 1s\n"
     ]
    }
   ],
   "source": [
    "%%time\n",
    "# open server-less database in memory and close when done.\n",
    "with duckdb.connect(database=':memory:') as con:\n",
    "    df_db_chrt_ftr = con.execute( # SQL query\n",
    "      \"\"\"\n",
    "      SELECT *\n",
    "      FROM './mimic/icu/chartevents.csv.gz' \n",
    "      WHERE itemid IN (220045, 220181, 220179, 223761, 220210)\n",
    "      \"\"\"\n",
    "    ).df() # Output as pandas dataframe"
   ]
  },
  {
   "cell_type": "code",
   "execution_count": 130,
   "id": "466778c2-731e-4108-b439-dfbd4cb33103",
   "metadata": {},
   "outputs": [
    {
     "data": {
      "text/plain": [
       "(22502319, 11)"
      ]
     },
     "execution_count": 130,
     "metadata": {},
     "output_type": "execute_result"
    }
   ],
   "source": [
    "df_db_chrt_ftr.shape"
   ]
  },
  {
   "cell_type": "code",
   "execution_count": 131,
   "id": "d5c93abf-4029-405e-94f4-29fb565c9f8a",
   "metadata": {},
   "outputs": [
    {
     "name": "stdout",
     "output_type": "stream",
     "text": [
      "4.381 GB\n"
     ]
    }
   ],
   "source": [
    "print(round(sys.getsizeof(df_db_chrt_ftr)/10**9,3), \"GB\")"
   ]
  },
  {
   "cell_type": "code",
   "execution_count": 132,
   "id": "68f52c13-a7b1-4de4-a529-246c7802f100",
   "metadata": {},
   "outputs": [
    {
     "data": {
      "text/html": [
       "<div>\n",
       "<style scoped>\n",
       "    .dataframe tbody tr th:only-of-type {\n",
       "        vertical-align: middle;\n",
       "    }\n",
       "\n",
       "    .dataframe tbody tr th {\n",
       "        vertical-align: top;\n",
       "    }\n",
       "\n",
       "    .dataframe thead th {\n",
       "        text-align: right;\n",
       "    }\n",
       "</style>\n",
       "<table border=\"1\" class=\"dataframe\">\n",
       "  <thead>\n",
       "    <tr style=\"text-align: right;\">\n",
       "      <th></th>\n",
       "      <th>subject_id</th>\n",
       "      <th>hadm_id</th>\n",
       "      <th>stay_id</th>\n",
       "      <th>caregiver_id</th>\n",
       "      <th>charttime</th>\n",
       "      <th>storetime</th>\n",
       "      <th>itemid</th>\n",
       "      <th>value</th>\n",
       "      <th>valuenum</th>\n",
       "      <th>valueuom</th>\n",
       "      <th>warning</th>\n",
       "    </tr>\n",
       "  </thead>\n",
       "  <tbody>\n",
       "    <tr>\n",
       "      <th>0</th>\n",
       "      <td>10000032</td>\n",
       "      <td>29079034</td>\n",
       "      <td>39553978</td>\n",
       "      <td>47007</td>\n",
       "      <td>2180-07-23 21:01:00</td>\n",
       "      <td>2180-07-23 22:15:00</td>\n",
       "      <td>220179</td>\n",
       "      <td>82</td>\n",
       "      <td>82.0</td>\n",
       "      <td>mmHg</td>\n",
       "      <td>0</td>\n",
       "    </tr>\n",
       "    <tr>\n",
       "      <th>1</th>\n",
       "      <td>10000032</td>\n",
       "      <td>29079034</td>\n",
       "      <td>39553978</td>\n",
       "      <td>47007</td>\n",
       "      <td>2180-07-23 21:01:00</td>\n",
       "      <td>2180-07-23 22:15:00</td>\n",
       "      <td>220181</td>\n",
       "      <td>63</td>\n",
       "      <td>63.0</td>\n",
       "      <td>mmHg</td>\n",
       "      <td>0</td>\n",
       "    </tr>\n",
       "    <tr>\n",
       "      <th>2</th>\n",
       "      <td>10000032</td>\n",
       "      <td>29079034</td>\n",
       "      <td>39553978</td>\n",
       "      <td>47007</td>\n",
       "      <td>2180-07-23 22:00:00</td>\n",
       "      <td>2180-07-23 22:15:00</td>\n",
       "      <td>220045</td>\n",
       "      <td>94</td>\n",
       "      <td>94.0</td>\n",
       "      <td>bpm</td>\n",
       "      <td>0</td>\n",
       "    </tr>\n",
       "    <tr>\n",
       "      <th>3</th>\n",
       "      <td>10000032</td>\n",
       "      <td>29079034</td>\n",
       "      <td>39553978</td>\n",
       "      <td>47007</td>\n",
       "      <td>2180-07-23 22:00:00</td>\n",
       "      <td>2180-07-23 22:15:00</td>\n",
       "      <td>220179</td>\n",
       "      <td>85</td>\n",
       "      <td>85.0</td>\n",
       "      <td>mmHg</td>\n",
       "      <td>0</td>\n",
       "    </tr>\n",
       "    <tr>\n",
       "      <th>4</th>\n",
       "      <td>10000032</td>\n",
       "      <td>29079034</td>\n",
       "      <td>39553978</td>\n",
       "      <td>47007</td>\n",
       "      <td>2180-07-23 22:00:00</td>\n",
       "      <td>2180-07-23 22:15:00</td>\n",
       "      <td>220181</td>\n",
       "      <td>62</td>\n",
       "      <td>62.0</td>\n",
       "      <td>mmHg</td>\n",
       "      <td>0</td>\n",
       "    </tr>\n",
       "    <tr>\n",
       "      <th>5</th>\n",
       "      <td>10000032</td>\n",
       "      <td>29079034</td>\n",
       "      <td>39553978</td>\n",
       "      <td>47007</td>\n",
       "      <td>2180-07-23 22:00:00</td>\n",
       "      <td>2180-07-23 22:15:00</td>\n",
       "      <td>220210</td>\n",
       "      <td>20</td>\n",
       "      <td>20.0</td>\n",
       "      <td>insp/min</td>\n",
       "      <td>0</td>\n",
       "    </tr>\n",
       "    <tr>\n",
       "      <th>6</th>\n",
       "      <td>10000032</td>\n",
       "      <td>29079034</td>\n",
       "      <td>39553978</td>\n",
       "      <td>66056</td>\n",
       "      <td>2180-07-23 19:00:00</td>\n",
       "      <td>2180-07-23 19:59:00</td>\n",
       "      <td>220045</td>\n",
       "      <td>97</td>\n",
       "      <td>97.0</td>\n",
       "      <td>bpm</td>\n",
       "      <td>0</td>\n",
       "    </tr>\n",
       "    <tr>\n",
       "      <th>7</th>\n",
       "      <td>10000032</td>\n",
       "      <td>29079034</td>\n",
       "      <td>39553978</td>\n",
       "      <td>66056</td>\n",
       "      <td>2180-07-23 19:00:00</td>\n",
       "      <td>2180-07-23 19:59:00</td>\n",
       "      <td>220179</td>\n",
       "      <td>93</td>\n",
       "      <td>93.0</td>\n",
       "      <td>mmHg</td>\n",
       "      <td>0</td>\n",
       "    </tr>\n",
       "    <tr>\n",
       "      <th>8</th>\n",
       "      <td>10000032</td>\n",
       "      <td>29079034</td>\n",
       "      <td>39553978</td>\n",
       "      <td>66056</td>\n",
       "      <td>2180-07-23 19:00:00</td>\n",
       "      <td>2180-07-23 19:59:00</td>\n",
       "      <td>220181</td>\n",
       "      <td>56</td>\n",
       "      <td>56.0</td>\n",
       "      <td>mmHg</td>\n",
       "      <td>0</td>\n",
       "    </tr>\n",
       "    <tr>\n",
       "      <th>9</th>\n",
       "      <td>10000032</td>\n",
       "      <td>29079034</td>\n",
       "      <td>39553978</td>\n",
       "      <td>66056</td>\n",
       "      <td>2180-07-23 19:00:00</td>\n",
       "      <td>2180-07-23 19:59:00</td>\n",
       "      <td>220210</td>\n",
       "      <td>16</td>\n",
       "      <td>16.0</td>\n",
       "      <td>insp/min</td>\n",
       "      <td>0</td>\n",
       "    </tr>\n",
       "  </tbody>\n",
       "</table>\n",
       "</div>"
      ],
      "text/plain": [
       "   subject_id   hadm_id   stay_id  caregiver_id           charttime  \\\n",
       "0    10000032  29079034  39553978         47007 2180-07-23 21:01:00   \n",
       "1    10000032  29079034  39553978         47007 2180-07-23 21:01:00   \n",
       "2    10000032  29079034  39553978         47007 2180-07-23 22:00:00   \n",
       "3    10000032  29079034  39553978         47007 2180-07-23 22:00:00   \n",
       "4    10000032  29079034  39553978         47007 2180-07-23 22:00:00   \n",
       "5    10000032  29079034  39553978         47007 2180-07-23 22:00:00   \n",
       "6    10000032  29079034  39553978         66056 2180-07-23 19:00:00   \n",
       "7    10000032  29079034  39553978         66056 2180-07-23 19:00:00   \n",
       "8    10000032  29079034  39553978         66056 2180-07-23 19:00:00   \n",
       "9    10000032  29079034  39553978         66056 2180-07-23 19:00:00   \n",
       "\n",
       "            storetime  itemid value  valuenum  valueuom  warning  \n",
       "0 2180-07-23 22:15:00  220179    82      82.0      mmHg        0  \n",
       "1 2180-07-23 22:15:00  220181    63      63.0      mmHg        0  \n",
       "2 2180-07-23 22:15:00  220045    94      94.0       bpm        0  \n",
       "3 2180-07-23 22:15:00  220179    85      85.0      mmHg        0  \n",
       "4 2180-07-23 22:15:00  220181    62      62.0      mmHg        0  \n",
       "5 2180-07-23 22:15:00  220210    20      20.0  insp/min        0  \n",
       "6 2180-07-23 19:59:00  220045    97      97.0       bpm        0  \n",
       "7 2180-07-23 19:59:00  220179    93      93.0      mmHg        0  \n",
       "8 2180-07-23 19:59:00  220181    56      56.0      mmHg        0  \n",
       "9 2180-07-23 19:59:00  220210    16      16.0  insp/min        0  "
      ]
     },
     "execution_count": 132,
     "metadata": {},
     "output_type": "execute_result"
    }
   ],
   "source": [
    "df_db_chrt_ftr.head(10)"
   ]
  },
  {
   "cell_type": "markdown",
   "id": "33f4b3ee-0a7c-463c-b58c-81368cdc6760",
   "metadata": {},
   "source": [
    "### Summary and Conclusion\n",
    "\n",
    "Use DuckDB to read and query on large, compressed data files. Use polars to lazily read and query parquet files. Use pandas for compatibility and use PyArrow to read in batches for larger than memory data."
   ]
  }
 ],
 "metadata": {
  "kernelspec": {
   "display_name": "203C",
   "language": "python",
   "name": "203c"
  },
  "language_info": {
   "codemirror_mode": {
    "name": "ipython",
    "version": 3
   },
   "file_extension": ".py",
   "mimetype": "text/x-python",
   "name": "python",
   "nbconvert_exporter": "python",
   "pygments_lexer": "ipython3",
   "version": "3.11.6"
  }
 },
 "nbformat": 4,
 "nbformat_minor": 5
}
