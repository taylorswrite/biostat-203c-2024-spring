{
  "nbformat": 4,
  "nbformat_minor": 0,
  "metadata": {
    "colab": {
      "provenance": []
    },
    "kernelspec": {
      "name": "python3",
      "display_name": "Python 3"
    },
    "language_info": {
      "name": "python"
    }
  },
  "cells": [
    {
      "cell_type": "markdown",
      "source": [
        "# BIOSTAT 203C Lecture 3\n",
        "\n",
        "## Topics from last weekend:\n",
        "- Variables and basic data types\n",
        "- Making decisions\n",
        "- Repeating code in loops\n",
        "- Lists\n",
        "- Reading / Writing files\n",
        "- Functions\n",
        "\n",
        "### Variables and basic data types\n",
        "\n",
        "```python\n",
        "v1 = \"Hi there!\"\n",
        "v2 = 300\n",
        "v3 = 300.0\n",
        "v4 = 10 < 14\n",
        "```\n",
        "\n",
        "### Making decisions\n",
        "```python\n",
        "snow_outside = True\n",
        "if snow_outside:\n",
        "    print(\"Stay home!\")\n",
        "else:\n",
        "    print(\"Go to work!\")\n",
        "```\n",
        "\n",
        "\n",
        "### Repeating code in loops\n",
        "\n",
        "```python\n",
        "i = 1\n",
        "while i <= 10:\n",
        "    print(i)\n",
        "    i += 2\n",
        "print(\"Done!\")\n",
        "```\n",
        "    1\n",
        "    3\n",
        "    5\n",
        "    7\n",
        "    9\n",
        "    Done!\n",
        "\n",
        "```python\n",
        "i = 1\n",
        "while True:\n",
        "    if i > 10:\n",
        "        break\n",
        "    print(i)\n",
        "    i += 2\n",
        "print(\"Done!\")\n",
        "```\n",
        "    1\n",
        "    3\n",
        "    5\n",
        "    7\n",
        "    9\n",
        "    Done!\n",
        "\n",
        "```python\n",
        "for i in range(1, 10, 2):\n",
        "    print(i)\n",
        "print(\"Done!\")\n",
        "```\n",
        "    1\n",
        "    3\n",
        "    5\n",
        "    7\n",
        "    9\n",
        "    Done!\n",
        "    \n",
        "```python\n",
        "i = 1\n",
        "for i in range(1, 10, 2):\n",
        "    if i % 3:\n",
        "        continue\n",
        "    print(i)\n",
        "print(\"Done!\")\n",
        "```\n",
        "    3\n",
        "    9\n",
        "    Done!\n",
        "\n",
        "### Lists\n",
        "\n",
        "\n",
        "List is a basic collection type of python. Lists are mutable.\n",
        "\n",
        "```python\n",
        "temp_Westwood_avg = [41, 44, 50, 58, 67, 76, 85, 84, 77, 64, 49, 40]\n",
        "my_favorite_fruits = [\"ananas\", \"bananas\", \"mango\", \"apples\"]\n",
        "l = temp_Westwood_avg + my_favorite_fruits # concatenation\n",
        "l.append(\"203c\") # in-place\n",
        "l[0] = 34 # in-place\n",
        "```\n",
        "\n",
        "### Functions\n",
        "\n",
        "```python\n",
        "def say_hello(name):\n",
        "    \"say hi to `name`\" # docstring!\n",
        "    print(\"Hi {}!\".format(name))\n",
        "def say_hello_to_all(friends):\n",
        "    \"\"\"Say hi to everyone in the collection `friends`.\n",
        "    # Input:\n",
        "        - `friends`: Names of the friends. A collection of strings.\n",
        "    # Returns:\n",
        "        - None\n",
        "    \"\"\" # more detailed docstring\n",
        "    for f in friends:\n",
        "        say_hello(f)\n",
        "```"
      ],
      "metadata": {
        "id": "1oPMukwNaMK0"
      }
    },
    {
      "cell_type": "code",
      "source": [
        "def say_hello(name):\n",
        "    \"say hi to `name`\" # docstring!\n",
        "    print(\"Hi {}!\".format(name))\n",
        "\n",
        "say_hello(\"Matt\")"
      ],
      "metadata": {
        "colab": {
          "base_uri": "https://localhost:8080/"
        },
        "id": "mDOkja08XR6K",
        "outputId": "c9438fc1-c48d-439a-af54-a3fbbf134a7c"
      },
      "execution_count": null,
      "outputs": [
        {
          "output_type": "stream",
          "name": "stdout",
          "text": [
            "Hi Matt!\n"
          ]
        }
      ]
    },
    {
      "cell_type": "code",
      "source": [
        "def say_hello_to_all(friends):\n",
        "    \"\"\"Say hi to everyone in the collection `friends`.\n",
        "    # Input:\n",
        "        - `friends`: Names of the friends. A collection of strings.\n",
        "    # Returns:\n",
        "        - None\n",
        "    \"\"\" # more detailed docstring\n",
        "    for f in friends:\n",
        "        say_hello(f)"
      ],
      "metadata": {
        "id": "1vdHqp3kXsvr"
      },
      "execution_count": null,
      "outputs": []
    },
    {
      "cell_type": "code",
      "source": [
        "say_hello_to_all([\"Alice\", \"Bob\", \"Chris\"])"
      ],
      "metadata": {
        "colab": {
          "base_uri": "https://localhost:8080/"
        },
        "id": "WUz4_EurXtsh",
        "outputId": "57db37a2-7262-4b26-90bf-4b0e69247297"
      },
      "execution_count": null,
      "outputs": [
        {
          "output_type": "stream",
          "name": "stdout",
          "text": [
            "Hi Alice!\n",
            "Hi Bob!\n",
            "Hi Chris!\n"
          ]
        }
      ]
    },
    {
      "cell_type": "markdown",
      "metadata": {
        "id": "c0ab8f08"
      },
      "source": [
        "### Exercise.\n",
        "\n",
        "Create a function that checks if two lists have at least one element in common."
      ]
    },
    {
      "cell_type": "code",
      "execution_count": null,
      "metadata": {
        "id": "19e6fbde"
      },
      "outputs": [],
      "source": [
        "def has_something_in_common(l1, l2):\n",
        "    for i1 in l1:\n",
        "        for i2 in l2:\n",
        "            if i1 == i2:\n",
        "                return True\n",
        "    return False"
      ]
    },
    {
      "cell_type": "code",
      "execution_count": null,
      "metadata": {
        "id": "154b626d",
        "colab": {
          "base_uri": "https://localhost:8080/"
        },
        "outputId": "adc060e8-7dba-458d-dd55-677759ba432c"
      },
      "outputs": [
        {
          "output_type": "execute_result",
          "data": {
            "text/plain": [
              "True"
            ]
          },
          "metadata": {},
          "execution_count": 6
        }
      ],
      "source": [
        "l1 = [1, 2, 3, 4, 5]\n",
        "l2 = [2, 7, 8, 9, 10]\n",
        "has_something_in_common(l1, l2) # Boolean"
      ]
    },
    {
      "cell_type": "markdown",
      "metadata": {
        "id": "73c5343a"
      },
      "source": [
        "## More collections: Tuples, Sets, and Dictionaries"
      ]
    },
    {
      "cell_type": "markdown",
      "source": [
        "### Tuples\n",
        "A tuple basically is an immutable version of a list."
      ],
      "metadata": {
        "id": "WBkwQztJdFN_"
      }
    },
    {
      "cell_type": "code",
      "source": [
        "t = (2, 3)"
      ],
      "metadata": {
        "id": "51_KiilLY6oC"
      },
      "execution_count": null,
      "outputs": []
    },
    {
      "cell_type": "code",
      "source": [
        "t = (0, 1, 2, [777], (2, 3))\n",
        "print(t)\n",
        "t = t * 2 # repetition\n",
        "print(t)\n",
        "t[0] = 99\n",
        "print(t)"
      ],
      "metadata": {
        "id": "3YtsWD0CdEE9",
        "colab": {
          "base_uri": "https://localhost:8080/",
          "height": 231
        },
        "outputId": "8b966e84-c331-4db3-e925-40b536307b2a"
      },
      "execution_count": null,
      "outputs": [
        {
          "output_type": "stream",
          "name": "stdout",
          "text": [
            "(0, 1, 2, [777], (2, 3))\n",
            "(0, 1, 2, [777], (2, 3), 0, 1, 2, [777], (2, 3))\n"
          ]
        },
        {
          "output_type": "error",
          "ename": "TypeError",
          "evalue": "'tuple' object does not support item assignment",
          "traceback": [
            "\u001b[0;31m---------------------------------------------------------------------------\u001b[0m",
            "\u001b[0;31mTypeError\u001b[0m                                 Traceback (most recent call last)",
            "\u001b[0;32m<ipython-input-8-45d6e1b4557b>\u001b[0m in \u001b[0;36m<cell line: 5>\u001b[0;34m()\u001b[0m\n\u001b[1;32m      3\u001b[0m \u001b[0mt\u001b[0m \u001b[0;34m=\u001b[0m \u001b[0mt\u001b[0m \u001b[0;34m*\u001b[0m \u001b[0;36m2\u001b[0m \u001b[0;31m# repetition\u001b[0m\u001b[0;34m\u001b[0m\u001b[0;34m\u001b[0m\u001b[0m\n\u001b[1;32m      4\u001b[0m \u001b[0mprint\u001b[0m\u001b[0;34m(\u001b[0m\u001b[0mt\u001b[0m\u001b[0;34m)\u001b[0m\u001b[0;34m\u001b[0m\u001b[0;34m\u001b[0m\u001b[0m\n\u001b[0;32m----> 5\u001b[0;31m \u001b[0mt\u001b[0m\u001b[0;34m[\u001b[0m\u001b[0;36m0\u001b[0m\u001b[0;34m]\u001b[0m \u001b[0;34m=\u001b[0m \u001b[0;36m99\u001b[0m\u001b[0;34m\u001b[0m\u001b[0;34m\u001b[0m\u001b[0m\n\u001b[0m\u001b[1;32m      6\u001b[0m \u001b[0mprint\u001b[0m\u001b[0;34m(\u001b[0m\u001b[0mt\u001b[0m\u001b[0;34m)\u001b[0m\u001b[0;34m\u001b[0m\u001b[0;34m\u001b[0m\u001b[0m\n",
            "\u001b[0;31mTypeError\u001b[0m: 'tuple' object does not support item assignment"
          ]
        }
      ]
    },
    {
      "cell_type": "markdown",
      "source": [
        "But we can still mutate mutable entries of tuples:"
      ],
      "metadata": {
        "id": "_7p1Lbxzdz70"
      }
    },
    {
      "cell_type": "code",
      "source": [
        "t[3].append(8)\n",
        "print(t)"
      ],
      "metadata": {
        "id": "cgIBOB_Qd1fl",
        "colab": {
          "base_uri": "https://localhost:8080/"
        },
        "outputId": "45980f94-59d3-4b20-eb96-21723214c3d9"
      },
      "execution_count": null,
      "outputs": [
        {
          "output_type": "stream",
          "name": "stdout",
          "text": [
            "(0, 1, 2, [777, 8], (2, 3), 0, 1, 2, [777, 8], (2, 3))\n"
          ]
        }
      ]
    },
    {
      "cell_type": "code",
      "source": [
        "# lists, strings, and tuples all support this operation\n",
        "\n",
        "L = [1, 2, 3]\n",
        "print(L + [4])\n",
        "\n",
        "s = '123'\n",
        "print(s + '4')\n",
        "\n",
        "t = (1, 2, 3)\n",
        "print(t + (4,))\n",
        "\n",
        "# but the immutable data types dont have something equivalent to list append!"
      ],
      "metadata": {
        "id": "28GpHr37eA9p",
        "colab": {
          "base_uri": "https://localhost:8080/"
        },
        "outputId": "38775e92-dce9-40e7-b780-f4aa3fa41461"
      },
      "execution_count": null,
      "outputs": [
        {
          "output_type": "stream",
          "name": "stdout",
          "text": [
            "[1, 2, 3, 4]\n",
            "1234\n",
            "(1, 2, 3, 4)\n"
          ]
        }
      ]
    },
    {
      "cell_type": "code",
      "source": [
        "(1, 1, 1)"
      ],
      "metadata": {
        "colab": {
          "base_uri": "https://localhost:8080/"
        },
        "id": "iic52U0Raa9B",
        "outputId": "17dfbfe1-6fed-4363-e17a-e4ed2e152ace"
      },
      "execution_count": null,
      "outputs": [
        {
          "output_type": "execute_result",
          "data": {
            "text/plain": [
              "(1, 1, 1)"
            ]
          },
          "metadata": {},
          "execution_count": 14
        }
      ]
    },
    {
      "cell_type": "markdown",
      "source": [],
      "metadata": {
        "id": "j9VD_TUY1tp0"
      }
    },
    {
      "cell_type": "markdown",
      "metadata": {
        "id": "6a0b7e2b"
      },
      "source": [
        "### Sets"
      ]
    },
    {
      "cell_type": "markdown",
      "metadata": {
        "id": "20a5301f"
      },
      "source": [
        "- Sets are used to store multiple items in a single variable.\n",
        "- Set is unordered collection\n",
        "- All elements in the set should be unique and immutable\n",
        "- Sets support mathematical operations like union, intersection, symmetric difference\n",
        "- Sets are fast in finding elements\n",
        "\n",
        "#### Set operations\n",
        "- `|`: Union $A \\cup B$\n",
        "- `&`: Intersection $A \\cap B$\n",
        "- `-`: Set difference $A \\setminus B = A \\cap B^C$\n",
        "- `^`: Symmetric difference $A \\triangle B = (A \\setminus B) \\cup (B \\setminus A)$\n",
        "\n",
        "Set literals are defined by curly brackets:\n",
        "```python\n",
        "a = {1, 3, 5, 7, \"A\"}\n",
        "b = {2, 4, 6, \"A\"}\n",
        "```"
      ]
    },
    {
      "cell_type": "code",
      "execution_count": null,
      "metadata": {
        "id": "2df10f35"
      },
      "outputs": [],
      "source": [
        "a = {1, 3, 5, 7, \"A\"}\n",
        "b = {2, 4, 6, \"A\"}"
      ]
    },
    {
      "cell_type": "code",
      "execution_count": null,
      "metadata": {
        "id": "792b819b",
        "colab": {
          "base_uri": "https://localhost:8080/"
        },
        "outputId": "fe82e31f-905c-4b8d-f274-179279c26cea"
      },
      "outputs": [
        {
          "output_type": "execute_result",
          "data": {
            "text/plain": [
              "{1, 2, 3, 4, 5, 6, 7, 'A'}"
            ]
          },
          "metadata": {},
          "execution_count": 16
        }
      ],
      "source": [
        "a | b"
      ]
    },
    {
      "cell_type": "markdown",
      "source": [],
      "metadata": {
        "id": "HOX7ncV9R-2i"
      }
    },
    {
      "cell_type": "code",
      "execution_count": null,
      "metadata": {
        "id": "c3becbec",
        "colab": {
          "base_uri": "https://localhost:8080/"
        },
        "outputId": "85e78806-3f72-44c0-e13b-b76017dc6ff1"
      },
      "outputs": [
        {
          "output_type": "execute_result",
          "data": {
            "text/plain": [
              "{'A'}"
            ]
          },
          "metadata": {},
          "execution_count": 17
        }
      ],
      "source": [
        "a & b"
      ]
    },
    {
      "cell_type": "code",
      "execution_count": null,
      "metadata": {
        "id": "46de3c74",
        "colab": {
          "base_uri": "https://localhost:8080/"
        },
        "outputId": "579f672e-9a3b-47cb-c252-31fd009d2982"
      },
      "outputs": [
        {
          "output_type": "execute_result",
          "data": {
            "text/plain": [
              "{1, 3, 5, 7}"
            ]
          },
          "metadata": {},
          "execution_count": 18
        }
      ],
      "source": [
        "a - b"
      ]
    },
    {
      "cell_type": "code",
      "execution_count": null,
      "metadata": {
        "id": "3916cf97",
        "colab": {
          "base_uri": "https://localhost:8080/"
        },
        "outputId": "00fe26aa-c9ea-436f-b3be-b8753fb42157"
      },
      "outputs": [
        {
          "output_type": "execute_result",
          "data": {
            "text/plain": [
              "{1, 2, 3, 4, 5, 6, 7}"
            ]
          },
          "metadata": {},
          "execution_count": 19
        }
      ],
      "source": [
        "a ^ b"
      ]
    },
    {
      "cell_type": "markdown",
      "metadata": {
        "id": "4adf37fe"
      },
      "source": [
        "Sets are based on a hashtable that allows adding and removing elements very\n",
        "efficiently.\n",
        "\n",
        "<img src=\"https://upload.wikimedia.org/wikipedia/commons/thumb/7/7d/Hash_table_3_1_1_0_1_0_0_SP.svg/2560px-Hash_table_3_1_1_0_1_0_0_SP.svg.png\" width=\"250\"/>\n",
        "\n",
        "#### Adding/removing an element\n",
        "```python\n",
        "a = {1, 3, 5, 7, 'A'}\n",
        "a.add('B')\n",
        "print(a)\n",
        "a.add(\"B\")\n",
        "print(a)\n",
        "```"
      ]
    },
    {
      "cell_type": "code",
      "execution_count": null,
      "metadata": {
        "id": "b4e8d323",
        "colab": {
          "base_uri": "https://localhost:8080/"
        },
        "outputId": "4444a304-8ef4-430e-b59a-49f8f04b6c5c"
      },
      "outputs": [
        {
          "output_type": "stream",
          "name": "stdout",
          "text": [
            "{1, 3, 5, 7, 'B', 'A'}\n",
            "{1, 3, 5, 7, 'B', 'A'}\n"
          ]
        }
      ],
      "source": [
        "a = {1, 3, 5, 7, 'A'}\n",
        "a.add(\"B\")\n",
        "print(a)\n",
        "a.add(\"B\")\n",
        "print(a)"
      ]
    },
    {
      "cell_type": "markdown",
      "metadata": {
        "id": "2c7bd05b"
      },
      "source": [
        "```python\n",
        "a = {1, 3, 5, 7, 'A'}\n",
        "a.remove(1)\n",
        "print(a)\n",
        "```"
      ]
    },
    {
      "cell_type": "code",
      "execution_count": null,
      "metadata": {
        "id": "711514c3",
        "colab": {
          "base_uri": "https://localhost:8080/"
        },
        "outputId": "3a06d606-48d1-4e8f-9cb0-d74324954395"
      },
      "outputs": [
        {
          "output_type": "stream",
          "name": "stdout",
          "text": [
            "{3, 5, 7, 'A'}\n"
          ]
        }
      ],
      "source": [
        "a = {1, 3, 5, 7, \"A\"}\n",
        "a.remove(1)\n",
        "print(a)"
      ]
    },
    {
      "cell_type": "markdown",
      "metadata": {
        "id": "6a2bb6f5"
      },
      "source": [
        "This is much slower in a list, because with the list, one has to look for the item from the beginning of the list."
      ]
    },
    {
      "cell_type": "code",
      "execution_count": null,
      "metadata": {
        "id": "f6124721",
        "colab": {
          "base_uri": "https://localhost:8080/",
          "height": 178
        },
        "outputId": "ac943264-5c67-4942-93c7-ba6e70474278"
      },
      "outputs": [
        {
          "output_type": "error",
          "ename": "TypeError",
          "evalue": "unhashable type: 'list'",
          "traceback": [
            "\u001b[0;31m---------------------------------------------------------------------------\u001b[0m",
            "\u001b[0;31mTypeError\u001b[0m                                 Traceback (most recent call last)",
            "\u001b[0;32m<ipython-input-23-a8a274e0c1c2>\u001b[0m in \u001b[0;36m<cell line: 2>\u001b[0;34m()\u001b[0m\n\u001b[1;32m      1\u001b[0m \u001b[0ma\u001b[0m \u001b[0;34m=\u001b[0m \u001b[0;34m{\u001b[0m\u001b[0;36m1\u001b[0m\u001b[0;34m,\u001b[0m \u001b[0;36m3\u001b[0m\u001b[0;34m,\u001b[0m \u001b[0;36m5\u001b[0m\u001b[0;34m,\u001b[0m \u001b[0;36m7\u001b[0m\u001b[0;34m,\u001b[0m \u001b[0;34m'A'\u001b[0m\u001b[0;34m}\u001b[0m\u001b[0;34m\u001b[0m\u001b[0;34m\u001b[0m\u001b[0m\n\u001b[0;32m----> 2\u001b[0;31m \u001b[0ma\u001b[0m\u001b[0;34m.\u001b[0m\u001b[0madd\u001b[0m\u001b[0;34m(\u001b[0m\u001b[0;34m[\u001b[0m\u001b[0;36m1\u001b[0m\u001b[0;34m,\u001b[0m \u001b[0;36m3\u001b[0m\u001b[0;34m]\u001b[0m\u001b[0;34m)\u001b[0m\u001b[0;34m\u001b[0m\u001b[0;34m\u001b[0m\u001b[0m\n\u001b[0m\u001b[1;32m      3\u001b[0m \u001b[0mprint\u001b[0m\u001b[0;34m(\u001b[0m\u001b[0ma\u001b[0m\u001b[0;34m)\u001b[0m\u001b[0;34m\u001b[0m\u001b[0;34m\u001b[0m\u001b[0m\n",
            "\u001b[0;31mTypeError\u001b[0m: unhashable type: 'list'"
          ]
        }
      ],
      "source": [
        "a = {1, 3, 5, 7, 'A'}\n",
        "a.add([1, 3])\n",
        "print(a)"
      ]
    },
    {
      "cell_type": "markdown",
      "metadata": {
        "id": "18afba34"
      },
      "source": [
        "This is not allowed because by default, a set can only contain built-in immutable types with all its elements immutable. We can use a tuple instead.\n",
        "\n",
        "Technically, sets can contain \"hashable\" values: see\n",
        "https://docs.python.org/3/glossary.html#term-hashable for its definition."
      ]
    },
    {
      "cell_type": "code",
      "execution_count": null,
      "metadata": {
        "id": "7d29eb4e",
        "colab": {
          "base_uri": "https://localhost:8080/"
        },
        "outputId": "f624af72-2367-482a-9092-3de450ad0b3d"
      },
      "outputs": [
        {
          "output_type": "stream",
          "name": "stdout",
          "text": [
            "{1, 3, 5, 7, 'A', (1, 3)}\n"
          ]
        }
      ],
      "source": [
        "a = {1, 3, 5, 7, 'A'}\n",
        "a.add((1, 3))\n",
        "print(a)"
      ]
    },
    {
      "cell_type": "markdown",
      "metadata": {
        "id": "8e1a2a99"
      },
      "source": [
        "Sets can be converted from a list. Duplicate entries are automaticllay removed.\n",
        "```python\n",
        "l = [1, 3, 5, 7, 'A', \"A\", 1]\n",
        "s = set(l)\n",
        "print(s)\n",
        "```"
      ]
    },
    {
      "cell_type": "code",
      "source": [
        "l = [1, 3, 5, 7, 'A', \"A\", 1]\n",
        "s = set(l)\n",
        "print(s)"
      ],
      "metadata": {
        "id": "SeEMHqo0U2TD",
        "colab": {
          "base_uri": "https://localhost:8080/"
        },
        "outputId": "00f0a6e3-1646-479d-c46d-98c02b2ba845"
      },
      "execution_count": null,
      "outputs": [
        {
          "output_type": "stream",
          "name": "stdout",
          "text": [
            "{1, 3, 5, 7, 'A'}\n"
          ]
        }
      ]
    },
    {
      "cell_type": "markdown",
      "metadata": {
        "id": "525afa92"
      },
      "source": [
        "#### Inclusion.\n",
        "\n",
        "```python\n",
        "a = {1, 3, 5, 7, 'A'}\n",
        "print('A' in a)\n",
        "print('B' in a)\n",
        "```"
      ]
    },
    {
      "cell_type": "code",
      "execution_count": null,
      "metadata": {
        "id": "b6247fca",
        "colab": {
          "base_uri": "https://localhost:8080/"
        },
        "outputId": "499001cf-6b8d-4801-857d-727c9cc9493c"
      },
      "outputs": [
        {
          "output_type": "stream",
          "name": "stdout",
          "text": [
            "True\n",
            "False\n"
          ]
        }
      ],
      "source": [
        "a = {1, 3, 5, 7, 'A'}\n",
        "print(\"A\" in a)\n",
        "print('B' in a)"
      ]
    },
    {
      "cell_type": "markdown",
      "metadata": {
        "id": "ee1bc68f"
      },
      "source": [
        "#### Usage in for loops.\n",
        "```python\n",
        "a = {1, 3, 5, 7, 'A'}\n",
        "for e in a:\n",
        "    print(e)\n",
        "```\n",
        "Since set is unordered, you should only use it  when the order of execution is not important."
      ]
    },
    {
      "cell_type": "code",
      "execution_count": null,
      "metadata": {
        "id": "821f4369",
        "colab": {
          "base_uri": "https://localhost:8080/"
        },
        "outputId": "951800b4-c2b9-4d83-a492-54c960ed3f3b"
      },
      "outputs": [
        {
          "output_type": "stream",
          "name": "stdout",
          "text": [
            "1\n",
            "3\n",
            "5\n",
            "7\n",
            "A\n"
          ]
        }
      ],
      "source": [
        "a = {1, 3, 5, 7, 'A'}\n",
        "for e in a:\n",
        "    print(e)"
      ]
    },
    {
      "cell_type": "markdown",
      "source": [],
      "metadata": {
        "id": "atIcFDH722cp"
      }
    },
    {
      "cell_type": "markdown",
      "metadata": {
        "id": "63c431a8"
      },
      "source": [
        "#### Exercise (5 min)\n",
        "\n",
        "Create a function that checks if two lists have at least one element in common that\n",
        "uses sets.\n",
        "\n",
        "Hints:\n",
        "- Inside a function create two sets from arrays by using `set()` command\n",
        "- Use operator `&` to get intersection of two sets\n",
        "- Check if intersection has any element\n",
        "\n",
        "Think:\n",
        "- Using sets for this task is more computationally efficient then using lists directly. Why?"
      ]
    },
    {
      "cell_type": "code",
      "source": [
        "def has_something_in_common_set(l1, l2):\n",
        "    s1 = set(l1)\n",
        "    s2 = set(l2)\n",
        "    intersection = s1 & s2\n",
        "    n_elements = len(intersection)\n",
        "    return n_elements > 0"
      ],
      "metadata": {
        "id": "p4Z_7JH0XRhS"
      },
      "execution_count": null,
      "outputs": []
    },
    {
      "cell_type": "code",
      "source": [
        "l1 = [1, 2, 3, 4,5]\n",
        "l2 = [6, 7, 8, 9, 10]\n",
        "has_something_in_common_set(l1, l2)"
      ],
      "metadata": {
        "id": "_1yhuZZDX5Xu",
        "colab": {
          "base_uri": "https://localhost:8080/"
        },
        "outputId": "071c5d17-2349-487b-ef5e-ac0762d74d31"
      },
      "execution_count": null,
      "outputs": [
        {
          "output_type": "execute_result",
          "data": {
            "text/plain": [
              "False"
            ]
          },
          "metadata": {},
          "execution_count": 30
        }
      ]
    },
    {
      "cell_type": "markdown",
      "source": [],
      "metadata": {
        "id": "XZerYQlRd45G"
      }
    },
    {
      "cell_type": "markdown",
      "metadata": {
        "id": "544599d5"
      },
      "source": [
        "### Task 1.  Attack of the CipherTexts\n",
        "\n",
        "- Ruby is a code-breaker. She knows that the very bad people (Mr. X and Mr. Z) are sendingsecret messages about very bad things to each other.\n",
        "- However, Ruby has managed to intercept a plaintext message and the corresponding ciphertext message.\n",
        "- Your job is to automate Ruby's codebreaking and help save the world.\n",
        "\n",
        "- __Input__: The input consists of 3 strings, with each string on a separate line. The first string is the plaintext message which Ruby knows about. The second string is the ciphertext message which corresponds to the plaintext message. The third string is another ciphertext message.\n",
        "- __Output__: A string which corresponds to the second ciphertext input\n",
        "\n",
        "- Sample input:\n",
        "```\n",
        "THE QUICK BROWN FOX JUMPS OVER THE LAZY DOG\n",
        "UIFARVJDLACSPXOAGPYAKVNQTAPWFSAUIFAMB ZAEPH\n",
        "XFABSFAWFSZACBEAQFPQMFAEPJOHAWFSZACBEAUIJOHTAIBAIB\n",
        "```\n",
        "- Sample output:\n",
        "```\n",
        "WE ARE VERY BAD PEOPLE DOING VERY BAD THINGS HA HA\n",
        "```"
      ]
    },
    {
      "cell_type": "markdown",
      "metadata": {
        "id": "022e71b7"
      },
      "source": [
        "### Dictionaries\n",
        "\n",
        "- Dictionaries stores key-value pairs\n",
        "- Dictionaries like sets use hash-tables for keys and therefore they are very efficient at finding elements\n",
        "\n",
        "```python\n",
        "d = {\"name\": \"Zara\",\n",
        "     \"age\": 34,\n",
        "     \"position\": \"software engineer\",\n",
        "     \"degree\": \"BS\"\n",
        "    }\n",
        "```"
      ]
    },
    {
      "cell_type": "code",
      "execution_count": null,
      "metadata": {
        "id": "71d113fc"
      },
      "outputs": [],
      "source": [
        "d = {\"name\": \"Zara\",\n",
        "     \"age\": 34,\n",
        "     \"position\": \"software engineer\",\n",
        "     \"degree\": \"BS\"}"
      ]
    },
    {
      "cell_type": "markdown",
      "metadata": {
        "id": "8801e252"
      },
      "source": [
        "Dictionaries have `.keys()` method that lists keys in the dictionary:"
      ]
    },
    {
      "cell_type": "code",
      "execution_count": null,
      "metadata": {
        "id": "fa49b5c3",
        "colab": {
          "base_uri": "https://localhost:8080/"
        },
        "outputId": "46363c2f-92de-43cc-f619-0cf071b4b102"
      },
      "outputs": [
        {
          "output_type": "execute_result",
          "data": {
            "text/plain": [
              "dict_keys(['name', 'age', 'position', 'degree'])"
            ]
          },
          "metadata": {},
          "execution_count": 32
        }
      ],
      "source": [
        "d.keys()"
      ]
    },
    {
      "cell_type": "markdown",
      "metadata": {
        "id": "225f586a"
      },
      "source": [
        "Dictionaries also have `.values()` method that lists values in the dictionary."
      ]
    },
    {
      "cell_type": "code",
      "execution_count": null,
      "metadata": {
        "id": "56a28f50",
        "colab": {
          "base_uri": "https://localhost:8080/"
        },
        "outputId": "4dcddf95-d461-4efb-c0b7-a45ad70de325"
      },
      "outputs": [
        {
          "output_type": "execute_result",
          "data": {
            "text/plain": [
              "dict_values(['Zara', 34, 'software engineer', 'BS'])"
            ]
          },
          "metadata": {},
          "execution_count": 33
        }
      ],
      "source": [
        "d.values()"
      ]
    },
    {
      "cell_type": "markdown",
      "metadata": {
        "id": "95e020d3"
      },
      "source": [
        "Also, there is `.items()` method that lists key-value pairs."
      ]
    },
    {
      "cell_type": "code",
      "execution_count": null,
      "metadata": {
        "id": "b61ff70a",
        "colab": {
          "base_uri": "https://localhost:8080/"
        },
        "outputId": "e4ea59a2-ee53-4728-9bfe-c74abc970498"
      },
      "outputs": [
        {
          "output_type": "execute_result",
          "data": {
            "text/plain": [
              "dict_items([('name', 'Zara'), ('age', 34), ('position', 'software engineer'), ('degree', 'BS')])"
            ]
          },
          "metadata": {},
          "execution_count": 34
        }
      ],
      "source": [
        "d.items()"
      ]
    },
    {
      "cell_type": "markdown",
      "metadata": {
        "id": "63920ab7"
      },
      "source": [
        "One may find a value by key using square brackets(`[]`):\n",
        "```python\n",
        "d[\"name\"]\n",
        "```"
      ]
    },
    {
      "cell_type": "code",
      "execution_count": null,
      "metadata": {
        "id": "7ed1d443",
        "colab": {
          "base_uri": "https://localhost:8080/",
          "height": 35
        },
        "outputId": "1b27fb8d-076e-4390-cb79-503736e1eda1"
      },
      "outputs": [
        {
          "output_type": "execute_result",
          "data": {
            "text/plain": [
              "'Zara'"
            ],
            "application/vnd.google.colaboratory.intrinsic+json": {
              "type": "string"
            }
          },
          "metadata": {},
          "execution_count": 35
        }
      ],
      "source": [
        "d[\"name\"]"
      ]
    },
    {
      "cell_type": "markdown",
      "metadata": {
        "id": "e955e6c2"
      },
      "source": [
        "```python\n",
        "d[\"degree\"]\n",
        "```"
      ]
    },
    {
      "cell_type": "code",
      "execution_count": null,
      "metadata": {
        "id": "2fc1fd14",
        "colab": {
          "base_uri": "https://localhost:8080/",
          "height": 35
        },
        "outputId": "7ce2e7c4-7f8d-4f5a-ba90-05eec4d49ca5"
      },
      "outputs": [
        {
          "output_type": "execute_result",
          "data": {
            "text/plain": [
              "'BS'"
            ],
            "application/vnd.google.colaboratory.intrinsic+json": {
              "type": "string"
            }
          },
          "metadata": {},
          "execution_count": 36
        }
      ],
      "source": [
        "d[\"degree\"]"
      ]
    },
    {
      "cell_type": "markdown",
      "metadata": {
        "id": "6c396f5e"
      },
      "source": [
        "Dictionaries are mutable: you can change the value corresponding to a certain key.\n",
        "```python\n",
        "d[\"degree\"] = \"MS\"\n",
        "d[\"degree\"]\n",
        "```\n"
      ]
    },
    {
      "cell_type": "code",
      "execution_count": null,
      "metadata": {
        "id": "1e7fa803",
        "colab": {
          "base_uri": "https://localhost:8080/",
          "height": 35
        },
        "outputId": "98a3a07e-f8c6-4a45-ced9-b9d63dc5756b"
      },
      "outputs": [
        {
          "output_type": "execute_result",
          "data": {
            "text/plain": [
              "'MS'"
            ],
            "application/vnd.google.colaboratory.intrinsic+json": {
              "type": "string"
            }
          },
          "metadata": {},
          "execution_count": 37
        }
      ],
      "source": [
        "d[\"degree\"] = \"MS\"\n",
        "d[\"degree\"]"
      ]
    },
    {
      "cell_type": "code",
      "execution_count": null,
      "metadata": {
        "id": "ac9ce3de",
        "colab": {
          "base_uri": "https://localhost:8080/"
        },
        "outputId": "d879dd83-a3ff-4c4b-d3db-883d713faf0b"
      },
      "outputs": [
        {
          "output_type": "execute_result",
          "data": {
            "text/plain": [
              "{'name': 'Zara', 'age': 34, 'position': 'software engineer', 'degree': 'MS'}"
            ]
          },
          "metadata": {},
          "execution_count": 38
        }
      ],
      "source": [
        "d"
      ]
    },
    {
      "cell_type": "markdown",
      "metadata": {
        "id": "3aaaed77"
      },
      "source": [
        "One my iterate over a dictionary using a for loop:\n",
        "```python\n",
        "for k in d:\n",
        "    print(\"{}: {}\".format(k, d[k]))\n",
        "```"
      ]
    },
    {
      "cell_type": "code",
      "execution_count": null,
      "metadata": {
        "id": "f112b0f6",
        "colab": {
          "base_uri": "https://localhost:8080/"
        },
        "outputId": "c5b74f5c-52e7-4ec9-f9ef-b71829cd0e49"
      },
      "outputs": [
        {
          "output_type": "stream",
          "name": "stdout",
          "text": [
            "name: Zara\n",
            "age: 34\n",
            "position: software engineer\n",
            "degree: MS\n"
          ]
        }
      ],
      "source": [
        "for k in d:\n",
        "    print(f\"{k}: {d[k]}\")"
      ]
    },
    {
      "cell_type": "markdown",
      "metadata": {
        "id": "c2038740"
      },
      "source": [
        "One may also use `.items()` method:\n",
        "\n",
        "```python\n",
        "for (k, v) in d.items():\n",
        "    print(\"{}: {}\".format(k, v))\n",
        "```"
      ]
    },
    {
      "cell_type": "code",
      "execution_count": null,
      "metadata": {
        "id": "71d8ae61",
        "colab": {
          "base_uri": "https://localhost:8080/"
        },
        "outputId": "8f893948-aef6-4019-bfb4-7e640e0ac4cb"
      },
      "outputs": [
        {
          "output_type": "stream",
          "name": "stdout",
          "text": [
            "name: Zara\n",
            "age: 34\n",
            "position: software engineer\n",
            "degree: MS\n"
          ]
        }
      ],
      "source": [
        "for (k, v) in d.items():\n",
        "    print(\"{}: {}\".format(k, v))"
      ]
    },
    {
      "cell_type": "markdown",
      "metadata": {
        "id": "fe4339cc"
      },
      "source": [
        "### Back to the Task.\n",
        "- Ruby is a code-breaker. She knows that the very bad people (Mr. X and Mr. Z) are sendingsecret messages about very bad things to each other.\n",
        "- However, Ruby has managed to intercept a plaintext message and the corresponding ciphertext message.\n",
        "- Your job is to automate Ruby's codebreaking and help save the world.\n",
        "\n",
        "- __Input__: The input consists of 3 strings, with each string on a separate line. The first string is the plaintext message which Ruby knows about. The second string is the ciphertext message which corresponds to the plaintext message. The third string is another ciphertext message.\n",
        "- __Output__: A string which corresponds to the second ciphertext input\n",
        "\n",
        "- Sample input:\n",
        "```\n",
        "THE QUICK BROWN FOX JUMPS OVER THE LAZY DOG\n",
        "UIFARVJDLACSPXOAGPYAKVNQTAPWFSAUIFAMB ZAEPH\n",
        "XFABSFAWFSZACBEAQFPQMFAEPJOHAWFSZACBEAUIJOHTAIBAIB\n",
        "```\n",
        "- Sample output:\n",
        "```\n",
        "WE ARE VERY BAD PEOPLE DOING VERY BAD THINGS HA HA\n",
        "```"
      ]
    },
    {
      "cell_type": "code",
      "execution_count": null,
      "metadata": {
        "id": "23a3e598",
        "colab": {
          "base_uri": "https://localhost:8080/"
        },
        "outputId": "ecf17e14-af4e-40db-869a-57e262c72cb7"
      },
      "outputs": [
        {
          "name": "stdout",
          "output_type": "stream",
          "text": [
            "Correct plain text: THE QUICK BROWN FOX JUMPS OVER THE LAZY DOG\n",
            "Cipher text: UIFARVJDLACSPXOAGPYAKVNQTAPWFSAUIFAMB ZAEPH\n",
            "Cipher text to decode: XFABSFAWFSZACBEAQFPQMFAEPJOHAWFSZACBEAUIJOHTAIBAIB\n"
          ]
        }
      ],
      "source": [
        "plaintext_correct = input(\"Correct plain text: \")\n",
        "cipher_text = input(\"Cipher text: \")\n",
        "cipher_text_to_decode = input(\"Cipher text to decode: \")"
      ]
    },
    {
      "cell_type": "code",
      "source": [
        "d = dict()\n",
        "for (i, c) in enumerate(cipher_text):\n",
        "    d[c] = plaintext_correct[i]"
      ],
      "metadata": {
        "id": "6ImUQBE-adU2"
      },
      "execution_count": null,
      "outputs": []
    },
    {
      "cell_type": "code",
      "source": [
        "result = \"\"\n",
        "for c in cipher_text_to_decode:\n",
        "    result += d[c]\n",
        "\n",
        "print(result)"
      ],
      "metadata": {
        "colab": {
          "base_uri": "https://localhost:8080/"
        },
        "id": "wPArE0I1lOHZ",
        "outputId": "5e1c41f9-80a9-4846-cfab-71f48e4f0f3f"
      },
      "execution_count": null,
      "outputs": [
        {
          "output_type": "stream",
          "name": "stdout",
          "text": [
            "WE ARE VERY BAD PEOPLE DOING VERY BAD THINGS HA HA\n"
          ]
        }
      ]
    },
    {
      "cell_type": "code",
      "source": [
        "d[\"a\"]"
      ],
      "metadata": {
        "colab": {
          "base_uri": "https://localhost:8080/",
          "height": 143
        },
        "id": "1_ogwjKnmeET",
        "outputId": "21720935-1fbe-4ff3-8a63-bef6f8a1c982"
      },
      "execution_count": null,
      "outputs": [
        {
          "output_type": "error",
          "ename": "KeyError",
          "evalue": "'a'",
          "traceback": [
            "\u001b[0;31m---------------------------------------------------------------------------\u001b[0m",
            "\u001b[0;31mKeyError\u001b[0m                                  Traceback (most recent call last)",
            "\u001b[0;32m<ipython-input-45-6c5b6821b303>\u001b[0m in \u001b[0;36m<cell line: 1>\u001b[0;34m()\u001b[0m\n\u001b[0;32m----> 1\u001b[0;31m \u001b[0md\u001b[0m\u001b[0;34m[\u001b[0m\u001b[0;34m\"a\"\u001b[0m\u001b[0;34m]\u001b[0m\u001b[0;34m\u001b[0m\u001b[0;34m\u001b[0m\u001b[0m\n\u001b[0m",
            "\u001b[0;31mKeyError\u001b[0m: 'a'"
          ]
        }
      ]
    },
    {
      "cell_type": "markdown",
      "source": [
        "### When to use `tuple` vs. `list` vs. `set`/`dict`?\n",
        "\n",
        "- list is more flexible.\n",
        "\n",
        "- immutable objects, including `tuples` can be a key in a `dict` or `set`. (more precisely, built-in immutable objects support `hash()`, if you're familiar with the concept of hash tables, hash maps.) They are faster than lists.  https://docs.python.org/3/library/functions.html#hash\n",
        "- searching for an item is the fastest in `set` or `dict`."
      ],
      "metadata": {
        "id": "ZsQrIO6hgK1R"
      }
    },
    {
      "cell_type": "markdown",
      "source": [
        "\n"
      ],
      "metadata": {
        "id": "BuFj8izO3hHw"
      }
    },
    {
      "cell_type": "markdown",
      "metadata": {
        "id": "97d99488"
      },
      "source": [
        "### Example.\n",
        "\n",
        "You are given `N` numbers, `a1`, `a2`, `a3`, ..., `aN`. Output all the modes of this list on a single line.  The mode of a list is/are the value(s) that appear(s) the most times\n",
        "relative to the other values in the list. It is guaranteed that at least one mode\n",
        "exists.\n",
        "\n",
        "#### Sample Input (to be read through input() function)\n",
        "The first line contains one number, $N$. The second line contains  spaced integers, $a_i$, the numbers in this list.\n",
        "\n",
        "```\n",
        "10\n",
        "9 2 9 6 8 7 1 3 9 6\n",
        "```\n",
        "\n",
        "#### Sample Output (printed)\n",
        "\n",
        "On one line, output the modes of the $N$ numbers in increasing order.\n",
        "\n",
        "```\n",
        "9\n",
        "```\n",
        "\n",
        "From: https://dmoj.ca/problem/dmopc19c3p1"
      ]
    },
    {
      "cell_type": "code",
      "source": [
        "d = dict()"
      ],
      "metadata": {
        "id": "OqslFTJTbc6y"
      },
      "execution_count": null,
      "outputs": []
    },
    {
      "cell_type": "markdown",
      "metadata": {
        "id": "5d543c42"
      },
      "source": [
        "Step 1: Write a function `mode()` that takes a list of a numbers as an input, and returns the list of modes, sorted."
      ]
    },
    {
      "cell_type": "code",
      "execution_count": null,
      "metadata": {
        "id": "382b8df2"
      },
      "outputs": [],
      "source": [
        "def mode(l):\n",
        "    # count occurrence of each number.\n",
        "    # We build a dictionary with an element as a key,\n",
        "    # and their number of occurrences as a value.\n",
        "    d = dict()\n",
        "\n",
        "\n",
        "    # If the number has not appeared in the list before,\n",
        "    # we create a key with value 1.\n",
        "    # If not, we add 1 to the value.\n",
        "\n",
        "    for i in l:\n",
        "        if i in d.keys():\n",
        "            d[i] += 1\n",
        "        else:\n",
        "            d[i] = 1\n",
        "\n",
        "    # Now, we find the maximum among the values.\n",
        "    # We can use the built-in max() function.\n",
        "    m = max(d.values())\n",
        "\n",
        "    # Finally, build a list of modes. sort it. Return the list.\n",
        "    l_modes = []\n",
        "    for i in d.keys():\n",
        "        if d[i] == m:\n",
        "            l_modes.append(i)\n",
        "    l_modes.sort()\n",
        "    return l_modes\n"
      ]
    },
    {
      "cell_type": "code",
      "execution_count": null,
      "metadata": {
        "id": "e30759ac",
        "colab": {
          "base_uri": "https://localhost:8080/"
        },
        "outputId": "e08923bb-ff95-49d3-9a69-393e2df2838a"
      },
      "outputs": [
        {
          "output_type": "execute_result",
          "data": {
            "text/plain": [
              "[1, 2]"
            ]
          },
          "metadata": {},
          "execution_count": 48
        }
      ],
      "source": [
        "l = [1, 2, 3, 1, 2, 3, 1,2, 3, 1, 2, 5]\n",
        "mode(l)"
      ]
    },
    {
      "cell_type": "markdown",
      "metadata": {
        "id": "f21c9723"
      },
      "source": [
        "Step 2: Build input/output according to the problem's specification."
      ]
    },
    {
      "cell_type": "code",
      "execution_count": null,
      "metadata": {
        "id": "109bde8f",
        "colab": {
          "base_uri": "https://localhost:8080/"
        },
        "outputId": "83943209-5fa3-4e39-fedc-cfa92848ea39"
      },
      "outputs": [
        {
          "name": "stdout",
          "output_type": "stream",
          "text": [
            "12\n",
            "1 2 3 1 2 3 1 2 3 1 2 5\n"
          ]
        }
      ],
      "source": [
        "N = int(input())\n",
        "numbers = input()\n"
      ]
    },
    {
      "cell_type": "code",
      "source": [
        "# list of numbers parsed\n",
        "l = []\n",
        "# splits the string into a list with certain delimiter.\n",
        "tokens = numbers.split(' ')\n",
        "numbers = [int(i) for i in tokens]\n",
        "# for each token, do something...\n",
        "\n",
        "ms = mode(numbers)\n",
        "print(' '.join([str(x) for x in ms]))"
      ],
      "metadata": {
        "colab": {
          "base_uri": "https://localhost:8080/"
        },
        "id": "sEm30HqdpIcW",
        "outputId": "80a70bbb-5620-43b0-a348-d42ca93803a2"
      },
      "execution_count": null,
      "outputs": [
        {
          "output_type": "stream",
          "name": "stdout",
          "text": [
            "1 2\n"
          ]
        }
      ]
    },
    {
      "cell_type": "markdown",
      "source": [
        "`[str(x) for x in ms]` creates a list whose elements are `str(x)` for each element `x` in `ms`. A compact way of writing:\n",
        "```python\n",
        "l = []\n",
        "for x in ms:\n",
        "  l.append(str(x))\n",
        "```\n",
        "it's called __list comprehension__."
      ],
      "metadata": {
        "id": "Z8_ONowA5hRX"
      }
    },
    {
      "cell_type": "code",
      "execution_count": null,
      "metadata": {
        "id": "dace8460",
        "colab": {
          "base_uri": "https://localhost:8080/"
        },
        "outputId": "fd62a2c8-8393-4998-a02d-c0dd5b132d14"
      },
      "outputs": [
        {
          "output_type": "execute_result",
          "data": {
            "text/plain": [
              "[]"
            ]
          },
          "metadata": {},
          "execution_count": 55
        }
      ],
      "source": [
        "l"
      ]
    },
    {
      "cell_type": "markdown",
      "metadata": {
        "id": "8ff7c1a0"
      },
      "source": [
        "### Exercise.\n",
        "\n",
        "Source: https://dmoj.ca/problem/coci14c2p2\n",
        "\n",
        "Numerous local and international recreational runners were eager to take part in this year's Zagreb Marathon! It is an already traditional race 42125 meters long. A curious statistical info is that this year every single contestant managed to complete the race, except one.\n",
        "\n",
        "Since marathons are all about taking part, help the organizers figure out, based on the list of registered contestants and ranking list, the identity of the contestant that did not complete the race.\n",
        "\n",
        "__Input__: The first line of input contains the integer $N$, the number of contestants. Each of the following $N$ lines contains the names of registered contestants.\n",
        "The additional $N-1$ lines contain the names of contestants in the order which they completed the race.\n",
        "\n",
        "The contestants' names will consist of at least one and at most twenty lowercase letters of the English alphabet.\n",
        "\n",
        "The contestants' names won't necessarily be unique.\n",
        "\n",
        "__Output__: print the name of the contestant who didn't finish the race.\n",
        "\n",
        "##### Sample I/O\n",
        "Input:\n",
        "\n",
        "```\n",
        "3\n",
        "leo\n",
        "kiki\n",
        "eden\n",
        "eden\n",
        "kiki\n",
        "```\n",
        "\n",
        "Output:\n",
        "```\n",
        "leo\n",
        "```\n",
        "\n",
        "\n",
        "Input:\n",
        "```\n",
        "5\n",
        "marina\n",
        "josipa\n",
        "nikola\n",
        "vinko\n",
        "filipa\n",
        "josipa\n",
        "filipa\n",
        "marina\n",
        "nikola\n",
        "```\n",
        "\n",
        "Output:\n",
        "```\n",
        "vinko\n",
        "```"
      ]
    },
    {
      "cell_type": "code",
      "source": [],
      "metadata": {
        "id": "WxdJTNWZfO4t"
      },
      "execution_count": null,
      "outputs": []
    },
    {
      "cell_type": "markdown",
      "metadata": {
        "id": "5299e1a2"
      },
      "source": [
        "## Libraries\n",
        "- Libraries are external code that developers can use for their tools.\n",
        "- Libraries contain complex data types and functions for advanced math, data analysis, machine learning, web-parsing, file parsing and other purposes.\n",
        "- Useful libraries are: `sys` (built-in), `math` (built-in), `numpy` (external), `pandas` (external), `matplotlib` (external), and others."
      ]
    },
    {
      "cell_type": "markdown",
      "metadata": {
        "id": "41cbefed"
      },
      "source": [
        "Libraries are important characteristic of how Python works: each application has its libraries.\n",
        "\n",
        "| Package | Description | Logo |\n",
        "|:---:|:---|:---:|\n",
        "| sys | system utilities | |\n",
        "| os | operating system interfaces | |\n",
        "| math | extended math library | |\n",
        "| Numpy | Numerical arrays | <img src=\"https://numpy.org/doc/stable/_static/numpylogo.svg\" width=\"300\"/> |\n",
        "| Scipy | Scientific Python<br>User-friendly and efficient numerical routines:<br> numerical integration, interpolation, optimization, linear algebra, and statistics | <img src=\"https://upload.wikimedia.org/wikipedia/commons/thumb/b/b2/SCIPY_2.svg/1024px-SCIPY_2.svg.png?20200904111722\" width=\"150\"/> |\n",
        "| Matplotlib | Plotting | <img src=\"https://matplotlib.org/stable/_static/logo_dark.svg\" width=\"300\"/>|\n",
        "| Pandas | Data analytics <br> R-like data frames | <img src=\"https://upload.wikimedia.org/wikipedia/commons/thumb/e/ed/Pandas_logo.svg/1024px-Pandas_logo.svg.png\" width=\"300\"/> |\n",
        "| Scikit-learn | Machine learning | <img src=\"https://upload.wikimedia.org/wikipedia/commons/thumb/0/05/Scikit_learn_logo_small.svg/2880px-Scikit_learn_logo_small.svg.png\" width=\"300\"/> |\n",
        "\n",
        "All the packages above are included in Anaconda distribution.\n"
      ]
    },
    {
      "cell_type": "markdown",
      "metadata": {
        "id": "854d9dac"
      },
      "source": [
        "#### A very simple way to create one\n",
        "```python\n",
        "my_module_code = \"\"\"\n",
        "def say_hello(a):\n",
        "    print(\"Hello: {}\".format(a))\n",
        "\"\"\"\n",
        "with open(\"my_module.py\", \"w\") as f:\n",
        "    f.write(my_module_code)\n",
        "```"
      ]
    },
    {
      "cell_type": "code",
      "execution_count": null,
      "metadata": {
        "id": "c416419e"
      },
      "outputs": [],
      "source": [
        "my_module_code = \"\"\"\n",
        "def say_hello(a):\n",
        "    print(\"Hello: {}\".format(a))\n",
        "\"\"\"\n",
        "with open(\"my_module.py\", \"w\") as f:\n",
        "    f.write(my_module_code)"
      ]
    },
    {
      "cell_type": "markdown",
      "metadata": {
        "id": "19b84b4b"
      },
      "source": [
        "Then you can import it by:\n",
        "```python\n",
        "import my_module\n",
        "```\n",
        "and use the function with:\n",
        "```python\n",
        "my_module.say_hello(\"Bob\")\n",
        "```"
      ]
    },
    {
      "cell_type": "code",
      "source": [
        "import my_module"
      ],
      "metadata": {
        "id": "jhVej08KdhZn"
      },
      "execution_count": null,
      "outputs": []
    },
    {
      "cell_type": "code",
      "execution_count": null,
      "metadata": {
        "id": "6b16814e",
        "colab": {
          "base_uri": "https://localhost:8080/"
        },
        "outputId": "d92658c6-60e4-4ee0-e287-2748bf3065e3"
      },
      "outputs": [
        {
          "output_type": "stream",
          "name": "stdout",
          "text": [
            "Hello: Bob\n"
          ]
        }
      ],
      "source": [
        "my_module.say_hello(\"Bob\")"
      ]
    },
    {
      "cell_type": "markdown",
      "metadata": {
        "id": "56700088"
      },
      "source": [
        "Or, you can give a nickname to the module:\n",
        "```python\n",
        "import my_module as m\n",
        "m.say_hello(\"Bob\")\n",
        "```"
      ]
    },
    {
      "cell_type": "code",
      "execution_count": null,
      "metadata": {
        "id": "fbd8ad54",
        "colab": {
          "base_uri": "https://localhost:8080/"
        },
        "outputId": "9a08e7ea-3d47-4146-cca6-5d3f52ce68a9"
      },
      "outputs": [
        {
          "output_type": "stream",
          "name": "stdout",
          "text": [
            "Hello: Bob\n"
          ]
        }
      ],
      "source": [
        "import my_module as m\n",
        "m.say_hello(\"Bob\")"
      ]
    },
    {
      "cell_type": "code",
      "source": [
        "import numpy as np"
      ],
      "metadata": {
        "id": "XHMAsXKbdsx7"
      },
      "execution_count": null,
      "outputs": []
    },
    {
      "cell_type": "markdown",
      "metadata": {
        "id": "2de139d1"
      },
      "source": [
        "### Library `sys`"
      ]
    },
    {
      "cell_type": "code",
      "execution_count": null,
      "metadata": {
        "id": "7619485a"
      },
      "outputs": [],
      "source": [
        "import sys"
      ]
    },
    {
      "cell_type": "markdown",
      "metadata": {
        "id": "314bcf1f"
      },
      "source": [
        "Version of Python you are running:"
      ]
    },
    {
      "cell_type": "code",
      "execution_count": null,
      "metadata": {
        "id": "d0b6bdc0",
        "colab": {
          "base_uri": "https://localhost:8080/"
        },
        "outputId": "144eee5a-4f3a-4658-c3f1-b98ddb24f970"
      },
      "outputs": [
        {
          "output_type": "execute_result",
          "data": {
            "text/plain": [
              "sys.version_info(major=3, minor=10, micro=12, releaselevel='final', serial=0)"
            ]
          },
          "metadata": {},
          "execution_count": 63
        }
      ],
      "source": [
        "sys.version_info"
      ]
    },
    {
      "cell_type": "markdown",
      "metadata": {
        "id": "0c5c608d"
      },
      "source": [
        "Description of floating point numbers:"
      ]
    },
    {
      "cell_type": "code",
      "execution_count": null,
      "metadata": {
        "id": "e3d8f0fe",
        "colab": {
          "base_uri": "https://localhost:8080/"
        },
        "outputId": "188d83c7-aa5d-4381-efce-72861fea875e"
      },
      "outputs": [
        {
          "output_type": "execute_result",
          "data": {
            "text/plain": [
              "sys.float_info(max=1.7976931348623157e+308, max_exp=1024, max_10_exp=308, min=2.2250738585072014e-308, min_exp=-1021, min_10_exp=-307, dig=15, mant_dig=53, epsilon=2.220446049250313e-16, radix=2, rounds=1)"
            ]
          },
          "metadata": {},
          "execution_count": 64
        }
      ],
      "source": [
        "sys.float_info"
      ]
    },
    {
      "cell_type": "markdown",
      "metadata": {
        "id": "09e9fc64"
      },
      "source": [
        "It's standard 64-bit IEEE \"double precision\" representation."
      ]
    },
    {
      "cell_type": "markdown",
      "metadata": {
        "id": "75dd3e49"
      },
      "source": [
        "Check platform you are running on:"
      ]
    },
    {
      "cell_type": "code",
      "execution_count": null,
      "metadata": {
        "id": "7c213e1f",
        "colab": {
          "base_uri": "https://localhost:8080/",
          "height": 35
        },
        "outputId": "220d9473-de4d-4b1e-9d51-f5ac9208f45c"
      },
      "outputs": [
        {
          "output_type": "execute_result",
          "data": {
            "text/plain": [
              "'linux'"
            ],
            "application/vnd.google.colaboratory.intrinsic+json": {
              "type": "string"
            }
          },
          "metadata": {},
          "execution_count": 65
        }
      ],
      "source": [
        "sys.platform"
      ]
    },
    {
      "cell_type": "markdown",
      "metadata": {
        "id": "c86f5946"
      },
      "source": [
        "See what are available in the module `sys`:"
      ]
    },
    {
      "cell_type": "code",
      "execution_count": null,
      "metadata": {
        "id": "b0238915",
        "colab": {
          "base_uri": "https://localhost:8080/"
        },
        "outputId": "eb134c65-472c-4755-a60f-a27b23cfd205"
      },
      "outputs": [
        {
          "output_type": "execute_result",
          "data": {
            "text/plain": [
              "['__breakpointhook__',\n",
              " '__displayhook__',\n",
              " '__doc__',\n",
              " '__excepthook__',\n",
              " '__interactivehook__',\n",
              " '__loader__',\n",
              " '__name__',\n",
              " '__package__',\n",
              " '__spec__',\n",
              " '__stderr__',\n",
              " '__stdin__',\n",
              " '__stdout__',\n",
              " '__unraisablehook__',\n",
              " '_base_executable',\n",
              " '_clear_type_cache',\n",
              " '_current_exceptions',\n",
              " '_current_frames',\n",
              " '_deactivate_opcache',\n",
              " '_debugmallocstats',\n",
              " '_framework',\n",
              " '_getframe',\n",
              " '_git',\n",
              " '_home',\n",
              " '_xoptions',\n",
              " 'abiflags',\n",
              " 'addaudithook',\n",
              " 'api_version',\n",
              " 'argv',\n",
              " 'audit',\n",
              " 'base_exec_prefix',\n",
              " 'base_prefix',\n",
              " 'breakpointhook',\n",
              " 'builtin_module_names',\n",
              " 'byteorder',\n",
              " 'call_tracing',\n",
              " 'copyright',\n",
              " 'displayhook',\n",
              " 'dont_write_bytecode',\n",
              " 'exc_info',\n",
              " 'excepthook',\n",
              " 'exec_prefix',\n",
              " 'executable',\n",
              " 'exit',\n",
              " 'flags',\n",
              " 'float_info',\n",
              " 'float_repr_style',\n",
              " 'get_asyncgen_hooks',\n",
              " 'get_coroutine_origin_tracking_depth',\n",
              " 'get_int_max_str_digits',\n",
              " 'getallocatedblocks',\n",
              " 'getdefaultencoding',\n",
              " 'getdlopenflags',\n",
              " 'getfilesystemencodeerrors',\n",
              " 'getfilesystemencoding',\n",
              " 'getprofile',\n",
              " 'getrecursionlimit',\n",
              " 'getrefcount',\n",
              " 'getsizeof',\n",
              " 'getswitchinterval',\n",
              " 'gettrace',\n",
              " 'hash_info',\n",
              " 'hexversion',\n",
              " 'implementation',\n",
              " 'int_info',\n",
              " 'intern',\n",
              " 'is_finalizing',\n",
              " 'last_traceback',\n",
              " 'last_type',\n",
              " 'last_value',\n",
              " 'maxsize',\n",
              " 'maxunicode',\n",
              " 'meta_path',\n",
              " 'modules',\n",
              " 'orig_argv',\n",
              " 'path',\n",
              " 'path_hooks',\n",
              " 'path_importer_cache',\n",
              " 'platform',\n",
              " 'platlibdir',\n",
              " 'prefix',\n",
              " 'ps1',\n",
              " 'ps2',\n",
              " 'ps3',\n",
              " 'pycache_prefix',\n",
              " 'set_asyncgen_hooks',\n",
              " 'set_coroutine_origin_tracking_depth',\n",
              " 'set_int_max_str_digits',\n",
              " 'setdlopenflags',\n",
              " 'setprofile',\n",
              " 'setrecursionlimit',\n",
              " 'setswitchinterval',\n",
              " 'settrace',\n",
              " 'stderr',\n",
              " 'stdin',\n",
              " 'stdlib_module_names',\n",
              " 'stdout',\n",
              " 'thread_info',\n",
              " 'unraisablehook',\n",
              " 'version',\n",
              " 'version_info',\n",
              " 'warnoptions']"
            ]
          },
          "metadata": {},
          "execution_count": 66
        }
      ],
      "source": [
        "dir(sys)"
      ]
    },
    {
      "cell_type": "markdown",
      "metadata": {
        "id": "4c85e419"
      },
      "source": [
        "## Running scripts"
      ]
    },
    {
      "cell_type": "markdown",
      "metadata": {
        "id": "bab934ae"
      },
      "source": [
        "So far, we have learned how to write python code in Jupyter Notebook. However, for large-scale programs, or if you want to run your program on a shared machine or cluster, Jupyter Notebook is not a good application to run Python code. Now, we will learn how to run code directly in terminal. Jupyter Notebook can also send commands by running cells that starts with a `!`. It is equivalent to typing the command in your terminal.  "
      ]
    },
    {
      "cell_type": "code",
      "execution_count": null,
      "metadata": {
        "id": "10635df2",
        "colab": {
          "base_uri": "https://localhost:8080/"
        },
        "outputId": "519ed844-b9f6-483c-9ba1-4a658bf284b7"
      },
      "outputs": [
        {
          "output_type": "stream",
          "name": "stdout",
          "text": [
            "Python 3.10.12\n"
          ]
        }
      ],
      "source": [
        "!python --version"
      ]
    },
    {
      "cell_type": "code",
      "execution_count": null,
      "metadata": {
        "id": "6e1fa334"
      },
      "outputs": [],
      "source": [
        "with open(\"my_first_script.py\", \"w\") as f_out:\n",
        "    f_out.write(\"\"\"print(\"This is output from my first script!\")\"\"\")"
      ]
    },
    {
      "cell_type": "markdown",
      "metadata": {
        "id": "e0e3ea8d"
      },
      "source": [
        "Let's see the content of the newly-created python script:"
      ]
    },
    {
      "cell_type": "code",
      "execution_count": null,
      "metadata": {
        "id": "4fa0a23e",
        "colab": {
          "base_uri": "https://localhost:8080/"
        },
        "outputId": "4a421520-6517-445f-ed28-47bec5da9d66"
      },
      "outputs": [
        {
          "output_type": "stream",
          "name": "stdout",
          "text": [
            "print(\"This is output from my first script!\")"
          ]
        }
      ],
      "source": [
        "!cat my_first_script.py"
      ]
    },
    {
      "cell_type": "markdown",
      "metadata": {
        "id": "b2ac0f93"
      },
      "source": [
        "Let's run this python script:"
      ]
    },
    {
      "cell_type": "code",
      "execution_count": null,
      "metadata": {
        "id": "aa0f7525",
        "colab": {
          "base_uri": "https://localhost:8080/"
        },
        "outputId": "a9f9ec04-f6e4-4785-8bcb-d39f68ff47b1"
      },
      "outputs": [
        {
          "output_type": "stream",
          "name": "stdout",
          "text": [
            "This is output from my first script!\n"
          ]
        }
      ],
      "source": [
        "!python my_first_script.py"
      ]
    },
    {
      "cell_type": "markdown",
      "metadata": {
        "id": "ea4325e6"
      },
      "source": [
        "### User arguments\n",
        "\n",
        "```python\n",
        "import sys\n",
        "print(\"This is the name of the program: \", sys.argv[0])\n",
        "print(\"\\nArgument list: \\n\", \"\\n\".join(sys.argv), end=\"\")\n",
        "```\n",
        "Future reading: Check argparse python library if you need working with user's input. It is much more efficient than directly using `sys.argv`. https://docs.python.org/3/library/argparse.html"
      ]
    },
    {
      "cell_type": "code",
      "execution_count": null,
      "metadata": {
        "id": "129f38fe",
        "colab": {
          "base_uri": "https://localhost:8080/"
        },
        "outputId": "c169d5a1-04d4-42cb-acf7-262226a428a0"
      },
      "outputs": [
        {
          "output_type": "stream",
          "name": "stdout",
          "text": [
            "This is the name of the program:  /usr/local/lib/python3.10/dist-packages/colab_kernel_launcher.py\n",
            "\n",
            "Argument list: \n",
            " /usr/local/lib/python3.10/dist-packages/colab_kernel_launcher.py\n",
            "-f\n",
            "/root/.local/share/jupyter/runtime/kernel-f333037e-c1ab-4809-88d6-659fc51cbc8e.json"
          ]
        }
      ],
      "source": [
        "import sys\n",
        "print(\"This is the name of the program: \", sys.argv[0])\n",
        "print(\"\\nArgument list: \\n\", \"\\n\".join(sys.argv), end=\"\")"
      ]
    },
    {
      "cell_type": "markdown",
      "metadata": {
        "id": "501be3cb"
      },
      "source": [
        "### Running program with user arguments\n",
        "\n",
        "#### Example:\n",
        "\n",
        "Write a program that accepts two\n",
        "integers `x` and `y` from command line user arguments and prints `x **2 + y` on\n",
        "the display.\n",
        "\n",
        "The code would be:\n",
        "```python\n",
        "my_program = \"\"\"\n",
        "import sys\n",
        "x = int(sys.argv[1])\n",
        "y = int(sys.argv[2])\n",
        "\n",
        "print(\"x squared plus y equals to {}\".format(x ** 2 + y))\n",
        "\"\"\"\n",
        "```"
      ]
    },
    {
      "cell_type": "code",
      "execution_count": null,
      "metadata": {
        "id": "441e5180"
      },
      "outputs": [],
      "source": [
        "my_program = \"\"\"\n",
        "import sys\n",
        "x = int(sys.argv[1])\n",
        "y = int(sys.argv[2])\n",
        "\n",
        "print(\"x squared plus y equals to {}\".format(x ** 2 + y))\n",
        "\"\"\""
      ]
    },
    {
      "cell_type": "markdown",
      "metadata": {
        "id": "6e36d663"
      },
      "source": [
        "We would like to save it as a file with an extension `.py`. One may just copy-paste the code above to a new `.py` file, or:\n",
        "```python\n",
        "with open(\"x_sq_pl_y.py\", \"w\") as f_out:\n",
        "    f_out.write(my_program)\n",
        "```"
      ]
    },
    {
      "cell_type": "code",
      "execution_count": null,
      "metadata": {
        "id": "690a4f6a"
      },
      "outputs": [],
      "source": [
        "with open(\"x_sq_pl_y.py\", \"w\") as f_out:\n",
        "    f_out.write(my_program)"
      ]
    },
    {
      "cell_type": "markdown",
      "metadata": {
        "id": "29b85a1e"
      },
      "source": [
        "Then we can test our script with:\n",
        "```bash\n",
        "!python x_sq_pl_y.py 5 4\n",
        "```"
      ]
    },
    {
      "cell_type": "code",
      "execution_count": null,
      "metadata": {
        "id": "ccfc3dcc",
        "colab": {
          "base_uri": "https://localhost:8080/"
        },
        "outputId": "e95ed9cf-ea69-46d6-a180-b30831d0fd00"
      },
      "outputs": [
        {
          "output_type": "stream",
          "name": "stdout",
          "text": [
            "x squared plus y equals to 29\n"
          ]
        }
      ],
      "source": [
        "!python x_sq_pl_y.py 5 4"
      ]
    },
    {
      "cell_type": "markdown",
      "source": [
        "## NumPy\n",
        "\n",
        "In standard python, the data collections are the `list`s.\n",
        "\n",
        "| Advantages | Disadvantages (for scientists) |\n",
        "|:---|:---|\n",
        "|- Can contain different types of objects<br>- Easy insertion<br>- Easy concatenation |- Sum of two lists is concatenation, not vector addition<br>- Slow for large lists<br>- No useful function (mean, variance, maximum, etc.)|\n",
        "\n",
        "Scientists would like an object closer to the notion of vector or matrix. NumPy implements that.\n",
        "Thus, nearly all other scientific libraries in Python are based on NumPy. (dubbed \"NumPy ecosystem\")\n",
        "\n",
        "\n",
        "NumPy is a library for large multidimensional arrays and matrices, and math operations with them."
      ],
      "metadata": {
        "id": "B6sjHd5RmDC3"
      }
    },
    {
      "cell_type": "code",
      "source": [
        "import numpy"
      ],
      "metadata": {
        "id": "Xp9FfEOEmM3r"
      },
      "execution_count": null,
      "outputs": []
    },
    {
      "cell_type": "markdown",
      "source": [
        "To create a NumPy array, use `variable = numpy.array(Array_Like)`."
      ],
      "metadata": {
        "id": "8hXcEU6dmWMa"
      }
    },
    {
      "cell_type": "code",
      "source": [
        "a = [1,2,3,4,5]\n",
        "print( type(a) )   # displays the type of the variable a\n",
        "\n",
        "b = numpy.array( [1,2,3,4,5] )\n",
        "print( type(b) )   # displays the type of the variable b"
      ],
      "metadata": {
        "id": "qeNuC_oUma0u",
        "colab": {
          "base_uri": "https://localhost:8080/"
        },
        "outputId": "1aecf841-6742-425d-9769-5c7334efb0b1"
      },
      "execution_count": null,
      "outputs": [
        {
          "output_type": "stream",
          "name": "stdout",
          "text": [
            "<class 'list'>\n",
            "<class 'numpy.ndarray'>\n"
          ]
        }
      ]
    },
    {
      "cell_type": "markdown",
      "source": [
        "We are going to use `numpy` a lot, and five letter seems to be too much to type each time... It is extremely common to rename it as `np` (just a nickname)."
      ],
      "metadata": {
        "id": "gXn63yI-mYCU"
      }
    },
    {
      "cell_type": "code",
      "source": [
        "import numpy as np  # allows user to use np instead of numpy\n",
        "\n",
        "c = np.array( [5,4,3,2,1] )\n",
        "print( type(c) )    # displays the type of the variable c"
      ],
      "metadata": {
        "id": "UYFn4Hd8mefo",
        "colab": {
          "base_uri": "https://localhost:8080/"
        },
        "outputId": "d1833170-02e5-428c-c4d2-5bb9c8f2d269"
      },
      "execution_count": null,
      "outputs": [
        {
          "output_type": "stream",
          "name": "stdout",
          "text": [
            "<class 'numpy.ndarray'>\n"
          ]
        }
      ]
    },
    {
      "cell_type": "markdown",
      "source": [
        "Using mathematical operations on lists vs. numpy arrays:"
      ],
      "metadata": {
        "id": "YcjMa2psm73A"
      }
    },
    {
      "cell_type": "code",
      "source": [
        "print(\"Sum of lists: \", a + a)\n"
      ],
      "metadata": {
        "id": "Aw2pDlAAnMCE",
        "colab": {
          "base_uri": "https://localhost:8080/"
        },
        "outputId": "78340ccd-576c-49af-b4ed-52f213787864"
      },
      "execution_count": null,
      "outputs": [
        {
          "output_type": "stream",
          "name": "stdout",
          "text": [
            "Sum of lists:  [1, 2, 3, 4, 5, 1, 2, 3, 4, 5]\n"
          ]
        }
      ]
    },
    {
      "cell_type": "code",
      "source": [
        "print(\"Sum of NumPy arrays: \", b + c )\n"
      ],
      "metadata": {
        "id": "CCErLPA9nL_x",
        "colab": {
          "base_uri": "https://localhost:8080/"
        },
        "outputId": "5a72487c-28e6-4742-be40-34ded864a520"
      },
      "execution_count": null,
      "outputs": [
        {
          "output_type": "stream",
          "name": "stdout",
          "text": [
            "Sum of NumPy arrays:  [6 6 6 6 6]\n"
          ]
        }
      ]
    },
    {
      "cell_type": "code",
      "source": [
        "print(\"Original array: \", b)\n"
      ],
      "metadata": {
        "id": "P3x32pEUnL98",
        "colab": {
          "base_uri": "https://localhost:8080/"
        },
        "outputId": "1d5ad2bc-45a6-4567-ed90-5f863e6530d6"
      },
      "execution_count": null,
      "outputs": [
        {
          "output_type": "stream",
          "name": "stdout",
          "text": [
            "Original array:  [1 2 3 4 5]\n"
          ]
        }
      ]
    },
    {
      "cell_type": "markdown",
      "source": [
        "Items in a list occupy different memory locations, operations that take place directly on lists typically require allocating memory many times.\n",
        "\n",
        "On the other hand, arrays as defined via `numpy` occupy a single, contiguous chunk of memory. This allows `numpy` arrays to occupy significantly less memory, and makes operations involving `numpy` arrays correspondingly faster. This performance improvement is usually only realized for arrays that contain a single data type. For more details on this, see the accompanying [reading](https://jakevdp.github.io/PythonDataScienceHandbook/02.01-understanding-data-types.html) for this lecture.  \n",
        "\n",
        "Arrays are ideally suited for operating on large chunks of numbers or text. Let's look at a simple example to see how `numpy` arrays can dramatically improve the performance of our code. The `%timeit` decorator is a \"magic\" command that will run the supplied line of code many times and print out some measurse of how quickly the code executed."
      ],
      "metadata": {
        "id": "sUNahL5-ppT0"
      }
    },
    {
      "cell_type": "code",
      "source": [
        "def add_lists(L1, L2):\n",
        "    return [L1[i] + L2[i] for i in range(len(L1))]"
      ],
      "metadata": {
        "id": "SH42kIzopaJa"
      },
      "execution_count": null,
      "outputs": []
    },
    {
      "cell_type": "code",
      "source": [
        "L1 = list(range(100))\n",
        "L2 = list(range(100))\n",
        "\n",
        "%timeit add_lists(L1, L2)"
      ],
      "metadata": {
        "id": "vV05WDYmpc1s"
      },
      "execution_count": null,
      "outputs": []
    },
    {
      "cell_type": "code",
      "source": [
        "import numpy as np\n",
        "\n",
        "a1 = np.array(L1) # this how to create an array in Numpy.\n",
        "a2 = np.array(L2)\n",
        "%timeit a1 + a2"
      ],
      "metadata": {
        "id": "35tZb6vdpc3u"
      },
      "execution_count": null,
      "outputs": []
    },
    {
      "cell_type": "code",
      "source": [],
      "metadata": {
        "id": "hjMu03z1pc5p"
      },
      "execution_count": null,
      "outputs": []
    },
    {
      "cell_type": "markdown",
      "source": [
        "### Vectorization\n",
        "\n",
        "You might have noticed that, in the code above, we were able to do `a1 + a2` and get the expected result. As you may have seen already, this doesn't exactly work for lists: `L1 + L2` concatenates the lists, rather than computing the entrywise sum.\n",
        "\n",
        "A *vectorized* function is one that operates on all elements of an array in entrywise fashion. So, we saw above that the `+` function, when applied to arrays, is vectorized. The `numpy` module includes a large number of vectorized functions. These should almost always be used when working with arrays:"
      ],
      "metadata": {
        "id": "LrKMymy5p6bV"
      }
    },
    {
      "cell_type": "code",
      "source": [
        "print(\"Adding a constant: \", b + 7.1 )\n"
      ],
      "metadata": {
        "id": "0z5B9dp7nL70"
      },
      "execution_count": null,
      "outputs": []
    },
    {
      "cell_type": "code",
      "source": [
        "print(\"Multiplying a constant: \", b*2.5 )\n"
      ],
      "metadata": {
        "id": "cD00hCP5nL58"
      },
      "execution_count": null,
      "outputs": []
    },
    {
      "cell_type": "code",
      "source": [
        "print(\"Exponentiation: \", b ** 3 )\n"
      ],
      "metadata": {
        "id": "qwnxgiw2nL3v"
      },
      "execution_count": null,
      "outputs": []
    },
    {
      "cell_type": "code",
      "source": [
        "print(\"Element-wise product: \", b * c )\n"
      ],
      "metadata": {
        "id": "pPihf3KMnL1k"
      },
      "execution_count": null,
      "outputs": []
    },
    {
      "cell_type": "code",
      "source": [
        "print(\"Element-wise division: \", b / c )\n"
      ],
      "metadata": {
        "id": "W9aRU7cNnLyT"
      },
      "execution_count": null,
      "outputs": []
    },
    {
      "cell_type": "code",
      "source": [
        "print(\"Element-wise modulo: \", b % c )\n"
      ],
      "metadata": {
        "id": "01b5p9B7nLrn"
      },
      "execution_count": null,
      "outputs": []
    },
    {
      "cell_type": "code",
      "source": [
        "\n",
        "print(\"Elementwise exponential: \", np.exp(b) )\n",
        "print(\"Elementwise sine: \", np.sin(b) )\n",
        "print(\"Elementwise cosine: \", np.cos(b) )"
      ],
      "metadata": {
        "id": "irNC1e3Um996"
      },
      "execution_count": null,
      "outputs": []
    },
    {
      "cell_type": "markdown",
      "source": [
        "### \"Should I use `numpy` arrays?\"\n",
        "\n",
        "If you will operate on one or more large sets of numbers and are considering writing `for`-loops, stop. Ask yourself whether you can achieve your task with `numpy` arrays instead. 90% of the time, `numpy`-based code is faster to write and faster to execute.\n",
        "\n"
      ],
      "metadata": {
        "id": "enB2MeSIqMpE"
      }
    },
    {
      "cell_type": "markdown",
      "source": [
        "### \"Should I use `for`-loops?\"\n",
        "\n",
        "When working with lists and other basic data structures, yes, absolutely! When working with `numpy` arrays, however, writing `for`-loops is almost always the wrong thing to do. Find a way using vectorized `numpy` code."
      ],
      "metadata": {
        "id": "-KihgADgqWvK"
      }
    },
    {
      "cell_type": "code",
      "source": [],
      "metadata": {
        "id": "rUocQPU1ic5G"
      },
      "execution_count": null,
      "outputs": []
    },
    {
      "cell_type": "code",
      "source": [],
      "metadata": {
        "id": "DtItvT0qiduI"
      },
      "execution_count": null,
      "outputs": []
    },
    {
      "cell_type": "code",
      "source": [
        "import random\n",
        "random.seed(7834)\n",
        "[random.random() for i in range(10)]"
      ],
      "metadata": {
        "colab": {
          "base_uri": "https://localhost:8080/"
        },
        "id": "GaTZzBgfifLJ",
        "outputId": "78c9fa17-52b4-4283-b04e-18c356372ebf"
      },
      "execution_count": null,
      "outputs": [
        {
          "output_type": "execute_result",
          "data": {
            "text/plain": [
              "[0.736446806220831,\n",
              " 0.7627534873373139,\n",
              " 0.21114349582963865,\n",
              " 0.6434164418988436,\n",
              " 0.3825461438662505,\n",
              " 0.07093566634873538,\n",
              " 0.40881168051646444,\n",
              " 0.08332513040834189,\n",
              " 0.004550147818281891,\n",
              " 0.6684131546292377]"
            ]
          },
          "metadata": {},
          "execution_count": 4
        }
      ]
    },
    {
      "cell_type": "code",
      "source": [],
      "metadata": {
        "id": "zX9zq3PEiijH"
      },
      "execution_count": null,
      "outputs": []
    }
  ]
}