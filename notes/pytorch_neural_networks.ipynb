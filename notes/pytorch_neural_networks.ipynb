{
  "cells": [
    {
      "cell_type": "markdown",
      "metadata": {
        "id": "499vobmbp2we"
      },
      "source": [
        "# Introduction to Pytorch & Neural Networks\n",
        "\n"
      ]
    },
    {
      "cell_type": "markdown",
      "metadata": {
        "tags": [],
        "id": "4kqe4zJop2wf"
      },
      "source": [
        "## Learning Objectives\n"
      ]
    },
    {
      "cell_type": "markdown",
      "metadata": {
        "id": "rfcFJiJVp2wf"
      },
      "source": [
        "- Describe the difference between `Numpy` and `torch` arrays (`np.array` vs. `torch.Tensor`)\n",
        "- Explain forward pass in neural networks using vector and matrix notation.\n",
        "- Explain fundamental concepts of neural networks such as layers, nodes, activation functions, etc.\n",
        "- Create a simple neural network in PyTorch for regression or classification"
      ]
    },
    {
      "cell_type": "markdown",
      "metadata": {
        "tags": [],
        "id": "SqM7YGAxp2wf"
      },
      "source": [
        "## Imports\n"
      ]
    },
    {
      "cell_type": "code",
      "execution_count": null,
      "metadata": {
        "id": "4JHMu1dRp2wf"
      },
      "outputs": [],
      "source": [
        "import sys\n",
        "import numpy as np\n",
        "import pandas as pd\n",
        "import torch\n",
        "from torchsummary import summary\n",
        "from torch import nn, optim\n",
        "from torch.utils.data import DataLoader, TensorDataset\n",
        "from sklearn.datasets import make_regression, make_circles, make_blobs\n",
        "from sklearn.preprocessing import StandardScaler\n",
        "from sklearn.linear_model import LinearRegression"
      ]
    },
    {
      "cell_type": "markdown",
      "metadata": {
        "id": "eF8gs9rxp2wf"
      },
      "source": [
        "<br><br>"
      ]
    },
    {
      "cell_type": "markdown",
      "metadata": {
        "id": "1-snlpecp2wg"
      },
      "source": [
        "## Structure of Neural Networks\n",
        "\n",
        "Before we start working with PyTorch's interfaces, I'd like to build up our understanding of what a neural network actually does to data. We'll see that neural networks are built up of very simple mathematical transformations, which are then stacked on top of each other to produce complex models.\n"
      ]
    },
    {
      "cell_type": "code",
      "source": [
        "import numpy as np\n",
        "x = np.random.rand(5)\n",
        "x"
      ],
      "metadata": {
        "colab": {
          "base_uri": "https://localhost:8080/"
        },
        "id": "XPJBCSDBrDrg",
        "outputId": "e4c95eab-1c04-46c5-b06b-057ea2c9e9ce"
      },
      "execution_count": null,
      "outputs": [
        {
          "output_type": "execute_result",
          "data": {
            "text/plain": [
              "array([0.7006045 , 0.6008325 , 0.34256629, 0.32753682, 0.62767726])"
            ]
          },
          "metadata": {},
          "execution_count": 3
        }
      ]
    },
    {
      "cell_type": "markdown",
      "source": [
        "A single *unit* of a neural network has two stages:\n",
        "\n",
        "1. The unit takes the entries of $x$, multiplies them by some *weights*, and adds them together, forming the linear combination $y = \\sum_i w_i x_i$. This number $y$ is often called the *activation*.\n",
        "2. Second, the unit hits $y$ with a non-linear function, producing a new output $z$: $z = g(y)$.\n",
        "\n",
        "A common nonlinear function is the sigmoid (same function as used in logistic regression):"
      ],
      "metadata": {
        "id": "t5sJQ92rrKk-"
      }
    },
    {
      "cell_type": "code",
      "source": [
        "from matplotlib import pyplot as plt\n",
        "sigmoid = lambda x: 1 / (1 + np.exp(-x))\n",
        "X = np.linspace(-10, 10)\n",
        "plt.plot(X, sigmoid(X))"
      ],
      "metadata": {
        "colab": {
          "base_uri": "https://localhost:8080/",
          "height": 447
        },
        "id": "w9h9gOWHrHkk",
        "outputId": "fd688107-bf69-4f23-81f4-cd5fcfb82cc1"
      },
      "execution_count": null,
      "outputs": [
        {
          "output_type": "execute_result",
          "data": {
            "text/plain": [
              "[<matplotlib.lines.Line2D at 0x7ea85df5dd80>]"
            ]
          },
          "metadata": {},
          "execution_count": 4
        },
        {
          "output_type": "display_data",
          "data": {
            "text/plain": [
              "<Figure size 640x480 with 1 Axes>"
            ],
            "image/png": "[encoded data removed]"
          },
          "metadata": {}
        }
      ]
    },
    {
      "cell_type": "markdown",
      "source": [
        "So, given a weight vector $w$, we can easily compute the layer output  for $x$, remembering that `w @ x` will calculate the inner product for us."
      ],
      "metadata": {
        "id": "kXSlBbbirPaQ"
      }
    },
    {
      "cell_type": "code",
      "source": [
        "w = np.random.rand(5)\n",
        "z = sigmoid(w @ x)\n",
        "z"
      ],
      "metadata": {
        "colab": {
          "base_uri": "https://localhost:8080/"
        },
        "id": "aMPyp4EKrRrM",
        "outputId": "172cd40a-b924-4ca1-f0be-2f73c0d21f85"
      },
      "execution_count": null,
      "outputs": [
        {
          "output_type": "execute_result",
          "data": {
            "text/plain": [
              "0.720663978342614"
            ]
          },
          "metadata": {},
          "execution_count": 5
        }
      ]
    },
    {
      "cell_type": "markdown",
      "source": [
        "In practice, we perform this computation using many data points and many units simultaneously. In this case, we can represent the data points as an $m \\times n$ matrix $\\mathbf{X}$, where $m$ is the number of data points and $n$ is the number of columns. We can represent the matrix of weights as an $p \\times n$ matrix $\\mathbf{W}$, where $p$ is the number of units in the layer. We can then compute all the activations simultaneously by computing the matrix product $\\mathbf{Y} = \\mathbf{W} \\mathbf{X}^T$.\n",
        "\n",
        "Here's a nice picture from the [website of Jeremy Jordan](https://www.jeremyjordan.me/intro-to-neural-networks/) to visualize what's going on. In this diagram, `a` is the activation (what I've been calling $y$).\n",
        "\n",
        "![](https://www.jeremyjordan.me/content/images/2018/01/Screen-Shot-2017-11-07-at-12.53.07-PM.png)\n",
        "\n",
        "We can then hit $\\mathbf{Y}$ with the sigmoid function (entrywise) to form the output $\\mathbf{Z}$."
      ],
      "metadata": {
        "id": "QL9BracwrYYD"
      }
    },
    {
      "cell_type": "code",
      "source": [
        "m = 100\n",
        "n = 5\n",
        "p = 10\n",
        "X = np.random.rand(m, n)\n",
        "W = 1/p * np.random.rand(p, n)\n",
        "\n",
        "new_X = sigmoid(W @ X.T)"
      ],
      "metadata": {
        "id": "WklzlcBXra1d"
      },
      "execution_count": null,
      "outputs": []
    },
    {
      "cell_type": "code",
      "source": [
        "new_X.shape"
      ],
      "metadata": {
        "colab": {
          "base_uri": "https://localhost:8080/"
        },
        "id": "bzJ-20BKwVmL",
        "outputId": "3af1b445-ff2f-45e4-b1f2-2e0fbd0a0cf6"
      },
      "execution_count": null,
      "outputs": [
        {
          "output_type": "execute_result",
          "data": {
            "text/plain": [
              "(10, 100)"
            ]
          },
          "metadata": {},
          "execution_count": 7
        }
      ]
    },
    {
      "cell_type": "markdown",
      "source": [
        "Here's the thing: we now have a *new* matrix, that I'll call $\\mathbf{X}_1$, of size $p \\times m$. We can now plug that into a NEW layer, getting a new matrix $\\mathbf{X}_2$. We can plug THAT into a new layer, etc. By composing all these operations, we get a single, multistage function. **This is a deep neural network.** At the end of the pipeline, we should make sure we have an output that corresponds to the task we want to perform. For example, if we want to do binary classification (classification between two categories), we our weights to look something like this:"
      ],
      "metadata": {
        "id": "2i5WVRi-rd7W"
      }
    },
    {
      "cell_type": "code",
      "source": [
        "W = 1/2 * np.random.rand(2, m)\n",
        "output = sigmoid(W @ new_X.T)\n",
        "output.shape"
      ],
      "metadata": {
        "colab": {
          "base_uri": "https://localhost:8080/"
        },
        "id": "jPW8Ug4xrgNP",
        "outputId": "351c49fa-7620-4948-f971-df87d4f8023d"
      },
      "execution_count": null,
      "outputs": [
        {
          "output_type": "execute_result",
          "data": {
            "text/plain": [
              "(2, 10)"
            ]
          },
          "metadata": {},
          "execution_count": 8
        }
      ]
    },
    {
      "cell_type": "markdown",
      "source": [
        "The dimension of size 2 holds numbers describing the model's confidence in each of the two categories. At the moment, of course, we haven't done anything like fitting our model to data, so these predictions aren't meaningful (yet).\n",
        "\n",
        "Note that, while we don't have any control over the data $\\mathbf{X}$, we are free to choose the weights $\\mathbf{W}$ however we please. Traiing a neural network corresponds to the task of choosing these weights in such a way as to appropriately match the data."
      ],
      "metadata": {
        "id": "VQEq6SvCrjNo"
      }
    },
    {
      "cell_type": "markdown",
      "source": [
        "Suppose I have a data point $x$, with 5 features (columns):\n",
        "\n",
        "$$h_i^{(1)} = \\phi^{(1)} \\sum_j w_{ij}^{(1)}x_j + b_i^{(1)} $$\n",
        "\n",
        "$$h_i^{(2)} = \\phi^{(2)} \\sum_j w_{ij}^{(2)}h_j^{(1)} + b_i^{(2)} $$\n",
        "\n",
        "$$y_i = \\sum_j w_{ij}^{(3)}h_j^{(2)} + b_i^{(3)} $$\n",
        "\n",
        "\n",
        "Assume the following dimensionality\n",
        "\n",
        "- $\\mathbf{X}_{n \\times d}$, i.e., each batch has $n$ examples\n",
        "- $\\mathbf{W}^{(l)}_{\\text{hiddensize} \\times \\text{inputsize}}$, where hidden\\_size and input\\_size are of the corresponding layer\n",
        "\n",
        "This can be written in vectorized form as:\n",
        "\n",
        "$$\\mathbf{h}^{(1)} = \\phi^{(1)} (\\mathbf{W}^{(1)}\\mathbf{x} + \\mathbf{b}^{(1)})$$\n",
        "$$\\mathbf{h}^{(2)} = \\phi^{(2)} (\\mathbf{W}^{(2)}\\mathbf{h}^{(1)} + \\mathbf{b}^{(2)})$$\n",
        "$$\\mathbf{y} = (\\mathbf{W}^{(3)}\\mathbf{h}^{(2)} + \\mathbf{b}^{(3)})$$\n",
        "\n",
        "And in matrix form as:\n",
        "\n",
        "$$\\mathbf{H}^{(1)} = \\phi^{(1)} (\\mathbf{X}\\mathbf{W}^{(1)\\text{T}} + \\mathbf{b}^{(1)})$$\n",
        "$$\\mathbf{H}^{(2)} = \\phi^{(2)} (\\mathbf{H}^{(1)}\\mathbf{W}^{(2)\\text{T}} + \\mathbf{b}^{(2)})$$\n",
        "$$\\mathbf{Y} = (\\mathbf{H}^{(2)}\\mathbf{W}^{(3)\\text{T}} + \\mathbf{b}^{(3)})$$\n",
        "\n",
        "- Assume broadcasting is used to add the bias vector to each row of the matrix.  \n"
      ],
      "metadata": {
        "id": "GYVEy2a8rp8q"
      }
    },
    {
      "cell_type": "markdown",
      "metadata": {
        "id": "4OMrX3WPp2wg"
      },
      "source": [
        "<br><br>"
      ]
    },
    {
      "cell_type": "markdown",
      "metadata": {
        "id": "EoUAS8ZWp2wg"
      },
      "source": [
        "__iClicker__: Select all of the following statements which are TRUE.\n",
        "\n",
        "- A. In a neural network, the number of nodes in the hidden layer must always be greater than the number of input nodes.\n",
        "- B. Activation functions in a neural network are used to introduce non-linearity into the network model.\n",
        "- C. In regression problems, it is advisable to apply a sigmoid function to the output, similar to other nodes.\n",
        "- D. The same activation function must be used for all neurons in a feedforward neural network.\n",
        "- E. During the forward pass, the bias in each neuron is added to the weighted sum of inputs before applying the activation function."
      ]
    },
    {
      "cell_type": "markdown",
      "metadata": {
        "id": "RZvS1p2Ap2wg"
      },
      "source": [
        "## The gradient descent method"
      ]
    },
    {
      "cell_type": "markdown",
      "metadata": {
        "id": "KQbBzY1vp2wg"
      },
      "source": [
        "\n",
        "Here's the overview of common gradient descent :\n",
        "- **Initialization:** Start with an initial set of parameters, often randomly chosen.\n",
        "- **Forward pass:** Generate predictions using the current values of the parameters. (E.g., $\\hat{y_i} = x_{1}w_1 + Bias$ in the toy example above)\n",
        "- **Loss calculation:** Evaluate the loss, which quantifies the discrepancy between the model's predictions and the actual target values.\n",
        "- **Gradient calculation:** Compute the gradient of the loss function with respect to each parameter either on a batch or the full dataset. This gradient indicates the direction in which the loss is increasing and its magnitude.\n",
        "- **Parameter Update**: Adjust the parameters in the opposite direction of the calculated gradient, scaled by the learning rate. This step aims to reduce the loss by moving the parameters toward values that minimize it.\n"
      ]
    },
    {
      "cell_type": "markdown",
      "metadata": {
        "id": "wqSxPwSnp2wg"
      },
      "source": [
        "How can we calculate the gradient of the loss with respect to the parameters in a  complicated network?\n",
        "\n",
        "- Feedforward to make prediction, from the input layer to output layer\n",
        "- Back propagation from the output layer to input layer"
      ]
    },
    {
      "cell_type": "markdown",
      "metadata": {
        "id": "PwQgQZycp2wg"
      },
      "source": [
        "What do we want from a deep learning framework?\n",
        "\n",
        "- **Automatic Differentiation:** Essential for efficiently computing gradients\n",
        "\n",
        "- **GPU Support:** To leverage the power of GPUs for faster computation\n",
        "\n",
        "- **Optimization and Inspection of Computation Graph:** Tools to optimize performance and the ability to inspect or visualize the computation graph for debugging and understanding model behaviour.\n",
        "\n",
        "There are several popular deep-learning frameworks\n",
        "- [PyTorch by Facebook AI](https://pytorch.org/)\n",
        "- [TensorFlow and Keras by Google](https://www.tensorflow.org/guide/keras)\n",
        "- [Apache MXNet](https://mxnet.apache.org)\n",
        "- [Microsoft Cognitive Toolkit (CNTK)](https://learn.microsoft.com/en-us/cognitive-toolkit/getting-started)\n",
        "\n",
        "[Here](https://datascientest.com/en/pytorch-all-about-this-framework) and [here](https://www.assemblyai.com/blog/pytorch-vs-tensorflow-in-2023/) you will find some resources discussing PyTorch vs. TensorFlow."
      ]
    },
    {
      "cell_type": "markdown",
      "metadata": {
        "id": "wRgR7u2Qp2wg"
      },
      "source": [
        "<br><br><br><br>"
      ]
    },
    {
      "cell_type": "markdown",
      "metadata": {
        "id": "gND3C_dvp2wg"
      },
      "source": [
        "## Introduction to PyTorch"
      ]
    },
    {
      "cell_type": "markdown",
      "metadata": {
        "tags": [],
        "id": "2IQ2ZTgnp2wg"
      },
      "source": [
        "### Why PyTorch\n",
        "\n",
        "PyTorch is a Python-based tool for scientific computing. Some pros of PyTorch are\n",
        "\n",
        "- Python-friendly\n",
        "\n",
        "- Good documentation and community support\n",
        "- Open source\n",
        "- Plenty of projects out there using PyTorch\n",
        "- Dynamic graphs"
      ]
    },
    {
      "cell_type": "markdown",
      "metadata": {
        "id": "Wl6ZCd2_p2wg"
      },
      "source": [
        "In general, PyTorch does two main things:\n",
        "\n",
        "- Provides an n-dimensional array object similar to that of `Numpy`, with the difference that it can be manipulated using GPUs\n",
        "\n",
        "- Computes gradients (through automatic differentiation)"
      ]
    },
    {
      "cell_type": "markdown",
      "metadata": {
        "id": "xcJLrsatp2wg"
      },
      "source": [
        "<br><br><br>"
      ]
    },
    {
      "cell_type": "markdown",
      "metadata": {
        "id": "efHQNvTHp2wg"
      },
      "source": [
        "### PyTorch's Tensor\n"
      ]
    },
    {
      "cell_type": "markdown",
      "metadata": {
        "id": "_CgdFODAp2wh"
      },
      "source": [
        "- In PyTorch a tensor is just like NumPy's `ndarray` that we have become so familiar with.\n",
        "\n",
        "- A key difference between PyTorch's `torch.Tensor` and Numpy's `np.array` is that `torch.Tensor` was constructed to integrate with GPUs and PyTorch's computational graphs"
      ]
    },
    {
      "cell_type": "markdown",
      "metadata": {
        "tags": [],
        "id": "WOpBVQT8p2wh"
      },
      "source": [
        "### `ndarray` vs `tensor`"
      ]
    },
    {
      "cell_type": "markdown",
      "metadata": {
        "id": "Vm2uflTdp2wh"
      },
      "source": [
        "- Creating and working with tensors is much the same as with Numpy `ndarrays`\n",
        "\n",
        "- You can create a tensor with `torch.tensor()` in various ways:"
      ]
    },
    {
      "cell_type": "code",
      "execution_count": null,
      "metadata": {
        "id": "l1VXjxIJp2wh"
      },
      "outputs": [],
      "source": [
        "a = torch.tensor([1, 2, 3.])"
      ]
    },
    {
      "cell_type": "code",
      "execution_count": null,
      "metadata": {
        "id": "Oa4oupX1p2wh"
      },
      "outputs": [],
      "source": [
        "b = torch.tensor([1, 2, 3])"
      ]
    },
    {
      "cell_type": "code",
      "source": [
        "a"
      ],
      "metadata": {
        "colab": {
          "base_uri": "https://localhost:8080/"
        },
        "id": "VMTnU2dG1mt6",
        "outputId": "5750ba25-f628-4a64-9187-a2c4d8a73cce"
      },
      "execution_count": null,
      "outputs": [
        {
          "output_type": "execute_result",
          "data": {
            "text/plain": [
              "tensor([1., 2., 3.])"
            ]
          },
          "metadata": {},
          "execution_count": 11
        }
      ]
    },
    {
      "cell_type": "code",
      "source": [
        "b"
      ],
      "metadata": {
        "colab": {
          "base_uri": "https://localhost:8080/"
        },
        "id": "DZTGMYgV1nic",
        "outputId": "92955261-0fcf-432e-906f-b17f478954c9"
      },
      "execution_count": null,
      "outputs": [
        {
          "output_type": "execute_result",
          "data": {
            "text/plain": [
              "tensor([1, 2, 3])"
            ]
          },
          "metadata": {},
          "execution_count": 12
        }
      ]
    },
    {
      "cell_type": "markdown",
      "metadata": {
        "id": "ex7jg640p2wh"
      },
      "source": [
        "Let's see the datatype of each tensor:"
      ]
    },
    {
      "cell_type": "code",
      "execution_count": null,
      "metadata": {
        "colab": {
          "base_uri": "https://localhost:8080/"
        },
        "id": "x-fOXTtPp2wh",
        "outputId": "b7f55924-f5f0-48a6-8d64-a5ab2c16dc44"
      },
      "outputs": [
        {
          "output_type": "stream",
          "name": "stdout",
          "text": [
            "tensor([1., 2., 3.]), dtype: torch.float32\n",
            "tensor([1, 2, 3]), dtype: torch.int64\n"
          ]
        }
      ],
      "source": [
        "for _ in [a, b]:\n",
        "    print(f\"{_}, dtype: {_.dtype}\")"
      ]
    },
    {
      "cell_type": "markdown",
      "metadata": {
        "id": "l1pEgcMup2wh"
      },
      "source": [
        "<br><br><br>"
      ]
    },
    {
      "cell_type": "markdown",
      "metadata": {
        "id": "BRTlvmQOp2wh"
      },
      "source": [
        "- PyTorch comes with most of the `Numpy` functions we're already familiar with:"
      ]
    },
    {
      "cell_type": "code",
      "execution_count": null,
      "metadata": {
        "colab": {
          "base_uri": "https://localhost:8080/"
        },
        "id": "fAaVnphgp2wh",
        "outputId": "42413d9b-9307-4cbe-9a40-13d555af1bc4"
      },
      "outputs": [
        {
          "output_type": "execute_result",
          "data": {
            "text/plain": [
              "tensor([[0., 0.],\n",
              "        [0., 0.]])"
            ]
          },
          "metadata": {},
          "execution_count": 14
        }
      ],
      "source": [
        "torch.zeros(2, 2)  # zeroes"
      ]
    },
    {
      "cell_type": "code",
      "execution_count": null,
      "metadata": {
        "colab": {
          "base_uri": "https://localhost:8080/"
        },
        "id": "IoWhe37Ap2wh",
        "outputId": "ab2c76e8-71b2-41b7-c14b-aba1ce7fb54e"
      },
      "outputs": [
        {
          "output_type": "execute_result",
          "data": {
            "text/plain": [
              "tensor([[1., 1.],\n",
              "        [1., 1.]])"
            ]
          },
          "metadata": {},
          "execution_count": 15
        }
      ],
      "source": [
        "torch.ones(2, 2)  # ones"
      ]
    },
    {
      "cell_type": "code",
      "execution_count": null,
      "metadata": {
        "colab": {
          "base_uri": "https://localhost:8080/"
        },
        "id": "QWJLRK9Hp2wh",
        "outputId": "a5e6ad55-25ea-4a32-d14d-fc09fe7868f0"
      },
      "outputs": [
        {
          "output_type": "execute_result",
          "data": {
            "text/plain": [
              "tensor([[-0.2775, -0.6283],\n",
              "        [-0.1611, -1.0545],\n",
              "        [ 0.2580, -1.6911]])"
            ]
          },
          "metadata": {},
          "execution_count": 16
        }
      ],
      "source": [
        "torch.randn(3, 2)  # random normal"
      ]
    },
    {
      "cell_type": "code",
      "execution_count": null,
      "metadata": {
        "colab": {
          "base_uri": "https://localhost:8080/"
        },
        "id": "QmPHrqZZp2wi",
        "outputId": "94ea86e2-fe55-4352-c92f-601f16b06df0"
      },
      "outputs": [
        {
          "output_type": "execute_result",
          "data": {
            "text/plain": [
              "tensor([[[0.6842, 0.3430],\n",
              "         [0.9153, 0.2803],\n",
              "         [0.4425, 0.9352]],\n",
              "\n",
              "        [[0.3912, 0.5072],\n",
              "         [0.0852, 0.2297],\n",
              "         [0.4358, 0.5976]]])"
            ]
          },
          "metadata": {},
          "execution_count": 17
        }
      ],
      "source": [
        "torch.rand(2, 3, 2)  # rand uniform"
      ]
    },
    {
      "cell_type": "markdown",
      "metadata": {
        "id": "pxsmlYomp2wi"
      },
      "source": [
        "- Just like in NumPy we can look at the shape of a tensor with the `.shape` attribute:"
      ]
    },
    {
      "cell_type": "code",
      "execution_count": null,
      "metadata": {
        "colab": {
          "base_uri": "https://localhost:8080/"
        },
        "id": "ElqOsbssp2wi",
        "outputId": "408f283d-153f-41cf-f6b9-cd8bb54b621a"
      },
      "outputs": [
        {
          "output_type": "execute_result",
          "data": {
            "text/plain": [
              "torch.Size([2, 3, 2, 2])"
            ]
          },
          "metadata": {},
          "execution_count": 18
        }
      ],
      "source": [
        "x = torch.rand(2, 3, 2, 2)\n",
        "x.shape"
      ]
    },
    {
      "cell_type": "code",
      "execution_count": null,
      "metadata": {
        "colab": {
          "base_uri": "https://localhost:8080/"
        },
        "id": "q7TVc8_Qp2wi",
        "outputId": "fbbe9b86-d8a4-4a15-fdf9-33ee918fa436"
      },
      "outputs": [
        {
          "output_type": "execute_result",
          "data": {
            "text/plain": [
              "4"
            ]
          },
          "metadata": {},
          "execution_count": 19
        }
      ],
      "source": [
        "x.ndim"
      ]
    },
    {
      "cell_type": "markdown",
      "metadata": {
        "id": "xS8_aN5Ep2wi"
      },
      "source": [
        "<br><br><br>"
      ]
    },
    {
      "cell_type": "markdown",
      "metadata": {
        "tags": [],
        "id": "FoO2gV1_p2wi"
      },
      "source": [
        "### Tensors and Data Types"
      ]
    },
    {
      "cell_type": "markdown",
      "metadata": {
        "id": "vRIoZAMop2wi"
      },
      "source": [
        "- Different dtypes have different memory and computational implications\n",
        "- In Pytorch we'll be building networks that require thousands, millions, or even billions of floating point calculations\n",
        "- In such cases, using a smaller dtype like `float32` can significantly speed up computations and reduce memory requirements\n",
        "- The **default float dtype in Pytorch is `float32`**, as opposed to Numpy's `float64`\n",
        "- In fact some operations in Pytorch will even throw an error if you pass a high-memory `dtype`"
      ]
    },
    {
      "cell_type": "code",
      "execution_count": null,
      "metadata": {
        "colab": {
          "base_uri": "https://localhost:8080/"
        },
        "id": "QEWC3zX_p2wi",
        "outputId": "fe11d42b-8d4e-4d49-e07d-52d1d02c3c46"
      },
      "outputs": [
        {
          "output_type": "execute_result",
          "data": {
            "text/plain": [
              "torch.float32"
            ]
          },
          "metadata": {},
          "execution_count": 20
        }
      ],
      "source": [
        "torch.tensor([1., 2]).dtype"
      ]
    },
    {
      "cell_type": "code",
      "execution_count": null,
      "metadata": {
        "colab": {
          "base_uri": "https://localhost:8080/"
        },
        "id": "jgGB2hOpp2wi",
        "outputId": "074d1e15-fea3-491f-9ac2-41948de52bdb"
      },
      "outputs": [
        {
          "output_type": "stream",
          "name": "stdout",
          "text": [
            "float64\n",
            "torch.float32\n"
          ]
        }
      ],
      "source": [
        "print(np.array([3.14159]).dtype)\n",
        "print(torch.tensor([3.14159]).dtype)"
      ]
    },
    {
      "cell_type": "markdown",
      "metadata": {
        "id": "GIvaMdfhp2wi"
      },
      "source": [
        "- But just like in Numpy, you can always specify the particular dtype you want using the `dtype` argument:"
      ]
    },
    {
      "cell_type": "code",
      "execution_count": null,
      "metadata": {
        "colab": {
          "base_uri": "https://localhost:8080/"
        },
        "id": "XIJfQRiOp2wj",
        "outputId": "3e1789b4-31e2-4e4a-b599-ef00af766def"
      },
      "outputs": [
        {
          "output_type": "stream",
          "name": "stdout",
          "text": [
            "torch.float16\n"
          ]
        }
      ],
      "source": [
        "print(torch.tensor([3.14159], dtype=torch.float16).dtype)"
      ]
    },
    {
      "cell_type": "markdown",
      "metadata": {
        "id": "Vw4CvK9xp2wj"
      },
      "source": [
        "<br><br><br>"
      ]
    },
    {
      "cell_type": "markdown",
      "metadata": {
        "tags": [],
        "id": "igQAA_Jup2wj"
      },
      "source": [
        "### Operations on Tensors"
      ]
    },
    {
      "cell_type": "markdown",
      "metadata": {
        "id": "_3GQFr7Yp2wj"
      },
      "source": [
        "- Tensors operate just like `ndarrays` and have a variety of familiar methods that can be called off them:"
      ]
    },
    {
      "cell_type": "code",
      "execution_count": null,
      "metadata": {
        "id": "f7-sCzRnp2wj"
      },
      "outputs": [],
      "source": [
        "a = torch.rand(1, 3)\n",
        "b = torch.rand(3, 1)"
      ]
    },
    {
      "cell_type": "code",
      "execution_count": null,
      "metadata": {
        "colab": {
          "base_uri": "https://localhost:8080/"
        },
        "id": "-kZo5D3cp2wj",
        "outputId": "ae4674ae-7ab2-4808-982f-6dbd233a4500"
      },
      "outputs": [
        {
          "output_type": "execute_result",
          "data": {
            "text/plain": [
              "tensor([0.2270, 0.0756, 0.0514])"
            ]
          },
          "metadata": {},
          "execution_count": 31
        }
      ],
      "source": [
        "a"
      ]
    },
    {
      "cell_type": "code",
      "execution_count": null,
      "metadata": {
        "colab": {
          "base_uri": "https://localhost:8080/"
        },
        "id": "Y4k7VFCXp2wj",
        "outputId": "4af95a27-3577-4c9b-bc88-5bf91fc7fb41"
      },
      "outputs": [
        {
          "output_type": "execute_result",
          "data": {
            "text/plain": [
              "tensor([[0.7117],\n",
              "        [0.2286],\n",
              "        [0.3695]])"
            ]
          },
          "metadata": {},
          "execution_count": 32
        }
      ],
      "source": [
        "b"
      ]
    },
    {
      "cell_type": "code",
      "execution_count": null,
      "metadata": {
        "colab": {
          "base_uri": "https://localhost:8080/"
        },
        "id": "UB4liZckp2wj",
        "outputId": "ed7ed77d-bad0-4083-9917-d351fedeb492"
      },
      "outputs": [
        {
          "output_type": "execute_result",
          "data": {
            "text/plain": [
              "tensor([[0.9388, 0.7873, 0.7632],\n",
              "        [0.4557, 0.3042, 0.2801],\n",
              "        [0.5966, 0.4451, 0.4210]])"
            ]
          },
          "metadata": {},
          "execution_count": 33
        }
      ],
      "source": [
        "a + b  # broadcasting betweean a 1 x 3 and 3 x 1 tensor"
      ]
    },
    {
      "cell_type": "code",
      "execution_count": null,
      "metadata": {
        "colab": {
          "base_uri": "https://localhost:8080/"
        },
        "id": "tu70P2bfp2wj",
        "outputId": "e30d93c3-078e-456e-82a4-65750f0e102e"
      },
      "outputs": [
        {
          "output_type": "execute_result",
          "data": {
            "text/plain": [
              "tensor([[0.1616, 0.0538, 0.0366],\n",
              "        [0.0519, 0.0173, 0.0118],\n",
              "        [0.0839, 0.0279, 0.0190]])"
            ]
          },
          "metadata": {},
          "execution_count": 34
        }
      ],
      "source": [
        "a * b  # element-wise multiplication"
      ]
    },
    {
      "cell_type": "code",
      "execution_count": null,
      "metadata": {
        "colab": {
          "base_uri": "https://localhost:8080/"
        },
        "id": "EF39v8Vep2wj",
        "outputId": "8f0d40f7-5c94-4f5f-e341-bc4026a16c2b"
      },
      "outputs": [
        {
          "output_type": "execute_result",
          "data": {
            "text/plain": [
              "tensor([0.1979])"
            ]
          },
          "metadata": {},
          "execution_count": 35
        }
      ],
      "source": [
        "a @ b # matrix multiplication"
      ]
    },
    {
      "cell_type": "code",
      "execution_count": null,
      "metadata": {
        "colab": {
          "base_uri": "https://localhost:8080/"
        },
        "id": "ALiFJz_fp2wj",
        "outputId": "b9826387-40c7-40b3-f184-7f355716ba65"
      },
      "outputs": [
        {
          "output_type": "execute_result",
          "data": {
            "text/plain": [
              "tensor(0.1180)"
            ]
          },
          "metadata": {},
          "execution_count": 36
        }
      ],
      "source": [
        "a.mean()"
      ]
    },
    {
      "cell_type": "code",
      "execution_count": null,
      "metadata": {
        "colab": {
          "base_uri": "https://localhost:8080/"
        },
        "id": "C0DCijkHp2wj",
        "outputId": "3bae887c-2937-4a4a-9c17-5e417fcd46cc"
      },
      "outputs": [
        {
          "output_type": "execute_result",
          "data": {
            "text/plain": [
              "tensor(0.3541)"
            ]
          },
          "metadata": {},
          "execution_count": 37
        }
      ],
      "source": [
        "a.sum()"
      ]
    },
    {
      "cell_type": "markdown",
      "metadata": {
        "id": "vyvpKMkQp2wj"
      },
      "source": [
        "<br><br><br>"
      ]
    },
    {
      "cell_type": "markdown",
      "metadata": {
        "tags": [],
        "id": "Xe41J7_5p2wj"
      },
      "source": [
        "### Indexing"
      ]
    },
    {
      "cell_type": "markdown",
      "metadata": {
        "id": "87tIGJsbp2wj"
      },
      "source": [
        "- Once again, same as Numpy"
      ]
    },
    {
      "cell_type": "code",
      "execution_count": null,
      "metadata": {
        "colab": {
          "base_uri": "https://localhost:8080/"
        },
        "id": "I2lSDxwop2wj",
        "outputId": "dfef0344-b615-4aa8-d260-0a367eaa8f8c"
      },
      "outputs": [
        {
          "output_type": "stream",
          "name": "stdout",
          "text": [
            "tensor([[0.4308, 0.2985],\n",
            "        [0.9602, 0.6800],\n",
            "        [0.5904, 0.1944],\n",
            "        [0.5555, 0.3200],\n",
            "        [0.6979, 0.3102]])\n"
          ]
        }
      ],
      "source": [
        "X = torch.rand(5, 2)\n",
        "print(X)"
      ]
    },
    {
      "cell_type": "code",
      "execution_count": null,
      "metadata": {
        "colab": {
          "base_uri": "https://localhost:8080/"
        },
        "id": "rmRfhXiFp2wk",
        "outputId": "556ac8f6-f9c8-463f-a39f-4aa47e0da41a"
      },
      "outputs": [
        {
          "output_type": "stream",
          "name": "stdout",
          "text": [
            "tensor([0.4308, 0.2985])\n",
            "tensor([0.4308, 0.2985])\n",
            "tensor([0.4308, 0.9602, 0.5904, 0.5555, 0.6979])\n"
          ]
        }
      ],
      "source": [
        "print(X[0, :])\n",
        "print(X[0])\n",
        "print(X[:, 0])"
      ]
    },
    {
      "cell_type": "markdown",
      "metadata": {
        "id": "QErDjRFnp2wk"
      },
      "source": [
        "<br><br><br>"
      ]
    },
    {
      "cell_type": "markdown",
      "metadata": {
        "tags": [],
        "id": "uvQPSIx4p2wk"
      },
      "source": [
        "\n",
        "\n",
        "### Numpy Bridge"
      ]
    },
    {
      "cell_type": "markdown",
      "metadata": {
        "id": "xKvzGivPp2wk"
      },
      "source": [
        "- Sometimes we might want to convert a tensor back to a NumPy array\n",
        "\n",
        "- We can do that using the `.Numpy()` method"
      ]
    },
    {
      "cell_type": "code",
      "execution_count": null,
      "metadata": {
        "colab": {
          "base_uri": "https://localhost:8080/"
        },
        "id": "jSB0rN8Mp2wk",
        "outputId": "aec53161-2f4e-42c9-8b0c-567603675817"
      },
      "outputs": [
        {
          "output_type": "stream",
          "name": "stdout",
          "text": [
            "<class 'torch.Tensor'>\n",
            "<class 'numpy.ndarray'>\n"
          ]
        }
      ],
      "source": [
        "X = torch.rand(3,3)\n",
        "print(type(X))\n",
        "X_numpy = X.numpy()\n",
        "print(type(X_numpy))"
      ]
    },
    {
      "cell_type": "markdown",
      "metadata": {
        "id": "UmdfxsZpp2wk"
      },
      "source": [
        "<br><br><br>"
      ]
    },
    {
      "cell_type": "markdown",
      "metadata": {
        "tags": [],
        "id": "-2DxKr0op2wk"
      },
      "source": [
        "### Using GPU with PyTorch"
      ]
    },
    {
      "cell_type": "markdown",
      "metadata": {
        "id": "rA2pVdL9p2wk"
      },
      "source": [
        "- GPU is a graphical processing unit (as opposed to a CPU: central processing unit)\n",
        "\n",
        "- GPUs were originally developed for gaming. They are very fast at performing operations on large amounts of data by performing them in parallel (think about updating the value of all pixels on a screen very quickly as a player moves around in a game)\n",
        "\n",
        "- More recently, GPUs have been adapted for more general purpose programming\n",
        "\n",
        "- Neural networks can typically be broken into smaller computations that can be performed in parallel on a GPU\n",
        "\n",
        "- PyTorch is tightly integrated with [CUDA](https://en.wikipedia.org/wiki/CUDA) (Compute Unified Device Architecture), a software layer developed by Nvidia that facilitates interactions with an Nvidia GPU (if you have one)\n",
        "\n",
        "- You can check if you have a CUDA GPU:"
      ]
    },
    {
      "cell_type": "code",
      "execution_count": null,
      "metadata": {
        "colab": {
          "base_uri": "https://localhost:8080/"
        },
        "id": "WgmBDNV1p2wk",
        "outputId": "99f181c0-70a0-4ee8-ae7f-b5aca5555d09"
      },
      "outputs": [
        {
          "output_type": "execute_result",
          "data": {
            "text/plain": [
              "True"
            ]
          },
          "metadata": {},
          "execution_count": 2
        }
      ],
      "source": [
        "torch.cuda.is_available()"
      ]
    },
    {
      "cell_type": "code",
      "source": [
        "!nvidia-smi"
      ],
      "metadata": {
        "colab": {
          "base_uri": "https://localhost:8080/"
        },
        "id": "P_DeZ1o48a_0",
        "outputId": "80848ba1-7052-4aed-a949-7d5232db7282"
      },
      "execution_count": null,
      "outputs": [
        {
          "output_type": "stream",
          "name": "stdout",
          "text": [
            "Sat Jun  8 17:42:40 2024       \n",
            "+---------------------------------------------------------------------------------------+\n",
            "| NVIDIA-SMI 535.104.05             Driver Version: 535.104.05   CUDA Version: 12.2     |\n",
            "|-----------------------------------------+----------------------+----------------------+\n",
            "| GPU  Name                 Persistence-M | Bus-Id        Disp.A | Volatile Uncorr. ECC |\n",
            "| Fan  Temp   Perf          Pwr:Usage/Cap |         Memory-Usage | GPU-Util  Compute M. |\n",
            "|                                         |                      |               MIG M. |\n",
            "|=========================================+======================+======================|\n",
            "|   0  Tesla T4                       Off | 00000000:00:04.0 Off |                    0 |\n",
            "| N/A   44C    P8               9W /  70W |      3MiB / 15360MiB |      0%      Default |\n",
            "|                                         |                      |                  N/A |\n",
            "+-----------------------------------------+----------------------+----------------------+\n",
            "                                                                                         \n",
            "+---------------------------------------------------------------------------------------+\n",
            "| Processes:                                                                            |\n",
            "|  GPU   GI   CI        PID   Type   Process name                            GPU Memory |\n",
            "|        ID   ID                                                             Usage      |\n",
            "|=======================================================================================|\n",
            "|  No running processes found                                                           |\n",
            "+---------------------------------------------------------------------------------------+\n"
          ]
        }
      ]
    },
    {
      "cell_type": "markdown",
      "metadata": {
        "id": "eIbZtOeMp2wk"
      },
      "source": [
        "- In May 2022, PyTorch also announced GPU-accelerated PyTorch training on Mac (see [here](https://pytorch.org/blog/introducing-accelerated-pytorch-training-on-mac/)) using [Apple’s Metal Performance Shaders (MPS)](https://developer.apple.com/metal/).\n",
        "\n",
        "- If you're using a Mac equipped with **Apple silicon** (M1 or M2), you can benefit from its GPU cores to train your PyTorch models:"
      ]
    },
    {
      "cell_type": "code",
      "execution_count": null,
      "metadata": {
        "colab": {
          "base_uri": "https://localhost:8080/"
        },
        "id": "YpEN5VBFp2wk",
        "outputId": "a783fecb-e246-4b71-ae03-4db2ff31cabd"
      },
      "outputs": [
        {
          "output_type": "execute_result",
          "data": {
            "text/plain": [
              "False"
            ]
          },
          "metadata": {},
          "execution_count": 4
        }
      ],
      "source": [
        "torch.backends.mps.is_available()"
      ]
    },
    {
      "cell_type": "markdown",
      "metadata": {
        "id": "FcY8jgVip2wk"
      },
      "source": [
        "- When training on a machine that has a GPU, you need to tell PyTorch you want to use it\n",
        "\n",
        "- You'll see the following at the top of most PyTorch code:"
      ]
    },
    {
      "cell_type": "code",
      "execution_count": null,
      "metadata": {
        "colab": {
          "base_uri": "https://localhost:8080/"
        },
        "id": "s9_xD9NAp2wk",
        "outputId": "3ad18370-e7b4-4c33-cdb0-a7e60e054248"
      },
      "outputs": [
        {
          "output_type": "stream",
          "name": "stdout",
          "text": [
            "cuda\n"
          ]
        }
      ],
      "source": [
        "device = torch.device('cuda' if torch.cuda.is_available() else 'cpu')\n",
        "# device = torch.device('mps' if torch.backends.mps.is_available() else 'cpu')\n",
        "print(device)"
      ]
    },
    {
      "cell_type": "markdown",
      "metadata": {
        "id": "tdzZMOrTp2wk"
      },
      "source": [
        "- You can then use the `device` argument when creating tensors to specify whether you wish to use a CPU or GPU\n",
        "\n",
        "- Or if you want to move a tensor between the CPU and GPU, you can use the `.to()` method:"
      ]
    },
    {
      "cell_type": "code",
      "execution_count": null,
      "metadata": {
        "colab": {
          "base_uri": "https://localhost:8080/"
        },
        "id": "MimO_lr4p2wk",
        "outputId": "0c2dab09-32f0-43ba-bdf8-9115007171ca"
      },
      "outputs": [
        {
          "output_type": "execute_result",
          "data": {
            "text/plain": [
              "device(type='cuda', index=0)"
            ]
          },
          "metadata": {},
          "execution_count": 6
        }
      ],
      "source": [
        "X = torch.rand(2, 2, 2, device=device)\n",
        "X.device"
      ]
    },
    {
      "cell_type": "code",
      "execution_count": null,
      "metadata": {
        "id": "osYN7JV6p2wl"
      },
      "outputs": [],
      "source": [
        "X_cpu = X.to('cpu')"
      ]
    },
    {
      "cell_type": "code",
      "execution_count": null,
      "metadata": {
        "colab": {
          "base_uri": "https://localhost:8080/"
        },
        "id": "d4K4Nu_Sp2wl",
        "outputId": "589f1c9b-28a9-4fd2-dc8a-c8f807bf55c6"
      },
      "outputs": [
        {
          "output_type": "execute_result",
          "data": {
            "text/plain": [
              "device(type='cpu')"
            ]
          },
          "metadata": {},
          "execution_count": 10
        }
      ],
      "source": [
        "X_cpu.device"
      ]
    },
    {
      "cell_type": "code",
      "execution_count": null,
      "metadata": {
        "id": "brn2RsYcp2wl"
      },
      "outputs": [],
      "source": [
        "# X.to('cuda')  # will give me an error as I don't have a CUDA GPU"
      ]
    },
    {
      "cell_type": "markdown",
      "metadata": {
        "id": "Sa2KItNpp2wl"
      },
      "source": [
        "<br><br><br>"
      ]
    },
    {
      "cell_type": "markdown",
      "metadata": {
        "tags": [],
        "id": "ANt-Ctpfp2wl"
      },
      "source": [
        "#### Gradient computation"
      ]
    },
    {
      "cell_type": "markdown",
      "metadata": {
        "id": "L6X5uOdkp2wl"
      },
      "source": [
        "Basically, we use the process of using the chain rule in a backward manner (from the last computation back to its root at the variable), called **back-propagation**. Let's just see how we make PyTorch compute the gradient for us using back-propagation."
      ]
    },
    {
      "cell_type": "markdown",
      "metadata": {
        "tags": [],
        "id": "URR1C2Uwp2wl"
      },
      "source": [
        "PyTorch provides a `.backward()` method on every tensor that takes part in gradient computation. This enables us to **do gradient descent without worrying about the structure of our model**, since we no longer need to compute the derivative ourselves.\n",
        "\n",
        "At a high-level, the idea is that the loss function is a series of elementary computations performed on the weight parameters, along with some constant data points and biases. So if we track computations that involve the weights all the way to the loss function, we can compute the gradient of the loss function using back-propagation w.r.t to the weights."
      ]
    },
    {
      "cell_type": "markdown",
      "metadata": {
        "id": "GBUKhaY4p2wl"
      },
      "source": [
        "<br><br><br>"
      ]
    },
    {
      "cell_type": "markdown",
      "metadata": {
        "tags": [],
        "id": "DfO5rfnjp2wl"
      },
      "source": [
        "If we now define `w` using PyTorch tensors, we can use `.backward()` on our loss function to compute the derivative w.r.t to `w`:"
      ]
    },
    {
      "cell_type": "code",
      "execution_count": null,
      "metadata": {
        "id": "BQLmJT1Gp2wl"
      },
      "outputs": [],
      "source": [
        "X = torch.tensor([1.0, 2.0, 3.0], requires_grad=False)\n",
        "w = torch.tensor([1.0], requires_grad=True)  # Random initial weight\n",
        "y = torch.tensor([2.0, 4.0, 6.0], requires_grad=False)  # Target values\n",
        "mse = ((X * w - y)**2).mean()\n",
        "mse.backward()\n",
        "# w.grad"
      ]
    },
    {
      "cell_type": "code",
      "source": [
        "w.grad"
      ],
      "metadata": {
        "colab": {
          "base_uri": "https://localhost:8080/"
        },
        "id": "pyjk9KH6-Ajn",
        "outputId": "71d55c32-433f-4fe4-fd81-ec2172a3837d"
      },
      "execution_count": null,
      "outputs": [
        {
          "output_type": "execute_result",
          "data": {
            "text/plain": [
              "tensor([-9.3333])"
            ]
          },
          "metadata": {},
          "execution_count": 14
        }
      ]
    },
    {
      "cell_type": "code",
      "source": [
        "y.grad"
      ],
      "metadata": {
        "colab": {
          "base_uri": "https://localhost:8080/"
        },
        "id": "IL03SCPk-QMo",
        "outputId": "2c54c71c-3343-4d9e-c471-85ab0f261f6c"
      },
      "execution_count": null,
      "outputs": [
        {
          "output_type": "execute_result",
          "data": {
            "text/plain": [
              "tensor([0.6667, 1.3333, 2.0000])"
            ]
          },
          "metadata": {},
          "execution_count": 16
        }
      ]
    },
    {
      "cell_type": "code",
      "execution_count": null,
      "metadata": {
        "colab": {
          "base_uri": "https://localhost:8080/"
        },
        "id": "xLfkuJ3dp2wl",
        "outputId": "692236c9-e02f-4078-a82b-15d640f2ea6c"
      },
      "outputs": [
        {
          "output_type": "execute_result",
          "data": {
            "text/plain": [
              "tensor(-9.3333, grad_fn=<MulBackward0>)"
            ]
          },
          "metadata": {},
          "execution_count": 17
        }
      ],
      "source": [
        "X@(X*w - y) * (2/3)"
      ]
    },
    {
      "cell_type": "markdown",
      "metadata": {
        "id": "igtwhEsHp2wl"
      },
      "source": [
        "<br><br><br>"
      ]
    },
    {
      "cell_type": "markdown",
      "metadata": {
        "id": "SX6bx3M9p2wl"
      },
      "source": [
        "<br><br><br>"
      ]
    },
    {
      "cell_type": "markdown",
      "metadata": {
        "tags": [],
        "id": "Hj3rpSK6p2wl"
      },
      "source": [
        "### Simple Linear Regression with PyTorch"
      ]
    },
    {
      "cell_type": "markdown",
      "metadata": {
        "id": "0dx4zK9kp2wl"
      },
      "source": [
        "- Let's create a simple regression dataset with 500 observations:"
      ]
    },
    {
      "cell_type": "code",
      "execution_count": null,
      "metadata": {
        "id": "dsJcVaDop2wl"
      },
      "outputs": [],
      "source": [
        "X, y = make_regression(n_samples=500, n_features=1, random_state=0, noise=10.0)"
      ]
    },
    {
      "cell_type": "code",
      "source": [
        "import matplotlib.pyplot as plt"
      ],
      "metadata": {
        "id": "0hsYXmrx-3_v"
      },
      "execution_count": null,
      "outputs": []
    },
    {
      "cell_type": "code",
      "source": [
        "plt.scatter(X, y, color = \"grey\", s = 4, zorder = 100)"
      ],
      "metadata": {
        "colab": {
          "base_uri": "https://localhost:8080/",
          "height": 447
        },
        "id": "Lw6BgtHIx1iQ",
        "outputId": "7e1d67cf-d732-45e1-bb99-5d672c0a19d1"
      },
      "execution_count": null,
      "outputs": [
        {
          "output_type": "execute_result",
          "data": {
            "text/plain": [
              "<matplotlib.collections.PathCollection at 0x787b3432ab00>"
            ]
          },
          "metadata": {},
          "execution_count": 21
        },
        {
          "output_type": "display_data",
          "data": {
            "text/plain": [
              "<Figure size 640x480 with 1 Axes>"
            ],
            "image/png": "[encoded data removed]"
          },
          "metadata": {}
        }
      ]
    },
    {
      "cell_type": "markdown",
      "metadata": {
        "id": "UAePTFk9p2wl"
      },
      "source": [
        "- We know how to fit a simple linear regression to this data using sklearn:"
      ]
    },
    {
      "cell_type": "code",
      "execution_count": null,
      "metadata": {
        "colab": {
          "base_uri": "https://localhost:8080/",
          "height": 447
        },
        "id": "xl_ToEKbp2wm",
        "outputId": "d4a2649c-6f7c-4a8c-f1e1-34fba4e283ae"
      },
      "outputs": [
        {
          "output_type": "execute_result",
          "data": {
            "text/plain": [
              "[<matplotlib.lines.Line2D at 0x787b31a91480>]"
            ]
          },
          "metadata": {},
          "execution_count": 22
        },
        {
          "output_type": "display_data",
          "data": {
            "text/plain": [
              "<Figure size 640x480 with 1 Axes>"
            ],
            "image/png": "[encoded data removed]"
          },
          "metadata": {}
        }
      ],
      "source": [
        "sk_model = LinearRegression().fit(X, y)\n",
        "x_space = np.linspace(-3, 3, 101)\n",
        "plt.scatter(X, y, color = \"grey\", s = 4, zorder = 100)\n",
        "plt.plot(x_space, sk_model.intercept_ + x_space * sk_model.coef_[0], color = \"black\")"
      ]
    },
    {
      "cell_type": "markdown",
      "metadata": {
        "id": "JWEg7vgRp2wm"
      },
      "source": [
        "- Here are the parameters of that fitted line:"
      ]
    },
    {
      "cell_type": "code",
      "execution_count": null,
      "metadata": {
        "colab": {
          "base_uri": "https://localhost:8080/"
        },
        "id": "gW2K4UoGp2wm",
        "outputId": "e7c1d408-a79d-42ab-bd7d-00f0a489e271"
      },
      "outputs": [
        {
          "output_type": "stream",
          "name": "stdout",
          "text": [
            "w_0: -0.77 (bias/intercept)\n",
            "w_1: 45.50\n"
          ]
        }
      ],
      "source": [
        "print(f\"w_0: {sk_model.intercept_:.2f} (bias/intercept)\")\n",
        "print(f\"w_1: {sk_model.coef_[0]:.2f}\")"
      ]
    },
    {
      "cell_type": "markdown",
      "metadata": {
        "id": "e47nbVNlp2wm"
      },
      "source": [
        "- As an equation, that looks like this:\n",
        "\n",
        "$$\\hat{y}=-0.77 + 45.50x$$\n",
        "\n",
        "- Or in matrix form:\n",
        "\n",
        "$$\\begin{bmatrix} \\hat{y_1} \\\\ \\hat{y_2} \\\\ \\vdots \\\\ \\hat{y_n} \\end{bmatrix}=\\begin{bmatrix} 1 & x_{11} \\\\ 1 & x_{21} \\\\ \\vdots & \\vdots \\\\ 1 & x_{n1} \\end{bmatrix} \\begin{bmatrix} -0.77 \\\\ 45.55 \\end{bmatrix}$$\n",
        "\n",
        "- Or in graph form, as we have seen above.\n",
        "\n"
      ]
    },
    {
      "cell_type": "markdown",
      "metadata": {
        "id": "MChsoNmCp2wm"
      },
      "source": [
        "<br><br><br>"
      ]
    },
    {
      "cell_type": "markdown",
      "metadata": {
        "tags": [],
        "id": "qhsMneQcp2wm"
      },
      "source": [
        "### Linear Regression with a Neural Network in PyTorch"
      ]
    },
    {
      "cell_type": "markdown",
      "metadata": {
        "id": "low-C_8wp2wm"
      },
      "source": [
        "- So let's implement the above in PyTorch to start gaining an intuition about neural networks\n",
        "\n",
        "- Every neural network model you build in PyTorch has to inherit from `torch.nn.Module`\n",
        "\n",
        "- Remember inheritance allows us to inherit commonly needed functionality without having to write code ourselves"
      ]
    },
    {
      "cell_type": "markdown",
      "metadata": {
        "id": "Ja44_5wZp2wm"
      },
      "source": [
        "- Think about sklearn models: they all inherit common methods like `.fit()`, `.predict()`, `.score()`, etc. When creating a neural network, we define our own architecture but still want common functionality which we inherit from `torch.nn.Module`.\n",
        "\n",
        "- Let's create a model called `linearRegression` and then I'll talk you through the syntax:"
      ]
    },
    {
      "cell_type": "code",
      "execution_count": null,
      "metadata": {
        "id": "RbGMOR20p2wm"
      },
      "outputs": [],
      "source": [
        "class linearRegression(nn.Module):  # our class inherits from nn.Module and we can call it anything we like\n",
        "\n",
        "    def __init__(self, input_size, output_size):\n",
        "        super().__init__()  # super().__init__() makes our class inherit everything from torch.nn.Module\n",
        "\n",
        "        self.linear = nn.Linear(input_size, output_size, device=device)  # this is a simple linear layer: wX + b\n",
        "\n",
        "    def forward(self, x):\n",
        "        out = self.linear(x)\n",
        "        return out"
      ]
    },
    {
      "cell_type": "markdown",
      "metadata": {
        "id": "mX_NNqCWp2wm"
      },
      "source": [
        "Let's step through the above:\n",
        "\n",
        "```python\n",
        "class linearRegression(nn.Module):\n",
        "    \n",
        "    def __init__(self, input_size, output_size):\n",
        "        super().__init__()\n",
        "```"
      ]
    },
    {
      "cell_type": "markdown",
      "metadata": {
        "id": "K8OKoZp4p2wm"
      },
      "source": [
        "<br><br><br>"
      ]
    },
    {
      "cell_type": "markdown",
      "metadata": {
        "id": "DXR4ecqXp2wm"
      },
      "source": [
        "Here we're creating a class called `linearRegression` and inheriting the methods and attributes of `nn.Module`\n",
        "\n",
        "(hint: try typing `help(linearRegression)` to see all the things we inherited from `nn.Module`).\n",
        "\n",
        "```python\n",
        "        self.linear = nn.Linear(input_size, output_size)\n",
        "```"
      ]
    },
    {
      "cell_type": "markdown",
      "metadata": {
        "id": "przUaorHp2wm"
      },
      "source": [
        "<br><br><br>"
      ]
    },
    {
      "cell_type": "markdown",
      "metadata": {
        "id": "wwpm35-bp2wm"
      },
      "source": [
        "Here we're defining a \"Linear\" layer, which just means `wX + b`, i.e., the weights of the network, multiplied by the inputs plus the bias.\n",
        "\n",
        "```python\n",
        "    def forward(self, x):\n",
        "        out = self.linear(x)\n",
        "        return out\n",
        "```"
      ]
    },
    {
      "cell_type": "markdown",
      "metadata": {
        "id": "NCFYquJfp2wn"
      },
      "source": [
        "PyTorch networks created with `nn.Module` must have a `forward()` method. It accepts the input data `x` and passes it through the defined operations. In this case, we are passing `x` into our linear layer and getting an output `out`."
      ]
    },
    {
      "cell_type": "markdown",
      "metadata": {
        "id": "L7dr5k2Kp2wn"
      },
      "source": [
        "<br><br><br>"
      ]
    },
    {
      "cell_type": "markdown",
      "metadata": {
        "id": "oMkUGuMOp2wn"
      },
      "source": [
        "- After defining the model class, we can create an instance of that class:"
      ]
    },
    {
      "cell_type": "code",
      "execution_count": null,
      "metadata": {
        "id": "zSgEXRtYp2wn"
      },
      "outputs": [],
      "source": [
        "model = linearRegression(input_size=1, output_size=1)"
      ]
    },
    {
      "cell_type": "markdown",
      "metadata": {
        "id": "L5amgo2vp2wn"
      },
      "source": [
        "- We can check out our model using `print()`:"
      ]
    },
    {
      "cell_type": "code",
      "execution_count": null,
      "metadata": {
        "colab": {
          "base_uri": "https://localhost:8080/"
        },
        "id": "w7Ckr5KLp2wn",
        "outputId": "4aaca1ce-d81c-4781-f36e-a24eabae47e8"
      },
      "outputs": [
        {
          "output_type": "stream",
          "name": "stdout",
          "text": [
            "linearRegression(\n",
            "  (linear): Linear(in_features=1, out_features=1, bias=True)\n",
            ")\n"
          ]
        }
      ],
      "source": [
        "print(model)"
      ]
    },
    {
      "cell_type": "markdown",
      "metadata": {
        "id": "19oSsKOjp2wn"
      },
      "source": [
        "- Or the more useful `summary()` (which we imported at the top of this notebook with `from torchsummary import summary`):"
      ]
    },
    {
      "cell_type": "code",
      "execution_count": null,
      "metadata": {
        "colab": {
          "base_uri": "https://localhost:8080/"
        },
        "id": "CKTBK6p-p2wn",
        "outputId": "715bb723-5654-40b6-86bf-de91332a52c5"
      },
      "outputs": [
        {
          "output_type": "stream",
          "name": "stdout",
          "text": [
            "----------------------------------------------------------------\n",
            "        Layer (type)               Output Shape         Param #\n",
            "================================================================\n",
            "            Linear-1                    [-1, 1]               2\n",
            "================================================================\n",
            "Total params: 2\n",
            "Trainable params: 2\n",
            "Non-trainable params: 0\n",
            "----------------------------------------------------------------\n",
            "Input size (MB): 0.00\n",
            "Forward/backward pass size (MB): 0.00\n",
            "Params size (MB): 0.00\n",
            "Estimated Total Size (MB): 0.00\n",
            "----------------------------------------------------------------\n"
          ]
        }
      ],
      "source": [
        "summary(model, (1,))"
      ]
    },
    {
      "cell_type": "markdown",
      "metadata": {
        "id": "iSFizBFAp2wn"
      },
      "source": [
        "- Notice how we have two parameters? We have one for the weight (`w1`) and one for the bias (`w0`)\n",
        "\n",
        "- These were initialized **randomly** by PyTorch when we created our model. They can be accessed with `model.state_dict()`:"
      ]
    },
    {
      "cell_type": "code",
      "execution_count": null,
      "metadata": {
        "colab": {
          "base_uri": "https://localhost:8080/"
        },
        "id": "zCjDfWi2p2wn",
        "outputId": "e8e4ef5f-66d8-4408-edeb-2ba8d553e94c"
      },
      "outputs": [
        {
          "output_type": "execute_result",
          "data": {
            "text/plain": [
              "OrderedDict([('linear.weight', tensor([[0.8234]], device='cuda:0')),\n",
              "             ('linear.bias', tensor([-0.2174], device='cuda:0'))])"
            ]
          },
          "metadata": {},
          "execution_count": 34
        }
      ],
      "source": [
        "model.state_dict()"
      ]
    },
    {
      "cell_type": "markdown",
      "metadata": {
        "id": "R4n4YVkRp2wn"
      },
      "source": [
        "<br><br><br>"
      ]
    },
    {
      "cell_type": "markdown",
      "metadata": {
        "id": "Ny79HooKp2wn"
      },
      "source": [
        "- Our `X` and `y` data are currently Numpy arrays but they need to be PyTorch tensors\n",
        "\n",
        "- Let's convert them:"
      ]
    },
    {
      "cell_type": "code",
      "execution_count": null,
      "metadata": {
        "id": "KUrwn3HXp2wn"
      },
      "outputs": [],
      "source": [
        "X_t = torch.tensor(X, dtype=torch.float32, device=device)\n",
        "y_t = torch.tensor(y, dtype=torch.float32, device=device)"
      ]
    },
    {
      "cell_type": "code",
      "execution_count": null,
      "metadata": {
        "colab": {
          "base_uri": "https://localhost:8080/"
        },
        "id": "YaRXUSALp2wn",
        "outputId": "1e4d65f6-3273-4c62-99f9-3ac6010809e4"
      },
      "outputs": [
        {
          "output_type": "execute_result",
          "data": {
            "text/plain": [
              "torch.Size([500])"
            ]
          },
          "metadata": {},
          "execution_count": 40
        }
      ],
      "source": [
        "y_t.shape"
      ]
    },
    {
      "cell_type": "markdown",
      "metadata": {
        "id": "Xw5stA7Lp2wn"
      },
      "source": [
        "<br><br><br>"
      ]
    },
    {
      "cell_type": "markdown",
      "metadata": {
        "id": "_nOvuFBYp2wn"
      },
      "source": [
        "- We have a working model right now and could tell it to give us some output with this syntax:"
      ]
    },
    {
      "cell_type": "code",
      "execution_count": null,
      "metadata": {
        "colab": {
          "base_uri": "https://localhost:8080/"
        },
        "id": "LP7uBMqZp2wo",
        "outputId": "cb970a55-0329-43d0-9bd9-a9865c8ee818"
      },
      "outputs": [
        {
          "output_type": "execute_result",
          "data": {
            "text/plain": [
              "tensor([[ 0.2934],\n",
              "        [-0.2087],\n",
              "        [-0.1400],\n",
              "        [-1.5974],\n",
              "        [ 1.0017],\n",
              "        [-0.0262],\n",
              "        [-0.9656],\n",
              "        [ 0.0705],\n",
              "        [ 0.0617],\n",
              "        [-0.5445]], device='cuda:0', grad_fn=<AddmmBackward0>)"
            ]
          },
          "metadata": {},
          "execution_count": 42
        }
      ],
      "source": [
        "model(X_t[0:10])"
      ]
    },
    {
      "cell_type": "markdown",
      "metadata": {
        "id": "Y7k993sPp2wo"
      },
      "source": [
        "That's just a raw prediction, and far from the actual value of:"
      ]
    },
    {
      "cell_type": "code",
      "execution_count": null,
      "metadata": {
        "colab": {
          "base_uri": "https://localhost:8080/"
        },
        "id": "EGT-61BFp2wo",
        "outputId": "e3390f4a-7cbc-46c5-98d2-8d3e13436900"
      },
      "outputs": [
        {
          "output_type": "execute_result",
          "data": {
            "text/plain": [
              "tensor([ 31.0760,  -0.8635,  -0.7614, -70.8545,  85.1721,  16.6973, -53.7972,\n",
              "          5.9187,  16.6105, -38.0474], device='cuda:0')"
            ]
          },
          "metadata": {},
          "execution_count": 43
        }
      ],
      "source": [
        "y_t[0:10]"
      ]
    },
    {
      "cell_type": "markdown",
      "metadata": {
        "id": "YM5kn1JZp2wo"
      },
      "source": [
        "It's because our model is not trained yet."
      ]
    },
    {
      "cell_type": "markdown",
      "metadata": {
        "id": "AJiumJ-6p2wo"
      },
      "source": [
        "What does training mean? In the context of what we've learned so far, it means that we haven't yet done an SGD run to find optimal weights.\n",
        "\n",
        "\n",
        "    1. **a loss function** (called \"`criterion`\" in PyTorch) to tell us how good/bad our predictions are. We'll use mean squared error, `torch.nn.MSELoss()`. See the list of different loss functions in PyTorch [here](https://pytorch.org/docs/stable/nn.html#loss-functions).\n",
        "    \n",
        "    2. **an optimization algorithm** to help optimize model parameters. We'll use SGD, `torch.optim.SGD()`. See the list of different optimization algorithms in PyTorch [here](https://pytorch.org/docs/stable/optim.html#module-torch.optim)."
      ]
    },
    {
      "cell_type": "code",
      "execution_count": null,
      "metadata": {
        "id": "Hcn6lVN0p2wo"
      },
      "outputs": [],
      "source": [
        "LEARNING_RATE = 0.02\n",
        "criterion = nn.MSELoss()  # loss function\n",
        "optimizer = torch.optim.SGD(model.parameters(), lr=LEARNING_RATE)  # optimization algorithm is SGD"
      ]
    },
    {
      "cell_type": "markdown",
      "metadata": {
        "id": "t--Jmvn5p2wo"
      },
      "source": [
        "- Before we train I'm going to create a **data loader** to help batch my data\n",
        "\n",
        "- We'll use a `BATCH_SIZE=50` (which should give us 10 batches because we have 500 data points)"
      ]
    },
    {
      "cell_type": "code",
      "execution_count": null,
      "metadata": {
        "colab": {
          "base_uri": "https://localhost:8080/"
        },
        "id": "AP9LtvDzp2wo",
        "outputId": "8b6d72cc-9e65-4401-82af-cd91199a2c9b"
      },
      "outputs": [
        {
          "output_type": "execute_result",
          "data": {
            "text/plain": [
              "<torch.utils.data.dataloader.DataLoader at 0x787b01972f20>"
            ]
          },
          "metadata": {},
          "execution_count": 45
        }
      ],
      "source": [
        "BATCH_SIZE = 50\n",
        "dataset = TensorDataset(X_t, y_t)\n",
        "dataloader = DataLoader(dataset, batch_size=BATCH_SIZE, shuffle=True)\n",
        "dataloader"
      ]
    },
    {
      "cell_type": "markdown",
      "metadata": {
        "id": "QxGPRkGfp2wo"
      },
      "source": [
        "- We should have 10 batches:"
      ]
    },
    {
      "cell_type": "code",
      "execution_count": null,
      "metadata": {
        "colab": {
          "base_uri": "https://localhost:8080/"
        },
        "id": "NbfHOqqRp2wo",
        "outputId": "ec6415c1-e469-428d-e787-810f3dd5ce31"
      },
      "outputs": [
        {
          "output_type": "execute_result",
          "data": {
            "text/plain": [
              "10"
            ]
          },
          "metadata": {},
          "execution_count": 46
        }
      ],
      "source": [
        "len(dataloader)"
      ]
    },
    {
      "cell_type": "markdown",
      "metadata": {
        "id": "dhISfSFnp2wo"
      },
      "source": [
        "- We can look at a batch using this syntax:"
      ]
    },
    {
      "cell_type": "code",
      "execution_count": null,
      "metadata": {
        "id": "nH-vqjybp2wo"
      },
      "outputs": [],
      "source": [
        "XX, yy = next(iter(dataloader))"
      ]
    },
    {
      "cell_type": "code",
      "execution_count": null,
      "metadata": {
        "colab": {
          "base_uri": "https://localhost:8080/"
        },
        "id": "WS7CCs1Pp2wo",
        "outputId": "bfc90ded-4000-4987-a3c9-e86252ef5b8f"
      },
      "outputs": [
        {
          "output_type": "stream",
          "name": "stdout",
          "text": [
            "Shape of feature data (X) in batch: torch.Size([50, 1])\n",
            "Shape of response data (y) in batch: torch.Size([50])\n"
          ]
        }
      ],
      "source": [
        "print(f\"Shape of feature data (X) in batch: {XX.shape}\")\n",
        "print(f\"Shape of response data (y) in batch: {yy.shape}\")"
      ]
    },
    {
      "cell_type": "markdown",
      "metadata": {
        "id": "5ZfqUwfkp2wo"
      },
      "source": [
        "<br><br><br>"
      ]
    },
    {
      "cell_type": "markdown",
      "metadata": {
        "id": "OYyhn4I6p2wo"
      },
      "source": [
        "Let's write code for doing a typical SGD with 10 epochs, but using automatic differentiation of PyTorch:"
      ]
    },
    {
      "cell_type": "code",
      "execution_count": null,
      "metadata": {
        "id": "3lLVaLwyp2wo"
      },
      "outputs": [],
      "source": [
        "def trainer(model, criterion, optimizer, dataloader, epochs=5, verbose=True):\n",
        "    \"\"\"Simple training wrapper for PyTorch network.\"\"\"\n",
        "\n",
        "    for epoch in range(epochs):\n",
        "        losses = 0\n",
        "\n",
        "        for X, y in dataloader:\n",
        "\n",
        "            optimizer.zero_grad()       # Clear gradients w.r.t. parameters\n",
        "            y_hat = model(X).flatten()  # Forward pass to get output\n",
        "            loss = criterion(y_hat, y)  # Calculate loss\n",
        "            loss.backward()             # Getting gradients w.r.t. parameters\n",
        "            optimizer.step()            # Update parameters\n",
        "            losses += loss.item()       # Add loss for this batch to running total\n",
        "\n",
        "        if verbose: print(f\"epoch: {epoch + 1}, loss: {losses / len(dataloader):.4f}\")"
      ]
    },
    {
      "cell_type": "markdown",
      "metadata": {
        "id": "gZci-eQYp2wo"
      },
      "source": [
        "<br><br><br>"
      ]
    },
    {
      "cell_type": "markdown",
      "metadata": {
        "id": "cKu9wuJQp2wo"
      },
      "source": [
        "OK, before starting the training, here are the model parameters before training for reference:"
      ]
    },
    {
      "cell_type": "code",
      "execution_count": null,
      "metadata": {
        "tags": [],
        "colab": {
          "base_uri": "https://localhost:8080/"
        },
        "id": "pG4buTpxp2wp",
        "outputId": "bb5e09fd-0e68-4df6-ec2e-66d14aaa732a"
      },
      "outputs": [
        {
          "output_type": "execute_result",
          "data": {
            "text/plain": [
              "OrderedDict([('linear.weight', tensor([[0.8234]], device='cuda:0')),\n",
              "             ('linear.bias', tensor([-0.2174], device='cuda:0'))])"
            ]
          },
          "metadata": {},
          "execution_count": 51
        }
      ],
      "source": [
        "model.state_dict()"
      ]
    },
    {
      "cell_type": "markdown",
      "metadata": {
        "id": "WpnI-aeop2wp"
      },
      "source": [
        "<br><br><br>"
      ]
    },
    {
      "cell_type": "code",
      "execution_count": null,
      "metadata": {
        "colab": {
          "base_uri": "https://localhost:8080/"
        },
        "id": "8BRNTNOZp2wp",
        "outputId": "58710fc4-dca6-40c9-b292-7af493e3c038"
      },
      "outputs": [
        {
          "output_type": "stream",
          "name": "stdout",
          "text": [
            "epoch: 1, loss: 1514.1319\n",
            "epoch: 2, loss: 722.4701\n",
            "epoch: 3, loss: 372.4155\n",
            "epoch: 4, loss: 216.6695\n",
            "epoch: 5, loss: 147.7141\n",
            "epoch: 6, loss: 117.3435\n",
            "epoch: 7, loss: 104.1280\n",
            "epoch: 8, loss: 98.1286\n",
            "epoch: 9, loss: 95.4571\n",
            "epoch: 10, loss: 94.2249\n",
            "epoch: 11, loss: 93.6763\n",
            "epoch: 12, loss: 93.3265\n",
            "epoch: 13, loss: 93.2907\n",
            "epoch: 14, loss: 93.2532\n",
            "epoch: 15, loss: 93.2504\n",
            "epoch: 16, loss: 93.2423\n",
            "epoch: 17, loss: 93.1943\n",
            "epoch: 18, loss: 93.1826\n",
            "epoch: 19, loss: 93.2637\n",
            "epoch: 20, loss: 93.2786\n",
            "epoch: 21, loss: 93.2031\n",
            "epoch: 22, loss: 93.2276\n",
            "epoch: 23, loss: 93.2349\n",
            "epoch: 24, loss: 93.2376\n",
            "epoch: 25, loss: 93.2530\n",
            "epoch: 26, loss: 93.1830\n",
            "epoch: 27, loss: 93.2000\n",
            "epoch: 28, loss: 93.2703\n",
            "epoch: 29, loss: 93.1961\n",
            "epoch: 30, loss: 93.2142\n"
          ]
        }
      ],
      "source": [
        "trainer(model, criterion, optimizer, dataloader, epochs=30, verbose=True)"
      ]
    },
    {
      "cell_type": "markdown",
      "metadata": {
        "id": "dNgrjU1Fp2wp"
      },
      "source": [
        "<br><br><br>"
      ]
    },
    {
      "cell_type": "markdown",
      "metadata": {
        "id": "TWjSTEqup2wp"
      },
      "source": [
        "- Now our model has been trained, our parameters should be different than before:"
      ]
    },
    {
      "cell_type": "code",
      "execution_count": null,
      "metadata": {
        "colab": {
          "base_uri": "https://localhost:8080/"
        },
        "id": "a1Y2eQRfp2wp",
        "outputId": "aaff1ba3-4daa-47b8-c2bf-6339fa119bf9"
      },
      "outputs": [
        {
          "output_type": "execute_result",
          "data": {
            "text/plain": [
              "OrderedDict([('linear.weight', tensor([[45.5019]], device='cuda:0')),\n",
              "             ('linear.bias', tensor([-0.7741], device='cuda:0'))])"
            ]
          },
          "metadata": {},
          "execution_count": 53
        }
      ],
      "source": [
        "model.state_dict()"
      ]
    },
    {
      "cell_type": "markdown",
      "metadata": {
        "id": "jSvmopi3p2wp"
      },
      "source": [
        "- Comparing to our sklearn model, we get the same answer:"
      ]
    },
    {
      "cell_type": "code",
      "execution_count": null,
      "metadata": {
        "colab": {
          "base_uri": "https://localhost:8080/",
          "height": 112
        },
        "id": "dG_2HJNkp2wp",
        "outputId": "2ad35858-1c71-4c0c-d96f-f033416d6678"
      },
      "outputs": [
        {
          "output_type": "execute_result",
          "data": {
            "text/plain": [
              "           w0    w1\n",
              "sklearn -0.77  45.5\n",
              "pytorch -0.77  45.5"
            ],
            "text/html": [
              "\n",
              "  <div id=\"df-56475637-3ea8-44b1-a5a9-ad682c62d75b\" class=\"colab-df-container\">\n",
              "    <div>\n",
              "<style scoped>\n",
              "    .dataframe tbody tr th:only-of-type {\n",
              "        vertical-align: middle;\n",
              "    }\n",
              "\n",
              "    .dataframe tbody tr th {\n",
              "        vertical-align: top;\n",
              "    }\n",
              "\n",
              "    .dataframe thead th {\n",
              "        text-align: right;\n",
              "    }\n",
              "</style>\n",
              "<table border=\"1\" class=\"dataframe\">\n",
              "  <thead>\n",
              "    <tr style=\"text-align: right;\">\n",
              "      <th></th>\n",
              "      <th>w0</th>\n",
              "      <th>w1</th>\n",
              "    </tr>\n",
              "  </thead>\n",
              "  <tbody>\n",
              "    <tr>\n",
              "      <th>sklearn</th>\n",
              "      <td>-0.77</td>\n",
              "      <td>45.5</td>\n",
              "    </tr>\n",
              "    <tr>\n",
              "      <th>pytorch</th>\n",
              "      <td>-0.77</td>\n",
              "      <td>45.5</td>\n",
              "    </tr>\n",
              "  </tbody>\n",
              "</table>\n",
              "</div>\n",
              "    <div class=\"colab-df-buttons\">\n",
              "\n",
              "  <div class=\"colab-df-container\">\n",
              "    <button class=\"colab-df-convert\" onclick=\"convertToInteractive('df-56475637-3ea8-44b1-a5a9-ad682c62d75b')\"\n",
              "            title=\"Convert this dataframe to an interactive table.\"\n",
              "            style=\"display:none;\">\n",
              "\n",
              "  <svg xmlns=\"http://www.w3.org/2000/svg\" height=\"24px\" viewBox=\"0 -960 960 960\">\n",
              "    <path d=\"M120-120v-720h720v720H120Zm60-500h600v-160H180v160Zm220 220h160v-160H400v160Zm0 220h160v-160H400v160ZM180-400h160v-160H180v160Zm440 0h160v-160H620v160ZM180-180h160v-160H180v160Zm440 0h160v-160H620v160Z\"/>\n",
              "  </svg>\n",
              "    </button>\n",
              "\n",
              "  <style>\n",
              "    .colab-df-container {\n",
              "      display:flex;\n",
              "      gap: 12px;\n",
              "    }\n",
              "\n",
              "    .colab-df-convert {\n",
              "      background-color: #E8F0FE;\n",
              "      border: none;\n",
              "      border-radius: 50%;\n",
              "      cursor: pointer;\n",
              "      display: none;\n",
              "      fill: #1967D2;\n",
              "      height: 32px;\n",
              "      padding: 0 0 0 0;\n",
              "      width: 32px;\n",
              "    }\n",
              "\n",
              "    .colab-df-convert:hover {\n",
              "      background-color: #E2EBFA;\n",
              "      box-shadow: 0px 1px 2px rgba(60, 64, 67, 0.3), 0px 1px 3px 1px rgba(60, 64, 67, 0.15);\n",
              "      fill: #174EA6;\n",
              "    }\n",
              "\n",
              "    .colab-df-buttons div {\n",
              "      margin-bottom: 4px;\n",
              "    }\n",
              "\n",
              "    [theme=dark] .colab-df-convert {\n",
              "      background-color: #3B4455;\n",
              "      fill: #D2E3FC;\n",
              "    }\n",
              "\n",
              "    [theme=dark] .colab-df-convert:hover {\n",
              "      background-color: #434B5C;\n",
              "      box-shadow: 0px 1px 3px 1px rgba(0, 0, 0, 0.15);\n",
              "      filter: drop-shadow(0px 1px 2px rgba(0, 0, 0, 0.3));\n",
              "      fill: #FFFFFF;\n",
              "    }\n",
              "  </style>\n",
              "\n",
              "    <script>\n",
              "      const buttonEl =\n",
              "        document.querySelector('#df-56475637-3ea8-44b1-a5a9-ad682c62d75b button.colab-df-convert');\n",
              "      buttonEl.style.display =\n",
              "        google.colab.kernel.accessAllowed ? 'block' : 'none';\n",
              "\n",
              "      async function convertToInteractive(key) {\n",
              "        const element = document.querySelector('#df-56475637-3ea8-44b1-a5a9-ad682c62d75b');\n",
              "        const dataTable =\n",
              "          await google.colab.kernel.invokeFunction('convertToInteractive',\n",
              "                                                    [key], {});\n",
              "        if (!dataTable) return;\n",
              "\n",
              "        const docLinkHtml = 'Like what you see? Visit the ' +\n",
              "          '<a target=\"_blank\" href=https://colab.research.google.com/notebooks/data_table.ipynb>data table notebook</a>'\n",
              "          + ' to learn more about interactive tables.';\n",
              "        element.innerHTML = '';\n",
              "        dataTable['output_type'] = 'display_data';\n",
              "        await google.colab.output.renderOutput(dataTable, element);\n",
              "        const docLink = document.createElement('div');\n",
              "        docLink.innerHTML = docLinkHtml;\n",
              "        element.appendChild(docLink);\n",
              "      }\n",
              "    </script>\n",
              "  </div>\n",
              "\n",
              "\n",
              "<div id=\"df-bb40e4c7-afed-472c-a099-3ddce1f90cdd\">\n",
              "  <button class=\"colab-df-quickchart\" onclick=\"quickchart('df-bb40e4c7-afed-472c-a099-3ddce1f90cdd')\"\n",
              "            title=\"Suggest charts\"\n",
              "            style=\"display:none;\">\n",
              "\n",
              "<svg xmlns=\"http://www.w3.org/2000/svg\" height=\"24px\"viewBox=\"0 0 24 24\"\n",
              "     width=\"24px\">\n",
              "    <g>\n",
              "        <path d=\"M19 3H5c-1.1 0-2 .9-2 2v14c0 1.1.9 2 2 2h14c1.1 0 2-.9 2-2V5c0-1.1-.9-2-2-2zM9 17H7v-7h2v7zm4 0h-2V7h2v10zm4 0h-2v-4h2v4z\"/>\n",
              "    </g>\n",
              "</svg>\n",
              "  </button>\n",
              "\n",
              "<style>\n",
              "  .colab-df-quickchart {\n",
              "      --bg-color: #E8F0FE;\n",
              "      --fill-color: #1967D2;\n",
              "      --hover-bg-color: #E2EBFA;\n",
              "      --hover-fill-color: #174EA6;\n",
              "      --disabled-fill-color: #AAA;\n",
              "      --disabled-bg-color: #DDD;\n",
              "  }\n",
              "\n",
              "  [theme=dark] .colab-df-quickchart {\n",
              "      --bg-color: #3B4455;\n",
              "      --fill-color: #D2E3FC;\n",
              "      --hover-bg-color: #434B5C;\n",
              "      --hover-fill-color: #FFFFFF;\n",
              "      --disabled-bg-color: #3B4455;\n",
              "      --disabled-fill-color: #666;\n",
              "  }\n",
              "\n",
              "  .colab-df-quickchart {\n",
              "    background-color: var(--bg-color);\n",
              "    border: none;\n",
              "    border-radius: 50%;\n",
              "    cursor: pointer;\n",
              "    display: none;\n",
              "    fill: var(--fill-color);\n",
              "    height: 32px;\n",
              "    padding: 0;\n",
              "    width: 32px;\n",
              "  }\n",
              "\n",
              "  .colab-df-quickchart:hover {\n",
              "    background-color: var(--hover-bg-color);\n",
              "    box-shadow: 0 1px 2px rgba(60, 64, 67, 0.3), 0 1px 3px 1px rgba(60, 64, 67, 0.15);\n",
              "    fill: var(--button-hover-fill-color);\n",
              "  }\n",
              "\n",
              "  .colab-df-quickchart-complete:disabled,\n",
              "  .colab-df-quickchart-complete:disabled:hover {\n",
              "    background-color: var(--disabled-bg-color);\n",
              "    fill: var(--disabled-fill-color);\n",
              "    box-shadow: none;\n",
              "  }\n",
              "\n",
              "  .colab-df-spinner {\n",
              "    border: 2px solid var(--fill-color);\n",
              "    border-color: transparent;\n",
              "    border-bottom-color: var(--fill-color);\n",
              "    animation:\n",
              "      spin 1s steps(1) infinite;\n",
              "  }\n",
              "\n",
              "  @keyframes spin {\n",
              "    0% {\n",
              "      border-color: transparent;\n",
              "      border-bottom-color: var(--fill-color);\n",
              "      border-left-color: var(--fill-color);\n",
              "    }\n",
              "    20% {\n",
              "      border-color: transparent;\n",
              "      border-left-color: var(--fill-color);\n",
              "      border-top-color: var(--fill-color);\n",
              "    }\n",
              "    30% {\n",
              "      border-color: transparent;\n",
              "      border-left-color: var(--fill-color);\n",
              "      border-top-color: var(--fill-color);\n",
              "      border-right-color: var(--fill-color);\n",
              "    }\n",
              "    40% {\n",
              "      border-color: transparent;\n",
              "      border-right-color: var(--fill-color);\n",
              "      border-top-color: var(--fill-color);\n",
              "    }\n",
              "    60% {\n",
              "      border-color: transparent;\n",
              "      border-right-color: var(--fill-color);\n",
              "    }\n",
              "    80% {\n",
              "      border-color: transparent;\n",
              "      border-right-color: var(--fill-color);\n",
              "      border-bottom-color: var(--fill-color);\n",
              "    }\n",
              "    90% {\n",
              "      border-color: transparent;\n",
              "      border-bottom-color: var(--fill-color);\n",
              "    }\n",
              "  }\n",
              "</style>\n",
              "\n",
              "  <script>\n",
              "    async function quickchart(key) {\n",
              "      const quickchartButtonEl =\n",
              "        document.querySelector('#' + key + ' button');\n",
              "      quickchartButtonEl.disabled = true;  // To prevent multiple clicks.\n",
              "      quickchartButtonEl.classList.add('colab-df-spinner');\n",
              "      try {\n",
              "        const charts = await google.colab.kernel.invokeFunction(\n",
              "            'suggestCharts', [key], {});\n",
              "      } catch (error) {\n",
              "        console.error('Error during call to suggestCharts:', error);\n",
              "      }\n",
              "      quickchartButtonEl.classList.remove('colab-df-spinner');\n",
              "      quickchartButtonEl.classList.add('colab-df-quickchart-complete');\n",
              "    }\n",
              "    (() => {\n",
              "      let quickchartButtonEl =\n",
              "        document.querySelector('#df-bb40e4c7-afed-472c-a099-3ddce1f90cdd button');\n",
              "      quickchartButtonEl.style.display =\n",
              "        google.colab.kernel.accessAllowed ? 'block' : 'none';\n",
              "    })();\n",
              "  </script>\n",
              "</div>\n",
              "    </div>\n",
              "  </div>\n"
            ],
            "application/vnd.google.colaboratory.intrinsic+json": {
              "type": "dataframe",
              "summary": "{\n  \"name\": \"             index=['sklearn', 'pytorch'])\",\n  \"rows\": 2,\n  \"fields\": [\n    {\n      \"column\": \"w0\",\n      \"properties\": {\n        \"dtype\": \"number\",\n        \"std\": 0.0,\n        \"min\": -0.77,\n        \"max\": -0.77,\n        \"num_unique_values\": 1,\n        \"samples\": [\n          -0.77\n        ],\n        \"semantic_type\": \"\",\n        \"description\": \"\"\n      }\n    },\n    {\n      \"column\": \"w1\",\n      \"properties\": {\n        \"dtype\": \"number\",\n        \"std\": 0.0,\n        \"min\": 45.5,\n        \"max\": 45.5,\n        \"num_unique_values\": 1,\n        \"samples\": [\n          45.5\n        ],\n        \"semantic_type\": \"\",\n        \"description\": \"\"\n      }\n    }\n  ]\n}"
            }
          },
          "metadata": {},
          "execution_count": 54
        }
      ],
      "source": [
        "pd.DataFrame({\"w0\": [sk_model.intercept_, model.state_dict()['linear.bias'].item()],\n",
        "              \"w1\": [sk_model.coef_[0], model.state_dict()['linear.weight'].item()]},\n",
        "             index=['sklearn', 'pytorch']).round(2)"
      ]
    },
    {
      "cell_type": "markdown",
      "metadata": {
        "id": "k-wh9x5Qp2wp"
      },
      "source": [
        "- We got pretty close\n",
        "\n",
        "- We could do better by changing the number of epochs or the learning rate\n",
        "- So here is our simple network once again:\n"
      ]
    },
    {
      "cell_type": "markdown",
      "metadata": {
        "id": "5cn3lUB5p2wp"
      },
      "source": [
        "- By the way, check out what happens if we run `trainer()` again:"
      ]
    },
    {
      "cell_type": "code",
      "execution_count": null,
      "metadata": {
        "colab": {
          "base_uri": "https://localhost:8080/"
        },
        "id": "cEH-qJgup2wp",
        "outputId": "995dae87-1e98-4354-9794-fdac34522ee9"
      },
      "outputs": [
        {
          "output_type": "stream",
          "name": "stdout",
          "text": [
            "epoch: 1, loss: 93.3071\n",
            "epoch: 2, loss: 93.2027\n",
            "epoch: 3, loss: 93.2832\n",
            "epoch: 4, loss: 93.1712\n",
            "epoch: 5, loss: 93.3651\n",
            "epoch: 6, loss: 93.2526\n",
            "epoch: 7, loss: 93.2466\n",
            "epoch: 8, loss: 93.2170\n",
            "epoch: 9, loss: 93.2391\n",
            "epoch: 10, loss: 93.2662\n",
            "epoch: 11, loss: 93.1802\n",
            "epoch: 12, loss: 93.2788\n",
            "epoch: 13, loss: 93.2378\n",
            "epoch: 14, loss: 93.2437\n",
            "epoch: 15, loss: 93.1980\n",
            "epoch: 16, loss: 93.2742\n",
            "epoch: 17, loss: 93.2069\n",
            "epoch: 18, loss: 93.2352\n",
            "epoch: 19, loss: 93.2256\n",
            "epoch: 20, loss: 93.2527\n"
          ]
        }
      ],
      "source": [
        "trainer(model, criterion, optimizer, dataloader, epochs=20, verbose=True)"
      ]
    },
    {
      "cell_type": "markdown",
      "metadata": {
        "id": "9do60ycSp2wp"
      },
      "source": [
        "- **Our model continues where we left off**\n",
        "\n",
        "- This may or may not be what you want. We can start from scratch by re-making the `model` and `optimizer`."
      ]
    },
    {
      "cell_type": "code",
      "execution_count": null,
      "metadata": {
        "colab": {
          "base_uri": "https://localhost:8080/",
          "height": 112
        },
        "id": "dUdIowvWp2wp",
        "outputId": "14d9cd6b-84c9-4448-b648-44924d6c2cb2"
      },
      "outputs": [
        {
          "output_type": "execute_result",
          "data": {
            "text/plain": [
              "           w0     w1\n",
              "sklearn -0.77  45.50\n",
              "pytorch -0.76  45.49"
            ],
            "text/html": [
              "\n",
              "  <div id=\"df-b1a7f92c-50ad-4e09-a542-30f261371b24\" class=\"colab-df-container\">\n",
              "    <div>\n",
              "<style scoped>\n",
              "    .dataframe tbody tr th:only-of-type {\n",
              "        vertical-align: middle;\n",
              "    }\n",
              "\n",
              "    .dataframe tbody tr th {\n",
              "        vertical-align: top;\n",
              "    }\n",
              "\n",
              "    .dataframe thead th {\n",
              "        text-align: right;\n",
              "    }\n",
              "</style>\n",
              "<table border=\"1\" class=\"dataframe\">\n",
              "  <thead>\n",
              "    <tr style=\"text-align: right;\">\n",
              "      <th></th>\n",
              "      <th>w0</th>\n",
              "      <th>w1</th>\n",
              "    </tr>\n",
              "  </thead>\n",
              "  <tbody>\n",
              "    <tr>\n",
              "      <th>sklearn</th>\n",
              "      <td>-0.77</td>\n",
              "      <td>45.50</td>\n",
              "    </tr>\n",
              "    <tr>\n",
              "      <th>pytorch</th>\n",
              "      <td>-0.76</td>\n",
              "      <td>45.49</td>\n",
              "    </tr>\n",
              "  </tbody>\n",
              "</table>\n",
              "</div>\n",
              "    <div class=\"colab-df-buttons\">\n",
              "\n",
              "  <div class=\"colab-df-container\">\n",
              "    <button class=\"colab-df-convert\" onclick=\"convertToInteractive('df-b1a7f92c-50ad-4e09-a542-30f261371b24')\"\n",
              "            title=\"Convert this dataframe to an interactive table.\"\n",
              "            style=\"display:none;\">\n",
              "\n",
              "  <svg xmlns=\"http://www.w3.org/2000/svg\" height=\"24px\" viewBox=\"0 -960 960 960\">\n",
              "    <path d=\"M120-120v-720h720v720H120Zm60-500h600v-160H180v160Zm220 220h160v-160H400v160Zm0 220h160v-160H400v160ZM180-400h160v-160H180v160Zm440 0h160v-160H620v160ZM180-180h160v-160H180v160Zm440 0h160v-160H620v160Z\"/>\n",
              "  </svg>\n",
              "    </button>\n",
              "\n",
              "  <style>\n",
              "    .colab-df-container {\n",
              "      display:flex;\n",
              "      gap: 12px;\n",
              "    }\n",
              "\n",
              "    .colab-df-convert {\n",
              "      background-color: #E8F0FE;\n",
              "      border: none;\n",
              "      border-radius: 50%;\n",
              "      cursor: pointer;\n",
              "      display: none;\n",
              "      fill: #1967D2;\n",
              "      height: 32px;\n",
              "      padding: 0 0 0 0;\n",
              "      width: 32px;\n",
              "    }\n",
              "\n",
              "    .colab-df-convert:hover {\n",
              "      background-color: #E2EBFA;\n",
              "      box-shadow: 0px 1px 2px rgba(60, 64, 67, 0.3), 0px 1px 3px 1px rgba(60, 64, 67, 0.15);\n",
              "      fill: #174EA6;\n",
              "    }\n",
              "\n",
              "    .colab-df-buttons div {\n",
              "      margin-bottom: 4px;\n",
              "    }\n",
              "\n",
              "    [theme=dark] .colab-df-convert {\n",
              "      background-color: #3B4455;\n",
              "      fill: #D2E3FC;\n",
              "    }\n",
              "\n",
              "    [theme=dark] .colab-df-convert:hover {\n",
              "      background-color: #434B5C;\n",
              "      box-shadow: 0px 1px 3px 1px rgba(0, 0, 0, 0.15);\n",
              "      filter: drop-shadow(0px 1px 2px rgba(0, 0, 0, 0.3));\n",
              "      fill: #FFFFFF;\n",
              "    }\n",
              "  </style>\n",
              "\n",
              "    <script>\n",
              "      const buttonEl =\n",
              "        document.querySelector('#df-b1a7f92c-50ad-4e09-a542-30f261371b24 button.colab-df-convert');\n",
              "      buttonEl.style.display =\n",
              "        google.colab.kernel.accessAllowed ? 'block' : 'none';\n",
              "\n",
              "      async function convertToInteractive(key) {\n",
              "        const element = document.querySelector('#df-b1a7f92c-50ad-4e09-a542-30f261371b24');\n",
              "        const dataTable =\n",
              "          await google.colab.kernel.invokeFunction('convertToInteractive',\n",
              "                                                    [key], {});\n",
              "        if (!dataTable) return;\n",
              "\n",
              "        const docLinkHtml = 'Like what you see? Visit the ' +\n",
              "          '<a target=\"_blank\" href=https://colab.research.google.com/notebooks/data_table.ipynb>data table notebook</a>'\n",
              "          + ' to learn more about interactive tables.';\n",
              "        element.innerHTML = '';\n",
              "        dataTable['output_type'] = 'display_data';\n",
              "        await google.colab.output.renderOutput(dataTable, element);\n",
              "        const docLink = document.createElement('div');\n",
              "        docLink.innerHTML = docLinkHtml;\n",
              "        element.appendChild(docLink);\n",
              "      }\n",
              "    </script>\n",
              "  </div>\n",
              "\n",
              "\n",
              "<div id=\"df-4d9405f1-3219-4996-afd1-638ebc851cc1\">\n",
              "  <button class=\"colab-df-quickchart\" onclick=\"quickchart('df-4d9405f1-3219-4996-afd1-638ebc851cc1')\"\n",
              "            title=\"Suggest charts\"\n",
              "            style=\"display:none;\">\n",
              "\n",
              "<svg xmlns=\"http://www.w3.org/2000/svg\" height=\"24px\"viewBox=\"0 0 24 24\"\n",
              "     width=\"24px\">\n",
              "    <g>\n",
              "        <path d=\"M19 3H5c-1.1 0-2 .9-2 2v14c0 1.1.9 2 2 2h14c1.1 0 2-.9 2-2V5c0-1.1-.9-2-2-2zM9 17H7v-7h2v7zm4 0h-2V7h2v10zm4 0h-2v-4h2v4z\"/>\n",
              "    </g>\n",
              "</svg>\n",
              "  </button>\n",
              "\n",
              "<style>\n",
              "  .colab-df-quickchart {\n",
              "      --bg-color: #E8F0FE;\n",
              "      --fill-color: #1967D2;\n",
              "      --hover-bg-color: #E2EBFA;\n",
              "      --hover-fill-color: #174EA6;\n",
              "      --disabled-fill-color: #AAA;\n",
              "      --disabled-bg-color: #DDD;\n",
              "  }\n",
              "\n",
              "  [theme=dark] .colab-df-quickchart {\n",
              "      --bg-color: #3B4455;\n",
              "      --fill-color: #D2E3FC;\n",
              "      --hover-bg-color: #434B5C;\n",
              "      --hover-fill-color: #FFFFFF;\n",
              "      --disabled-bg-color: #3B4455;\n",
              "      --disabled-fill-color: #666;\n",
              "  }\n",
              "\n",
              "  .colab-df-quickchart {\n",
              "    background-color: var(--bg-color);\n",
              "    border: none;\n",
              "    border-radius: 50%;\n",
              "    cursor: pointer;\n",
              "    display: none;\n",
              "    fill: var(--fill-color);\n",
              "    height: 32px;\n",
              "    padding: 0;\n",
              "    width: 32px;\n",
              "  }\n",
              "\n",
              "  .colab-df-quickchart:hover {\n",
              "    background-color: var(--hover-bg-color);\n",
              "    box-shadow: 0 1px 2px rgba(60, 64, 67, 0.3), 0 1px 3px 1px rgba(60, 64, 67, 0.15);\n",
              "    fill: var(--button-hover-fill-color);\n",
              "  }\n",
              "\n",
              "  .colab-df-quickchart-complete:disabled,\n",
              "  .colab-df-quickchart-complete:disabled:hover {\n",
              "    background-color: var(--disabled-bg-color);\n",
              "    fill: var(--disabled-fill-color);\n",
              "    box-shadow: none;\n",
              "  }\n",
              "\n",
              "  .colab-df-spinner {\n",
              "    border: 2px solid var(--fill-color);\n",
              "    border-color: transparent;\n",
              "    border-bottom-color: var(--fill-color);\n",
              "    animation:\n",
              "      spin 1s steps(1) infinite;\n",
              "  }\n",
              "\n",
              "  @keyframes spin {\n",
              "    0% {\n",
              "      border-color: transparent;\n",
              "      border-bottom-color: var(--fill-color);\n",
              "      border-left-color: var(--fill-color);\n",
              "    }\n",
              "    20% {\n",
              "      border-color: transparent;\n",
              "      border-left-color: var(--fill-color);\n",
              "      border-top-color: var(--fill-color);\n",
              "    }\n",
              "    30% {\n",
              "      border-color: transparent;\n",
              "      border-left-color: var(--fill-color);\n",
              "      border-top-color: var(--fill-color);\n",
              "      border-right-color: var(--fill-color);\n",
              "    }\n",
              "    40% {\n",
              "      border-color: transparent;\n",
              "      border-right-color: var(--fill-color);\n",
              "      border-top-color: var(--fill-color);\n",
              "    }\n",
              "    60% {\n",
              "      border-color: transparent;\n",
              "      border-right-color: var(--fill-color);\n",
              "    }\n",
              "    80% {\n",
              "      border-color: transparent;\n",
              "      border-right-color: var(--fill-color);\n",
              "      border-bottom-color: var(--fill-color);\n",
              "    }\n",
              "    90% {\n",
              "      border-color: transparent;\n",
              "      border-bottom-color: var(--fill-color);\n",
              "    }\n",
              "  }\n",
              "</style>\n",
              "\n",
              "  <script>\n",
              "    async function quickchart(key) {\n",
              "      const quickchartButtonEl =\n",
              "        document.querySelector('#' + key + ' button');\n",
              "      quickchartButtonEl.disabled = true;  // To prevent multiple clicks.\n",
              "      quickchartButtonEl.classList.add('colab-df-spinner');\n",
              "      try {\n",
              "        const charts = await google.colab.kernel.invokeFunction(\n",
              "            'suggestCharts', [key], {});\n",
              "      } catch (error) {\n",
              "        console.error('Error during call to suggestCharts:', error);\n",
              "      }\n",
              "      quickchartButtonEl.classList.remove('colab-df-spinner');\n",
              "      quickchartButtonEl.classList.add('colab-df-quickchart-complete');\n",
              "    }\n",
              "    (() => {\n",
              "      let quickchartButtonEl =\n",
              "        document.querySelector('#df-4d9405f1-3219-4996-afd1-638ebc851cc1 button');\n",
              "      quickchartButtonEl.style.display =\n",
              "        google.colab.kernel.accessAllowed ? 'block' : 'none';\n",
              "    })();\n",
              "  </script>\n",
              "</div>\n",
              "    </div>\n",
              "  </div>\n"
            ],
            "application/vnd.google.colaboratory.intrinsic+json": {
              "type": "dataframe",
              "summary": "{\n  \"name\": \"             index=['sklearn', 'pytorch'])\",\n  \"rows\": 2,\n  \"fields\": [\n    {\n      \"column\": \"w0\",\n      \"properties\": {\n        \"dtype\": \"number\",\n        \"std\": 0.007071067811865481,\n        \"min\": -0.77,\n        \"max\": -0.76,\n        \"num_unique_values\": 2,\n        \"samples\": [\n          -0.76,\n          -0.77\n        ],\n        \"semantic_type\": \"\",\n        \"description\": \"\"\n      }\n    },\n    {\n      \"column\": \"w1\",\n      \"properties\": {\n        \"dtype\": \"number\",\n        \"std\": 0.0070710678118640685,\n        \"min\": 45.49,\n        \"max\": 45.5,\n        \"num_unique_values\": 2,\n        \"samples\": [\n          45.49,\n          45.5\n        ],\n        \"semantic_type\": \"\",\n        \"description\": \"\"\n      }\n    }\n  ]\n}"
            }
          },
          "metadata": {},
          "execution_count": 56
        }
      ],
      "source": [
        "pd.DataFrame({\"w0\": [sk_model.intercept_, model.state_dict()['linear.bias'].item()],\n",
        "              \"w1\": [sk_model.coef_[0], model.state_dict()['linear.weight'].item()]},\n",
        "             index=['sklearn', 'pytorch']).round(2)"
      ]
    },
    {
      "cell_type": "markdown",
      "metadata": {
        "id": "12zEshAcp2wp"
      },
      "source": [
        "<br><br><br>"
      ]
    },
    {
      "cell_type": "markdown",
      "metadata": {
        "tags": [],
        "id": "5gtH_fdDp2wp"
      },
      "source": [
        "### Multiple Linear Regression with a Neural Network"
      ]
    },
    {
      "cell_type": "markdown",
      "metadata": {
        "id": "St0c4rbrp2wp"
      },
      "source": [
        "- Okay, let's do a multiple linear regression now with 3 features\n"
      ]
    },
    {
      "cell_type": "markdown",
      "metadata": {
        "id": "gpwqVNaAp2wq"
      },
      "source": [
        "<br><br><br>"
      ]
    },
    {
      "cell_type": "markdown",
      "metadata": {
        "id": "J57Mk36jp2wq"
      },
      "source": [
        "- Let's go ahead and create some data:"
      ]
    },
    {
      "cell_type": "code",
      "execution_count": null,
      "metadata": {
        "id": "Ya0XDuCyp2wq"
      },
      "outputs": [],
      "source": [
        "# Create dataset\n",
        "X, y = make_regression(n_samples=500, n_features=3, random_state=0, noise=10.0)\n",
        "X_t = torch.tensor(X, dtype=torch.float32, device=device)\n",
        "y_t = torch.tensor(y, dtype=torch.float32, device=device)\n",
        "\n",
        "# Create dataloader\n",
        "dataset = TensorDataset(X_t, y_t)\n",
        "dataloader = DataLoader(dataset, batch_size=BATCH_SIZE, shuffle=True)"
      ]
    },
    {
      "cell_type": "markdown",
      "metadata": {
        "id": "gclOsJ_Tp2wq"
      },
      "source": [
        "- And let's create the above model:"
      ]
    },
    {
      "cell_type": "code",
      "execution_count": null,
      "metadata": {
        "colab": {
          "base_uri": "https://localhost:8080/"
        },
        "id": "XQ9cz5Atp2wq",
        "outputId": "f352890c-00c4-46a0-d26c-a280eb99b937"
      },
      "outputs": [
        {
          "output_type": "execute_result",
          "data": {
            "text/plain": [
              "torch.Size([500])"
            ]
          },
          "metadata": {},
          "execution_count": 59
        }
      ],
      "source": [
        "y_t.shape"
      ]
    },
    {
      "cell_type": "code",
      "execution_count": null,
      "metadata": {
        "id": "ZwIzUPkyp2wq"
      },
      "outputs": [],
      "source": [
        "model = linearRegression(input_size=3, output_size=1)"
      ]
    },
    {
      "cell_type": "markdown",
      "metadata": {
        "id": "VkyaFHNYp2wq"
      },
      "source": [
        "- We should now have 4 parameters (3 weights and 1 bias)"
      ]
    },
    {
      "cell_type": "code",
      "execution_count": null,
      "metadata": {
        "colab": {
          "base_uri": "https://localhost:8080/"
        },
        "id": "4Cw3nhrXp2wq",
        "outputId": "33936a4b-9018-4a02-a301-731fff13f466"
      },
      "outputs": [
        {
          "output_type": "stream",
          "name": "stdout",
          "text": [
            "----------------------------------------------------------------\n",
            "        Layer (type)               Output Shape         Param #\n",
            "================================================================\n",
            "            Linear-1                    [-1, 1]               4\n",
            "================================================================\n",
            "Total params: 4\n",
            "Trainable params: 4\n",
            "Non-trainable params: 0\n",
            "----------------------------------------------------------------\n",
            "Input size (MB): 0.00\n",
            "Forward/backward pass size (MB): 0.00\n",
            "Params size (MB): 0.00\n",
            "Estimated Total Size (MB): 0.00\n",
            "----------------------------------------------------------------\n"
          ]
        }
      ],
      "source": [
        "summary(model, (3,));"
      ]
    },
    {
      "cell_type": "markdown",
      "metadata": {
        "id": "4_7P5BhDp2wq"
      },
      "source": [
        "- Looks good to me! Let's train the model and then compare it to sklearn's `LinearRegression()`:"
      ]
    },
    {
      "cell_type": "code",
      "execution_count": null,
      "metadata": {
        "colab": {
          "base_uri": "https://localhost:8080/"
        },
        "id": "r3fKPn61p2wq",
        "outputId": "f8bba4ff-d38f-4799-ca05-96a96f88fea9"
      },
      "outputs": [
        {
          "output_type": "execute_result",
          "data": {
            "text/plain": [
              "OrderedDict([('linear.weight',\n",
              "              tensor([[-0.5593,  0.0668,  0.3191]], device='cuda:0')),\n",
              "             ('linear.bias', tensor([0.5686], device='cuda:0'))])"
            ]
          },
          "metadata": {},
          "execution_count": 62
        }
      ],
      "source": [
        "model.state_dict()"
      ]
    },
    {
      "cell_type": "code",
      "execution_count": null,
      "metadata": {
        "id": "FvjYUa4Np2wq"
      },
      "outputs": [],
      "source": [
        "criterion = nn.MSELoss()\n",
        "optimizer = torch.optim.SGD(model.parameters(), lr=0.05)\n",
        "trainer(model, criterion, optimizer, dataloader, epochs=100, verbose=False)"
      ]
    },
    {
      "cell_type": "code",
      "execution_count": null,
      "metadata": {
        "colab": {
          "base_uri": "https://localhost:8080/",
          "height": 112
        },
        "id": "CAXHcOzBp2wq",
        "outputId": "69e47fc8-0017-4351-8cc6-c21c98613db8"
      },
      "outputs": [
        {
          "output_type": "execute_result",
          "data": {
            "text/plain": [
              "           w0    w1     w2     w3\n",
              "sklearn  0.43  0.62  55.99  11.14\n",
              "pytorch  0.57  0.60  55.95  11.24"
            ],
            "text/html": [
              "\n",
              "  <div id=\"df-f7b88eac-b350-46d5-b82f-dabdae12245b\" class=\"colab-df-container\">\n",
              "    <div>\n",
              "<style scoped>\n",
              "    .dataframe tbody tr th:only-of-type {\n",
              "        vertical-align: middle;\n",
              "    }\n",
              "\n",
              "    .dataframe tbody tr th {\n",
              "        vertical-align: top;\n",
              "    }\n",
              "\n",
              "    .dataframe thead th {\n",
              "        text-align: right;\n",
              "    }\n",
              "</style>\n",
              "<table border=\"1\" class=\"dataframe\">\n",
              "  <thead>\n",
              "    <tr style=\"text-align: right;\">\n",
              "      <th></th>\n",
              "      <th>w0</th>\n",
              "      <th>w1</th>\n",
              "      <th>w2</th>\n",
              "      <th>w3</th>\n",
              "    </tr>\n",
              "  </thead>\n",
              "  <tbody>\n",
              "    <tr>\n",
              "      <th>sklearn</th>\n",
              "      <td>0.43</td>\n",
              "      <td>0.62</td>\n",
              "      <td>55.99</td>\n",
              "      <td>11.14</td>\n",
              "    </tr>\n",
              "    <tr>\n",
              "      <th>pytorch</th>\n",
              "      <td>0.57</td>\n",
              "      <td>0.60</td>\n",
              "      <td>55.95</td>\n",
              "      <td>11.24</td>\n",
              "    </tr>\n",
              "  </tbody>\n",
              "</table>\n",
              "</div>\n",
              "    <div class=\"colab-df-buttons\">\n",
              "\n",
              "  <div class=\"colab-df-container\">\n",
              "    <button class=\"colab-df-convert\" onclick=\"convertToInteractive('df-f7b88eac-b350-46d5-b82f-dabdae12245b')\"\n",
              "            title=\"Convert this dataframe to an interactive table.\"\n",
              "            style=\"display:none;\">\n",
              "\n",
              "  <svg xmlns=\"http://www.w3.org/2000/svg\" height=\"24px\" viewBox=\"0 -960 960 960\">\n",
              "    <path d=\"M120-120v-720h720v720H120Zm60-500h600v-160H180v160Zm220 220h160v-160H400v160Zm0 220h160v-160H400v160ZM180-400h160v-160H180v160Zm440 0h160v-160H620v160ZM180-180h160v-160H180v160Zm440 0h160v-160H620v160Z\"/>\n",
              "  </svg>\n",
              "    </button>\n",
              "\n",
              "  <style>\n",
              "    .colab-df-container {\n",
              "      display:flex;\n",
              "      gap: 12px;\n",
              "    }\n",
              "\n",
              "    .colab-df-convert {\n",
              "      background-color: #E8F0FE;\n",
              "      border: none;\n",
              "      border-radius: 50%;\n",
              "      cursor: pointer;\n",
              "      display: none;\n",
              "      fill: #1967D2;\n",
              "      height: 32px;\n",
              "      padding: 0 0 0 0;\n",
              "      width: 32px;\n",
              "    }\n",
              "\n",
              "    .colab-df-convert:hover {\n",
              "      background-color: #E2EBFA;\n",
              "      box-shadow: 0px 1px 2px rgba(60, 64, 67, 0.3), 0px 1px 3px 1px rgba(60, 64, 67, 0.15);\n",
              "      fill: #174EA6;\n",
              "    }\n",
              "\n",
              "    .colab-df-buttons div {\n",
              "      margin-bottom: 4px;\n",
              "    }\n",
              "\n",
              "    [theme=dark] .colab-df-convert {\n",
              "      background-color: #3B4455;\n",
              "      fill: #D2E3FC;\n",
              "    }\n",
              "\n",
              "    [theme=dark] .colab-df-convert:hover {\n",
              "      background-color: #434B5C;\n",
              "      box-shadow: 0px 1px 3px 1px rgba(0, 0, 0, 0.15);\n",
              "      filter: drop-shadow(0px 1px 2px rgba(0, 0, 0, 0.3));\n",
              "      fill: #FFFFFF;\n",
              "    }\n",
              "  </style>\n",
              "\n",
              "    <script>\n",
              "      const buttonEl =\n",
              "        document.querySelector('#df-f7b88eac-b350-46d5-b82f-dabdae12245b button.colab-df-convert');\n",
              "      buttonEl.style.display =\n",
              "        google.colab.kernel.accessAllowed ? 'block' : 'none';\n",
              "\n",
              "      async function convertToInteractive(key) {\n",
              "        const element = document.querySelector('#df-f7b88eac-b350-46d5-b82f-dabdae12245b');\n",
              "        const dataTable =\n",
              "          await google.colab.kernel.invokeFunction('convertToInteractive',\n",
              "                                                    [key], {});\n",
              "        if (!dataTable) return;\n",
              "\n",
              "        const docLinkHtml = 'Like what you see? Visit the ' +\n",
              "          '<a target=\"_blank\" href=https://colab.research.google.com/notebooks/data_table.ipynb>data table notebook</a>'\n",
              "          + ' to learn more about interactive tables.';\n",
              "        element.innerHTML = '';\n",
              "        dataTable['output_type'] = 'display_data';\n",
              "        await google.colab.output.renderOutput(dataTable, element);\n",
              "        const docLink = document.createElement('div');\n",
              "        docLink.innerHTML = docLinkHtml;\n",
              "        element.appendChild(docLink);\n",
              "      }\n",
              "    </script>\n",
              "  </div>\n",
              "\n",
              "\n",
              "<div id=\"df-d0c152a0-d6cb-4b39-a3ec-cd4b5e2e1774\">\n",
              "  <button class=\"colab-df-quickchart\" onclick=\"quickchart('df-d0c152a0-d6cb-4b39-a3ec-cd4b5e2e1774')\"\n",
              "            title=\"Suggest charts\"\n",
              "            style=\"display:none;\">\n",
              "\n",
              "<svg xmlns=\"http://www.w3.org/2000/svg\" height=\"24px\"viewBox=\"0 0 24 24\"\n",
              "     width=\"24px\">\n",
              "    <g>\n",
              "        <path d=\"M19 3H5c-1.1 0-2 .9-2 2v14c0 1.1.9 2 2 2h14c1.1 0 2-.9 2-2V5c0-1.1-.9-2-2-2zM9 17H7v-7h2v7zm4 0h-2V7h2v10zm4 0h-2v-4h2v4z\"/>\n",
              "    </g>\n",
              "</svg>\n",
              "  </button>\n",
              "\n",
              "<style>\n",
              "  .colab-df-quickchart {\n",
              "      --bg-color: #E8F0FE;\n",
              "      --fill-color: #1967D2;\n",
              "      --hover-bg-color: #E2EBFA;\n",
              "      --hover-fill-color: #174EA6;\n",
              "      --disabled-fill-color: #AAA;\n",
              "      --disabled-bg-color: #DDD;\n",
              "  }\n",
              "\n",
              "  [theme=dark] .colab-df-quickchart {\n",
              "      --bg-color: #3B4455;\n",
              "      --fill-color: #D2E3FC;\n",
              "      --hover-bg-color: #434B5C;\n",
              "      --hover-fill-color: #FFFFFF;\n",
              "      --disabled-bg-color: #3B4455;\n",
              "      --disabled-fill-color: #666;\n",
              "  }\n",
              "\n",
              "  .colab-df-quickchart {\n",
              "    background-color: var(--bg-color);\n",
              "    border: none;\n",
              "    border-radius: 50%;\n",
              "    cursor: pointer;\n",
              "    display: none;\n",
              "    fill: var(--fill-color);\n",
              "    height: 32px;\n",
              "    padding: 0;\n",
              "    width: 32px;\n",
              "  }\n",
              "\n",
              "  .colab-df-quickchart:hover {\n",
              "    background-color: var(--hover-bg-color);\n",
              "    box-shadow: 0 1px 2px rgba(60, 64, 67, 0.3), 0 1px 3px 1px rgba(60, 64, 67, 0.15);\n",
              "    fill: var(--button-hover-fill-color);\n",
              "  }\n",
              "\n",
              "  .colab-df-quickchart-complete:disabled,\n",
              "  .colab-df-quickchart-complete:disabled:hover {\n",
              "    background-color: var(--disabled-bg-color);\n",
              "    fill: var(--disabled-fill-color);\n",
              "    box-shadow: none;\n",
              "  }\n",
              "\n",
              "  .colab-df-spinner {\n",
              "    border: 2px solid var(--fill-color);\n",
              "    border-color: transparent;\n",
              "    border-bottom-color: var(--fill-color);\n",
              "    animation:\n",
              "      spin 1s steps(1) infinite;\n",
              "  }\n",
              "\n",
              "  @keyframes spin {\n",
              "    0% {\n",
              "      border-color: transparent;\n",
              "      border-bottom-color: var(--fill-color);\n",
              "      border-left-color: var(--fill-color);\n",
              "    }\n",
              "    20% {\n",
              "      border-color: transparent;\n",
              "      border-left-color: var(--fill-color);\n",
              "      border-top-color: var(--fill-color);\n",
              "    }\n",
              "    30% {\n",
              "      border-color: transparent;\n",
              "      border-left-color: var(--fill-color);\n",
              "      border-top-color: var(--fill-color);\n",
              "      border-right-color: var(--fill-color);\n",
              "    }\n",
              "    40% {\n",
              "      border-color: transparent;\n",
              "      border-right-color: var(--fill-color);\n",
              "      border-top-color: var(--fill-color);\n",
              "    }\n",
              "    60% {\n",
              "      border-color: transparent;\n",
              "      border-right-color: var(--fill-color);\n",
              "    }\n",
              "    80% {\n",
              "      border-color: transparent;\n",
              "      border-right-color: var(--fill-color);\n",
              "      border-bottom-color: var(--fill-color);\n",
              "    }\n",
              "    90% {\n",
              "      border-color: transparent;\n",
              "      border-bottom-color: var(--fill-color);\n",
              "    }\n",
              "  }\n",
              "</style>\n",
              "\n",
              "  <script>\n",
              "    async function quickchart(key) {\n",
              "      const quickchartButtonEl =\n",
              "        document.querySelector('#' + key + ' button');\n",
              "      quickchartButtonEl.disabled = true;  // To prevent multiple clicks.\n",
              "      quickchartButtonEl.classList.add('colab-df-spinner');\n",
              "      try {\n",
              "        const charts = await google.colab.kernel.invokeFunction(\n",
              "            'suggestCharts', [key], {});\n",
              "      } catch (error) {\n",
              "        console.error('Error during call to suggestCharts:', error);\n",
              "      }\n",
              "      quickchartButtonEl.classList.remove('colab-df-spinner');\n",
              "      quickchartButtonEl.classList.add('colab-df-quickchart-complete');\n",
              "    }\n",
              "    (() => {\n",
              "      let quickchartButtonEl =\n",
              "        document.querySelector('#df-d0c152a0-d6cb-4b39-a3ec-cd4b5e2e1774 button');\n",
              "      quickchartButtonEl.style.display =\n",
              "        google.colab.kernel.accessAllowed ? 'block' : 'none';\n",
              "    })();\n",
              "  </script>\n",
              "</div>\n",
              "    </div>\n",
              "  </div>\n"
            ],
            "application/vnd.google.colaboratory.intrinsic+json": {
              "type": "dataframe",
              "summary": "{\n  \"name\": \"             index=['sklearn', 'pytorch'])\",\n  \"rows\": 2,\n  \"fields\": [\n    {\n      \"column\": \"w0\",\n      \"properties\": {\n        \"dtype\": \"number\",\n        \"std\": 0.09899494936611662,\n        \"min\": 0.43,\n        \"max\": 0.57,\n        \"num_unique_values\": 2,\n        \"samples\": [\n          0.57,\n          0.43\n        ],\n        \"semantic_type\": \"\",\n        \"description\": \"\"\n      }\n    },\n    {\n      \"column\": \"w1\",\n      \"properties\": {\n        \"dtype\": \"number\",\n        \"std\": 0.014142135623730963,\n        \"min\": 0.6,\n        \"max\": 0.62,\n        \"num_unique_values\": 2,\n        \"samples\": [\n          0.6,\n          0.62\n        ],\n        \"semantic_type\": \"\",\n        \"description\": \"\"\n      }\n    },\n    {\n      \"column\": \"w2\",\n      \"properties\": {\n        \"dtype\": \"number\",\n        \"std\": 0.028284271247461298,\n        \"min\": 55.95,\n        \"max\": 55.99,\n        \"num_unique_values\": 2,\n        \"samples\": [\n          55.95,\n          55.99\n        ],\n        \"semantic_type\": \"\",\n        \"description\": \"\"\n      }\n    },\n    {\n      \"column\": \"w3\",\n      \"properties\": {\n        \"dtype\": \"number\",\n        \"std\": 0.0707106781186545,\n        \"min\": 11.14,\n        \"max\": 11.24,\n        \"num_unique_values\": 2,\n        \"samples\": [\n          11.24,\n          11.14\n        ],\n        \"semantic_type\": \"\",\n        \"description\": \"\"\n      }\n    }\n  ]\n}"
            }
          },
          "metadata": {},
          "execution_count": 64
        }
      ],
      "source": [
        "sk_model = LinearRegression().fit(X, y)\n",
        "pd.DataFrame({\"w0\": [sk_model.intercept_, model.state_dict()['linear.bias'].item()],\n",
        "              \"w1\": [sk_model.coef_[0], model.state_dict()['linear.weight'][0, 0].item()],\n",
        "              \"w2\": [sk_model.coef_[1], model.state_dict()['linear.weight'][0, 1].item()],\n",
        "              \"w3\": [sk_model.coef_[2], model.state_dict()['linear.weight'][0, 2].item()]},\n",
        "             index=['sklearn', 'pytorch']).round(2)"
      ]
    },
    {
      "cell_type": "markdown",
      "metadata": {
        "id": "qfcoiXkcp2wq"
      },
      "source": [
        "<br><br><br>"
      ]
    },
    {
      "cell_type": "markdown",
      "metadata": {
        "tags": [],
        "id": "Gn1s0bT9p2wq"
      },
      "source": [
        "### Non-linear Regression with a Neural Network"
      ]
    },
    {
      "cell_type": "markdown",
      "metadata": {
        "id": "Qq6sD3imp2wq"
      },
      "source": [
        "- Okay so we can make a simple network to imitate simple and multiple *linear* regression\n",
        "\n",
        "- For example, what happens when we have more complicated datasets like this?"
      ]
    },
    {
      "cell_type": "code",
      "execution_count": null,
      "metadata": {
        "colab": {
          "base_uri": "https://localhost:8080/",
          "height": 447
        },
        "id": "ZeqnU9fvp2wq",
        "outputId": "79849233-520e-4551-8cd1-c1c209e8ed21"
      },
      "outputs": [
        {
          "output_type": "execute_result",
          "data": {
            "text/plain": [
              "<matplotlib.collections.PathCollection at 0x787b018c9e70>"
            ]
          },
          "metadata": {},
          "execution_count": 65
        },
        {
          "output_type": "display_data",
          "data": {
            "text/plain": [
              "<Figure size 640x480 with 1 Axes>"
            ],
            "image/png": "[encoded data removed]"
          },
          "metadata": {}
        }
      ],
      "source": [
        "# Create dataset\n",
        "np.random.seed(2020)\n",
        "\n",
        "X = np.sort(np.random.randn(500))\n",
        "y = X ** 2 + 15 * np.sin(X) **3\n",
        "\n",
        "X_t = torch.tensor(X[:, None], dtype=torch.float32, device=device)\n",
        "y_t = torch.tensor(y, dtype=torch.float32, device=device)\n",
        "\n",
        "# Create dataloader\n",
        "dataset = TensorDataset(X_t, y_t)\n",
        "dataloader = DataLoader(dataset, batch_size=BATCH_SIZE, shuffle=True)\n",
        "\n",
        "plt.scatter(X, y, color = \"grey\", s = 4, zorder = 100)"
      ]
    },
    {
      "cell_type": "markdown",
      "metadata": {
        "id": "SU4olbCZp2wq"
      },
      "source": [
        "- This is obviously non-linear, and we need to introduce some **non-linearities** into our network\n",
        "\n",
        "- These non-linearities are what make neural networks so powerful and they are called **\"activation functions\"**\n",
        "- We are going to create a new model class that includes a non-linearity, that is, a sigmoid function:\n",
        "\n",
        "$$S(x)=\\frac{1}{1+e^{-x}}$$"
      ]
    },
    {
      "cell_type": "markdown",
      "metadata": {
        "id": "iib8NjRtp2wr"
      },
      "source": [
        "- We'll talk more about activation functions later, but note how the sigmoid function non-linearly maps `x` to a value between 0 and 1\n",
        "\n",
        "- Okay, so let's create the following network:"
      ]
    },
    {
      "cell_type": "code",
      "execution_count": null,
      "metadata": {
        "colab": {
          "base_uri": "https://localhost:8080/"
        },
        "id": "6kIrJ72cp2wr",
        "outputId": "1b707a78-c1a4-4c06-8f8f-646bba92671b"
      },
      "outputs": [
        {
          "output_type": "execute_result",
          "data": {
            "text/plain": [
              "torch.Size([500, 1])"
            ]
          },
          "metadata": {},
          "execution_count": 66
        }
      ],
      "source": [
        "X_t.shape"
      ]
    },
    {
      "cell_type": "markdown",
      "metadata": {
        "id": "7GmfF5Flp2wr"
      },
      "source": [
        "- All this means is that the value of each node in the hidden layer will be transformed by the \"activation function\", thus introducing non-linear elements to our model\n",
        "\n",
        "- There's **two main ways** of creating the above model in PyTorch, I'll show you both:"
      ]
    },
    {
      "cell_type": "code",
      "execution_count": null,
      "metadata": {
        "id": "0I5oLlY9p2wr"
      },
      "outputs": [],
      "source": [
        "class nonlinRegression(nn.Module):\n",
        "    def __init__(self, input_size, hidden_size, output_size):\n",
        "        super().__init__()\n",
        "\n",
        "        self.hidden = nn.Linear(input_size, hidden_size, device=device)\n",
        "        self.output = nn.Linear(hidden_size, output_size, device=device)\n",
        "        self.sigmoid = nn.Sigmoid()\n",
        "\n",
        "    def forward(self, x):\n",
        "        x = self.hidden(x)       # input -> hidden layer\n",
        "        x = self.sigmoid(x)      # sigmoid activation function in hidden layer\n",
        "        x = self.output(x)       # hidden -> output layer\n",
        "        return x"
      ]
    },
    {
      "cell_type": "markdown",
      "metadata": {
        "id": "AiQidMbop2wr"
      },
      "source": [
        "- Note how our `forward()` method now passes `x` through the `nn.Sigmoid()` function after the hidden layer\n",
        "\n",
        "- The above method is very clear and flexible, but I prefer using `nn.Sequential()` to combine my layers together in the constructor:"
      ]
    },
    {
      "cell_type": "code",
      "execution_count": null,
      "metadata": {
        "id": "9-oeSxfYp2wr"
      },
      "outputs": [],
      "source": [
        "class nonlinRegression(nn.Module):\n",
        "    def __init__(self, input_size, hidden_size, output_size):\n",
        "        super().__init__()\n",
        "\n",
        "        self.main = torch.nn.Sequential(\n",
        "            nn.Linear(input_size, hidden_size, device=device),  # input -> hidden layer\n",
        "            nn.Sigmoid(),                        # sigmoid activation function in hidden layer\n",
        "            nn.Linear(hidden_size, output_size, device=device)  # hidden -> output layer\n",
        "        )\n",
        "\n",
        "    def forward(self, x):\n",
        "        x = self.main(x)\n",
        "        return x"
      ]
    },
    {
      "cell_type": "markdown",
      "metadata": {
        "id": "M5FPFuGvp2wr"
      },
      "source": [
        "- Let's make an instance of our new class and confirm it has 10 parameters (6 weights + 4 biases):"
      ]
    },
    {
      "cell_type": "code",
      "execution_count": null,
      "metadata": {
        "colab": {
          "base_uri": "https://localhost:8080/"
        },
        "id": "I1XzYnw0p2wr",
        "outputId": "f564c101-f04d-443c-a4d2-3e8e55adcf08"
      },
      "outputs": [
        {
          "output_type": "stream",
          "name": "stdout",
          "text": [
            "----------------------------------------------------------------\n",
            "        Layer (type)               Output Shape         Param #\n",
            "================================================================\n",
            "            Linear-1                    [-1, 3]               6\n",
            "           Sigmoid-2                    [-1, 3]               0\n",
            "            Linear-3                    [-1, 1]               4\n",
            "================================================================\n",
            "Total params: 10\n",
            "Trainable params: 10\n",
            "Non-trainable params: 0\n",
            "----------------------------------------------------------------\n",
            "Input size (MB): 0.00\n",
            "Forward/backward pass size (MB): 0.00\n",
            "Params size (MB): 0.00\n",
            "Estimated Total Size (MB): 0.00\n",
            "----------------------------------------------------------------\n"
          ]
        }
      ],
      "source": [
        "model = nonlinRegression(1, 3, 1)\n",
        "summary(model, (1,));"
      ]
    },
    {
      "cell_type": "markdown",
      "metadata": {
        "id": "44uqwuBCp2wr"
      },
      "source": [
        "- Okay, let's train:"
      ]
    },
    {
      "cell_type": "code",
      "execution_count": null,
      "metadata": {
        "id": "j4GWzMaPp2wr"
      },
      "outputs": [],
      "source": [
        "criterion = nn.MSELoss()\n",
        "optimizer = torch.optim.SGD(model.parameters(), lr=0.01)\n",
        "\n",
        "trainer(model, criterion, optimizer, dataloader, epochs=1000, verbose=False)"
      ]
    },
    {
      "cell_type": "code",
      "execution_count": null,
      "metadata": {
        "colab": {
          "base_uri": "https://localhost:8080/",
          "height": 447
        },
        "id": "x1NfrFx7p2wr",
        "outputId": "7d296249-659c-4189-d266-e67b3f3cf996"
      },
      "outputs": [
        {
          "output_type": "execute_result",
          "data": {
            "text/plain": [
              "[<matplotlib.lines.Line2D at 0x787afdea2320>]"
            ]
          },
          "metadata": {},
          "execution_count": 79
        },
        {
          "output_type": "display_data",
          "data": {
            "text/plain": [
              "<Figure size 640x480 with 1 Axes>"
            ],
            "image/png": "[encoded data removed]"
          },
          "metadata": {}
        }
      ],
      "source": [
        "y_p = model(X_t).detach().cpu().numpy().squeeze()\n",
        "plt.scatter(X, y, color = \"grey\", s = 4, zorder = 100)\n",
        "plt.plot(X, y_p, color = \"black\")"
      ]
    },
    {
      "cell_type": "markdown",
      "metadata": {
        "id": "_kVQSs-Tp2wr"
      },
      "source": [
        "- Take a look at those non-linear predictions\n",
        "\n",
        "- Our model is not great and we could make it better soon by adjusting the learning rate, the number of nodes, and the number of epochs\n"
      ]
    },
    {
      "cell_type": "markdown",
      "metadata": {
        "tags": [],
        "id": "0q5qP06Rp2wr"
      },
      "source": [
        "### Deep Learning"
      ]
    },
    {
      "cell_type": "markdown",
      "metadata": {
        "id": "8V87d6QTp2ws"
      },
      "source": [
        "You've probably heard the magic term **\"deep learning\"** and you're about to find out what it means\n",
        "\n",
        "- **Deep neural network: a neural network with more than 1 hidden layer**\n",
        "\n",
        "- On the other hand, a neural network with only 1 hidden layer is called a **shallow neural network**.\n",
        "\n",
        "I like to think of each layer as a \"feature engineer\", it is trying to extract information from the layer before it"
      ]
    },
    {
      "cell_type": "markdown",
      "metadata": {
        "id": "hpMpCtT9p2ws"
      },
      "source": [
        "<br><br><br>"
      ]
    },
    {
      "cell_type": "markdown",
      "metadata": {
        "id": "E32VQwuGp2ws"
      },
      "source": [
        "- Let's create a \"deep\" network of 2 layers:\n"
      ]
    },
    {
      "cell_type": "code",
      "execution_count": null,
      "metadata": {
        "id": "6n0gLABJp2ws"
      },
      "outputs": [],
      "source": [
        "class deepRegression(nn.Module):\n",
        "    def __init__(self, input_size, hidden_size_1, hidden_size_2, output_size):\n",
        "        super().__init__()\n",
        "        self.main = nn.Sequential(\n",
        "            nn.Linear(input_size, hidden_size_1, device=device),\n",
        "            nn.Sigmoid(),\n",
        "            nn.Linear(hidden_size_1, hidden_size_2, device=device),\n",
        "            nn.Sigmoid(),\n",
        "            nn.Linear(hidden_size_2, output_size, device=device)\n",
        "        )\n",
        "\n",
        "    def forward(self, x):\n",
        "        out = self.main(x)\n",
        "        return out"
      ]
    },
    {
      "cell_type": "code",
      "execution_count": null,
      "metadata": {
        "id": "ccDku9KQp2ws"
      },
      "outputs": [],
      "source": [
        "model = deepRegression(1, 5, 3, 1)\n",
        "optimizer = torch.optim.SGD(model.parameters(), lr=0.3)"
      ]
    },
    {
      "cell_type": "code",
      "execution_count": null,
      "metadata": {
        "colab": {
          "base_uri": "https://localhost:8080/",
          "height": 447
        },
        "id": "eEgkT5pmp2ws",
        "outputId": "44d319f8-58f0-43b9-e18e-9bb8343b05ed"
      },
      "outputs": [
        {
          "output_type": "execute_result",
          "data": {
            "text/plain": [
              "[<matplotlib.lines.Line2D at 0x787afdf53b50>]"
            ]
          },
          "metadata": {},
          "execution_count": 85
        },
        {
          "output_type": "display_data",
          "data": {
            "text/plain": [
              "<Figure size 640x480 with 1 Axes>"
            ],
            "image/png": "[encoded data removed]"
          },
          "metadata": {}
        }
      ],
      "source": [
        "trainer(model, criterion, optimizer, dataloader, epochs=10**3, verbose=False)\n",
        "plt.scatter(X, y, color = \"grey\", s = 4, zorder = 100)\n",
        "plt.plot(X, model(X_t).detach().cpu(), color = \"black\")\n"
      ]
    },
    {
      "cell_type": "markdown",
      "metadata": {
        "id": "6dCS59eFp2ws"
      },
      "source": [
        "The neural network is doing a good job, but it's still struggling to handle data points near the boundaries, but we can do better by having more neurons in our network:"
      ]
    },
    {
      "cell_type": "code",
      "execution_count": null,
      "metadata": {
        "id": "H6O5__atp2ws"
      },
      "outputs": [],
      "source": [
        "model = deepRegression(1, 10, 10, 1)\n",
        "optimizer = torch.optim.SGD(model.parameters(), lr=0.2)"
      ]
    },
    {
      "cell_type": "code",
      "execution_count": null,
      "metadata": {
        "colab": {
          "base_uri": "https://localhost:8080/",
          "height": 447
        },
        "id": "wDVkWT1Cp2ws",
        "outputId": "68f7f08a-f408-49e3-ddfe-9ebd9a2ddd0d"
      },
      "outputs": [
        {
          "output_type": "execute_result",
          "data": {
            "text/plain": [
              "[<matplotlib.lines.Line2D at 0x787afddf0fd0>]"
            ]
          },
          "metadata": {},
          "execution_count": 87
        },
        {
          "output_type": "display_data",
          "data": {
            "text/plain": [
              "<Figure size 640x480 with 1 Axes>"
            ],
            "image/png": "[encoded data removed]"
          },
          "metadata": {}
        }
      ],
      "source": [
        "trainer(model, criterion, optimizer, dataloader, epochs=10**3, verbose=False)\n",
        "plt.scatter(X, y, color = \"grey\", s = 4, zorder = 100)\n",
        "plt.plot(X_t.cpu(), model(X_t).detach().cpu(), color = \"black\")"
      ]
    },
    {
      "cell_type": "markdown",
      "metadata": {
        "tags": [],
        "id": "j56XhhU7p2ws"
      },
      "source": [
        "## Activation Functions\n"
      ]
    },
    {
      "cell_type": "markdown",
      "metadata": {
        "id": "NjmbknwRp2ws"
      },
      "source": [
        "- Activation functions are what allow us to model complex, non-linear functions\n",
        "\n",
        "- There are **many** different activations functions:"
      ]
    },
    {
      "cell_type": "code",
      "execution_count": null,
      "metadata": {
        "colab": {
          "base_uri": "https://localhost:8080/",
          "height": 430
        },
        "id": "f-Tg35TUp2ws",
        "outputId": "80fbf35b-d9dc-4aaf-d1f1-0d389d527363"
      },
      "outputs": [
        {
          "output_type": "display_data",
          "data": {
            "text/plain": [
              "<Figure size 640x480 with 6 Axes>"
            ],
            "image/png": "[encoded data removed]"
          },
          "metadata": {}
        }
      ],
      "source": [
        "functions = [torch.nn.Sigmoid, torch.nn.Tanh, torch.nn.Softplus, torch.nn.ReLU, torch.nn.LeakyReLU, torch.nn.SELU]\n",
        "\n",
        "fig, ax = plt.subplots(2,3 )\n",
        "\n",
        "for (i,f) in enumerate(functions):\n",
        "  ax.reshape(-1)[i].plot(torch.linspace(-6, 6, 100), f()(torch.linspace(-6, 6, 100)))"
      ]
    },
    {
      "cell_type": "markdown",
      "metadata": {
        "id": "8RYUUR4sp2wt"
      },
      "source": [
        "- Activation functions should be non-linear and tend to be monotonic and continuously differentiable (smooth)\n",
        "\n",
        "- But as you can see with the ReLU function above, that's not always the case\n",
        "\n",
        "- I wanted to point this out because it highlights how much of an art deep learning really is.\n",
        "- Here's a great quote from [Yoshua Bengio](https://en.wikipedia.org/wiki/Yoshua_Bengio) (famous for his work in AI and deep learning) on his group experimenting with ReLU:\n",
        "\n",
        ">\"_...one of the biggest mistakes I made was to think, like everyone else in the 90s, that you needed smooth non-linearities in order for backpropagation to work. I thought that if we had something like rectifying non-linearities, where you have a flat part, it would be really hard to train, because the derivative would be zero in so many places. And when we started experimenting with ReLU, with deep nets around 2010, I was obsessed with the idea that, we should be careful about whether neurons won't saturate too much on the zero part. **But in the end, it turned out that, actually, the ReLU was working a lot better than the sigmoids and tanh, and that was a big surprise**...it turned out to work better, whereas I thought it would be harder to train!_\"\n",
        "\n",
        "- Anyway, TL;DR **ReLU is probably the most popular these days for training deep neural nets**, but you can treat activation functions as hyper-parameters to be optimized"
      ]
    },
    {
      "cell_type": "code",
      "source": [],
      "metadata": {
        "id": "Gg_td2ez4zP8"
      },
      "execution_count": null,
      "outputs": []
    },
    {
      "cell_type": "markdown",
      "metadata": {
        "id": "PwY6O_iep2wt"
      },
      "source": [
        "<br><br><br>"
      ]
    },
    {
      "cell_type": "markdown",
      "metadata": {
        "tags": [],
        "id": "z69U9QBAp2wv"
      },
      "source": [
        "## Summary\n"
      ]
    },
    {
      "cell_type": "markdown",
      "metadata": {
        "id": "8n9dQKiEp2wv"
      },
      "source": [
        "1. PyTorch is a neural network package that implements tensors with computation history\n",
        "\n",
        "2. Neural Networks are simply:\n",
        "\n",
        "    - Composed of an input layer, 1 or more hidden layers, and an output layer, each with 1 or more nodes.\n",
        "\n",
        "    - The number of nodes in the Input/Output layers is defined by the problem/data. Hidden layers can have an arbitrary number of nodes.\n",
        "\n",
        "    - Activation functions in the hidden layers help us model non-linear data.\n",
        "\n",
        "    - Feed-forward neural networks are just a combination of simple linear and non-linear operations.\n",
        "    \n",
        "3. Activation functions allow the network to learn non-linear function"
      ]
    },
    {
      "cell_type": "code",
      "source": [],
      "metadata": {
        "id": "mK1-7nMCQ2FM"
      },
      "execution_count": null,
      "outputs": []
    },
    {
      "cell_type": "markdown",
      "source": [
        "Based on: Varada Kolhatkar's lecture note for Supervised Learning II course, from University of British Columbia https://ubc-mds.github.io/DSCI_572_sup-learn-2/README.html"
      ],
      "metadata": {
        "id": "nuGeLtf7Q3Ap"
      }
    },
    {
      "cell_type": "code",
      "source": [],
      "metadata": {
        "id": "axjC0JasRJCK"
      },
      "execution_count": null,
      "outputs": []
    }
  ],
  "metadata": {
    "kernelspec": {
      "display_name": "Python 3",
      "name": "python3"
    },
    "language_info": {
      "name": "python"
    },
    "toc": {
      "base_numbering": 1,
      "nav_menu": {},
      "number_sections": false,
      "sideBar": true,
      "skip_h1_title": true,
      "title_cell": "Table of Contents",
      "title_sidebar": "Contents",
      "toc_cell": true,
      "toc_position": {},
      "toc_section_display": true,
      "toc_window_display": true
    },
    "toc-autonumbering": false,
    "vscode": {
      "interpreter": {
        "hash": "f821000d0c0da66e5bcde88c37d59c8e0de03b40667fb62009a8148ca49465a0"
      }
    },
    "colab": {
      "provenance": [],
      "gpuType": "T4"
    },
    "accelerator": "GPU"
  },
  "nbformat": 4,
  "nbformat_minor": 0
}