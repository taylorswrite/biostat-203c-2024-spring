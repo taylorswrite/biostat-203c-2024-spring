{
 "cells": [
  {
   "cell_type": "markdown",
   "id": "815b4cb8-1b35-4e51-bd7c-b67ad061f80b",
   "metadata": {},
   "source": [
    "__iClicker__: Please share your thoughts on the course so far. \n",
    "\n",
    "\n",
    "# Exceptions\n",
    "\n",
    "https://docs.python.org/3/tutorial/errors.html"
   ]
  },
  {
   "cell_type": "markdown",
   "id": "bb621ec0-d443-4443-89c6-3963bc0463bd",
   "metadata": {
    "tags": []
   },
   "source": [
    "### Exceptions: syntax error vs. runtime error\n",
    "\n",
    "Syntax error is error in using Python language <-> grammatical errors in English like \"please potato cry eat\"\n",
    "\n",
    "Runtime errors (exceptions) are everything else <-> they make sense grammatically but the computer can't follow the instruction - like \"please cry potatoes\""
   ]
  },
  {
   "cell_type": "code",
   "execution_count": null,
   "id": "6c6cd0b9-4641-4613-b018-e014084c3552",
   "metadata": {
    "tags": []
   },
   "outputs": [],
   "source": [
    "6p = 'hello'"
   ]
  },
  {
   "cell_type": "code",
   "execution_count": null,
   "id": "ea8e1f91-1c1c-4c78-8b13-595e1d664e01",
   "metadata": {
    "tags": []
   },
   "outputs": [],
   "source": [
    "if a<3"
   ]
  },
  {
   "cell_type": "code",
   "execution_count": null,
   "id": "19a59245-0441-4138-89cc-cdc58a7158fc",
   "metadata": {
    "tags": []
   },
   "outputs": [],
   "source": [
    "print 'hello'  # syntax error"
   ]
  },
  {
   "cell_type": "code",
   "execution_count": null,
   "id": "218b1a04-b902-4b18-ad8a-5ca0855e2173",
   "metadata": {
    "tags": []
   },
   "outputs": [],
   "source": [
    "print(hello) # runtime error"
   ]
  },
  {
   "cell_type": "code",
   "execution_count": null,
   "id": "e50bd55e-8a32-4490-a11d-27ae6529661d",
   "metadata": {},
   "outputs": [],
   "source": [
    "y"
   ]
  },
  {
   "cell_type": "code",
   "execution_count": null,
   "id": "6a67a341-1d3e-4d91-a525-413208339aeb",
   "metadata": {},
   "outputs": [],
   "source": [
    "int(6.0)"
   ]
  },
  {
   "cell_type": "code",
   "execution_count": null,
   "id": "2ddd941b-21e4-4c23-9dc4-b7a66a9203c9",
   "metadata": {},
   "outputs": [],
   "source": [
    "int(\"six\")"
   ]
  },
  {
   "cell_type": "code",
   "execution_count": null,
   "id": "994c79dc-2971-44be-9971-3645166a4201",
   "metadata": {
    "tags": []
   },
   "outputs": [],
   "source": [
    "1/0"
   ]
  },
  {
   "cell_type": "code",
   "execution_count": null,
   "id": "1a27bfb8-fd75-4aa6-aca6-dae3d585f808",
   "metadata": {
    "tags": []
   },
   "outputs": [],
   "source": [
    "0 + '0'"
   ]
  },
  {
   "cell_type": "code",
   "execution_count": null,
   "id": "38e9b786-a7da-43c5-b245-17a49c15f8f2",
   "metadata": {
    "tags": []
   },
   "outputs": [],
   "source": [
    "L = []\n",
    "L[0]"
   ]
  },
  {
   "cell_type": "code",
   "execution_count": null,
   "id": "2eab7a40-9481-4454-b36b-f42bda918ed0",
   "metadata": {
    "tags": []
   },
   "outputs": [],
   "source": [
    "d = {}\n",
    "d['not_a_key']"
   ]
  },
  {
   "cell_type": "code",
   "execution_count": null,
   "id": "628e278a-a71e-49d4-9854-75dc1a324c99",
   "metadata": {
    "tags": []
   },
   "outputs": [],
   "source": [
    "L = []\n",
    "L.attribute"
   ]
  },
  {
   "cell_type": "code",
   "execution_count": null,
   "id": "9654363f-1fad-4b5c-8653-25bd69841b96",
   "metadata": {
    "tags": []
   },
   "outputs": [],
   "source": [
    "assert 1 == 1"
   ]
  },
  {
   "cell_type": "markdown",
   "id": "4c6aa9c0-3600-496e-a721-b02984e787b3",
   "metadata": {},
   "source": [
    "Runtime errors raise exceptions. Exceptions prevent code from failing silently.\n",
    "\n",
    "Built-in exceptions: https://docs.python.org/3/library/exceptions.html#bltin-exceptions\n",
    "\n",
    "Some of the most common ones: https://www.programiz.com/python-programming/exceptions"
   ]
  },
  {
   "cell_type": "markdown",
   "id": "7d9806d5-9936-4d36-b777-72612310514c",
   "metadata": {},
   "source": [
    "`raise`: when you `raise` an exception, it immediately halts the execution of the code."
   ]
  },
  {
   "cell_type": "code",
   "execution_count": null,
   "id": "41b219a7-c8d6-4b31-9403-6c2e315a7d8e",
   "metadata": {
    "tags": []
   },
   "outputs": [],
   "source": [
    "def halve(x):\n",
    "    return x/2"
   ]
  },
  {
   "cell_type": "code",
   "execution_count": null,
   "id": "67c9cb4e-ffd3-4d58-963c-cc47fcda1acf",
   "metadata": {
    "tags": []
   },
   "outputs": [],
   "source": [
    "halve(5)"
   ]
  },
  {
   "cell_type": "code",
   "execution_count": null,
   "id": "40a547d4-5710-40e2-a5bd-d88a80223c3e",
   "metadata": {
    "tags": []
   },
   "outputs": [],
   "source": [
    "halve('five') # but this function isn't designed to work with strings in the first place"
   ]
  },
  {
   "cell_type": "code",
   "execution_count": null,
   "id": "d47d1525-7aae-4b7b-98ca-19e27238ec4f",
   "metadata": {
    "tags": []
   },
   "outputs": [],
   "source": [
    "def halve1(x):\n",
    "    # this type checking/input checking reflects our intention/design choice\n",
    "    if type(x) not in [float, int]:\n",
    "        raise TypeError(\"This function is designed to work only with floats and ints.\")\n",
    "    \n",
    "    return x/2"
   ]
  },
  {
   "cell_type": "code",
   "execution_count": null,
   "id": "b2ebc220-a686-44ec-86ec-5ecd61ebe012",
   "metadata": {
    "tags": []
   },
   "outputs": [],
   "source": [
    "halve1(5)"
   ]
  },
  {
   "cell_type": "code",
   "execution_count": null,
   "id": "ee336b84-9952-4f20-8e7c-a4af27e8bf95",
   "metadata": {
    "tags": []
   },
   "outputs": [],
   "source": [
    "halve1(\"five\") # note the change in error message"
   ]
  },
  {
   "cell_type": "markdown",
   "id": "b9444a79-d4e2-4408-badf-b115433708fb",
   "metadata": {},
   "source": [
    "### Exception handling (`try`-`except`) \n",
    "\n",
    "`try` to do whatever you were trying to do, and if Python raises an exception, `except` it and run something else instead of stopping your code altogether."
   ]
  },
  {
   "cell_type": "code",
   "execution_count": null,
   "id": "9d1b2e62-aa3f-4f6b-99f2-84428124a285",
   "metadata": {
    "tags": []
   },
   "outputs": [],
   "source": [
    "def halve2(x):\n",
    "    try:\n",
    "        return x/2\n",
    "    except TypeError:\n",
    "        print(\"This function is designed to work with numbers, returning original input instead\")\n",
    "        return x\n",
    "    finally:\n",
    "        print('I always run')"
   ]
  },
  {
   "cell_type": "code",
   "execution_count": null,
   "id": "13e4e815-b388-453f-b5f4-c21e1e6c41fd",
   "metadata": {},
   "outputs": [],
   "source": [
    "# try:\n",
    "#    # what to do with expected input\n",
    "# except TypeError:\n",
    "#    # if your input type is wrong"
   ]
  },
  {
   "cell_type": "code",
   "execution_count": null,
   "id": "ee78126f-769d-47e2-9643-50739dd13951",
   "metadata": {
    "tags": []
   },
   "outputs": [],
   "source": [
    "halve2(5)"
   ]
  },
  {
   "cell_type": "code",
   "execution_count": null,
   "id": "3d1666b7-6e37-450b-ac0e-4312d9f77215",
   "metadata": {
    "tags": []
   },
   "outputs": [],
   "source": [
    "halve2(\"five\")"
   ]
  },
  {
   "cell_type": "code",
   "execution_count": null,
   "id": "785e5fac-7fb1-480d-bf6a-cef7da77f821",
   "metadata": {
    "tags": []
   },
   "outputs": [],
   "source": [
    "def divide(x, y):\n",
    "    try:\n",
    "        return x/y\n",
    "    except TypeError:\n",
    "        print(\"please check that x and y are both ints or floats\")\n",
    "    except ZeroDivisionError:\n",
    "        print(\"you can't divide by zero\")\n",
    "    finally:\n",
    "        print('i always run')"
   ]
  },
  {
   "cell_type": "code",
   "execution_count": null,
   "id": "94d1e10e-69de-4811-8951-3160ea18d047",
   "metadata": {
    "tags": []
   },
   "outputs": [],
   "source": [
    "divide(1, 2)"
   ]
  },
  {
   "cell_type": "code",
   "execution_count": null,
   "id": "fc2e66ee-2afe-4574-b962-68d590d14915",
   "metadata": {
    "tags": []
   },
   "outputs": [],
   "source": [
    "divide(\"dfe\", 3)"
   ]
  },
  {
   "cell_type": "code",
   "execution_count": null,
   "id": "2ac1b1ba-12b6-425f-9648-fa7c80430168",
   "metadata": {
    "tags": []
   },
   "outputs": [],
   "source": [
    "divide(1, 0)"
   ]
  },
  {
   "cell_type": "code",
   "execution_count": null,
   "id": "fdc2806d-d37f-4cd9-b019-79d8a5a1f0e0",
   "metadata": {
    "tags": []
   },
   "outputs": [],
   "source": [
    "def divide1(x, y):\n",
    "    try:\n",
    "        return x / y\n",
    "    except TypeError as t:\n",
    "        print(\"please check that x and y are both ints or floats\")\n",
    "        return t\n",
    "    except ZeroDivisionError as z:\n",
    "        print(\"you can't divide by zero\")\n",
    "        return z\n",
    "    finally:\n",
    "        print('i always run')"
   ]
  },
  {
   "cell_type": "code",
   "execution_count": null,
   "id": "2da15e0d-3846-4c73-841f-bbbe8db19130",
   "metadata": {
    "tags": []
   },
   "outputs": [],
   "source": [
    "t = divide1(1, 2)"
   ]
  },
  {
   "cell_type": "code",
   "execution_count": null,
   "id": "dec46035-0ddb-45c0-bee4-d7239de83066",
   "metadata": {
    "tags": []
   },
   "outputs": [],
   "source": [
    "t"
   ]
  },
  {
   "cell_type": "code",
   "execution_count": null,
   "id": "2d53ac59-a7e6-4ace-bde2-839754260acb",
   "metadata": {
    "tags": []
   },
   "outputs": [],
   "source": [
    "z = divide1(1, 0)"
   ]
  },
  {
   "cell_type": "code",
   "execution_count": null,
   "id": "69296e63-10ff-491f-ac99-1d372e8074ef",
   "metadata": {
    "tags": []
   },
   "outputs": [],
   "source": [
    "z"
   ]
  },
  {
   "cell_type": "code",
   "execution_count": null,
   "id": "8e08eafa-64f1-4f47-81b8-083ae8919ab1",
   "metadata": {
    "tags": []
   },
   "outputs": [],
   "source": [
    "t = divide1(1, \"one\")"
   ]
  },
  {
   "cell_type": "code",
   "execution_count": null,
   "id": "056551bd-311c-4e93-8cc6-aa868e1da3ba",
   "metadata": {
    "tags": []
   },
   "outputs": [],
   "source": [
    "t, type(t)"
   ]
  },
  {
   "cell_type": "code",
   "execution_count": null,
   "id": "90107709-6d7b-46f1-98b2-4664fc1c65cc",
   "metadata": {
    "tags": []
   },
   "outputs": [],
   "source": [
    "type(z)"
   ]
  },
  {
   "cell_type": "markdown",
   "id": "6dc5c728-6f2d-4b67-9587-2646e28a99a8",
   "metadata": {},
   "source": []
  },
  {
   "cell_type": "code",
   "execution_count": null,
   "id": "2df85884-a6c1-4679-892d-f47c49c7b821",
   "metadata": {},
   "outputs": [],
   "source": []
  }
 ],
 "metadata": {
  "kernelspec": {
   "display_name": "Python [conda env:PIC16B-24W] *",
   "language": "python",
   "name": "conda-env-PIC16B-24W-py"
  },
  "language_info": {
   "codemirror_mode": {
    "name": "ipython",
    "version": 3
   },
   "file_extension": ".py",
   "mimetype": "text/x-python",
   "name": "python",
   "nbconvert_exporter": "python",
   "pygments_lexer": "ipython3",
   "version": "3.11.6"
  }
 },
 "nbformat": 4,
 "nbformat_minor": 5
}
