{
 "cells": [
  {
   "cell_type": "markdown",
   "id": "a7b3527a",
   "metadata": {},
   "source": [
    "# Numpy\n",
    "\n",
    "Readings: \n",
    "\n",
    "[Python Data Science Handbook](https://jakevdp.github.io/PythonDataScienceHandbook/) Chapter 2.\n",
    "\n",
    "https://leewtai.github.io/courses/stat_computing/lectures/python_mds/numpy.html\n",
    "\n",
    "\n",
    "## Introduction\n",
    "\n",
    "### Important Python Libraries for Data Science\n",
    "\n",
    "\n",
    "Libraries are important characteristic of how Python works: each application has its libraries.\n",
    "\n",
    "| Package | Description | Logo |\n",
    "|:---:|:---|:---:|\n",
    "| Numpy | Numerical arrays | <img src=\"https://numpy.org/doc/stable/_static/numpylogo.svg\" width=\"300\"/> |\n",
    "| Scipy | Scientific Python<br>User-friendly and efficient numerical routines:<br> numerical integration, interpolation, optimization, linear algebra, and statistics | <img src=\"https://scipy.org/images/logo.svg\" width=\"200\"/> |\n",
    "| Matplotlib | Plotting | <img src=\"https://matplotlib.org/stable/_static/logo_light.svg\" width=\"300\"/>|\n",
    "| Pandas | Data analytics <br> R-like data frames | <img src=\"https://upload.wikimedia.org/wikipedia/commons/thumb/e/ed/Pandas_logo.svg/1024px-Pandas_logo.svg.png\" width=\"300\"/> |\n",
    "| Scikit-learn | Machine learning | <img src=\"https://upload.wikimedia.org/wikipedia/commons/thumb/0/05/Scikit_learn_logo_small.svg/2880px-Scikit_learn_logo_small.svg.png\" width=\"300\"/> | \n",
    "\n",
    "All the packages above are included in Anaconda distribution.\n",
    "\n",
    "\n",
    "\n",
    "Next, we will explore two key libraries used not only to data science, but also to any quantitative project written in Python. While Numpy is a library for optimized matrix operations, Matplotlib allows you to create virtually any visualization (2-D plots, scatter plots, bar plots, etc).\n"
   ]
  },
  {
   "cell_type": "markdown",
   "id": "a513ae9a",
   "metadata": {},
   "source": [
    "\n",
    "\n",
    "In standard python, the data collecitons are the `list`s. \n",
    "\n",
    "| Advantages | Disadvantages (for scientists) |\n",
    "|:---|:---|\n",
    "|- Can contain different types of objects<br>- Easy insertion<br>- Easy concatenation |- Sum of two lists is concatenation, not vector addition<br>- Slow for large lists<br>- No useful function (mean, variance, maximum, etc.)|\n",
    "\n",
    "Scientists would like an object closer to the notion of vector or matrix. NumPy implements that.\n",
    "Thus, nearly all other scientific libraries in Python are based on NumPy. (dubbed \"NumPy ecosystem\")\n",
    "\n",
    "\n",
    "NumPy is a library for large multidimensional arrays and matrices, and math operations with them. \n",
    "\n",
    "\n",
    "\n",
    "![](https://jakevdp.github.io/PythonDataScienceHandbook/figures/array_vs_list.png)\n"
   ]
  },
  {
   "cell_type": "markdown",
   "id": "4db605d8",
   "metadata": {},
   "source": [
    "To use numpy in your code, simply use the import statement in the next cell:"
   ]
  },
  {
   "cell_type": "code",
   "execution_count": null,
   "id": "d57a0320",
   "metadata": {},
   "outputs": [],
   "source": [
    "import numpy"
   ]
  },
  {
   "cell_type": "code",
   "execution_count": null,
   "id": "8010fe06",
   "metadata": {},
   "outputs": [],
   "source": [
    "def add_lists(L1, L2):\n",
    "    return [L1[i] + L2[i] for i in range(len(L1))]"
   ]
  },
  {
   "cell_type": "code",
   "execution_count": null,
   "id": "d1bbafb6",
   "metadata": {},
   "outputs": [],
   "source": [
    "L1 = list(range(100))\n",
    "L2 = list(range(100))\n",
    "\n",
    "%timeit add_lists(L1, L2)"
   ]
  },
  {
   "cell_type": "code",
   "execution_count": null,
   "id": "6e215e08",
   "metadata": {},
   "outputs": [],
   "source": [
    "import numpy as np\n",
    "\n",
    "a1 = np.array(L1) # this how to create an array in Numpy.\n",
    "a2 = np.array(L2)\n",
    "%timeit a1 + a2"
   ]
  },
  {
   "cell_type": "markdown",
   "id": "4de671d0",
   "metadata": {},
   "source": [
    "### \"Should I use `numpy` arrays?\"\n",
    "\n",
    "If you will operate on one or more large sets of numbers and are considering writing `for`-loops, stop. Ask yourself whether you can achieve your task with `numpy` arrays instead. 90% of the time, `numpy`-based code is faster to write and faster to execute.\n",
    "\n",
    "\n",
    "\n",
    "### \"Should I use `for`-loops?\"\n",
    "\n",
    "When working with lists and other basic data structures, yes, absolutely! When working with `numpy` arrays, however, writing `for`-loops is almost always the wrong thing to do. Find a way using vectorized `numpy` code."
   ]
  },
  {
   "cell_type": "markdown",
   "id": "f98d7550",
   "metadata": {},
   "source": [
    "### Creating an array\n",
    "To create a NumPy array, use `variable = numpy.array(Array_Like)`. "
   ]
  },
  {
   "cell_type": "code",
   "execution_count": null,
   "id": "f7f7a78a",
   "metadata": {},
   "outputs": [],
   "source": [
    "a = [1,2,3,4,5]\n",
    "print( type(a) )   # displays the type of the variable a\n",
    "\n",
    "b = numpy.array( [1,2,3,4,5] )\n",
    "print( type(b) )   # displays the type of the variable b"
   ]
  },
  {
   "cell_type": "markdown",
   "id": "34460412",
   "metadata": {},
   "source": [
    "We are going to use `numpy` a lot, and five letter seems to be too much to type each time... It is extremely common to rename it as `np` (just a nickname)."
   ]
  },
  {
   "cell_type": "code",
   "execution_count": null,
   "id": "a59ec452",
   "metadata": {},
   "outputs": [],
   "source": [
    "import numpy as np  # allows user to use np instead of numpy\n",
    "\n",
    "c = np.array( [5,4,3,2,1] )\n",
    "print( type(c) )    # displays the type of the variable c"
   ]
  },
  {
   "cell_type": "markdown",
   "id": "1b31faa1",
   "metadata": {},
   "source": [
    "## Vectorized operations or  or UFuncs\n",
    "Numpy provides a simple way to apply a function avoiding the use of the slow Python for loop -- the functions are precompiled!"
   ]
  },
  {
   "cell_type": "code",
   "execution_count": null,
   "id": "ea219dc3",
   "metadata": {},
   "outputs": [],
   "source": [
    "print(\"Sum of lists: \", a + a)"
   ]
  },
  {
   "cell_type": "code",
   "execution_count": null,
   "id": "99196491",
   "metadata": {},
   "outputs": [],
   "source": [
    "print(\"Sum of NumPy arrays: \", b + c )"
   ]
  },
  {
   "cell_type": "code",
   "execution_count": null,
   "id": "a80df8dc",
   "metadata": {},
   "outputs": [],
   "source": [
    "print(\"Original array: \", b)"
   ]
  },
  {
   "cell_type": "code",
   "execution_count": null,
   "id": "df847bb1",
   "metadata": {},
   "outputs": [],
   "source": [
    "print(\"Adding a constant: \", b + 7.1 )"
   ]
  },
  {
   "cell_type": "code",
   "execution_count": null,
   "id": "42dcf8f8",
   "metadata": {},
   "outputs": [],
   "source": [
    "print(\"Multiplying a constant: \", b*2.5 )"
   ]
  },
  {
   "cell_type": "code",
   "execution_count": null,
   "id": "47799135",
   "metadata": {},
   "outputs": [],
   "source": [
    "print(\"Exponentiation: \", b ** 3 )"
   ]
  },
  {
   "cell_type": "code",
   "execution_count": null,
   "id": "c26bb889",
   "metadata": {},
   "outputs": [],
   "source": [
    "print(\"Element-wise product: \", b * c )\n",
    "print(\"Element-wise division: \", b / c )\n",
    "print(\"Element-wise modulo: \", b % c )"
   ]
  },
  {
   "cell_type": "code",
   "execution_count": null,
   "id": "45ac4242",
   "metadata": {},
   "outputs": [],
   "source": []
  },
  {
   "cell_type": "code",
   "execution_count": null,
   "id": "799217b0",
   "metadata": {},
   "outputs": [],
   "source": [
    "print(\"Elementwise exponential: \", np.exp(b) )\n",
    "print(\"Elementwise sine: \", np.sin(b) )\n",
    "print(\"Elementwise cosine: \", np.cos(b) )"
   ]
  },
  {
   "cell_type": "markdown",
   "id": "e4b9dcfe",
   "metadata": {},
   "source": [
    "### Indexing\n",
    "Selecting elements and sets of elements from your numpy array (same as in list):"
   ]
  },
  {
   "cell_type": "code",
   "execution_count": null,
   "id": "7a42f202",
   "metadata": {},
   "outputs": [],
   "source": [
    "print(\"First element in b: \", b[0] )"
   ]
  },
  {
   "cell_type": "code",
   "execution_count": null,
   "id": "2f6b552c",
   "metadata": {},
   "outputs": [],
   "source": [
    "print(\"Second element in b: \", b[1] )"
   ]
  },
  {
   "cell_type": "code",
   "execution_count": null,
   "id": "be517ac1",
   "metadata": {},
   "outputs": [],
   "source": [
    "print(\"Last element in b: \", b[-1] )"
   ]
  },
  {
   "cell_type": "code",
   "execution_count": null,
   "id": "732a11b8",
   "metadata": {},
   "outputs": [],
   "source": [
    "print(\"All elements in b: \", b[:] ) "
   ]
  },
  {
   "cell_type": "code",
   "execution_count": null,
   "id": "5d27a73e",
   "metadata": {},
   "outputs": [],
   "source": [
    "print(\"Elements 1, 2, and 3: \", b[1:4] ) # last index is excluded!"
   ]
  },
  {
   "cell_type": "code",
   "execution_count": null,
   "id": "606d775c",
   "metadata": {},
   "outputs": [],
   "source": [
    "print(\"From 0 to end in steps of 2, except for the last one: \", b[0:-1:2] )"
   ]
  },
  {
   "cell_type": "code",
   "execution_count": null,
   "id": "6560c0b4",
   "metadata": {},
   "outputs": [],
   "source": [
    "print(\"From 0 to end in steps of 2: \", b[0::2] )\n",
    "print(\"Reverse b: \", b[::-1] )"
   ]
  },
  {
   "cell_type": "markdown",
   "id": "1a2d88f0",
   "metadata": {},
   "source": [
    "\n",
    "### Attributes and Methods\n",
    "\n",
    "NumPy arrays are objects: they have __attributes__ and __methods__.\n",
    "- __Attributes__: Some properties like shape, length, number of dimensions, etc. __syntax: `array.attribute`__\n",
    "- __Methods__: \"Actions\" (or functions) applied to or performed on the object. __syntax: `array.method(arg1, arg2, etc.)`__\n",
    "\n",
    "\n"
   ]
  },
  {
   "cell_type": "code",
   "execution_count": null,
   "id": "34ae8ab5",
   "metadata": {},
   "outputs": [],
   "source": [
    "b.size # attribute: length, number of elements"
   ]
  },
  {
   "cell_type": "code",
   "execution_count": null,
   "id": "fa1e7a6d",
   "metadata": {},
   "outputs": [],
   "source": [
    "b.ndim # attribute: number of dimensions "
   ]
  },
  {
   "cell_type": "code",
   "execution_count": null,
   "id": "e866106c",
   "metadata": {},
   "outputs": [],
   "source": [
    "b.shape # attribute: tuple for size of each dimension"
   ]
  },
  {
   "cell_type": "code",
   "execution_count": null,
   "id": "712ca3e8",
   "metadata": {},
   "outputs": [],
   "source": [
    "b.dtype # attribute: data type"
   ]
  },
  {
   "cell_type": "markdown",
   "id": "fda384ed",
   "metadata": {},
   "source": [
    "There are several dtypes predefined for numpy. `float64`, `float32`, `int64`, `int32`, `bool` will be most commonly used. "
   ]
  },
  {
   "cell_type": "code",
   "execution_count": null,
   "id": "37064cbe",
   "metadata": {},
   "outputs": [],
   "source": [
    "(b > 5).dtype"
   ]
  },
  {
   "cell_type": "code",
   "execution_count": null,
   "id": "86488300",
   "metadata": {
    "scrolled": true
   },
   "outputs": [],
   "source": [
    "np.sin(b).dtype"
   ]
  },
  {
   "cell_type": "code",
   "execution_count": null,
   "id": "50851918",
   "metadata": {},
   "outputs": [],
   "source": [
    "b.sum() # method: sum of elements"
   ]
  },
  {
   "cell_type": "code",
   "execution_count": null,
   "id": "165080f7",
   "metadata": {},
   "outputs": [],
   "source": [
    "b.prod()"
   ]
  },
  {
   "cell_type": "markdown",
   "id": "105c6e23",
   "metadata": {},
   "source": [
    "A list of NumPy Array (`numpy.ndarray`)'s attributes and methods? You can look them up online. \n",
    "https://numpy.org/doc/stable/reference/generated/numpy.ndarray.html"
   ]
  },
  {
   "cell_type": "markdown",
   "id": "dec34de6",
   "metadata": {},
   "source": [
    "### Other ways to create an array\n",
    "\n",
    "- Function `np.arange(start, stop, step)` (\"array range\". argument can be floats.)"
   ]
  },
  {
   "cell_type": "code",
   "execution_count": null,
   "id": "86732c1f",
   "metadata": {},
   "outputs": [],
   "source": [
    "np.arange(1,5,0.5)"
   ]
  },
  {
   "cell_type": "markdown",
   "id": "49e6c62a",
   "metadata": {},
   "source": [
    "- Function `np.linspace(start, stop, subdivisions)`: linearly spacing between start and stop."
   ]
  },
  {
   "cell_type": "code",
   "execution_count": null,
   "id": "457c7265",
   "metadata": {},
   "outputs": [],
   "source": [
    "#np.linspace(0,10,4) \n",
    "\n",
    "np.linspace(2, 8, 7).astype('int')"
   ]
  },
  {
   "cell_type": "markdown",
   "id": "49aa04cd",
   "metadata": {},
   "source": [
    "_Hint: you can press tab key for autocompletion_"
   ]
  },
  {
   "cell_type": "markdown",
   "id": "afbe2c8a",
   "metadata": {},
   "source": [
    "- Function `np.ones(size)` and `np.zeros(size)`: an array filled with ones or zeroes."
   ]
  },
  {
   "cell_type": "code",
   "execution_count": null,
   "id": "37536187",
   "metadata": {},
   "outputs": [],
   "source": [
    "np.ones(5)"
   ]
  },
  {
   "cell_type": "code",
   "execution_count": null,
   "id": "7bd0c20b",
   "metadata": {},
   "outputs": [],
   "source": [
    "np.zeros(5)"
   ]
  },
  {
   "cell_type": "markdown",
   "id": "224c950b",
   "metadata": {},
   "source": [
    "### Two (or higher)-dimensional arrays\n",
    "\n",
    "Two dimensional arrays can be created using nested lists (or list of lists). "
   ]
  },
  {
   "cell_type": "code",
   "execution_count": null,
   "id": "7794d721",
   "metadata": {},
   "outputs": [],
   "source": [
    "A = np.array([[1,2,3,4],[10,20,30,40],[100,200,300,400]])\n",
    "print(\"The array A:\\n\",A)\n",
    "print(\"Shape of A:\",A.shape)\n",
    "print(\"Number of dimensions of A:\",A.ndim)"
   ]
  },
  {
   "cell_type": "markdown",
   "id": "c656ac04",
   "metadata": {},
   "source": [
    "One may also create a higher-dimensional array"
   ]
  },
  {
   "cell_type": "code",
   "execution_count": null,
   "id": "0683f17f",
   "metadata": {},
   "outputs": [],
   "source": [
    "B = A.reshape(3, 2, 2)\n",
    "print(\"The array B:\\n\",B)\n",
    "print(\"Shape:\",B.shape)\n",
    "print(\"Ndim:\",B.ndim)"
   ]
  },
  {
   "cell_type": "code",
   "execution_count": null,
   "id": "a97923f0",
   "metadata": {},
   "outputs": [],
   "source": [
    "B[0, :, :]"
   ]
  },
  {
   "cell_type": "code",
   "execution_count": null,
   "id": "305b01a9",
   "metadata": {},
   "outputs": [],
   "source": [
    "B = np.arange(10)\n",
    "print(\"The array B:\\n\",B)\n",
    "print(\"Shape:\",B.shape)\n",
    "print(\"Ndim:\",B.ndim)"
   ]
  },
  {
   "cell_type": "code",
   "execution_count": null,
   "id": "f96f6a1d",
   "metadata": {},
   "outputs": [],
   "source": [
    "B = B.reshape((10,1))\n",
    "print(\"The array B:\\n\",B)\n",
    "print(\"Shape:\",B.shape)\n",
    "print(\"Ndim:\",B.ndim)"
   ]
  },
  {
   "cell_type": "markdown",
   "id": "cbb6bb45",
   "metadata": {},
   "source": [
    "### Indexing multidimensional arrays\n",
    "\n",
    "- To access an element at position (i, j): `array[i, j]`\n",
    "- May select an entire column or row using a colon: `array[i, :]` for a row, `array[:, j]` for a column. \n",
    "- May also use a slice: e.g., `array[0:2, :]`. "
   ]
  },
  {
   "cell_type": "code",
   "execution_count": null,
   "id": "303c5e75",
   "metadata": {},
   "outputs": [],
   "source": [
    "print(\"Array A:\\n\",A)"
   ]
  },
  {
   "cell_type": "code",
   "execution_count": null,
   "id": "e0817948",
   "metadata": {},
   "outputs": [],
   "source": [
    "print(\"Element at pos (1,2):\",A[1,2],'\\n') "
   ]
  },
  {
   "cell_type": "markdown",
   "id": "401a361f",
   "metadata": {},
   "source": [
    "`A[1][2]` is also possible, just like how nested list is indexed, but is less efficient. `A[1]` creates a copy of vector consisting row 1 of `A`, then it accesses index 2 of the vector. `A[1, 2]` directly accesses the value at the position desired without copyting a row."
   ]
  },
  {
   "cell_type": "code",
   "execution_count": null,
   "id": "972eabd2",
   "metadata": {},
   "outputs": [],
   "source": [
    "print(\"Row #2 of A:\\n\",A[2,:],'\\n')"
   ]
  },
  {
   "cell_type": "code",
   "execution_count": null,
   "id": "3caea56c",
   "metadata": {},
   "outputs": [],
   "source": [
    "print(\"Column #1 of A:\\n\",A[:,1],'\\n')"
   ]
  },
  {
   "cell_type": "markdown",
   "id": "ec3e7b7a",
   "metadata": {},
   "source": [
    "__Exercise__: How would you reverse the order of columns in matrix `A`?"
   ]
  },
  {
   "cell_type": "code",
   "execution_count": null,
   "id": "d32b3d90",
   "metadata": {},
   "outputs": [],
   "source": []
  },
  {
   "cell_type": "markdown",
   "id": "26598be6",
   "metadata": {},
   "source": [
    "Basic syntax for \"slicing\" is `start:end:step`, and each of them can be omitted if start=0, end=len(l), step=1"
   ]
  },
  {
   "cell_type": "markdown",
   "id": "eb18d7a6",
   "metadata": {},
   "source": [
    "### Accessing elements by logical tests"
   ]
  },
  {
   "cell_type": "markdown",
   "id": "7ce0d3e7",
   "metadata": {},
   "source": [
    "Let's recall how to perform _logical tests_ in Python."
   ]
  },
  {
   "cell_type": "code",
   "execution_count": null,
   "id": "d281f5eb",
   "metadata": {},
   "outputs": [],
   "source": [
    "A"
   ]
  },
  {
   "cell_type": "code",
   "execution_count": null,
   "id": "72702abe",
   "metadata": {},
   "outputs": [],
   "source": [
    "print( A > 25 )"
   ]
  },
  {
   "cell_type": "markdown",
   "id": "74be5bd6",
   "metadata": {},
   "source": [
    "We can select elements based on the result of a logical test:"
   ]
  },
  {
   "cell_type": "code",
   "execution_count": null,
   "id": "d1232e61",
   "metadata": {},
   "outputs": [],
   "source": [
    "print( A[A > 25] )"
   ]
  },
  {
   "cell_type": "code",
   "execution_count": null,
   "id": "4c1ae460",
   "metadata": {},
   "outputs": [],
   "source": []
  },
  {
   "cell_type": "markdown",
   "id": "f6a7030b",
   "metadata": {},
   "source": [
    "__Exercise__:  Replace all odd numbers in `arr` with -1.\n",
    "\n",
    "_Hint: you can assign values to a subsetted array._ \n",
    "\n",
    "<!--arr[arr % 2 == 0] = -2-->"
   ]
  },
  {
   "cell_type": "code",
   "execution_count": null,
   "id": "0d362fc8",
   "metadata": {},
   "outputs": [],
   "source": [
    "arr = np.array([0, 1, 2, 3, 4, 5, 6, 7, 8, 9])"
   ]
  },
  {
   "cell_type": "code",
   "execution_count": null,
   "id": "7240aeef",
   "metadata": {
    "tags": []
   },
   "outputs": [],
   "source": []
  },
  {
   "cell_type": "code",
   "execution_count": null,
   "id": "08bb3ceb",
   "metadata": {
    "tags": []
   },
   "outputs": [],
   "source": [
    "arr"
   ]
  },
  {
   "cell_type": "code",
   "execution_count": null,
   "id": "75f7ca5a",
   "metadata": {},
   "outputs": [],
   "source": [
    "arr = np.array([0, 1, 2, 3, 4, 5, 6, 7, 8, 9])"
   ]
  },
  {
   "cell_type": "markdown",
   "id": "f5d45e87",
   "metadata": {},
   "source": [
    "Replace all even numbers in `arr` with -2."
   ]
  },
  {
   "cell_type": "code",
   "execution_count": null,
   "id": "08f28a87",
   "metadata": {},
   "outputs": [],
   "source": []
  },
  {
   "cell_type": "code",
   "execution_count": null,
   "id": "bf313ddb",
   "metadata": {},
   "outputs": [],
   "source": [
    "arr"
   ]
  },
  {
   "cell_type": "code",
   "execution_count": null,
   "id": "e3f73689-c3a9-4b2b-9cfa-72a128678394",
   "metadata": {},
   "outputs": [],
   "source": []
  },
  {
   "cell_type": "markdown",
   "id": "ef21cc9c",
   "metadata": {},
   "source": [
    "## Aggregation Functions\n",
    "\n"
   ]
  },
  {
   "cell_type": "code",
   "execution_count": null,
   "id": "b21c9be7",
   "metadata": {},
   "outputs": [],
   "source": [
    "a = np.arange(10)\n",
    "a"
   ]
  },
  {
   "cell_type": "markdown",
   "id": "7aa50672",
   "metadata": {},
   "source": [
    "A quick tour of some of the most useful aggregation functions. Most of these functions are available either as functions imported by `numpy` (e.g. `np.sum()`) or as methods of the `array` class (e.g. `a.sum()`)."
   ]
  },
  {
   "cell_type": "code",
   "execution_count": null,
   "id": "b339e70b",
   "metadata": {},
   "outputs": [],
   "source": [
    "np.sum(a), a.sum()"
   ]
  },
  {
   "cell_type": "code",
   "execution_count": null,
   "id": "6bad15ca",
   "metadata": {},
   "outputs": [],
   "source": [
    "a.mean()"
   ]
  },
  {
   "cell_type": "code",
   "execution_count": null,
   "id": "e6aab1b9",
   "metadata": {},
   "outputs": [],
   "source": [
    "a.min(), a.max()"
   ]
  },
  {
   "cell_type": "code",
   "execution_count": null,
   "id": "71f91a4b",
   "metadata": {},
   "outputs": [],
   "source": [
    "a.prod() # for product"
   ]
  },
  {
   "cell_type": "code",
   "execution_count": null,
   "id": "c5745603",
   "metadata": {},
   "outputs": [],
   "source": [
    "(a+1).prod()"
   ]
  },
  {
   "cell_type": "markdown",
   "id": "e78646eb",
   "metadata": {},
   "source": [
    "### Example: Variance\n",
    "\n",
    "The *variance* of a set of numbers $x_1, \\ldots, x_n$ is \n",
    "\n",
    "$$\\mathrm{var}(x_1,\\ldots,x_n) = \\frac{1}{n}\\left[(x_1 - \\bar{x})^2 + \\cdots + (x_n - \\bar{x})^2\\right]\\;,$$\n",
    "\n",
    "where \n",
    "\n",
    "$$\\bar{x} = \\frac{1}{n}\\left(x_1 + \\cdots + x_n\\right)$$\n",
    "\n",
    "is the *mean*. Data sets with large variance are more \"spread out\" or \"variable.\" \n",
    "\n",
    "While the formula for variance looks somewhat complicated, we can compute it as a one-liner using `numpy`'s vectorization and aggregation tools. "
   ]
  },
  {
   "cell_type": "code",
   "execution_count": null,
   "id": "3809db82",
   "metadata": {},
   "outputs": [],
   "source": [
    "x = np.random.rand(100)\n",
    "v = np.mean((x - np.mean(x))**2)\n",
    "v"
   ]
  },
  {
   "cell_type": "markdown",
   "id": "ad9d8a5e",
   "metadata": {},
   "source": [
    "As it turns out, there's also an `np.var` function that would have given us the same answer. "
   ]
  },
  {
   "cell_type": "code",
   "execution_count": null,
   "id": "393f971b",
   "metadata": {},
   "outputs": [],
   "source": [
    "np.var(x), x.var()"
   ]
  },
  {
   "cell_type": "markdown",
   "id": "94d4cf7e",
   "metadata": {},
   "source": [
    "## Boolean Aggregations\n",
    "\n",
    "There are two especially useful aggregation functions for working with boolean aggregations. `np.any()` returns `True` if ANY of the array elements are `True`. `np.all()` returns `True` if ALL of the array elements are `True`. "
   ]
  },
  {
   "cell_type": "code",
   "execution_count": null,
   "id": "8dbc234a",
   "metadata": {},
   "outputs": [],
   "source": [
    "a = np.arange(10)\n",
    "a"
   ]
  },
  {
   "cell_type": "code",
   "execution_count": null,
   "id": "1fc7015d",
   "metadata": {},
   "outputs": [],
   "source": [
    "a > 8"
   ]
  },
  {
   "cell_type": "code",
   "execution_count": null,
   "id": "eedde452",
   "metadata": {},
   "outputs": [],
   "source": [
    "np.any(a > 8)"
   ]
  },
  {
   "cell_type": "code",
   "execution_count": null,
   "id": "da58a425",
   "metadata": {},
   "outputs": [],
   "source": [
    "np.all(a < 10)"
   ]
  },
  {
   "cell_type": "markdown",
   "id": "d01ef340",
   "metadata": {},
   "source": [
    "## Aggregation Along Multiple Dimensions\n",
    "\n",
    "Often we don't just want the sum of all the numbers in an array -- we want the sum of all numbers *per row*. For another example, maybe we want the largest entry *in each column*. `numpy` makes it easy to accomplish these tasks via the `axis` argument. "
   ]
  },
  {
   "cell_type": "code",
   "execution_count": null,
   "id": "3d4f0cc3",
   "metadata": {},
   "outputs": [],
   "source": [
    "A = np.reshape(np.arange(15), (3, 5))\n",
    "A"
   ]
  },
  {
   "cell_type": "code",
   "execution_count": null,
   "id": "af1a4ce1",
   "metadata": {},
   "outputs": [],
   "source": [
    "# by default, A.sum() adds up all the numbers\n",
    "A.sum()"
   ]
  },
  {
   "cell_type": "code",
   "execution_count": null,
   "id": "31168d8f",
   "metadata": {},
   "outputs": [],
   "source": [
    "# the zeroth axis corresponds to ROWS. \n",
    "# summing over this axis gives the totals in each COLUMN. \n",
    "A.sum(axis = 0)"
   ]
  },
  {
   "cell_type": "code",
   "execution_count": null,
   "id": "f17fd9b7",
   "metadata": {},
   "outputs": [],
   "source": [
    "# the first axis corresponds to COLUMNS. \n",
    "# summing over this axis gives the totals in each ROW. \n",
    "\n",
    "A.sum(axis = 1)"
   ]
  },
  {
   "cell_type": "code",
   "execution_count": null,
   "id": "12d36af4",
   "metadata": {},
   "outputs": [],
   "source": [
    "A.shape"
   ]
  },
  {
   "cell_type": "markdown",
   "id": "ae0f5ad0",
   "metadata": {},
   "source": [
    "Here's a helpful way to remember how to use the `axis` argument. In our case, `A.shape = (3,5)`. The sum `A.sum(axis = 0)` \"eliminates\" the zeroth dimension of size 3, leaving the dimension of size 5. So, `A.sum(axis = 0)` should be a 1d array of size 5, which is what we saw above. Similarly, `A.sum(axis = 1)` eliminates the first dimension of size 5, leaving the zeroth dimension of size 3. \n",
    "\n",
    "Other aggregation functions also accept the `axis` argument."
   ]
  },
  {
   "cell_type": "code",
   "execution_count": null,
   "id": "e1c09948",
   "metadata": {},
   "outputs": [],
   "source": [
    "A.min(axis = 0)"
   ]
  },
  {
   "cell_type": "code",
   "execution_count": null,
   "id": "d3da8f40",
   "metadata": {},
   "outputs": [],
   "source": [
    "A.max(axis = 1)"
   ]
  },
  {
   "cell_type": "code",
   "execution_count": null,
   "id": "f758005f",
   "metadata": {},
   "outputs": [],
   "source": [
    "A.mean(axis = 1)"
   ]
  },
  {
   "cell_type": "code",
   "execution_count": null,
   "id": "9aaae5ed",
   "metadata": {},
   "outputs": [],
   "source": [
    "A.cumsum(axis = 1)"
   ]
  },
  {
   "cell_type": "markdown",
   "id": "fe06e842",
   "metadata": {},
   "source": [
    "### Dealing with NaN values\n",
    "\n",
    "What happens when there is a NaN value in your array? Since NaNs propagate, aggregations involving NaNs will generate more NaNs:"
   ]
  },
  {
   "cell_type": "code",
   "execution_count": null,
   "id": "a9a08d87",
   "metadata": {},
   "outputs": [],
   "source": [
    "A = 1.0*A # to convert to float\n",
    "A[0,:] = np.nan\n",
    "A"
   ]
  },
  {
   "cell_type": "code",
   "execution_count": null,
   "id": "909a31db",
   "metadata": {},
   "outputs": [],
   "source": [
    "A.mean(axis = 0)"
   ]
  },
  {
   "cell_type": "code",
   "execution_count": null,
   "id": "aab7438b",
   "metadata": {},
   "outputs": [],
   "source": [
    "A.mean(axis = 1)"
   ]
  },
  {
   "cell_type": "markdown",
   "id": "1c1460c5",
   "metadata": {},
   "source": [
    "In some cases, we might want to completely ignore NaN values. In this case, we can use the `nan*` versions of `numpy`'s aggregation functions, like `np.nansum()`, `np.nanmean()`, `np.nanmax()`, `np.nanmin()`, and so on:"
   ]
  },
  {
   "cell_type": "code",
   "execution_count": null,
   "id": "ebe9915c",
   "metadata": {},
   "outputs": [],
   "source": [
    "np.nanmean(A, axis = 0)"
   ]
  },
  {
   "cell_type": "code",
   "execution_count": null,
   "id": "a4f5b612",
   "metadata": {},
   "outputs": [],
   "source": [
    "np.nanmean(A, axis = 1)"
   ]
  },
  {
   "cell_type": "markdown",
   "id": "d8172d22",
   "metadata": {},
   "source": [
    "##  Broadcasting "
   ]
  },
  {
   "cell_type": "code",
   "execution_count": null,
   "id": "56db8ab0",
   "metadata": {},
   "outputs": [],
   "source": [
    "import numpy as np\n",
    "\n",
    "a=np.array([1,2,3])\n",
    "b=np.array([4,5])"
   ]
  },
  {
   "cell_type": "code",
   "execution_count": null,
   "id": "47964085",
   "metadata": {},
   "outputs": [],
   "source": [
    "#This produces an error\n",
    "a+b"
   ]
  },
  {
   "cell_type": "markdown",
   "id": "9e8373cc",
   "metadata": {},
   "source": [
    "Indeed, adding arrays of different sizes feels \"unnatural\". But note that the error message said \n",
    "\n",
    "\"ValueError: operands could not be broadcast together with shapes (3,) (2,)\"\n",
    "\n",
    "It didn't just say \"shapes don't match.\"\n",
    "\n",
    "Sometimes you **can** add arrays of different shapes and this is called broadcasting\n"
   ]
  },
  {
   "cell_type": "code",
   "execution_count": null,
   "id": "7e5c726c",
   "metadata": {},
   "outputs": [],
   "source": [
    "a=np.ones(3)\n",
    "b=np.zeros(3)\n",
    "b=b.reshape(3,1)\n",
    "a,b\n",
    "a+b"
   ]
  },
  {
   "cell_type": "code",
   "execution_count": null,
   "id": "fd988b53",
   "metadata": {},
   "outputs": [],
   "source": [
    "#It looks like we should be able to add a and b,but \n",
    "a.shape,b.shape"
   ]
  },
  {
   "cell_type": "markdown",
   "id": "28db42ed",
   "metadata": {},
   "source": [
    "### First rule of broadcasting:\n",
    "If one array has more dimensions, take the array with fewer dimensions  and 'pad' it with ones __ON THE LEFT__.\n",
    "\n",
    "If you try to type a+b, numpy will automatically convert it to an array with shape (1,3) and then the addition works fine.\n"
   ]
  },
  {
   "cell_type": "code",
   "execution_count": null,
   "id": "ac8e5407",
   "metadata": {},
   "outputs": [],
   "source": [
    "a+b"
   ]
  },
  {
   "cell_type": "code",
   "execution_count": null,
   "id": "77a50e9a",
   "metadata": {},
   "outputs": [],
   "source": [
    "#Example 2\n",
    "a=np.zeros((3,3))\n",
    "b=np.arange(3)\n",
    "print(a.shape,b.shape)\n",
    "a,b"
   ]
  },
  {
   "cell_type": "markdown",
   "id": "7ba449c1",
   "metadata": {},
   "source": [
    "What happens if we try to add a and b?\n",
    "\n",
    "By the first rule of broadcasting, b gets padded with a one so now a has shape(3,3) and b has shape (1,3)"
   ]
  },
  {
   "cell_type": "markdown",
   "id": "4f1e4a33",
   "metadata": {},
   "source": [
    "### Second rule of broadcasting. \n",
    "If arrays have the same number of dimesions, you can stretch out ones\n",
    "\n",
    "this means that b will get converted from array([0,1,2]) to array([[0,1,2],[0,1,2],[0,1,2]])\n",
    "is the 3 by 3 array where every row is a copy of the original b\n",
    "\n",
    "mathematically, we have the formula new_b[i,j]=old_b[j]\n",
    "\n",
    "axis 0 is the axis we are \"streching over\" i isn't on the right hand side"
   ]
  },
  {
   "cell_type": "code",
   "execution_count": null,
   "id": "1f45b383",
   "metadata": {},
   "outputs": [],
   "source": [
    "a+b"
   ]
  },
  {
   "cell_type": "markdown",
   "id": "68e55d88",
   "metadata": {},
   "source": [
    "### Third rule of broadcasting.\n",
    "\n",
    "Sometimes you are out of luck. If the arrays have the same number of dimensions, the dimensions don't match, and there is not a one in either location, you can't add, i.e., you can  only stretch ones. "
   ]
  },
  {
   "cell_type": "code",
   "execution_count": null,
   "id": "7dbf4e18",
   "metadata": {},
   "outputs": [],
   "source": [
    "#This gives you a value error\n",
    "#A=np.zeros((3,4))\n",
    "#B=np.zeros((4,3))\n",
    "#A+B"
   ]
  },
  {
   "cell_type": "markdown",
   "id": "f282f581",
   "metadata": {},
   "source": [
    "### More Complicated Example"
   ]
  },
  {
   "cell_type": "code",
   "execution_count": null,
   "id": "5962e1a2",
   "metadata": {},
   "outputs": [],
   "source": [
    "a=np.arange(3)\n",
    "a=a.reshape(1,3)\n",
    "b=2*np.arange(3)\n",
    "b=b.reshape(3,1)\n",
    "print(a.shape,b.shape)\n",
    "a,b"
   ]
  },
  {
   "cell_type": "markdown",
   "id": "a39aae3c",
   "metadata": {},
   "source": [
    "Can we add? Yes! As long as there is a one in each dimension!\n",
    "\n",
    "a gets stretched out along dimension 0 to form a 3 by 3 array. We are stretching along axis = so the rule is \n",
    "a_new[i,j]=a[j] so a becomes\n",
    "\n",
    "array([[0,1,2],[0,1,2],[0,1,2]])"
   ]
  },
  {
   "cell_type": "markdown",
   "id": "cdeef4ee",
   "metadata": {},
   "source": [
    "b on the other hand gets stretched along axis 1 so it gets obays the rule b_new[i,j] = b[i]\n",
    "\n",
    "so be gets converted from 0,2,4 to \n",
    "\n",
    "array([[0,0,0],[2,2,2],[4,4,4]])\n",
    "\n",
    "Now, since  a and b are both 3 by 3 we can add"
   ]
  },
  {
   "cell_type": "code",
   "execution_count": null,
   "id": "c27d4e5b",
   "metadata": {},
   "outputs": [],
   "source": [
    "a+b"
   ]
  },
  {
   "cell_type": "markdown",
   "id": "73a435cd",
   "metadata": {},
   "source": [
    "Note that a_new and b_new are all \"under the hood.\" You don't actually see them."
   ]
  },
  {
   "cell_type": "code",
   "execution_count": null,
   "id": "4f62da7e",
   "metadata": {},
   "outputs": [],
   "source": [
    "#Example\n",
    "np.arange(3)+4"
   ]
  },
  {
   "cell_type": "markdown",
   "id": "d247610f",
   "metadata": {},
   "source": [
    "4 is stretched to array([4,4,4])"
   ]
  },
  {
   "cell_type": "markdown",
   "id": "724e8c26",
   "metadata": {},
   "source": [
    "## Normalizing Data"
   ]
  },
  {
   "cell_type": "code",
   "execution_count": null,
   "id": "8476ce8a",
   "metadata": {},
   "outputs": [],
   "source": [
    "#Here is some random data, n x p, number of samples x number of features.\n",
    "X=np.random.rand(10,3)\n",
    "X"
   ]
  },
  {
   "cell_type": "markdown",
   "id": "ee27c3c0",
   "metadata": {},
   "source": [
    "Interpretation. Each row is a new person. Each column is a different 'assessment'. Can we manipulate our data so that each column has mean zero and variance 1?"
   ]
  },
  {
   "cell_type": "code",
   "execution_count": null,
   "id": "0e307f6a",
   "metadata": {},
   "outputs": [],
   "source": [
    "#mean of each column\n",
    "mu = X.mean(axis= )\n",
    "mu"
   ]
  },
  {
   "cell_type": "markdown",
   "id": "b7bf52c4",
   "metadata": {},
   "source": [
    "What happen if we type X-mu? \n",
    "\n",
    "`X` has shape `10,3` `mu` has shape `3`, so by the first rule of broadcasting, `mu` gets padded with a one to have shape `1,3`.\n",
    "\n",
    "Then, by the second rule of broadcasting, `mu` gets stretched out to a 10x3 matrix where each row is a copy of the original `mu`"
   ]
  },
  {
   "cell_type": "code",
   "execution_count": null,
   "id": "cd006253",
   "metadata": {},
   "outputs": [],
   "source": [
    "Centered = X-mu\n",
    "Centered"
   ]
  },
  {
   "cell_type": "code",
   "execution_count": null,
   "id": "a317a180",
   "metadata": {},
   "outputs": [],
   "source": [
    "Centered.mean(axis=0)"
   ]
  },
  {
   "cell_type": "markdown",
   "id": "9366bb93",
   "metadata": {},
   "source": [
    "Okay, now lets make the variance of each column =1"
   ]
  },
  {
   "cell_type": "code",
   "execution_count": null,
   "id": "1cfb018e",
   "metadata": {},
   "outputs": [],
   "source": [
    "sigma = X.std(axis=0)\n",
    "sigma"
   ]
  },
  {
   "cell_type": "code",
   "execution_count": null,
   "id": "2d2632df",
   "metadata": {},
   "outputs": [],
   "source": [
    "Normalized=(X-mu)/sigma\n",
    "Normalized"
   ]
  },
  {
   "cell_type": "code",
   "execution_count": null,
   "id": "80dd1040",
   "metadata": {},
   "outputs": [],
   "source": [
    "Normalized.mean(axis=0), Normalized.std(axis=0)"
   ]
  },
  {
   "cell_type": "code",
   "execution_count": null,
   "id": "e2347e44",
   "metadata": {},
   "outputs": [],
   "source": [
    "#Note that the rows do not have mean zero or variance 1\n",
    "\n",
    "Normalized.mean(axis=1), Normalized.std(axis=1)\n"
   ]
  },
  {
   "cell_type": "markdown",
   "id": "8b2d3ed4",
   "metadata": {},
   "source": [
    "##  Linear Algebra "
   ]
  },
  {
   "cell_type": "code",
   "execution_count": null,
   "id": "3d0c27fc",
   "metadata": {},
   "outputs": [],
   "source": [
    "A=np.arange(15).reshape(5,3)\n",
    "A"
   ]
  },
  {
   "cell_type": "code",
   "execution_count": null,
   "id": "14270e29",
   "metadata": {},
   "outputs": [],
   "source": [
    "x=np.ones(3)"
   ]
  },
  {
   "cell_type": "markdown",
   "id": "ac761ada",
   "metadata": {},
   "source": [
    "What does $A*x$ do?"
   ]
  },
  {
   "cell_type": "code",
   "execution_count": null,
   "id": "5801943b",
   "metadata": {},
   "outputs": [],
   "source": [
    "A*x"
   ]
  },
  {
   "cell_type": "markdown",
   "id": "a31236b2",
   "metadata": {},
   "source": [
    "What does it NOT do?"
   ]
  },
  {
   "cell_type": "code",
   "execution_count": null,
   "id": "948a792e",
   "metadata": {},
   "outputs": [],
   "source": []
  },
  {
   "cell_type": "markdown",
   "id": "3ad36bd9",
   "metadata": {},
   "source": [
    "## Matrix-vector multiplication? \n",
    "\n",
    "Recall that multiplication of an $M\\times N$ matrix by an $N$ dimensional vector results in a new $M$ dimensional vector $y=Ax$ defined by \n",
    "\\begin{equation*}\n",
    "y_i=\\sum_jA_{i,j}x_j\n",
    "\\end{equation*}"
   ]
  },
  {
   "cell_type": "code",
   "execution_count": null,
   "id": "02487bff",
   "metadata": {},
   "outputs": [],
   "source": [
    "np.matmul(A,x)"
   ]
  },
  {
   "cell_type": "markdown",
   "id": "9158e5dc",
   "metadata": {},
   "source": [
    "## Matrix-Matrix multiplication "
   ]
  },
  {
   "cell_type": "markdown",
   "id": "4789df49",
   "metadata": {},
   "source": [
    "If $A$ is an $M\\times N$ matrix and $B$ is an $N\\times R$ matrix, then $C=AB$ is an $M\\times R$ matrix defined by \n",
    "\n",
    "\\begin{equation*}\n",
    "C_{i,j}=\\sum_kA_{i,k}B_{k,j}\n",
    "\\end{equation*}"
   ]
  },
  {
   "cell_type": "code",
   "execution_count": null,
   "id": "4b4fea00",
   "metadata": {},
   "outputs": [],
   "source": [
    "B=np.arange(33).reshape(3,11)\n",
    "C=np.matmul(A,B)\n",
    "C.shape"
   ]
  },
  {
   "cell_type": "markdown",
   "id": "73f4ffc0",
   "metadata": {},
   "source": [
    "This doesn't work\n"
   ]
  },
  {
   "cell_type": "code",
   "execution_count": null,
   "id": "699e8349",
   "metadata": {
    "scrolled": true
   },
   "outputs": [],
   "source": [
    "BadB=np.arange(22).reshape(2,11)\n",
    "BadC=np.matmul(A,BadB)\n"
   ]
  },
  {
   "cell_type": "markdown",
   "id": "5c619976",
   "metadata": {},
   "source": [
    "More linear algebra opeartions are available in the submodule `numpy.linalg`. "
   ]
  }
 ],
 "metadata": {
  "kernelspec": {
   "display_name": "Python [conda env:PIC16B-3] *",
   "language": "python",
   "name": "conda-env-PIC16B-3-py"
  },
  "language_info": {
   "codemirror_mode": {
    "name": "ipython",
    "version": 3
   },
   "file_extension": ".py",
   "mimetype": "text/x-python",
   "name": "python",
   "nbconvert_exporter": "python",
   "pygments_lexer": "ipython3",
   "version": "3.11.6"
  }
 },
 "nbformat": 4,
 "nbformat_minor": 5
}
