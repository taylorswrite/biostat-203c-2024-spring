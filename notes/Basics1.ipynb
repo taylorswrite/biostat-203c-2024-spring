{
  "cells": [
    {
      "cell_type": "markdown",
      "id": "2f0e78d2",
      "metadata": {
        "id": "2f0e78d2"
      },
      "source": [
        "# BIOSTAT 203C - Introduction to Data Science with Python\n",
        "Seyoon Ko, PhD\n",
        "\n",
        "UCLA Master of Data Science in Health program, Spring 2024\n"
      ]
    },
    {
      "cell_type": "markdown",
      "id": "93ff8b7e",
      "metadata": {
        "id": "93ff8b7e"
      },
      "source": [
        "## About Me\n",
        "\n",
        "\n",
        "- BS in Physics/Mathematics/Computational Science\n",
        "- MS in Computational Sciences\n",
        "- PhD in Statistics\n",
        "- Postdoc at UCLA\n",
        "  - Department of Biostatistics / Computational Medicine\n",
        "  - Worked with Dr. Hua Zhou, Dr. Jin Zhou, and Dr. Kenneth Lange\n",
        "  - QCBio Collaboratory Fellow - taught workshops on bioinformatics tools\n",
        "- Assistant Adjunct Professor of Mathematics\n",
        "  - Mainly for teaching classes in Program in Computing\n",
        "\n",
        "\n",
        "\n",
        "## Course technologies\n",
        "\n",
        "A lot of tools come from my prior experience with teaching undergraduate programming classes:\n",
        "\n",
        "- BruinLearn is the \"official website\" for this course.\n",
        "- CampusWire is the discussion forum, let's use it like the Slack channel last quarter. [Link](https://campuswire.com/p/GEDC0997F) - code: 2760\n",
        "- Homework will be gathered through GradeScope. You will be able to access it through BruinLearn.\n",
        "- For attendances and quizzes, we will use iClicker. UCLA students can freely download and use the iClicker programs. Please create iClicker account and download the application by the next break.\n",
        "  - [Mobile app](https://www.iclicker.com/students/apps-and-remotes/apps)\n",
        "  - [Web app](https://www.iclicker.com/students/apps-and-remotes/web)\n",
        "  - And join the course with this link: https://join.iclicker.com/MJXZ\n",
        "\n",
        "\n",
        "\"Lab 1\" on setting up different software and how to work on homework will be on Tuesday of Week 2."
      ]
    },
    {
      "cell_type": "markdown",
      "source": [
        "## Let's test out iClicker!\n",
        "\n",
        "\n",
        "**POLL 1.** (multiple answer): Which operating system(s) do you use for your daily work? (check all apply)\n",
        "\n",
        "A. Linux\n",
        "\n",
        "B. MacOS\n",
        "\n",
        "C. Windows\n",
        "\n",
        "D. Other\n",
        "\n",
        "\n",
        "**POLL 2.** (multiple answer): Which programming language(s) do you use often? (check all apply)\n",
        "\n",
        "A. R\n",
        "\n",
        "B. Python\n",
        "\n",
        "C. Julia\n",
        "\n",
        "D. Matlab\n",
        "\n",
        "E. SAS\n",
        "\n",
        "**POLL 3.** (short answer): What other programming languague(s) do you use often? (C/C++, Fortran, etc.)\n",
        "\n",
        "\n",
        "**POLL 4.** (numeric): How confident do you feel about your programming skills in general? 0 for not confident at all, 10 for super confident.\n",
        "\n",
        "**POLL 5.** (short answer): What are you most interested in learning through this course?"
      ],
      "metadata": {
        "id": "KgDN2NV6opOV"
      },
      "id": "KgDN2NV6opOV"
    },
    {
      "cell_type": "markdown",
      "id": "0bd39cdf",
      "metadata": {
        "id": "0bd39cdf"
      },
      "source": [
        "## Weekend Lecture 1: Introduction to Python\n",
        "\n",
        "__Learn to Code__\n",
        "\n",
        "- It is important to know that programming skills are more about the right way of structuring your program than about knowing syntax of your programming language\n",
        "- Once you gain programming skills in Python, you can easily switch to any other language\n",
        "- Your understanding of algorithms and data structures is more valuable than your programming skills"
      ]
    },
    {
      "cell_type": "markdown",
      "id": "fa6b4a7c",
      "metadata": {
        "id": "fa6b4a7c"
      },
      "source": [
        "__Great Things about Python__\n",
        "\n",
        "- Easy to learn and use\n",
        "- Quick development time\n",
        "- A great fit for people who are not Software Engineers\n",
        "- Ideal for those who work with excel, CSVs, PDFs, and other files\n",
        "- Makes life of scientists, engineers, and other specialists easier\n",
        "- Ideal for automating boring and repetitive tasks such as copying and editing files and folders around, sending files to servers, running software, and analysing the results.\n",
        "\n",
        "\n",
        "R vs. Python:\n",
        "\n",
        "https://github.com/yl3738/Python-vs.-R-Cheatsheet/blob/main/community%20contribution_CC%20group14.pdf\n"
      ]
    },
    {
      "cell_type": "markdown",
      "id": "ad5e8d61",
      "metadata": {
        "id": "ad5e8d61"
      },
      "source": [
        "__How to think about programming__\n",
        "\n",
        "<img src=\"https://mathinsight.org/media/image/image/function_machine.png\" width=\"200\"/>\n",
        "\n",
        "In computer programs, everything starts with a problem formulation that consists oftwo simple parts that are called INPUT and OUTPUT of the program\n",
        "\n",
        "- Input: an array of integers\n",
        "- Output: the sum of the integers in the array"
      ]
    },
    {
      "cell_type": "markdown",
      "id": "264013f8",
      "metadata": {
        "id": "264013f8"
      },
      "source": [
        "Solving formulated problem\n",
        "\n",
        "Algorithmic part: What do we need to do to the input to get the output?\n",
        "- Algorithms - a list of instructions\n",
        "- Data structures - how we conveniently represent the data that we are using\n",
        "\n",
        "Example:\n",
        "- Input: an array of integers\n",
        "- Output: the sum of the integers in the array\n",
        "\n",
        "```python\n",
        "array = [1, 2, 3, 4, 5]\n",
        "s = 0\n",
        "for el in array:\n",
        "    s = s + el\n",
        "print(s)\n",
        "```\n",
        "    > 15"
      ]
    },
    {
      "cell_type": "markdown",
      "id": "4b367968",
      "metadata": {
        "id": "4b367968"
      },
      "source": [
        "__Day 1__:\n",
        "- Course logistics\n",
        "- Basic data types and variables\n",
        "- Control Flow\n",
        "- Repeating code in loops\n",
        "\n",
        "__Day 2__:\n",
        "\n",
        "- More data types: collections\n",
        "- Functions\n",
        "- Reading/Writing Files\n",
        "- Using Libraries\n"
      ]
    },
    {
      "cell_type": "markdown",
      "id": "eab2e13d",
      "metadata": {
        "id": "eab2e13d"
      },
      "source": [
        "##  Getting Started\n",
        "\n",
        "#### If you want your notebook to run on Google's  cloud\n",
        "\n",
        "1. Open a web browser on your computer, and __log in to your Google account__.\n",
        "\n",
        "2. Go to https://colab.research.google.com/\n",
        "\n",
        "3. Upload the notebook (`.ipynb` file)\n",
        "\n",
        "4. Open it.\n",
        "\n",
        "\n",
        "#### If you want to run your local installation of Python\n",
        "1. Install Anaconda.\n",
        "2. Open Anaconda Navigator.\n",
        "    - Mac: Open Spotlight Search (Command + Space bar) and search \"Anaconda Navigator\"\n",
        "    - Windows: Look for Anaconda in your Start menu.\n",
        "3. Launch Jupyter Notebook.\n",
        "\n",
        "Once launched, the Jupyter Dashboard opens in a web browser.\n",
        "<!--Why web page? It's easier to maintain, compared to creating a separate app for each OS.-->\n",
        "- Files relative to your home directory is displayed.\n",
        "- You can create folders and a new notebook.\n",
        "\n",
        "In a notebook, you can write/edit \"cells\" of code or write a cell with a text, markdown-formatted.\n",
        "- https://www.ibm.com/docs/en/watson-studio-local/1.2.3?topic=notebooks-markdown-jupyter-cheatsheet for some syntax.\n"
      ]
    },
    {
      "cell_type": "markdown",
      "id": "800bf4fd",
      "metadata": {
        "id": "800bf4fd"
      },
      "source": [
        "You are running a __Colab Notebook__ or __Jupyter Notebook__ now.\n",
        "\n",
        "<div>\n",
        "<img src=\"https://upload.wikimedia.org/wikipedia/commons/d/d0/Google_Colaboratory_SVG_Logo.svg\" height=\"200\"/><img src=\"https://jupyter.org/assets/homepage/main-logo.svg\" height=\"200\"/>\n",
        "</div>\n",
        "\n",
        "- Open-source\n",
        "- Create and share documents\n",
        "- Contains live code and hypertext \"literate programming\"\n",
        "- Similar applications\n",
        "    - R: R Markdown Notebook\n",
        "    - Matlab: Matlab Live Script"
      ]
    },
    {
      "cell_type": "markdown",
      "id": "f2eb0a0a",
      "metadata": {
        "id": "f2eb0a0a"
      },
      "source": [
        "You can run code in a cell using the \"Run\" button or by pressing `Shift + Enter` on the keyboard.\n",
        "\n",
        "This is __not__ the only way to run Python code. You will see other ways to run your code in this course, e.g., from your command line.\n",
        "\n",
        "\n"
      ]
    },
    {
      "cell_type": "markdown",
      "id": "e1ddf1dc",
      "metadata": {
        "id": "e1ddf1dc"
      },
      "source": [
        "### Your First Program: \"Hello, world!\"\n",
        "\n",
        "It is a common practice in many programming languagues to start with a program that prints out \"Hello, world\" to your screen. It shows basic syntax of the language, and you can check if the system is set up properly.\n",
        "\n",
        "Type and run the following in the code cell below:\n",
        "```python\n",
        "print(\"Hello, world!\")\n",
        "```"
      ]
    },
    {
      "cell_type": "code",
      "execution_count": null,
      "id": "78580e6e",
      "metadata": {
        "id": "78580e6e",
        "colab": {
          "base_uri": "https://localhost:8080/"
        },
        "outputId": "c2b5c9de-59fc-452e-b682-2b3f5772a8f1"
      },
      "outputs": [
        {
          "output_type": "stream",
          "name": "stdout",
          "text": [
            "Hello, world!\n"
          ]
        }
      ],
      "source": [
        "print(\"Hello, world!\")"
      ]
    },
    {
      "cell_type": "markdown",
      "id": "30636613",
      "metadata": {
        "id": "30636613"
      },
      "source": [
        "_Note_: There are two types of cells in Jupyter Notebook: Code cell and Markdown (Text) cell.\n",
        "\n",
        "- Code cells will have an heading with square bracket indicating cell execution order.\n",
        "- Throughout this lecture, you will be asked to type something to a code cell and execute it.\n",
        "- Sometimes, what to type in the code cell will be given directly. I encourage you to type in the code yourself and get your hand dirty -- that's more effective way to learn programming."
      ]
    },
    {
      "cell_type": "markdown",
      "id": "4cdc6fc4",
      "metadata": {
        "id": "4cdc6fc4"
      },
      "source": [
        "The `print(x)` __function__ prints a string `x` to your screen.\n",
        "\n",
        "Function is a a block of code which only runs when it is called. You can pass data, known as _parameters_, into a function. We will learn to how to use functions, and how to define functions later this weekend.\n",
        "\n"
      ]
    },
    {
      "cell_type": "markdown",
      "id": "e41d8cda",
      "metadata": {
        "id": "e41d8cda"
      },
      "source": [
        "### Comments\n",
        "\n",
        "Comments in Python start with a hash sign (`#`). Anything after a `#` will not be interpreted as a part of a program."
      ]
    },
    {
      "cell_type": "code",
      "execution_count": null,
      "id": "e2e37910",
      "metadata": {
        "id": "e2e37910",
        "colab": {
          "base_uri": "https://localhost:8080/"
        },
        "outputId": "c0b098c3-82b0-49ec-8c6b-51413ae9b657"
      },
      "outputs": [
        {
          "output_type": "stream",
          "name": "stdout",
          "text": [
            "Hello\n"
          ]
        }
      ],
      "source": [
        "print(\"Hello\") # print hello"
      ]
    },
    {
      "cell_type": "markdown",
      "id": "95645754",
      "metadata": {
        "id": "95645754"
      },
      "source": [
        "Multiline string enclosed in triple quotation marks(`\"\"\"` or `'''`) can also be used instead of a hash sign. Technically, this is a string literal, but Python interpreter will ignore it if it is not assigned to a variable."
      ]
    },
    {
      "cell_type": "code",
      "execution_count": null,
      "id": "ed0be3ef",
      "metadata": {
        "id": "ed0be3ef",
        "colab": {
          "base_uri": "https://localhost:8080/"
        },
        "outputId": "16a093a1-9807-4e03-cdd5-d3020ce116d7"
      },
      "outputs": [
        {
          "output_type": "stream",
          "name": "stdout",
          "text": [
            "hello, world!\n"
          ]
        }
      ],
      "source": [
        "\"\"\"\n",
        "This is my first program\n",
        "\"\"\"\n",
        "print(\"hello, world!\")"
      ]
    },
    {
      "cell_type": "markdown",
      "id": "6c2cf684",
      "metadata": {
        "id": "6c2cf684"
      },
      "source": [
        "### Variables and Literals\n",
        "\n",
        "- __Variables__ reserves a space in computer memory to store data.\n",
        "- Variables can store strings, numbers, lists, and many others types of data.\n",
        "- Variables have their own name that allow access, and modify the data.\n",
        "- __Literals__ represent exact values that can be stored in variables.\n",
        "- `=` assigns values to a variable.\n",
        "```python\n",
        "my_variable = \"My first variable!\"\n",
        "```\n",
        "```\n",
        "(variable)     (literal)\n",
        "```\n",
        "\n",
        "A variable `my_variable` is defined, and is initialized with the string literal `\"My first variable!\"`. The equal sign means assignment of a value to a variable. You can use this string anywhere in the program using the name `my_variable`.\n",
        "\n",
        "```python\n",
        "my_variable = \"My first variable!\"\n",
        "\n",
        "print(my_variable)\n",
        "```"
      ]
    },
    {
      "cell_type": "code",
      "execution_count": null,
      "id": "97118d38",
      "metadata": {
        "id": "97118d38",
        "colab": {
          "base_uri": "https://localhost:8080/"
        },
        "outputId": "69d242b3-3afa-4132-c5fc-b622194e4f81"
      },
      "outputs": [
        {
          "output_type": "stream",
          "name": "stdout",
          "text": [
            "My first variable!\n"
          ]
        }
      ],
      "source": [
        "my_variable = \"My first variable!\"\n",
        "print(my_variable)"
      ]
    },
    {
      "cell_type": "markdown",
      "id": "fbf6053c",
      "metadata": {
        "id": "fbf6053c"
      },
      "source": [
        "You can also directly use literals anywhere in your program, as in the Hello world program. It is convenient to use variables for most program."
      ]
    },
    {
      "cell_type": "markdown",
      "id": "28017b9f",
      "metadata": {
        "id": "28017b9f"
      },
      "source": [
        "## Types\n",
        "\n",
        "Each variable and literal has a __type__. It can be checked with the function `type()`.\n",
        "\n",
        "```python\n",
        "type(my_variable)\n",
        "type(300)\n",
        "type(300.0)\n",
        "```"
      ]
    },
    {
      "cell_type": "code",
      "execution_count": null,
      "id": "9d38247a",
      "metadata": {
        "id": "9d38247a",
        "colab": {
          "base_uri": "https://localhost:8080/"
        },
        "outputId": "59ac35ef-ee16-442c-aa9e-6e6306827460"
      },
      "outputs": [
        {
          "output_type": "execute_result",
          "data": {
            "text/plain": [
              "str"
            ]
          },
          "metadata": {},
          "execution_count": 7
        }
      ],
      "source": [
        "type(my_variable)"
      ]
    },
    {
      "cell_type": "code",
      "execution_count": null,
      "id": "70281b3f",
      "metadata": {
        "id": "70281b3f",
        "colab": {
          "base_uri": "https://localhost:8080/"
        },
        "outputId": "e84d4483-c16e-42be-8e1b-3e656a0995c6"
      },
      "outputs": [
        {
          "output_type": "execute_result",
          "data": {
            "text/plain": [
              "int"
            ]
          },
          "metadata": {},
          "execution_count": 8
        }
      ],
      "source": [
        "type(300)"
      ]
    },
    {
      "cell_type": "code",
      "execution_count": null,
      "id": "6b6e2b08",
      "metadata": {
        "id": "6b6e2b08",
        "colab": {
          "base_uri": "https://localhost:8080/"
        },
        "outputId": "d8d1a7df-13a2-46e9-f5ad-61343835eaac"
      },
      "outputs": [
        {
          "output_type": "execute_result",
          "data": {
            "text/plain": [
              "float"
            ]
          },
          "metadata": {},
          "execution_count": 9
        }
      ],
      "source": [
        "type(300.0)"
      ]
    },
    {
      "cell_type": "markdown",
      "id": "a278bdef",
      "metadata": {
        "id": "a278bdef"
      },
      "source": [
        "_Note_: Only the result of the last line is displayed in Jupyter Notebook unless `print()` function is used. If the last line of the cell assigns something (`x = ...`), nothing is displayed."
      ]
    },
    {
      "cell_type": "markdown",
      "id": "cb78cc84",
      "metadata": {
        "id": "cb78cc84"
      },
      "source": [
        "Basic data types in Python include:\n",
        "\n",
        "- Text Type: `str`\n",
        "- Numeric Types:\t`int`, `float`, `complex`\n",
        "- Sequence Types:\t`list`, `tuple`, `range`\n",
        "- Mapping Type: `dict`\n",
        "- Boolean Type:\t`bool`\n",
        "\n",
        "We will deal with some of these basic data types.\n"
      ]
    },
    {
      "cell_type": "markdown",
      "id": "c55dc678",
      "metadata": {
        "id": "c55dc678"
      },
      "source": [
        "### Strings (`str`)\n",
        "\n",
        "Strings in python represent text information.\n",
        "- String literals are surrounded by either a pair of single quotation marks (`'`) or a pair of double quotation marks (`\"`).\n",
        "- For each literal, only one type of quotation mark should start and end text string.\n",
        "- `\"hello\"` is the same is `'hello'`.\n"
      ]
    },
    {
      "cell_type": "code",
      "execution_count": null,
      "id": "fe638d68",
      "metadata": {
        "id": "fe638d68",
        "colab": {
          "base_uri": "https://localhost:8080/",
          "height": 35
        },
        "outputId": "029ca53f-9c56-44a5-9e1e-8e8af8fd1ebd"
      },
      "outputs": [
        {
          "output_type": "execute_result",
          "data": {
            "text/plain": [
              "'hello'"
            ],
            "application/vnd.google.colaboratory.intrinsic+json": {
              "type": "string"
            }
          },
          "metadata": {},
          "execution_count": 10
        }
      ],
      "source": [
        "\"hello\""
      ]
    },
    {
      "cell_type": "code",
      "execution_count": null,
      "id": "db3ab861",
      "metadata": {
        "id": "db3ab861",
        "colab": {
          "base_uri": "https://localhost:8080/",
          "height": 35
        },
        "outputId": "78350763-34a3-44e3-bad5-2e4e7ba704b6"
      },
      "outputs": [
        {
          "output_type": "execute_result",
          "data": {
            "text/plain": [
              "'hello'"
            ],
            "application/vnd.google.colaboratory.intrinsic+json": {
              "type": "string"
            }
          },
          "metadata": {},
          "execution_count": 11
        }
      ],
      "source": [
        "'hello'"
      ]
    },
    {
      "cell_type": "code",
      "execution_count": null,
      "id": "e7135de0",
      "metadata": {
        "id": "e7135de0",
        "colab": {
          "base_uri": "https://localhost:8080/",
          "height": 108
        },
        "outputId": "b7e16b92-38b3-40ed-ee0d-3b6448ebc964"
      },
      "outputs": [
        {
          "output_type": "error",
          "ename": "SyntaxError",
          "evalue": "unterminated string literal (detected at line 1) (<ipython-input-12-f0eb84404e89>, line 1)",
          "traceback": [
            "\u001b[0;36m  File \u001b[0;32m\"<ipython-input-12-f0eb84404e89>\"\u001b[0;36m, line \u001b[0;32m1\u001b[0m\n\u001b[0;31m    \"hello'\u001b[0m\n\u001b[0m    ^\u001b[0m\n\u001b[0;31mSyntaxError\u001b[0m\u001b[0;31m:\u001b[0m unterminated string literal (detected at line 1)\n"
          ]
        }
      ],
      "source": [
        "\"hello'"
      ]
    },
    {
      "cell_type": "code",
      "source": [
        "\"Joe's\""
      ],
      "metadata": {
        "colab": {
          "base_uri": "https://localhost:8080/",
          "height": 35
        },
        "id": "EbyVaHi0cTLc",
        "outputId": "a050b85b-9339-494d-e66e-8aa0a65f3bb5"
      },
      "id": "EbyVaHi0cTLc",
      "execution_count": null,
      "outputs": [
        {
          "output_type": "execute_result",
          "data": {
            "text/plain": [
              "\"Joe's\""
            ],
            "application/vnd.google.colaboratory.intrinsic+json": {
              "type": "string"
            }
          },
          "metadata": {},
          "execution_count": 13
        }
      ]
    },
    {
      "cell_type": "code",
      "source": [
        "'Joe\\'s'"
      ],
      "metadata": {
        "colab": {
          "base_uri": "https://localhost:8080/",
          "height": 35
        },
        "id": "c8Q_0-AtcXAM",
        "outputId": "14eef59d-f0d7-4ffd-c738-c652e479e52b"
      },
      "id": "c8Q_0-AtcXAM",
      "execution_count": null,
      "outputs": [
        {
          "output_type": "execute_result",
          "data": {
            "text/plain": [
              "\"Joe's\""
            ],
            "application/vnd.google.colaboratory.intrinsic+json": {
              "type": "string"
            }
          },
          "metadata": {},
          "execution_count": 14
        }
      ]
    },
    {
      "cell_type": "markdown",
      "id": "bbafba64",
      "metadata": {
        "id": "bbafba64"
      },
      "source": [
        "There are special characters that can be used in the string:\n",
        "\n",
        "- `\\n` - new line\n",
        "- `\\t` - tab\n",
        "- If you need a quotation mark of the same type as the enclosing ones inside a string, it should be escaped using a backslash (`\\`): `\" \\\" \"` or `' \\' '`.\n",
        "\n",
        "- You can read more at https://en.wikipedia.org/wiki/Escape_character."
      ]
    },
    {
      "cell_type": "markdown",
      "id": "72a5d34c",
      "metadata": {
        "id": "72a5d34c"
      },
      "source": [
        "#### Exercise (3 min)\n",
        "\n",
        "Replace `<x>` and `<y>` with your own words and run the following code:\n",
        "```python\n",
        "print(\"<x>\")\n",
        "print('<x>')\n",
        "print(\"<x> \\t <y>\")\n",
        "print(\"<x> \\n <y>\")\n",
        "print(\"<x> \" <y>\") # raises error\n",
        "print(\"<x> \\\"<y>\") # error fix\n",
        "print('<x> ' <y>') # raises error\n",
        "print('<x> \\' <y>') # error fix\n",
        "print(\"<x> ' <y>\") # another error fix\n",
        "print(\"<x> \\\\ <y>\")\n",
        "```"
      ]
    },
    {
      "cell_type": "code",
      "execution_count": null,
      "id": "e7a9842a",
      "metadata": {
        "id": "e7a9842a",
        "colab": {
          "base_uri": "https://localhost:8080/"
        },
        "outputId": "11e987f0-0f6a-4e4b-ed39-e95e4fb45f6e"
      },
      "outputs": [
        {
          "output_type": "stream",
          "name": "stdout",
          "text": [
            "cat\n",
            "cat\n",
            "cat \t dog\n",
            "cat \n",
            " dog\n"
          ]
        }
      ],
      "source": [
        "print(\"cat\")\n",
        "print('cat')\n",
        "print(\"cat \\t dog\")\n",
        "print(\"cat \\n dog\")"
      ]
    },
    {
      "cell_type": "code",
      "source": [
        "print(\"cat \\\\ dog \")"
      ],
      "metadata": {
        "colab": {
          "base_uri": "https://localhost:8080/"
        },
        "id": "8_Y8j2NndU9k",
        "outputId": "eb485686-e335-4e56-e75d-1cb5403430c5"
      },
      "id": "8_Y8j2NndU9k",
      "execution_count": null,
      "outputs": [
        {
          "output_type": "stream",
          "name": "stdout",
          "text": [
            "cat \\ dog \n"
          ]
        }
      ]
    },
    {
      "cell_type": "code",
      "execution_count": null,
      "id": "NnSubeRvztrN",
      "metadata": {
        "id": "NnSubeRvztrN"
      },
      "outputs": [],
      "source": []
    },
    {
      "cell_type": "code",
      "source": [],
      "metadata": {
        "id": "YQE6HUf9KOiF"
      },
      "id": "YQE6HUf9KOiF",
      "execution_count": null,
      "outputs": []
    },
    {
      "cell_type": "code",
      "source": [],
      "metadata": {
        "id": "W-72E450KZZ-"
      },
      "id": "W-72E450KZZ-",
      "execution_count": null,
      "outputs": []
    },
    {
      "cell_type": "markdown",
      "id": "4448515d",
      "metadata": {
        "id": "4448515d"
      },
      "source": [
        "Declare a variable with string `\"<x>, <y>\"` and print it."
      ]
    },
    {
      "cell_type": "code",
      "execution_count": null,
      "id": "aea3ac0f",
      "metadata": {
        "id": "aea3ac0f",
        "colab": {
          "base_uri": "https://localhost:8080/"
        },
        "outputId": "bbc251c0-a6dd-4870-b3b2-6ecc5baffe85"
      },
      "outputs": [
        {
          "output_type": "stream",
          "name": "stdout",
          "text": [
            "cat, dog\n"
          ]
        }
      ],
      "source": [
        "s = \"cat, dog\"\n",
        "print(s)"
      ]
    },
    {
      "cell_type": "markdown",
      "id": "499947ee",
      "metadata": {
        "id": "499947ee"
      },
      "source": [
        "Fix the error:\n",
        "    \n",
        "```python\n",
        "print('<x> ' <y>')\n",
        "print(\" <x> \" <y> ' <z>\")\n",
        "```"
      ]
    },
    {
      "cell_type": "code",
      "execution_count": null,
      "id": "05873024",
      "metadata": {
        "id": "05873024",
        "colab": {
          "base_uri": "https://localhost:8080/"
        },
        "outputId": "fda7e81f-7566-4a39-a0e9-99f018392866"
      },
      "outputs": [
        {
          "output_type": "stream",
          "name": "stdout",
          "text": [
            " cat \" dog ' cow\n"
          ]
        }
      ],
      "source": [
        "print(\" cat \\\" dog ' cow\")"
      ]
    },
    {
      "cell_type": "markdown",
      "id": "2c4e5e5a",
      "metadata": {
        "id": "2c4e5e5a"
      },
      "source": [
        "#### String operations and methods\n",
        "Strings can be concatenated using the `+` sign:\n",
        "```python\n",
        "\"Hello\" + \", world!\"\n",
        "```"
      ]
    },
    {
      "cell_type": "code",
      "execution_count": null,
      "id": "da16ebb3",
      "metadata": {
        "id": "da16ebb3",
        "colab": {
          "base_uri": "https://localhost:8080/",
          "height": 35
        },
        "outputId": "63e028e9-831e-4fb1-9387-cde7851e99bd"
      },
      "outputs": [
        {
          "output_type": "execute_result",
          "data": {
            "text/plain": [
              "'Hello, world!'"
            ],
            "application/vnd.google.colaboratory.intrinsic+json": {
              "type": "string"
            }
          },
          "metadata": {},
          "execution_count": 28
        }
      ],
      "source": [
        "\"Hello\" + \", world!\""
      ]
    },
    {
      "cell_type": "markdown",
      "id": "4356227e",
      "metadata": {
        "id": "4356227e"
      },
      "source": [
        "or you can use a `.join()` __method__:\n",
        "\n",
        "```python\n",
        "\"\".join([\"Hello\", \", world\"])\n",
        "```\n",
        "\n",
        "__Method__ is like function but dedicated to data of specific type. In this case, the `join` method of an empty string (`\"\"`) is called to concatenate the strings in a __list__ with the empty string as a delimiter.\n",
        "\n",
        "__List__ is a basic data structure in Python to represent a collection of items, defined by a pair of square brackets (`[]`). We will get back to it tomorrow."
      ]
    },
    {
      "cell_type": "code",
      "execution_count": null,
      "id": "46b90095",
      "metadata": {
        "id": "46b90095",
        "colab": {
          "base_uri": "https://localhost:8080/",
          "height": 35
        },
        "outputId": "e16597f9-6a56-43ab-fe09-dbde5b4f5dac"
      },
      "outputs": [
        {
          "output_type": "execute_result",
          "data": {
            "text/plain": [
              "'Hello, world'"
            ],
            "application/vnd.google.colaboratory.intrinsic+json": {
              "type": "string"
            }
          },
          "metadata": {},
          "execution_count": 31
        }
      ],
      "source": [
        "\"\".join([\"Hello\", \", world\"])"
      ]
    },
    {
      "cell_type": "markdown",
      "id": "51d628dd",
      "metadata": {
        "id": "51d628dd"
      },
      "source": [
        "You can also format a string by replacing curly brackets (`{}`) with a value using a `.format()` method.\n",
        "\n",
        "```python\n",
        "print(\"{} + {} = {}\".format(2, 2, 2 + 2))\n",
        "print(\"Discount: ${val:.2f}\".format(val=2))\n",
        "```"
      ]
    },
    {
      "cell_type": "code",
      "execution_count": null,
      "id": "8e1e93dd",
      "metadata": {
        "id": "8e1e93dd",
        "colab": {
          "base_uri": "https://localhost:8080/"
        },
        "outputId": "9a7f0c3a-54e7-47f2-840e-d184351f33f3"
      },
      "outputs": [
        {
          "output_type": "stream",
          "name": "stdout",
          "text": [
            "2 + 2 = 4\n",
            "Discount: $2.00\n"
          ]
        }
      ],
      "source": [
        "print(\"{} + {} = {}\".format(2, 2, 2 + 2))\n",
        "print(\"Discount: ${val:.2f}\".format(val=2))"
      ]
    },
    {
      "cell_type": "code",
      "source": [],
      "metadata": {
        "id": "PMEHnAowLy34"
      },
      "id": "PMEHnAowLy34",
      "execution_count": null,
      "outputs": []
    },
    {
      "cell_type": "markdown",
      "id": "250e2d16",
      "metadata": {
        "id": "250e2d16"
      },
      "source": [
        "White spaces at the beginning or the end of the string can be removed using `.strip()` method.\n",
        "\n",
        "```python\n",
        "\"   asdfasdfascv   \".strip()\n",
        "```\n",
        "\n",
        "You can also count the number of occurrences of a substring using `.count()` method:\n",
        "\n",
        "```python\n",
        "\"   asdfasdfascv   \".count('as')\n",
        "```"
      ]
    },
    {
      "cell_type": "code",
      "execution_count": null,
      "id": "283cda64",
      "metadata": {
        "id": "283cda64",
        "colab": {
          "base_uri": "https://localhost:8080/",
          "height": 35
        },
        "outputId": "bb66cce3-e637-4a87-ba96-cea607c5591b"
      },
      "outputs": [
        {
          "output_type": "execute_result",
          "data": {
            "text/plain": [
              "'asdfasdfascv'"
            ],
            "application/vnd.google.colaboratory.intrinsic+json": {
              "type": "string"
            }
          },
          "metadata": {},
          "execution_count": 35
        }
      ],
      "source": [
        "\"   asdfasdfascv   \".strip()"
      ]
    },
    {
      "cell_type": "code",
      "execution_count": null,
      "id": "b7287ce4",
      "metadata": {
        "id": "b7287ce4",
        "colab": {
          "base_uri": "https://localhost:8080/"
        },
        "outputId": "b491a41e-542d-466a-bc74-7bcf1d4290b0"
      },
      "outputs": [
        {
          "output_type": "execute_result",
          "data": {
            "text/plain": [
              "3"
            ]
          },
          "metadata": {},
          "execution_count": 36
        }
      ],
      "source": [
        "\"   asdfasdfascv   \".count(\"as\")"
      ]
    },
    {
      "cell_type": "markdown",
      "id": "a4452353",
      "metadata": {
        "id": "a4452353"
      },
      "source": [
        "#### Exercise (5 min).\n",
        "\n",
        "1) Create and print variables:\n",
        "```python\n",
        "s1 = \"\\t <x> <y> <z> \\n\"\n",
        "s2 = \"\\n \\n <x1> <y1> \\n\"\n",
        "```\n",
        "replace `<x>`, `<y>`, `<z>`, `<x1>`, `<y1>` is your own word.\n",
        "\n",
        "Hint:\n",
        "`s = \"a b\"` - declaring variable s of string type."
      ]
    },
    {
      "cell_type": "code",
      "execution_count": null,
      "id": "a4c77719",
      "metadata": {
        "id": "a4c77719"
      },
      "outputs": [],
      "source": [
        "s1 = \"\\t cat dog cow \\n\"\n",
        "s2 = \"\\n \\n rabbit bird \\n\""
      ]
    },
    {
      "cell_type": "markdown",
      "id": "97a00725",
      "metadata": {
        "id": "97a00725"
      },
      "source": [
        "2) \"Strip\" `s1` and `s2` and save them in variables `s3` and `s4`\n",
        "\n",
        "Hint: `s.strip()` - remove white spaces from beginning and ending of `s`."
      ]
    },
    {
      "cell_type": "code",
      "execution_count": null,
      "id": "2500bd17",
      "metadata": {
        "id": "2500bd17"
      },
      "outputs": [],
      "source": [
        "s3 = s1.strip()\n",
        "s4 = s2.strip()"
      ]
    },
    {
      "cell_type": "markdown",
      "id": "5b6b6c8d",
      "metadata": {
        "id": "5b6b6c8d"
      },
      "source": [
        "3) Count the number of spaces in `s1` and `s3` using the `.count()` method.\n",
        "\n",
        "Hint: `s.count('a')` - find the number of appearance of substring `'a'` in `s`."
      ]
    },
    {
      "cell_type": "code",
      "execution_count": null,
      "id": "cec77a53",
      "metadata": {
        "id": "cec77a53",
        "colab": {
          "base_uri": "https://localhost:8080/"
        },
        "outputId": "896e8ee8-a2d2-4312-a9a8-a1ed8551e59f"
      },
      "outputs": [
        {
          "output_type": "execute_result",
          "data": {
            "text/plain": [
              "4"
            ]
          },
          "metadata": {},
          "execution_count": 39
        }
      ],
      "source": [
        "s1.count(' ')"
      ]
    },
    {
      "cell_type": "code",
      "source": [
        "s3.count(' ')"
      ],
      "metadata": {
        "colab": {
          "base_uri": "https://localhost:8080/"
        },
        "id": "lNH9M5sSQaB-",
        "outputId": "547d0bb2-3ebc-4a8b-f1ce-c4ee3507034c"
      },
      "id": "lNH9M5sSQaB-",
      "execution_count": null,
      "outputs": [
        {
          "output_type": "execute_result",
          "data": {
            "text/plain": [
              "2"
            ]
          },
          "metadata": {},
          "execution_count": 41
        }
      ]
    },
    {
      "cell_type": "code",
      "source": [
        "s3"
      ],
      "metadata": {
        "colab": {
          "base_uri": "https://localhost:8080/",
          "height": 35
        },
        "id": "r8TZywG0hnMl",
        "outputId": "36257823-b2a3-4c54-a430-6732f12e7893"
      },
      "id": "r8TZywG0hnMl",
      "execution_count": null,
      "outputs": [
        {
          "output_type": "execute_result",
          "data": {
            "text/plain": [
              "'cat dog cow'"
            ],
            "application/vnd.google.colaboratory.intrinsic+json": {
              "type": "string"
            }
          },
          "metadata": {},
          "execution_count": 42
        }
      ]
    },
    {
      "cell_type": "markdown",
      "id": "95c4aee0",
      "metadata": {
        "id": "95c4aee0"
      },
      "source": [
        "4) Concatenate `s1` and `s2`, then print it."
      ]
    },
    {
      "cell_type": "code",
      "execution_count": null,
      "id": "1e2598a6",
      "metadata": {
        "id": "1e2598a6",
        "colab": {
          "base_uri": "https://localhost:8080/"
        },
        "outputId": "89382c05-b5c8-43c4-f298-8ea82fb83379"
      },
      "outputs": [
        {
          "output_type": "stream",
          "name": "stdout",
          "text": [
            "\t cat dog cow \n",
            "\n",
            " \n",
            " rabbit bird \n",
            "\n"
          ]
        }
      ],
      "source": [
        "print(s1 + s2)"
      ]
    },
    {
      "cell_type": "markdown",
      "id": "3419131b",
      "metadata": {
        "id": "3419131b"
      },
      "source": [
        "5) Concatenate `s3` and `s4`, then print it."
      ]
    },
    {
      "cell_type": "code",
      "execution_count": null,
      "id": "6b3e9f49",
      "metadata": {
        "id": "6b3e9f49",
        "colab": {
          "base_uri": "https://localhost:8080/"
        },
        "outputId": "4e7049e7-7d06-4596-9cab-7afed14c412d"
      },
      "outputs": [
        {
          "output_type": "stream",
          "name": "stdout",
          "text": [
            "cat dog cowrabbit bird\n"
          ]
        }
      ],
      "source": [
        "print(s3 + s4)"
      ]
    },
    {
      "cell_type": "code",
      "source": [
        "print(\" \".join([s3, s4]))"
      ],
      "metadata": {
        "colab": {
          "base_uri": "https://localhost:8080/"
        },
        "id": "AmAbAquth3ic",
        "outputId": "6b71a423-33df-4bc5-fbc2-c7af452d423d"
      },
      "id": "AmAbAquth3ic",
      "execution_count": null,
      "outputs": [
        {
          "output_type": "stream",
          "name": "stdout",
          "text": [
            "cat dog cow rabbit bird\n"
          ]
        }
      ]
    },
    {
      "cell_type": "markdown",
      "id": "32e352f0",
      "metadata": {
        "id": "32e352f0"
      },
      "source": [
        "### Numbers\n",
        "\n",
        "There are three types of numbers: integers (`int`), floating-point (`float`), and  complex (`complex`) numbers.\n",
        "\n",
        "Integers are for whole numbers.\n",
        "\n",
        "```python\n",
        "x = 1000\n",
        "````\n",
        "\n",
        "Floating-point numbers are for real values that are not integers:\n",
        "\n",
        "```python\n",
        "y = 1.1\n",
        "z = 5e-6\n",
        "```\n",
        "\n",
        "For complex numbers, `j` is used for the imaginary unit ($\\sqrt{-1}$):\n",
        "\n",
        "```python\n",
        "w = 0.3 + 7.1j\n",
        "```\n",
        "\n",
        "We will mainly deal with integers and floating-point numbers in this course."
      ]
    },
    {
      "cell_type": "code",
      "execution_count": null,
      "id": "294415b0",
      "metadata": {
        "id": "294415b0"
      },
      "outputs": [],
      "source": [
        "x = 1000\n",
        "y = 1.1\n",
        "z = 5e-6"
      ]
    },
    {
      "cell_type": "markdown",
      "id": "b75216c3",
      "metadata": {
        "id": "b75216c3"
      },
      "source": [
        "#### Arithmetic operations\n",
        "\n",
        "- `+`, `-`\n",
        "- `*` - multiplication\n",
        "- `**` - exponentiation\n",
        "- `/` - numeric division, the result is `float`\n",
        "- `//` - integer division, the result is in whole number\n",
        "- `%` - modulo operation\n",
        "- `()` - priority\n"
      ]
    },
    {
      "cell_type": "code",
      "execution_count": null,
      "id": "fde07690",
      "metadata": {
        "id": "fde07690",
        "colab": {
          "base_uri": "https://localhost:8080/"
        },
        "outputId": "92656c48-e464-4107-aec6-78de062ec35a"
      },
      "outputs": [
        {
          "output_type": "execute_result",
          "data": {
            "text/plain": [
              "12"
            ]
          },
          "metadata": {},
          "execution_count": 47
        }
      ],
      "source": [
        "5 + 7"
      ]
    },
    {
      "cell_type": "code",
      "execution_count": null,
      "id": "635e2b8c",
      "metadata": {
        "id": "635e2b8c",
        "colab": {
          "base_uri": "https://localhost:8080/"
        },
        "outputId": "0f7c885e-18a1-4f1f-c12f-05e0e575c858"
      },
      "outputs": [
        {
          "output_type": "execute_result",
          "data": {
            "text/plain": [
              "89"
            ]
          },
          "metadata": {},
          "execution_count": 48
        }
      ],
      "source": [
        "5 + 7 * 12"
      ]
    },
    {
      "cell_type": "code",
      "execution_count": null,
      "id": "76e25ffb",
      "metadata": {
        "id": "76e25ffb",
        "colab": {
          "base_uri": "https://localhost:8080/"
        },
        "outputId": "6323aa8b-4266-4e8e-e8d9-3bb080881350"
      },
      "outputs": [
        {
          "output_type": "execute_result",
          "data": {
            "text/plain": [
              "9"
            ]
          },
          "metadata": {},
          "execution_count": 49
        }
      ],
      "source": [
        "3 ** 2"
      ]
    },
    {
      "cell_type": "markdown",
      "id": "ba5bb7f0",
      "metadata": {
        "id": "ba5bb7f0"
      },
      "source": [
        "Integer division (quotient) is a floor function of division. Floor function of x gives the largest integer less than or equal to x. _Integer division between `int` gives another integer._\n",
        "\n",
        "```python\n",
        "5 // 3\n",
        "```\n",
        "    1\n",
        "    \n",
        "\n",
        "Modulo operation gives a remainder of division.\n",
        "Remainder is an integer.\n",
        "\n",
        "```python\n",
        "5 % 3\n",
        "```\n",
        "    2\n",
        "\n",
        "\n",
        "Numeric division of two gives mathematical division, numeric division between integers does not result in an integer!\n",
        "```python\n",
        "5 / 3\n",
        "```\n",
        "    1.6666666666666667\n",
        "    \n",
        "This result is a `float`."
      ]
    },
    {
      "cell_type": "code",
      "execution_count": null,
      "id": "nrlGpk0x8O1a",
      "metadata": {
        "id": "nrlGpk0x8O1a",
        "colab": {
          "base_uri": "https://localhost:8080/"
        },
        "outputId": "5111897f-80bb-4321-f954-5958f85f11a8"
      },
      "outputs": [
        {
          "output_type": "execute_result",
          "data": {
            "text/plain": [
              "1.6666666666666667"
            ]
          },
          "metadata": {},
          "execution_count": 52
        }
      ],
      "source": [
        "5 / 3"
      ]
    },
    {
      "cell_type": "markdown",
      "id": "81b59351",
      "metadata": {
        "id": "81b59351"
      },
      "source": [
        "#### Exercise.\n",
        "Run the following code.\n",
        "```python\n",
        "x = 5\n",
        "x + 5\n",
        "print(x)\n",
        "```"
      ]
    },
    {
      "cell_type": "code",
      "execution_count": null,
      "id": "6dfbf9d9",
      "metadata": {
        "id": "6dfbf9d9",
        "colab": {
          "base_uri": "https://localhost:8080/"
        },
        "outputId": "cd7b4fb8-6e06-4155-e772-8428bce86f13"
      },
      "outputs": [
        {
          "output_type": "stream",
          "name": "stdout",
          "text": [
            "5\n"
          ]
        }
      ],
      "source": [
        "x = 5\n",
        "x + 5\n",
        "print(x)\n"
      ]
    },
    {
      "cell_type": "markdown",
      "id": "0d9d2406",
      "metadata": {
        "id": "0d9d2406"
      },
      "source": [
        "Why did not `x` change?\n",
        "\n",
        "You can _reassign_ a variable using the existing value as following:\n",
        "```python\n",
        "x = x + 5\n",
        "print(x)\n",
        "```"
      ]
    },
    {
      "cell_type": "code",
      "execution_count": null,
      "id": "b4b75faa",
      "metadata": {
        "id": "b4b75faa",
        "colab": {
          "base_uri": "https://localhost:8080/"
        },
        "outputId": "aed23997-e27a-48bb-cffc-7e32fa559c97"
      },
      "outputs": [
        {
          "output_type": "stream",
          "name": "stdout",
          "text": [
            "10\n"
          ]
        }
      ],
      "source": [
        "x = x + 5\n",
        "print(x)"
      ]
    },
    {
      "cell_type": "markdown",
      "id": "4e087e1d",
      "metadata": {
        "id": "4e087e1d"
      },
      "source": [
        "Operator `+=` is for adding and reassign: `x += 5` is equivalent to `x = x + 5`. The same goes to `-=`, `*=`, `/=`, etc."
      ]
    },
    {
      "cell_type": "code",
      "execution_count": null,
      "id": "c04692f0",
      "metadata": {
        "id": "c04692f0",
        "colab": {
          "base_uri": "https://localhost:8080/"
        },
        "outputId": "f2911f11-fc4f-45b2-f2ab-c349011aa077"
      },
      "outputs": [
        {
          "output_type": "stream",
          "name": "stdout",
          "text": [
            "15\n"
          ]
        }
      ],
      "source": [
        "x += 5\n",
        "print(x)"
      ]
    },
    {
      "cell_type": "markdown",
      "id": "e5b77bdd",
      "metadata": {
        "id": "e5b77bdd"
      },
      "source": [
        "Now, let's try this.\n",
        "\n",
        "```python\n",
        "print(type(x))\n",
        "x = x + 0.0\n",
        "print(type(x))\n",
        "```"
      ]
    },
    {
      "cell_type": "code",
      "execution_count": null,
      "id": "58199815",
      "metadata": {
        "id": "58199815",
        "colab": {
          "base_uri": "https://localhost:8080/"
        },
        "outputId": "463da017-d807-4eda-be17-fda5d965f723"
      },
      "outputs": [
        {
          "output_type": "stream",
          "name": "stdout",
          "text": [
            "<class 'int'>\n",
            "<class 'float'>\n"
          ]
        }
      ],
      "source": [
        "print(type(x))\n",
        "x = x + 0.0\n",
        "print(type(x))"
      ]
    },
    {
      "cell_type": "code",
      "source": [],
      "metadata": {
        "id": "-2pDICGXSkzV"
      },
      "id": "-2pDICGXSkzV",
      "execution_count": null,
      "outputs": []
    },
    {
      "cell_type": "markdown",
      "id": "8d87048d",
      "metadata": {
        "id": "8d87048d"
      },
      "source": [
        "What happened to `x`? When did it happen?"
      ]
    },
    {
      "cell_type": "markdown",
      "id": "02b9ca2e",
      "metadata": {
        "id": "02b9ca2e"
      },
      "source": [
        "#### Quiz\n",
        "\n",
        "What is the output of the code?\n",
        "```python\n",
        "z = 5\n",
        "z + 11\n",
        "print(z)\n",
        "```\n",
        "\n",
        "- A. 5\n",
        "- B. 11\n",
        "- C. 16"
      ]
    },
    {
      "cell_type": "code",
      "execution_count": null,
      "id": "ivy-sx_39z9A",
      "metadata": {
        "id": "ivy-sx_39z9A",
        "colab": {
          "base_uri": "https://localhost:8080/"
        },
        "outputId": "f42c907f-eda4-400d-de50-22452b48cb5b"
      },
      "outputs": [
        {
          "output_type": "stream",
          "name": "stdout",
          "text": [
            "5\n"
          ]
        }
      ],
      "source": [
        "z = 5\n",
        "z + 11\n",
        "print(z)"
      ]
    },
    {
      "cell_type": "markdown",
      "id": "48073f4f",
      "metadata": {
        "id": "48073f4f"
      },
      "source": [
        "#### Quiz\n",
        "What is the output of the code?\n",
        "```python\n",
        "x = 41\n",
        "z = x + 11\n",
        "x = 80\n",
        "print(z)\n",
        "```\n",
        "\n",
        "- A. 41\n",
        "- B. 52\n",
        "- C. 80\n",
        "- D. 91"
      ]
    },
    {
      "cell_type": "code",
      "execution_count": null,
      "id": "g--3PnXw-K8z",
      "metadata": {
        "id": "g--3PnXw-K8z",
        "colab": {
          "base_uri": "https://localhost:8080/"
        },
        "outputId": "1eb31fb7-1303-4ee6-b353-eb149a9c5409"
      },
      "outputs": [
        {
          "output_type": "stream",
          "name": "stdout",
          "text": [
            "52\n"
          ]
        }
      ],
      "source": [
        "x = 41\n",
        "z = x + 11\n",
        "x = 80\n",
        "print(z)"
      ]
    },
    {
      "cell_type": "markdown",
      "id": "bd8b2577",
      "metadata": {
        "id": "bd8b2577"
      },
      "source": [
        "#### Exercise.\n",
        "\n",
        "Compute the volume and surface area of a sphere with radius 6.\n",
        "\n",
        "Hint.\n",
        "$V = \\frac{4}{3} \\pi r ^3$ for the volume $V$, and $A = 4 \\pi r^2$ for area $A$, where $r$ is the radius."
      ]
    },
    {
      "cell_type": "code",
      "execution_count": null,
      "id": "b4764e31",
      "metadata": {
        "id": "b4764e31"
      },
      "outputs": [],
      "source": [
        "pi = 3.14159265358979\n",
        "r = 6\n",
        "V = 4 / 3 * pi * (r ** 3)\n",
        "A = 4 * pi * (r ** 2)\n"
      ]
    },
    {
      "cell_type": "code",
      "source": [
        "print(\"Volume : {:.2f}\".format(V))\n",
        "print(\"Area : {:.2f}\".format(A))"
      ],
      "metadata": {
        "colab": {
          "base_uri": "https://localhost:8080/"
        },
        "id": "4U1yzoP7Ts51",
        "outputId": "7f4b56d6-6411-4ece-a07e-2bb56bb5955f"
      },
      "id": "4U1yzoP7Ts51",
      "execution_count": null,
      "outputs": [
        {
          "output_type": "stream",
          "name": "stdout",
          "text": [
            "Volume : 904.78\n",
            "Area : 452.39\n"
          ]
        }
      ]
    },
    {
      "cell_type": "markdown",
      "id": "f26a7422",
      "metadata": {
        "id": "f26a7422"
      },
      "source": [
        "### Casting\n",
        "\n",
        "Sometimes, one may need to convert values between types. For example, it is impossible to concatenate a string and a number with a `+` operator. Numbers can be cast to string using `str()` function.\n",
        "\n",
        "Likewise, one may convert a value using `int()` and `float()`.\n"
      ]
    },
    {
      "cell_type": "markdown",
      "id": "85294520",
      "metadata": {
        "id": "85294520"
      },
      "source": [
        "```python\n",
        "\"Discount: $\" + 2 # This is an error.\n",
        "```"
      ]
    },
    {
      "cell_type": "code",
      "execution_count": null,
      "id": "55f4b3a3",
      "metadata": {
        "id": "55f4b3a3",
        "colab": {
          "base_uri": "https://localhost:8080/",
          "height": 144
        },
        "outputId": "546cd268-7a84-4e9b-b62d-ff21e3c20b7e"
      },
      "outputs": [
        {
          "output_type": "error",
          "ename": "TypeError",
          "evalue": "can only concatenate str (not \"int\") to str",
          "traceback": [
            "\u001b[0;31m---------------------------------------------------------------------------\u001b[0m",
            "\u001b[0;31mTypeError\u001b[0m                                 Traceback (most recent call last)",
            "\u001b[0;32m<ipython-input-66-dee8f38b8ec7>\u001b[0m in \u001b[0;36m<cell line: 1>\u001b[0;34m()\u001b[0m\n\u001b[0;32m----> 1\u001b[0;31m \u001b[0;34m\"Discount: $\"\u001b[0m \u001b[0;34m+\u001b[0m \u001b[0;36m2\u001b[0m\u001b[0;34m\u001b[0m\u001b[0;34m\u001b[0m\u001b[0m\n\u001b[0m",
            "\u001b[0;31mTypeError\u001b[0m: can only concatenate str (not \"int\") to str"
          ]
        }
      ],
      "source": [
        "\"Discount: $\" + 2 # This is an error."
      ]
    },
    {
      "cell_type": "markdown",
      "id": "ab1644b7",
      "metadata": {
        "id": "ab1644b7"
      },
      "source": [
        "```python\n",
        "\"Discount: $\" + str(2)\n",
        "```"
      ]
    },
    {
      "cell_type": "code",
      "execution_count": null,
      "id": "f3ef263b",
      "metadata": {
        "id": "f3ef263b",
        "colab": {
          "base_uri": "https://localhost:8080/",
          "height": 35
        },
        "outputId": "5d601b4d-e617-4398-e742-fc16574198c4"
      },
      "outputs": [
        {
          "output_type": "execute_result",
          "data": {
            "text/plain": [
              "'Discount: $2'"
            ],
            "application/vnd.google.colaboratory.intrinsic+json": {
              "type": "string"
            }
          },
          "metadata": {},
          "execution_count": 67
        }
      ],
      "source": [
        "\"Discount: $\" + str(2)"
      ]
    },
    {
      "cell_type": "markdown",
      "id": "59223fd5",
      "metadata": {
        "id": "59223fd5"
      },
      "source": [
        "#### Exercise.\n",
        "- Create one variable of string type and one variable of float type.\n",
        "- Try to concatenate your variables.\n",
        "- Convert float to string using `str()` and concatenate the variables again."
      ]
    },
    {
      "cell_type": "code",
      "execution_count": null,
      "id": "9a9ac45f",
      "metadata": {
        "id": "9a9ac45f",
        "colab": {
          "base_uri": "https://localhost:8080/"
        },
        "outputId": "d780a791-cc46-42d4-a373-f2680ffb577f"
      },
      "outputs": [
        {
          "output_type": "stream",
          "name": "stdout",
          "text": [
            "Average grade points:3.63\n"
          ]
        }
      ],
      "source": [
        "s = \"Average grade points:\"\n",
        "f = 3.63\n",
        "print(s + str(f))"
      ]
    },
    {
      "cell_type": "markdown",
      "id": "7d7c0b70",
      "metadata": {
        "id": "7d7c0b70"
      },
      "source": [
        "### Input and output\n",
        "\n",
        "Let's try some interactive component.\n",
        "\n",
        "`input()` is a function that reads data from user's input as a string."
      ]
    },
    {
      "cell_type": "markdown",
      "id": "e1402415",
      "metadata": {
        "id": "e1402415"
      },
      "source": [
        "```python\n",
        "input()\n",
        "```"
      ]
    },
    {
      "cell_type": "code",
      "execution_count": null,
      "id": "515203e2",
      "metadata": {
        "id": "515203e2",
        "colab": {
          "base_uri": "https://localhost:8080/",
          "height": 53
        },
        "outputId": "470142d6-453a-4536-ade5-a4249bb90648"
      },
      "outputs": [
        {
          "name": "stdout",
          "output_type": "stream",
          "text": [
            "anything\n"
          ]
        },
        {
          "output_type": "execute_result",
          "data": {
            "text/plain": [
              "'anything'"
            ],
            "application/vnd.google.colaboratory.intrinsic+json": {
              "type": "string"
            }
          },
          "metadata": {},
          "execution_count": 70
        }
      ],
      "source": [
        "input()"
      ]
    },
    {
      "cell_type": "markdown",
      "id": "2ffb186d",
      "metadata": {
        "id": "2ffb186d"
      },
      "source": [
        "`input()` can redirect user's input to variables:"
      ]
    },
    {
      "cell_type": "markdown",
      "id": "ba52d0c0",
      "metadata": {
        "id": "ba52d0c0"
      },
      "source": [
        "```python\n",
        "user_input = input()\n",
        "```"
      ]
    },
    {
      "cell_type": "code",
      "execution_count": null,
      "id": "3f78d624",
      "metadata": {
        "id": "3f78d624",
        "colab": {
          "base_uri": "https://localhost:8080/"
        },
        "outputId": "5ace4203-d17e-40ed-f610-3a3930739638"
      },
      "outputs": [
        {
          "name": "stdout",
          "output_type": "stream",
          "text": [
            "hello\n"
          ]
        }
      ],
      "source": [
        "user_input = input()"
      ]
    },
    {
      "cell_type": "code",
      "execution_count": null,
      "id": "DShYMZwCAoFv",
      "metadata": {
        "id": "DShYMZwCAoFv",
        "colab": {
          "base_uri": "https://localhost:8080/",
          "height": 35
        },
        "outputId": "fc2f89d4-acbc-4fc5-a01f-ab7f480d8cc3"
      },
      "outputs": [
        {
          "output_type": "execute_result",
          "data": {
            "text/plain": [
              "'hello'"
            ],
            "application/vnd.google.colaboratory.intrinsic+json": {
              "type": "string"
            }
          },
          "metadata": {},
          "execution_count": 72
        }
      ],
      "source": [
        "user_input"
      ]
    },
    {
      "cell_type": "markdown",
      "id": "41f20164",
      "metadata": {
        "id": "41f20164"
      },
      "source": [
        "`input()` can \"ask questions\":"
      ]
    },
    {
      "cell_type": "markdown",
      "id": "be7ca659",
      "metadata": {
        "id": "be7ca659"
      },
      "source": [
        "```python\n",
        "user_mood = input(\"How are you today?\")\n",
        "```"
      ]
    },
    {
      "cell_type": "code",
      "execution_count": null,
      "id": "194aec09",
      "metadata": {
        "id": "194aec09",
        "colab": {
          "base_uri": "https://localhost:8080/"
        },
        "outputId": "56bda950-0b08-4d2a-8a56-6f63f42bcf61"
      },
      "outputs": [
        {
          "name": "stdout",
          "output_type": "stream",
          "text": [
            "How are you today?good\n"
          ]
        }
      ],
      "source": [
        "user_mood = input(\"How are you today?\")"
      ]
    },
    {
      "cell_type": "code",
      "source": [
        "print(user_mood)"
      ],
      "metadata": {
        "colab": {
          "base_uri": "https://localhost:8080/"
        },
        "id": "if76XLG4Voc1",
        "outputId": "d84a1f87-bf9f-4261-dad8-312155d208a0"
      },
      "id": "if76XLG4Voc1",
      "execution_count": null,
      "outputs": [
        {
          "output_type": "stream",
          "name": "stdout",
          "text": [
            "good\n"
          ]
        }
      ]
    },
    {
      "cell_type": "markdown",
      "id": "af2bc209",
      "metadata": {
        "id": "af2bc209"
      },
      "source": [
        "#### Reading numbers\n",
        "\n",
        "Try running the following cells:"
      ]
    },
    {
      "cell_type": "code",
      "execution_count": null,
      "id": "5374cccb",
      "metadata": {
        "id": "5374cccb",
        "colab": {
          "base_uri": "https://localhost:8080/"
        },
        "outputId": "5f514232-7657-435a-8fc3-383d4c10e851"
      },
      "outputs": [
        {
          "output_type": "stream",
          "name": "stdout",
          "text": [
            "Input any integer: 123\n",
            "123123\n"
          ]
        }
      ],
      "source": [
        "user_int = input(\"Input any integer: \")\n",
        "print(2 * user_int)"
      ]
    },
    {
      "cell_type": "code",
      "execution_count": null,
      "id": "9eb7131c",
      "metadata": {
        "id": "9eb7131c",
        "colab": {
          "base_uri": "https://localhost:8080/",
          "height": 180
        },
        "outputId": "ca2e9dde-3d76-44d2-a747-c30d39571606"
      },
      "outputs": [
        {
          "name": "stdout",
          "output_type": "stream",
          "text": [
            "Input any integer: 123\n"
          ]
        },
        {
          "output_type": "error",
          "ename": "TypeError",
          "evalue": "unsupported operand type(s) for /: 'str' and 'int'",
          "traceback": [
            "\u001b[0;31m---------------------------------------------------------------------------\u001b[0m",
            "\u001b[0;31mTypeError\u001b[0m                                 Traceback (most recent call last)",
            "\u001b[0;32m<ipython-input-79-767fbf92f871>\u001b[0m in \u001b[0;36m<cell line: 2>\u001b[0;34m()\u001b[0m\n\u001b[1;32m      1\u001b[0m \u001b[0muser_int\u001b[0m \u001b[0;34m=\u001b[0m \u001b[0minput\u001b[0m\u001b[0;34m(\u001b[0m\u001b[0;34m\"Input any integer: \"\u001b[0m\u001b[0;34m)\u001b[0m\u001b[0;34m\u001b[0m\u001b[0;34m\u001b[0m\u001b[0m\n\u001b[0;32m----> 2\u001b[0;31m \u001b[0mprint\u001b[0m\u001b[0;34m(\u001b[0m\u001b[0muser_int\u001b[0m \u001b[0;34m/\u001b[0m \u001b[0;36m2\u001b[0m\u001b[0;34m)\u001b[0m\u001b[0;34m\u001b[0m\u001b[0;34m\u001b[0m\u001b[0m\n\u001b[0m",
            "\u001b[0;31mTypeError\u001b[0m: unsupported operand type(s) for /: 'str' and 'int'"
          ]
        }
      ],
      "source": [
        "user_int = input(\"Input any integer: \")\n",
        "print(user_int / 2)"
      ]
    },
    {
      "cell_type": "markdown",
      "id": "fd826472",
      "metadata": {
        "id": "fd826472"
      },
      "source": [
        "`input()` reads in a string. What if we want to get a number from a user?\n",
        "\n",
        "We can convert it to a number with `int()` or `float()` function.\n",
        "\n",
        "You may try:\n",
        "```python\n",
        "user_int = int(input(\"Input any integer: \"))\n",
        "print(2 * user_int)\n",
        "```"
      ]
    },
    {
      "cell_type": "code",
      "execution_count": null,
      "id": "3921c6a0",
      "metadata": {
        "id": "3921c6a0",
        "colab": {
          "base_uri": "https://localhost:8080/"
        },
        "outputId": "e945d61f-4c8c-447a-b876-67446a3dc340"
      },
      "outputs": [
        {
          "output_type": "stream",
          "name": "stdout",
          "text": [
            "Input any integer: 123\n",
            "246\n"
          ]
        }
      ],
      "source": [
        "user_int = int(input(\"Input any integer: \"))\n",
        "print(2 * user_int)"
      ]
    },
    {
      "cell_type": "markdown",
      "id": "8f0d989a",
      "metadata": {
        "id": "8f0d989a"
      },
      "source": [
        "#### Writing output\n",
        "\n",
        "`print()` can output variables of different types to display, if they are separated by commas(`,`).\n",
        "\n",
        "```python\n",
        "print(2)\n",
        "print(2, ' + ', 2, ' = ', 4)\n",
        "a = 2 * 2\n",
        "print('two times two equals', a)\n",
        "```"
      ]
    },
    {
      "cell_type": "code",
      "execution_count": null,
      "id": "97cfac51",
      "metadata": {
        "id": "97cfac51",
        "colab": {
          "base_uri": "https://localhost:8080/"
        },
        "outputId": "3d1a8394-90ff-4113-a615-f04661294e2f"
      },
      "outputs": [
        {
          "output_type": "stream",
          "name": "stdout",
          "text": [
            "2\n",
            "2  +  2  =  4\n"
          ]
        }
      ],
      "source": [
        "print(2)\n",
        "print(2, \" + \", 2, \" = \", 4)"
      ]
    },
    {
      "cell_type": "code",
      "execution_count": null,
      "id": "d33d1542",
      "metadata": {
        "id": "d33d1542",
        "colab": {
          "base_uri": "https://localhost:8080/"
        },
        "outputId": "07cdc921-51fd-4933-8bdd-6413d4001d91"
      },
      "outputs": [
        {
          "output_type": "stream",
          "name": "stdout",
          "text": [
            "two times two equals 4\n"
          ]
        }
      ],
      "source": [
        "a = 2 * 2\n",
        "print('two times two equals', a)"
      ]
    },
    {
      "cell_type": "code",
      "execution_count": null,
      "id": "7f111bb4",
      "metadata": {
        "id": "7f111bb4"
      },
      "outputs": [],
      "source": []
    },
    {
      "cell_type": "markdown",
      "id": "745b00a9",
      "metadata": {
        "id": "745b00a9"
      },
      "source": [
        "As we did before, we can also use formatting:"
      ]
    },
    {
      "cell_type": "markdown",
      "id": "9a17a5d8",
      "metadata": {
        "id": "9a17a5d8"
      },
      "source": [
        "```python\n",
        "print(\"{} + {} = {}\".format(2, 2, 2 + 2))\n",
        "```"
      ]
    },
    {
      "cell_type": "code",
      "execution_count": null,
      "id": "c59e7b3e",
      "metadata": {
        "id": "c59e7b3e",
        "colab": {
          "base_uri": "https://localhost:8080/"
        },
        "outputId": "28398fbd-0e05-4fb9-8467-28e517698b9b"
      },
      "outputs": [
        {
          "output_type": "stream",
          "name": "stdout",
          "text": [
            "2 + 2 = 4\n"
          ]
        }
      ],
      "source": [
        "print(\"{} + {} = {}\".format(2, 2, 2 + 2))"
      ]
    },
    {
      "cell_type": "markdown",
      "id": "fcd1b82a",
      "metadata": {
        "id": "fcd1b82a"
      },
      "source": [
        "As discussed before, floats and integers can be converted to string:\n",
        "```python\n",
        "a = 2.5\n",
        "print(\"'a' has type: \", type(a))\n",
        "b = str(a)\n",
        "print(\"'b' has type: \", type(b))\n",
        "```"
      ]
    },
    {
      "cell_type": "code",
      "execution_count": null,
      "id": "102f9fec",
      "metadata": {
        "id": "102f9fec",
        "colab": {
          "base_uri": "https://localhost:8080/"
        },
        "outputId": "9c3e226b-d2ee-4c80-cc35-ec7e07c4b4d5"
      },
      "outputs": [
        {
          "output_type": "stream",
          "name": "stdout",
          "text": [
            "'a' has type:  <class 'float'>\n",
            "'b' has type:  <class 'str'>\n"
          ]
        }
      ],
      "source": [
        "a = 2.5\n",
        "print(\"'a' has type: \", type(a))\n",
        "b = str(a)\n",
        "print(\"'b' has type: \", type(b))"
      ]
    },
    {
      "cell_type": "markdown",
      "id": "9d900060",
      "metadata": {
        "id": "9d900060"
      },
      "source": [
        "#### Exercise.\n",
        "\n",
        "Write a program that:\n",
        "\n",
        "1. Reads user's sentence\n",
        "1. Counts the number of words (separated by single space(` `)) in the sentence and stores as a variable\n",
        "1. Prints the number of words to the user.\n",
        "    \n",
        "Hint: Use `input()` and `print()` functions. Count the number of spaces with the `.count()` method."
      ]
    },
    {
      "cell_type": "code",
      "source": [
        "message = input(\"input a sentence: \")\n",
        "spaces = message.count(' ')\n",
        "number_of_words = spaces + 1\n",
        "print(\"Number of words: \", number_of_words)"
      ],
      "metadata": {
        "colab": {
          "base_uri": "https://localhost:8080/"
        },
        "id": "0ifKdfXSrVSe",
        "outputId": "35d1d652-f164-43b0-e3ba-2ddcb5a1e379"
      },
      "id": "0ifKdfXSrVSe",
      "execution_count": null,
      "outputs": [
        {
          "output_type": "stream",
          "name": "stdout",
          "text": [
            "input a sentence: Hello my name is Seyoon.\n",
            "Number of words:  5\n"
          ]
        }
      ]
    },
    {
      "cell_type": "markdown",
      "id": "cb9b33f0",
      "metadata": {
        "id": "cb9b33f0"
      },
      "source": [
        "#### Exercise.\n",
        "\n",
        "Write a program that:\n",
        "1. Reads a radius of a sphere from the user;\n",
        "1. Computes volume and surface area of a sphere and stores them in variables;\n",
        "1. Prints volume and surface area for the user.\n",
        "\n",
        "Hint: $V = \\frac{4}{3} \\pi r ^3$ for the volume $V$, and $A = 4 \\pi r^2$ for area $A$, where $r$ is the radius."
      ]
    },
    {
      "cell_type": "code",
      "execution_count": null,
      "id": "8cd15b30",
      "metadata": {
        "id": "8cd15b30",
        "colab": {
          "base_uri": "https://localhost:8080/"
        },
        "outputId": "e982628b-7f54-4736-8871-d40d04cc84cf"
      },
      "outputs": [
        {
          "name": "stdout",
          "output_type": "stream",
          "text": [
            "input radius: 6\n"
          ]
        }
      ],
      "source": [
        "pi = 3.14159265358979\n",
        "r = float(input(\"input radius: \"))\n",
        "V = 4 / 3 * pi * (r ** 3)\n",
        "A = 4 * pi * (r ** 2)"
      ]
    },
    {
      "cell_type": "code",
      "source": [
        "print(V, A)"
      ],
      "metadata": {
        "colab": {
          "base_uri": "https://localhost:8080/"
        },
        "id": "zm0mYA3MsAcf",
        "outputId": "2bd33ef8-88c3-437a-8d9a-c760b869a91a"
      },
      "id": "zm0mYA3MsAcf",
      "execution_count": null,
      "outputs": [
        {
          "output_type": "stream",
          "name": "stdout",
          "text": [
            "904.7786842338594 452.38934211692975\n"
          ]
        }
      ]
    },
    {
      "cell_type": "markdown",
      "id": "d6bc02cd",
      "metadata": {
        "id": "d6bc02cd"
      },
      "source": [
        "#### Exercise. Celcius to Fahrenheit converter\n",
        "\n",
        "_\"Ugh, It's been so hot out lately, why does it have to be 32 degrees...\"_\n",
        "\n",
        "_\"32 degrees? That's freezing!\"_\n",
        "\n",
        "\n",
        "__Input__: A single floating-point number, `C`.\n",
        "\n",
        "__Output__: Output a single floating-point number, `F`, the temperature in degrees Fahrenheit which is equivalent to `C` degrees Celsius.\n",
        "\n",
        "$$\n",
        "F = \\frac{9}{5}  C + 32\n",
        "$$"
      ]
    },
    {
      "cell_type": "code",
      "execution_count": null,
      "id": "54498af4",
      "metadata": {
        "id": "54498af4",
        "colab": {
          "base_uri": "https://localhost:8080/"
        },
        "outputId": "c3f9133c-317c-4ac0-9f5e-f3d5124a80f7"
      },
      "outputs": [
        {
          "output_type": "stream",
          "name": "stdout",
          "text": [
            "Degree in celcius: 0\n",
            "0.0 degrees in celcius is equivalent to 32.0 degrees in fahrenheit.\n"
          ]
        }
      ],
      "source": [
        "C = float(input(\"Degree in celcius: \"))\n",
        "F = 9 / 5 * C + 32.0\n",
        "print(\"{} degrees in celcius is equivalent to {} degrees in fahrenheit.\"\n",
        "  .format(C, F))"
      ]
    },
    {
      "cell_type": "markdown",
      "id": "fe6322af",
      "metadata": {
        "id": "fe6322af"
      },
      "source": [
        "Later, we will learn how to formally write it as a function."
      ]
    },
    {
      "cell_type": "markdown",
      "id": "86faf432",
      "metadata": {
        "id": "86faf432"
      },
      "source": [
        "## Booleans and logical expressions / Decisions\n",
        "\n",
        "### Booleans\n",
        "\n",
        "There is a separate data type for Yes or No, called __boolean__.\n",
        "\n",
        "The two possible values are: `True` or `False`.\n",
        "```python\n",
        "print(type(True))\n",
        "```"
      ]
    },
    {
      "cell_type": "code",
      "execution_count": null,
      "id": "f725fc76",
      "metadata": {
        "id": "f725fc76",
        "colab": {
          "base_uri": "https://localhost:8080/"
        },
        "outputId": "522f360c-03a9-4419-d831-b887ca48ec77"
      },
      "outputs": [
        {
          "output_type": "stream",
          "name": "stdout",
          "text": [
            "<class 'bool'>\n"
          ]
        }
      ],
      "source": [
        "print(type(True))"
      ]
    },
    {
      "cell_type": "code",
      "source": [
        "False"
      ],
      "metadata": {
        "colab": {
          "base_uri": "https://localhost:8080/"
        },
        "id": "IYMKIUobtBR-",
        "outputId": "b6f2a7ea-4f6f-4102-b1f6-0cae901aa39c"
      },
      "id": "IYMKIUobtBR-",
      "execution_count": null,
      "outputs": [
        {
          "output_type": "execute_result",
          "data": {
            "text/plain": [
              "False"
            ]
          },
          "metadata": {},
          "execution_count": 90
        }
      ]
    },
    {
      "cell_type": "markdown",
      "id": "e5de9b06",
      "metadata": {
        "id": "e5de9b06"
      },
      "source": [
        "There are relational operations that return booleans:\n",
        "\n",
        "-  `x < y` -- is `x` less than `y`?\n",
        "- `x <= y` -- is `x` less or equal to `y`?\n",
        "- `x > y` -- is `x` greater than `y`?\n",
        "- `x >= y` -- is `x` greater or equal to `y`?\n",
        "- `x == y` -- is `x` equal to `y`? (not to be confused with the assignment operator `=`)\n",
        "- `x != y` -- is `x` not equal to `y`?\n",
        "\n",
        "```python\n",
        "10 < 15\n",
        "12 > 12\n",
        "\"ab\" >= \"bb\" # in alphabetical order, does \"ab\" come after or is same as \"bb\"?\n",
        "```"
      ]
    },
    {
      "cell_type": "code",
      "execution_count": null,
      "id": "82fcff3b",
      "metadata": {
        "id": "82fcff3b",
        "colab": {
          "base_uri": "https://localhost:8080/"
        },
        "outputId": "827e6dc3-3d8c-4684-8edb-4895117f10b8"
      },
      "outputs": [
        {
          "output_type": "execute_result",
          "data": {
            "text/plain": [
              "True"
            ]
          },
          "metadata": {},
          "execution_count": 91
        }
      ],
      "source": [
        "10 < 15"
      ]
    },
    {
      "cell_type": "code",
      "execution_count": null,
      "id": "6350e0f1",
      "metadata": {
        "id": "6350e0f1",
        "colab": {
          "base_uri": "https://localhost:8080/"
        },
        "outputId": "0df2155e-aa9b-43ac-e610-7aa852e07954"
      },
      "outputs": [
        {
          "output_type": "execute_result",
          "data": {
            "text/plain": [
              "False"
            ]
          },
          "metadata": {},
          "execution_count": 92
        }
      ],
      "source": [
        "12 > 12"
      ]
    },
    {
      "cell_type": "code",
      "execution_count": null,
      "id": "7af6c026",
      "metadata": {
        "id": "7af6c026",
        "colab": {
          "base_uri": "https://localhost:8080/"
        },
        "outputId": "eb312b1e-f040-41af-c471-cae8a6cea9c3"
      },
      "outputs": [
        {
          "output_type": "execute_result",
          "data": {
            "text/plain": [
              "False"
            ]
          },
          "metadata": {},
          "execution_count": 93
        }
      ],
      "source": [
        "\"ab\" >= \"bb\""
      ]
    },
    {
      "cell_type": "markdown",
      "id": "4b1a38e5",
      "metadata": {
        "id": "4b1a38e5"
      },
      "source": [
        "#### Exercise.\n",
        "\n",
        "1. Create and initialize two variables of numerical type `x` and `y`.\n",
        "2. Create a variable `b` that is equal to `x <op> y`, where `<op>` is a relational\n",
        "operation such as `>`, `<`, `==`, `!=`, etc.\n",
        "3. print variable `b`.\n",
        "4. print type of the variable `b`."
      ]
    },
    {
      "cell_type": "code",
      "execution_count": null,
      "id": "fb2661d0",
      "metadata": {
        "id": "fb2661d0",
        "colab": {
          "base_uri": "https://localhost:8080/"
        },
        "outputId": "3c94531a-8d21-4838-ab85-027994fe527b"
      },
      "outputs": [
        {
          "output_type": "stream",
          "name": "stdout",
          "text": [
            "True\n",
            "<class 'bool'>\n"
          ]
        }
      ],
      "source": [
        "x = 17.3\n",
        "y = 94\n",
        "b = x != y\n",
        "print(b)\n",
        "print(type(b))\n"
      ]
    },
    {
      "cell_type": "markdown",
      "id": "13d4883c",
      "metadata": {
        "id": "13d4883c"
      },
      "source": [
        "#### Quiz.\n",
        "\n",
        "What is the output of the following code?\n",
        "```python\n",
        "x = 12\n",
        "b = (x == 5)\n",
        "print(b)\n",
        "```\n",
        "\n",
        "- a) 5\n",
        "- b) 12\n",
        "- c) True\n",
        "- d) False"
      ]
    },
    {
      "cell_type": "code",
      "execution_count": null,
      "id": "tXNDRyV_Kr1p",
      "metadata": {
        "id": "tXNDRyV_Kr1p"
      },
      "outputs": [],
      "source": []
    },
    {
      "cell_type": "markdown",
      "id": "65c4bba4",
      "metadata": {
        "id": "65c4bba4"
      },
      "source": [
        "### If statement\n",
        "\n",
        "If statement can alternate the program flow using booleans.\n",
        "\n",
        "```python\n",
        "if <logical_statement>:\n",
        "    \"this part will be executed if logical_statement is True\"\n",
        "elif <logical_statement_2>: # (optional)\n",
        "    \"this part will be executed if logical_statement is False and logical_statement_2 is True\"\n",
        "else: # (optional)\n",
        "    \"this part will be executed if logical_statement and logical_statement_2 are both False\"\n",
        "```\n",
        "\n",
        "In Python, code blocks for control flow is defined by __indentation__, rather than a set of brackets or `end` keywords. Be careful with indentation levels. It is recommended to use four-space indentation, and some code editors will automatically do that for you."
      ]
    },
    {
      "cell_type": "markdown",
      "id": "4a30f4fa",
      "metadata": {
        "id": "4a30f4fa"
      },
      "source": [
        "```python\n",
        "eagles_total_score = 90\n",
        "tigers_total_score = 97\n",
        "if eagles_total_score > tigers_total_score:\n",
        "    print(\"Eagles win!\")\n",
        "```"
      ]
    },
    {
      "cell_type": "code",
      "execution_count": null,
      "id": "9d7cce98",
      "metadata": {
        "id": "9d7cce98"
      },
      "outputs": [],
      "source": [
        "eagles_total_score = 90\n",
        "tigers_total_score = 97\n",
        "if eagles_total_score > tigers_total_score:\n",
        "    print(\"Eagles win!\")"
      ]
    },
    {
      "cell_type": "markdown",
      "id": "dbfc89ef",
      "metadata": {
        "id": "dbfc89ef"
      },
      "source": [
        "```python\n",
        "eagles_total_score = 90\n",
        "tigers_total_score = 97\n",
        "if eagles_total_score > tigers_total_score:\n",
        "    print(\"Eagles win!\")\n",
        "else:\n",
        "    print(\"Tigers win!\")\n",
        "```"
      ]
    },
    {
      "cell_type": "code",
      "execution_count": null,
      "id": "b221524a",
      "metadata": {
        "id": "b221524a",
        "colab": {
          "base_uri": "https://localhost:8080/"
        },
        "outputId": "ac565390-6986-420e-bbad-e6569c0ed0b1"
      },
      "outputs": [
        {
          "output_type": "stream",
          "name": "stdout",
          "text": [
            "Tigers win!\n"
          ]
        }
      ],
      "source": [
        "eagles_total_score = 90\n",
        "tigers_total_score = 97\n",
        "if eagles_total_score > tigers_total_score:\n",
        "    print(\"Eagles win!\")\n",
        "else:\n",
        "    print(\"Tigers win!\")"
      ]
    },
    {
      "cell_type": "markdown",
      "id": "1389a5ba",
      "metadata": {
        "id": "1389a5ba"
      },
      "source": [
        "#### Exercise (3 min).\n",
        "\n",
        "Write a program that:\n",
        "1. Accepts the user's input for Eagles score\n",
        "2. Accepts the user's input for Tigers score\n",
        "3. Prints the winning team\n",
        "<!--\n",
        "eagles_total_score = int(input(\"Eagles score:\"))\n",
        "tigers_total_score = int(input(\"Tigers score:\"))\n",
        "if eagles_total_score > tigers_total_score:\n",
        "  print(\"Eagles win!\")\n",
        "else:\n",
        "  print(\"Tigers win!\")\n",
        "  -->"
      ]
    },
    {
      "cell_type": "code",
      "execution_count": null,
      "id": "0421ce49",
      "metadata": {
        "id": "0421ce49",
        "colab": {
          "base_uri": "https://localhost:8080/"
        },
        "outputId": "e52f1b7c-9dc8-40fe-9ef7-8183238f7ad1"
      },
      "outputs": [
        {
          "output_type": "stream",
          "name": "stdout",
          "text": [
            "Eagles score: 90\n",
            "Tigers score: 90\n",
            "Tigers win!\n"
          ]
        }
      ],
      "source": [
        "eagles_total_score = float(input(\"Eagles score: \"))\n",
        "tigers_total_score = float(input(\"Tigers score: \"))\n",
        "if eagles_total_score > tigers_total_score:\n",
        "    print(\"Eagles win!\")\n",
        "else:\n",
        "    print(\"Tigers win!\")"
      ]
    },
    {
      "cell_type": "markdown",
      "id": "ad9c3c5d",
      "metadata": {
        "id": "ad9c3c5d"
      },
      "source": [
        "#### Unit tests.\n",
        "- To maintain the quality of the code, each line of the program should work reliably and without errors.\n",
        "- The concept of unit testing allows software developers to make sure that each part of the code is working correctly.\n",
        "- A set of trivial tasks with known answers that allow to prove the correctness of the code is called a set of unit tests.\n"
      ]
    },
    {
      "cell_type": "markdown",
      "id": "5fc8ecdf",
      "metadata": {
        "id": "5fc8ecdf"
      },
      "source": [
        "You need to check with several of your inputs if the code works correctly. Does it work with Eagles 40 points and Tigers 40 points?\n",
        "<!--\n",
        "eagles_total_score = int(input(\"Eagles score:\"))\n",
        "tigers_total_score = int(input(\"Tigers score:\"))\n",
        "if eagles_total_score > tigers_total_score:\n",
        "  print(\"Eagles win!\")\n",
        "elif tigers_total_score > eagles_total_score:\n",
        "  print(\"Tigers win!\")\n",
        "else:\n",
        "  print(\"Tie\")\n",
        "-->"
      ]
    },
    {
      "cell_type": "code",
      "execution_count": null,
      "id": "44cb2a38",
      "metadata": {
        "id": "44cb2a38",
        "colab": {
          "base_uri": "https://localhost:8080/"
        },
        "outputId": "03158b1c-96e1-4822-85ec-3aae51ebffd0"
      },
      "outputs": [
        {
          "output_type": "stream",
          "name": "stdout",
          "text": [
            "Eagles score: 40\n",
            "Tigers score: 40\n",
            "It's a tie!\n"
          ]
        }
      ],
      "source": [
        "eagles_total_score = float(input(\"Eagles score: \"))\n",
        "tigers_total_score = float(input(\"Tigers score: \"))\n",
        "if eagles_total_score > tigers_total_score:\n",
        "    print(\"Eagles win!\")\n",
        "elif tigers_total_score> eagles_total_score:\n",
        "    print(\"Tigers win!\")\n",
        "else:\n",
        "    print(\"It's a tie!\")"
      ]
    },
    {
      "cell_type": "markdown",
      "id": "c24409bb",
      "metadata": {
        "id": "c24409bb"
      },
      "source": [
        "Since indentations matter in Python, there is a keyword `pass` that does nothing in the code block."
      ]
    },
    {
      "cell_type": "code",
      "execution_count": null,
      "id": "d8c70600",
      "metadata": {
        "id": "d8c70600",
        "colab": {
          "base_uri": "https://localhost:8080/"
        },
        "outputId": "b1c918a7-655b-4c16-d79c-de4fbd0f1df6"
      },
      "outputs": [
        {
          "output_type": "stream",
          "name": "stdout",
          "text": [
            "false\n"
          ]
        }
      ],
      "source": [
        "if 1 > 2:\n",
        "  pass\n",
        "else:\n",
        "  print(\"false\")\n"
      ]
    },
    {
      "cell_type": "markdown",
      "id": "2d55aa4d",
      "metadata": {
        "id": "2d55aa4d"
      },
      "source": [
        "#### Quiz.\n",
        "What does this program print?\n",
        "```python\n",
        "a = 17\n",
        "if a > 12:\n",
        "    a = 1\n",
        "if a <= 12:\n",
        "    a = 3\n",
        "else:\n",
        "    a = 2\n",
        "print(a)\n",
        "```\n",
        "- A. 1\n",
        "- B. 2\n",
        "- C. 3\n",
        "- D. 12\n",
        "- E. 17"
      ]
    },
    {
      "cell_type": "code",
      "execution_count": null,
      "id": "sCu76I4VNGgL",
      "metadata": {
        "id": "sCu76I4VNGgL",
        "colab": {
          "base_uri": "https://localhost:8080/"
        },
        "outputId": "8a7434bc-754e-40b2-c4ec-c753dec9bdf8"
      },
      "outputs": [
        {
          "output_type": "stream",
          "name": "stdout",
          "text": [
            "3\n"
          ]
        }
      ],
      "source": [
        "a = 17\n",
        "if a > 12:\n",
        "    a = 1\n",
        "if a <= 12:\n",
        "    a = 3\n",
        "else:\n",
        "    a = 2\n",
        "print(a)"
      ]
    },
    {
      "cell_type": "markdown",
      "id": "e311879d",
      "metadata": {
        "id": "e311879d"
      },
      "source": [
        "### Boolean Operators: or, and, not\n",
        "\n",
        "| `a` | `b` | `a or b` | `a and b` |\n",
        "|:---:|:---:|:---:|:---:|\n",
        "| `False` | `False` | `False` | `False` |\n",
        "| `False` | `True` |  `True` | `False` |\n",
        "| `True` | `False` | `True` | `False` |\n",
        "| `True` | `True` | `True` | `True` |\n",
        "\n",
        "| `a` | `not a` |\n",
        "|:---:|:---:|\n",
        "| `False` | `True` |\n",
        "| `True` | `False`\n",
        "\n",
        "- `and` has higher priority than `or`\n",
        "- `not` has higher priority than `and`\n",
        "- `()` can be used to change the priority"
      ]
    },
    {
      "cell_type": "code",
      "execution_count": null,
      "id": "9f6beb79",
      "metadata": {
        "id": "9f6beb79",
        "colab": {
          "base_uri": "https://localhost:8080/"
        },
        "outputId": "fde0da0a-830a-4c75-967c-747fe4778ba3"
      },
      "outputs": [
        {
          "output_type": "execute_result",
          "data": {
            "text/plain": [
              "False"
            ]
          },
          "metadata": {},
          "execution_count": 105
        }
      ],
      "source": [
        "True and False"
      ]
    },
    {
      "cell_type": "code",
      "execution_count": null,
      "id": "ec5356d9",
      "metadata": {
        "id": "ec5356d9",
        "colab": {
          "base_uri": "https://localhost:8080/"
        },
        "outputId": "394010ae-70f1-4409-f947-7c719fdb7401"
      },
      "outputs": [
        {
          "output_type": "execute_result",
          "data": {
            "text/plain": [
              "True"
            ]
          },
          "metadata": {},
          "execution_count": 106
        }
      ],
      "source": [
        "True or False"
      ]
    },
    {
      "cell_type": "code",
      "execution_count": null,
      "id": "fefb0f58",
      "metadata": {
        "id": "fefb0f58",
        "colab": {
          "base_uri": "https://localhost:8080/"
        },
        "outputId": "bc545981-ac3a-497f-8c0f-3948c895a6f9"
      },
      "outputs": [
        {
          "output_type": "execute_result",
          "data": {
            "text/plain": [
              "True"
            ]
          },
          "metadata": {},
          "execution_count": 107
        }
      ],
      "source": [
        "True or True and False"
      ]
    },
    {
      "cell_type": "code",
      "execution_count": null,
      "id": "15f65bf6",
      "metadata": {
        "id": "15f65bf6",
        "colab": {
          "base_uri": "https://localhost:8080/"
        },
        "outputId": "f58abb48-f38d-4e6a-a177-2a8119e7df62"
      },
      "outputs": [
        {
          "output_type": "execute_result",
          "data": {
            "text/plain": [
              "True"
            ]
          },
          "metadata": {},
          "execution_count": 108
        }
      ],
      "source": [
        "True or (True and False)"
      ]
    },
    {
      "cell_type": "code",
      "execution_count": null,
      "id": "6d34dcba",
      "metadata": {
        "id": "6d34dcba",
        "colab": {
          "base_uri": "https://localhost:8080/"
        },
        "outputId": "2f97e7af-c4ee-455c-e501-d613ced60732"
      },
      "outputs": [
        {
          "output_type": "execute_result",
          "data": {
            "text/plain": [
              "False"
            ]
          },
          "metadata": {},
          "execution_count": 109
        }
      ],
      "source": [
        "(True or True) and False"
      ]
    },
    {
      "cell_type": "code",
      "execution_count": null,
      "id": "ee53c011",
      "metadata": {
        "id": "ee53c011",
        "colab": {
          "base_uri": "https://localhost:8080/"
        },
        "outputId": "66968b08-870c-4fc2-9cbb-366b21635d99"
      },
      "outputs": [
        {
          "output_type": "execute_result",
          "data": {
            "text/plain": [
              "False"
            ]
          },
          "metadata": {},
          "execution_count": 110
        }
      ],
      "source": [
        "not True"
      ]
    },
    {
      "cell_type": "code",
      "execution_count": null,
      "id": "0bc43e75",
      "metadata": {
        "id": "0bc43e75",
        "colab": {
          "base_uri": "https://localhost:8080/"
        },
        "outputId": "4e8f9835-a289-4721-e1c8-cba03c68f7de"
      },
      "outputs": [
        {
          "output_type": "execute_result",
          "data": {
            "text/plain": [
              "False"
            ]
          },
          "metadata": {},
          "execution_count": 111
        }
      ],
      "source": [
        "(5 > 4) and (5 <= 4)"
      ]
    },
    {
      "cell_type": "code",
      "execution_count": null,
      "id": "913105c2",
      "metadata": {
        "id": "913105c2",
        "colab": {
          "base_uri": "https://localhost:8080/"
        },
        "outputId": "76235f9f-722c-403d-902d-7f908bfa293e"
      },
      "outputs": [
        {
          "output_type": "execute_result",
          "data": {
            "text/plain": [
              "True"
            ]
          },
          "metadata": {},
          "execution_count": 112
        }
      ],
      "source": [
        "(5 > 4) or (5 <= 4)"
      ]
    },
    {
      "cell_type": "code",
      "execution_count": null,
      "id": "df464b99",
      "metadata": {
        "id": "df464b99",
        "colab": {
          "base_uri": "https://localhost:8080/"
        },
        "outputId": "32b295b7-61e0-4711-e3bd-d83e8c38e713"
      },
      "outputs": [
        {
          "output_type": "execute_result",
          "data": {
            "text/plain": [
              "True"
            ]
          },
          "metadata": {},
          "execution_count": 113
        }
      ],
      "source": [
        "(5 > 4) or (5 <= 4) and (5 <= 4)"
      ]
    },
    {
      "cell_type": "code",
      "execution_count": null,
      "id": "b2345c42",
      "metadata": {
        "id": "b2345c42",
        "colab": {
          "base_uri": "https://localhost:8080/"
        },
        "outputId": "66400dbd-4962-4d9d-8e7e-8c3ad413c47d"
      },
      "outputs": [
        {
          "output_type": "execute_result",
          "data": {
            "text/plain": [
              "False"
            ]
          },
          "metadata": {},
          "execution_count": 114
        }
      ],
      "source": [
        "((5 > 4) or (5 <= 4)) and (5 <= 4)"
      ]
    },
    {
      "cell_type": "code",
      "execution_count": null,
      "id": "7b17cb0e",
      "metadata": {
        "id": "7b17cb0e",
        "colab": {
          "base_uri": "https://localhost:8080/"
        },
        "outputId": "6606cdb2-121c-4ff9-92b8-64c9984092a7"
      },
      "outputs": [
        {
          "output_type": "execute_result",
          "data": {
            "text/plain": [
              "False"
            ]
          },
          "metadata": {},
          "execution_count": 115
        }
      ],
      "source": [
        "not True and False"
      ]
    },
    {
      "cell_type": "code",
      "execution_count": null,
      "id": "c95f470e",
      "metadata": {
        "id": "c95f470e",
        "colab": {
          "base_uri": "https://localhost:8080/"
        },
        "outputId": "8aed8334-89bf-482c-d7c4-a2761d00cf25"
      },
      "outputs": [
        {
          "output_type": "execute_result",
          "data": {
            "text/plain": [
              "False"
            ]
          },
          "metadata": {},
          "execution_count": 116
        }
      ],
      "source": [
        "(not True) and False"
      ]
    },
    {
      "cell_type": "code",
      "execution_count": null,
      "id": "4d8d6d0d",
      "metadata": {
        "id": "4d8d6d0d",
        "colab": {
          "base_uri": "https://localhost:8080/"
        },
        "outputId": "d899f936-7b46-4231-b34c-6f05f810f24c"
      },
      "outputs": [
        {
          "output_type": "execute_result",
          "data": {
            "text/plain": [
              "True"
            ]
          },
          "metadata": {},
          "execution_count": 117
        }
      ],
      "source": [
        "not (True and False)"
      ]
    },
    {
      "cell_type": "markdown",
      "id": "36c9d337",
      "metadata": {
        "id": "36c9d337"
      },
      "source": [
        "#### Exercise.\n",
        "Write a program that checks if a number from a user's input is divisible by 3, 5\n",
        "or 7, but NOT by 15, 21, 35 or 105.\n",
        "<!--\n",
        "if ((n % 3 == 0) or (n % 5 == 0) or (n % 7 == 0)) and \\\n",
        "  not (n % 15 == 0 or n % 21 == 0 or n % 105 == 0):\n",
        "  print(\"true\")\n",
        "else:\n",
        "  print(\"false\")-->"
      ]
    },
    {
      "cell_type": "code",
      "execution_count": null,
      "id": "5704580d",
      "metadata": {
        "id": "5704580d",
        "colab": {
          "base_uri": "https://localhost:8080/"
        },
        "outputId": "4e33e4fb-baf6-4acc-f2aa-5d6fece78102"
      },
      "outputs": [
        {
          "output_type": "stream",
          "name": "stdout",
          "text": [
            "Input an integer: 15\n",
            "false\n"
          ]
        }
      ],
      "source": [
        "n = int(input(\"Input an integer: \"))\n",
        "if ((n % 3 == 0) or (n % 5 == 0) or (n % 7 == 0)) and not \\\n",
        " ((n % 15 == 0) or (n % 21 == 0) or (n % 35 == 0) or (n % 105 == 0)):\n",
        "    print(\"true\")\n",
        "else:\n",
        "    print(\"false\")"
      ]
    },
    {
      "cell_type": "markdown",
      "id": "3933bdc9",
      "metadata": {
        "id": "3933bdc9"
      },
      "source": [
        "You may use a backslash (`\\`) to denote line continuation."
      ]
    },
    {
      "cell_type": "markdown",
      "id": "c5b6ea22",
      "metadata": {
        "id": "c5b6ea22"
      },
      "source": [
        "#### Exercise.\n",
        "Write a program that checks if the year from a user's input is a leap year.\n",
        "\n",
        "_Hint_: To check if a year is a leap year, divide the year by 4. If it is fully divisible\n",
        "by 4, it is a leap year. For example, the year 2016 is divisible 4, so it is a leap\n",
        "year, whereas, 2015 is not. However, century years like 300, 700, 1900, 2000\n",
        "need to be divided by 400 to check whether they are leap years or not. While century years not divisible by 400 is not a leap year, century years divisible by 400 is a leap year."
      ]
    },
    {
      "cell_type": "code",
      "execution_count": null,
      "id": "e7440646",
      "metadata": {
        "id": "e7440646",
        "colab": {
          "base_uri": "https://localhost:8080/"
        },
        "outputId": "4f387e0c-3251-4ed4-e10b-25fca8dbfbd0"
      },
      "outputs": [
        {
          "output_type": "stream",
          "name": "stdout",
          "text": [
            "Year: 1900\n",
            "not a leap year\n"
          ]
        }
      ],
      "source": [
        "year = int(input(\"Year: \"))\n",
        "\n",
        "if year % 4 == 0:\n",
        "    if year % 100 == 0:\n",
        "        if year % 400 == 0:\n",
        "            print(\"leap year\")\n",
        "        else:\n",
        "            print(\"not a leap year\")\n",
        "    else:\n",
        "        print(\"leap year\")\n",
        "else:\n",
        "    print(\"not a leap year\")"
      ]
    },
    {
      "cell_type": "markdown",
      "id": "e35f3184",
      "metadata": {
        "id": "e35f3184"
      },
      "source": [
        "#### Exercise.\n",
        "The progressive income tax rate is mandated as follows:\n",
        "\n",
        "| Taxable Income | Rate (%) |\n",
        "|:---|---:|\n",
        "|First \\$5,000 | 0 |\n",
        "|Next \\$10,000 | 7 |\n",
        "|Next \\$15,000 | 15 |\n",
        "|The remaining | 25 |\n",
        "\n",
        "For example, suppose that the taxable income is \\$70,000:\n",
        "\n",
        "The income tax payable is $\\$5,000 \\times 0\\% + \\$10,000 \\times 7\\% + \\$15,000 \\times 15\\% + \\$40,000 \\times 25\\%$.\n",
        "Write a program that reads the taxable income from user. The program shall\n",
        "calculate the income tax payable."
      ]
    },
    {
      "cell_type": "code",
      "source": [],
      "metadata": {
        "id": "62AX8wYeMAuI"
      },
      "id": "62AX8wYeMAuI",
      "execution_count": null,
      "outputs": []
    },
    {
      "cell_type": "markdown",
      "metadata": {
        "id": "a5cad296"
      },
      "source": [
        "## Repeating code in loops -- For loop\n",
        "\n",
        "### Task 1.\n",
        "\n",
        "For a website, it is required to write a program that validates the password:\n",
        "- password should be between 12 to 16 characters in length;\n",
        "- password should have at least 2 uppercase characters;\n",
        "- password should have at least 4 lowercase characters;\n",
        "- password should have at least 1 number;\n",
        "\n",
        "\n",
        "- Input: A string from user input\n",
        "- Output: Output a single string, either Valid if the password is valid, or Invalid otherwise"
      ],
      "id": "a5cad296"
    },
    {
      "cell_type": "code",
      "execution_count": null,
      "metadata": {
        "id": "15194c1c"
      },
      "outputs": [],
      "source": [
        "password = input(\"Input password: \")\n"
      ],
      "id": "15194c1c"
    },
    {
      "cell_type": "markdown",
      "metadata": {
        "id": "a93277c1"
      },
      "source": [
        "#### Collection\n",
        "- __Collection__ is a group of objects with a logical connection.\n",
        "- String works as a collection of characters.\n",
        "- for loops are convenient for working with each item in collections."
      ],
      "id": "a93277c1"
    },
    {
      "cell_type": "code",
      "execution_count": null,
      "metadata": {
        "id": "76205b81"
      },
      "outputs": [],
      "source": [
        "for character in \"Hello!\":\n",
        "    print(character)"
      ],
      "id": "76205b81"
    },
    {
      "cell_type": "markdown",
      "metadata": {
        "id": "183a38bb"
      },
      "source": [
        "What is the sum of first 10 nonnegative integers?\n",
        "```python\n",
        "s = 0\n",
        "for i in range(10):\n",
        "    s += i\n",
        "print(s)\n",
        "```\n",
        "    45"
      ],
      "id": "183a38bb"
    },
    {
      "cell_type": "code",
      "source": [],
      "metadata": {
        "id": "3jN4itue3dUA"
      },
      "execution_count": null,
      "outputs": [],
      "id": "3jN4itue3dUA"
    },
    {
      "cell_type": "markdown",
      "metadata": {
        "id": "633bfa94"
      },
      "source": [
        "- The variable `s` is called accumulator (remember this technique for future)\n",
        "- The `range(n)` function creates a collection of nonnegative integers\n",
        "    - It begins with `0`, and it ends with `n - 1`.\n",
        "- `range()` may have other arguments that can be found in the documentation"
      ],
      "id": "633bfa94"
    },
    {
      "cell_type": "markdown",
      "metadata": {
        "id": "28a93dee"
      },
      "source": [
        "#### Documentation\n",
        "Documentation keeps rules, hints, and examples how to use built in functions.\n",
        "\n",
        "How to find documentation:\n",
        "- the `help()` function\n",
        "- Google\n",
        "- Stack Overflow\n",
        "- Official documentation at https://docs.python.org/\n",
        "- Use search engines including web page `find` tool."
      ],
      "id": "28a93dee"
    },
    {
      "cell_type": "code",
      "execution_count": null,
      "metadata": {
        "id": "aab3c0d6"
      },
      "outputs": [],
      "source": [
        "help(range)"
      ],
      "id": "aab3c0d6"
    },
    {
      "cell_type": "markdown",
      "metadata": {
        "id": "0ec28819"
      },
      "source": [
        "How to define a range with step size of 2 with the `range()` function and get a sequence of 1, 3, 5, 7, 9?\n",
        "\n",
        "Run `help(\"\")` and find `step` on the page."
      ],
      "id": "0ec28819"
    },
    {
      "cell_type": "code",
      "execution_count": null,
      "metadata": {
        "id": "e57eb70f"
      },
      "outputs": [],
      "source": [
        "for i in range(1, 11, 2):\n",
        "  print(i)"
      ],
      "id": "e57eb70f"
    },
    {
      "cell_type": "markdown",
      "metadata": {
        "id": "7322e46b"
      },
      "source": [
        "Function documentation also shows up when you press `Shift-Tab` with the function name on Jupyter Notebook."
      ],
      "id": "7322e46b"
    },
    {
      "cell_type": "markdown",
      "metadata": {
        "id": "07fc1073"
      },
      "source": [
        "How to check if a symbol or character is uppercase, lowercase, or digit?\n",
        "\n",
        "- Find the correct method\n",
        "   - A method is an action that belongs to a specific object of certain type."
      ],
      "id": "07fc1073"
    },
    {
      "cell_type": "code",
      "execution_count": null,
      "metadata": {
        "id": "ddaace8c"
      },
      "outputs": [],
      "source": [
        "help(str)"
      ],
      "id": "ddaace8c"
    },
    {
      "cell_type": "code",
      "execution_count": null,
      "metadata": {
        "id": "529cf8bc"
      },
      "outputs": [],
      "source": [
        "'E'.isupper()"
      ],
      "id": "529cf8bc"
    },
    {
      "cell_type": "code",
      "source": [
        "\"Ep\".islower()"
      ],
      "metadata": {
        "id": "jx3lJVEY6I7e"
      },
      "execution_count": null,
      "outputs": [],
      "id": "jx3lJVEY6I7e"
    },
    {
      "cell_type": "code",
      "source": [
        "\"3\".isdigit()"
      ],
      "metadata": {
        "id": "-xa_P23A6NRn"
      },
      "execution_count": null,
      "outputs": [],
      "id": "-xa_P23A6NRn"
    },
    {
      "cell_type": "markdown",
      "metadata": {
        "id": "2a96626f"
      },
      "source": [
        "### Now, back to Task 1."
      ],
      "id": "2a96626f"
    },
    {
      "cell_type": "markdown",
      "metadata": {
        "id": "30547c80"
      },
      "source": [
        "For a website, it is required to write a program that validates the password:\n",
        "- password should be between 12 to 16 characters in length;\n",
        "- password should have at least 2 uppercase characters;\n",
        "- password should have at least 4 lowercase characters;\n",
        "- password should have at least 1 number;\n",
        "\n",
        "\n",
        "- Input: A string from user input\n",
        "- Output: Output a single string, either Valid if the password is valid, or Invalid otherwise\n",
        "\n",
        "<!--password = input(\"Input password: \")\n",
        "chars = 0\n",
        "uppers = 0\n",
        "lowers = 0\n",
        "digits = 0\n",
        "for c in password:\n",
        "  chars += 1\n",
        "  if c.isupper():\n",
        "    uppers += 1\n",
        "  elif c.islower():\n",
        "    lowers += 1\n",
        "  elif c.isdigit():\n",
        "    digits += 1\n",
        "\n",
        "if (12 <= chars <= 16) and (uppers >= 2) and (lowers >= 4) and (digits >= 1):\n",
        "  print(\"Valid\")\n",
        "else:\n",
        "  print(\"Invalid\")-->"
      ],
      "id": "30547c80"
    },
    {
      "cell_type": "code",
      "execution_count": null,
      "metadata": {
        "id": "61c8b082"
      },
      "outputs": [],
      "source": [
        "\n",
        "\n"
      ],
      "id": "61c8b082"
    },
    {
      "cell_type": "markdown",
      "metadata": {
        "id": "4e5508d6"
      },
      "source": [
        "### Task 2.\n",
        "\n",
        "For a website, it is required to write a program that validates a username:\n",
        "- username should have 8 characters;\n",
        "- the first character in a username should be a capitalized letter;\n",
        "- the last character in a username should be a number;\n",
        "\n",
        "- Input: A string from user input\n",
        "- Output: Print a single string, either `Valid` if the username is valid, or `Invalid` otherwise"
      ],
      "id": "4e5508d6"
    },
    {
      "cell_type": "code",
      "execution_count": null,
      "metadata": {
        "id": "12acc813"
      },
      "outputs": [],
      "source": [],
      "id": "12acc813"
    },
    {
      "cell_type": "markdown",
      "metadata": {
        "id": "a9465d3c"
      },
      "source": [
        "### Index access for string characters\n",
        "\n",
        "We can access characters in strings using indices in square brackets."
      ],
      "id": "a9465d3c"
    },
    {
      "cell_type": "code",
      "execution_count": null,
      "metadata": {
        "id": "b5ae3481"
      },
      "outputs": [],
      "source": [
        "\"Hello\"[0] # index starts with 0."
      ],
      "id": "b5ae3481"
    },
    {
      "cell_type": "code",
      "execution_count": null,
      "metadata": {
        "id": "ce59675a"
      },
      "outputs": [],
      "source": [
        "\"Hello\"[1]"
      ],
      "id": "ce59675a"
    },
    {
      "cell_type": "code",
      "execution_count": null,
      "metadata": {
        "id": "d4ca3e22"
      },
      "outputs": [],
      "source": [
        "\"Hello\"[-1] # for the last character."
      ],
      "id": "d4ca3e22"
    },
    {
      "cell_type": "code",
      "execution_count": null,
      "metadata": {
        "id": "6cc8b83d"
      },
      "outputs": [],
      "source": [
        "\"Hello\"[-2] # second-to-last."
      ],
      "id": "6cc8b83d"
    },
    {
      "cell_type": "markdown",
      "metadata": {
        "id": "f917834a"
      },
      "source": [
        "Also we can do slicing to obtain a substring:"
      ],
      "id": "f917834a"
    },
    {
      "cell_type": "code",
      "execution_count": null,
      "metadata": {
        "id": "7b67ed99"
      },
      "outputs": [],
      "source": [
        "\"Hello\"[1:-2]"
      ],
      "id": "7b67ed99"
    },
    {
      "cell_type": "markdown",
      "metadata": {
        "id": "5b0e2350"
      },
      "source": [
        "This begins with the index 1, and ends with index -2, without including the index -2."
      ],
      "id": "5b0e2350"
    },
    {
      "cell_type": "code",
      "execution_count": null,
      "metadata": {
        "id": "8e99d97f"
      },
      "outputs": [],
      "source": [
        "\"Hello\"[1:4]"
      ],
      "id": "8e99d97f"
    },
    {
      "cell_type": "code",
      "execution_count": null,
      "metadata": {
        "id": "a11e7dbe"
      },
      "outputs": [],
      "source": [
        "s = \"Hello\"\n",
        "s[1:4]"
      ],
      "id": "a11e7dbe"
    },
    {
      "cell_type": "markdown",
      "metadata": {
        "id": "27d1b1f0"
      },
      "source": [
        "### `len()`\n",
        "The `len()` function returns the number of elements in a collection."
      ],
      "id": "27d1b1f0"
    },
    {
      "cell_type": "code",
      "execution_count": null,
      "metadata": {
        "id": "2472331b"
      },
      "outputs": [],
      "source": [],
      "id": "2472331b"
    },
    {
      "cell_type": "markdown",
      "metadata": {
        "id": "653c0ecc"
      },
      "source": [
        "### Back to Task 2."
      ],
      "id": "653c0ecc"
    },
    {
      "cell_type": "markdown",
      "metadata": {
        "id": "50f5fde3"
      },
      "source": [
        "For a website, it is required to write a program that validates a username:\n",
        "- username should have 8 characters;\n",
        "- the first character in a username should be a capitalized letter;\n",
        "- the last character in a username should be a number;\n",
        "\n",
        "- Input: A string from user input\n",
        "- Output: Print a single string, either `Valid` if the username is valid, or `Invalid` otherwise\n",
        "<!--\n",
        "if (len(username) == 8) and (username[0].isupper()) and (username[-1].isdigit()):\n",
        "  print(\"Valid\")\n",
        "else:\n",
        "  print(\"Invalid\")-->"
      ],
      "id": "50f5fde3"
    },
    {
      "cell_type": "code",
      "execution_count": null,
      "metadata": {
        "id": "c0fcc600"
      },
      "outputs": [],
      "source": [
        "username = input(\"Input username: \")\n"
      ],
      "id": "c0fcc600"
    },
    {
      "cell_type": "markdown",
      "metadata": {
        "id": "9a01e893"
      },
      "source": [
        "### Task 3.\n",
        "Read n from user and print a triangle\n",
        "following the pattern:\n",
        "```\n",
        "1\n",
        "12\n",
        "123\n",
        "1234\n",
        "12345\n",
        "...\n",
        "12345...n\n",
        "```\n",
        "\n",
        "For example, if `n = 3`, the output should be:\n",
        "```\n",
        "1\n",
        "12\n",
        "123\n",
        "```"
      ],
      "id": "9a01e893"
    },
    {
      "cell_type": "markdown",
      "metadata": {
        "id": "1c65d77c"
      },
      "source": [
        "### `range()` revisited\n",
        "\n",
        "The `range()` function returns a sequence of numbers, starting from `0` by default,\n",
        "and increments by `1` (by default), and stops before a specified number.\n",
        "\n",
        "```python\n",
        "for i in range(10):\n",
        "    print(i)\n",
        "```"
      ],
      "id": "1c65d77c"
    },
    {
      "cell_type": "code",
      "execution_count": null,
      "metadata": {
        "id": "84ce13b4"
      },
      "outputs": [],
      "source": [],
      "id": "84ce13b4"
    },
    {
      "cell_type": "markdown",
      "metadata": {
        "id": "6e6affae"
      },
      "source": [
        "#### `stop` and `step` in `range()`\n",
        "Print first 10 non-negative integers in a reverse order.\n",
        "\n",
        "`help(range)` said:\n",
        "```\n",
        " |  range(stop) -> range object\n",
        " |  range(start, stop[, step]) -> range object\n",
        " |  \n",
        " |  Return an object that produces a sequence of integers from start (inclusive)\n",
        " |  to stop (exclusive) by step.  range(i, j) produces i, i+1, i+2, ..., j-1.\n",
        " |  start defaults to 0, and stop is omitted!  range(4) produces 0, 1, 2, 3.\n",
        " |  These are exactly the valid indices for a list of 4 elements.\n",
        " |  When step is given, it specifies the increment (or decrement).\n",
        "```\n",
        "\n",
        "```python\n",
        "range(9, -1, -1)\n",
        "```"
      ],
      "id": "6e6affae"
    },
    {
      "cell_type": "code",
      "execution_count": null,
      "metadata": {
        "id": "51f57b9b"
      },
      "outputs": [],
      "source": [],
      "id": "51f57b9b"
    },
    {
      "cell_type": "markdown",
      "metadata": {
        "id": "2b0f2b7f"
      },
      "source": [
        "### Combining `range()` and `len()`\n",
        "\n",
        "Accessing characters of the string by index in for loop.\n",
        "```python\n",
        "x = \"Hello!\"\n",
        "for i in range(len(x)):\n",
        "    print(x[i])\n",
        "```"
      ],
      "id": "2b0f2b7f"
    },
    {
      "cell_type": "code",
      "execution_count": null,
      "metadata": {
        "id": "7ee41f7f"
      },
      "outputs": [],
      "source": [],
      "id": "7ee41f7f"
    },
    {
      "cell_type": "markdown",
      "metadata": {
        "id": "9b63e9f7"
      },
      "source": [
        "### Another option: `enumerate()`\n",
        "```python\n",
        "x = \"Hello!\"\n",
        "for (i, c) in enumerate(x):\n",
        "    print(\"Character in position \", i, \": \", c)\n",
        "```"
      ],
      "id": "9b63e9f7"
    },
    {
      "cell_type": "code",
      "execution_count": null,
      "metadata": {
        "id": "f99bf5c1"
      },
      "outputs": [],
      "source": [],
      "id": "f99bf5c1"
    },
    {
      "cell_type": "markdown",
      "metadata": {
        "id": "dd748cfe"
      },
      "source": [
        "#### printing on the same line\n",
        "\n",
        "- `print()` has a parameter called `end`. It sets the symbol that should be sent to output after printing the string.\n",
        "- by default `end='\\n'`\n",
        "```python\n",
        "for c in \"Hello\":\n",
        "    print(c, end=\"\\t\")\n",
        "```"
      ],
      "id": "dd748cfe"
    },
    {
      "cell_type": "code",
      "execution_count": null,
      "metadata": {
        "id": "e7dec2be"
      },
      "outputs": [],
      "source": [],
      "id": "e7dec2be"
    },
    {
      "cell_type": "markdown",
      "metadata": {
        "id": "71217969"
      },
      "source": [
        "#### Exercise (5 min)\n",
        "\n",
        "1) Print word string \"Hello!\" in reverse order.\n",
        "Hint: In range(start,stop[,step]), start is inclusive, stop is exclusive.\n"
      ],
      "id": "71217969"
    },
    {
      "cell_type": "code",
      "execution_count": null,
      "metadata": {
        "id": "aff809d7"
      },
      "outputs": [],
      "source": [],
      "id": "aff809d7"
    },
    {
      "cell_type": "code",
      "source": [],
      "metadata": {
        "id": "BfpKVZf3FO6q"
      },
      "execution_count": null,
      "outputs": [],
      "id": "BfpKVZf3FO6q"
    },
    {
      "cell_type": "code",
      "source": [],
      "metadata": {
        "id": "wdOV3moaFV5v"
      },
      "execution_count": null,
      "outputs": [],
      "id": "wdOV3moaFV5v"
    },
    {
      "cell_type": "markdown",
      "metadata": {
        "id": "3193715b"
      },
      "source": [
        "2) Triple all 'o' in a user's phrase.\n",
        "For example: \"Hello world! Yo!\" should be printed as\n",
        "\n",
        "\"Hello-o-o wo-o-orld! Yo-o-o!\"\n",
        "\n",
        "Hints:\n",
        "- Use `input()` to read user's phrase\n",
        "- Use parameter `end=\"\"` in `print()`"
      ],
      "id": "3193715b"
    },
    {
      "cell_type": "code",
      "execution_count": null,
      "metadata": {
        "id": "bdac06e3"
      },
      "outputs": [],
      "source": [
        "s = input(\"Input string: \")\n",
        "\n"
      ],
      "id": "bdac06e3"
    },
    {
      "cell_type": "markdown",
      "metadata": {
        "id": "7e8b7f48"
      },
      "source": [
        "### Nested loops\n",
        "\n",
        "- for loop can be nested.\n",
        "- printing a multiplication table:\n",
        "```python\n",
        "for i in range(1, 11):\n",
        "    for j in range(1, 11):\n",
        "        print(i * j, end='\\t')\n",
        "    print()\n",
        "```"
      ],
      "id": "7e8b7f48"
    },
    {
      "cell_type": "code",
      "execution_count": null,
      "metadata": {
        "id": "940d1545"
      },
      "outputs": [],
      "source": [],
      "id": "940d1545"
    },
    {
      "cell_type": "markdown",
      "metadata": {
        "id": "b9dc13fa"
      },
      "source": [
        "#### Exercise.\n",
        "Print multiplication table with the following format:"
      ],
      "id": "b9dc13fa"
    },
    {
      "cell_type": "markdown",
      "source": [
        "![multtable.png](data:image/png;base64,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)"
      ],
      "metadata": {
        "id": "QRjzPlzDfM87"
      },
      "id": "QRjzPlzDfM87"
    },
    {
      "cell_type": "code",
      "execution_count": null,
      "metadata": {
        "id": "21bbbc75"
      },
      "outputs": [],
      "source": [],
      "id": "21bbbc75"
    },
    {
      "cell_type": "markdown",
      "source": [
        "#### Back to Task 3."
      ],
      "metadata": {
        "id": "Al2SgmELLO6z"
      },
      "id": "Al2SgmELLO6z"
    },
    {
      "cell_type": "markdown",
      "source": [
        "```\n",
        "1\n",
        "12\n",
        "123\n",
        "1234\n",
        "12345\n",
        "...\n",
        "12345...n\n",
        "```"
      ],
      "metadata": {
        "id": "Y3flHj8bL8Yd"
      },
      "id": "Y3flHj8bL8Yd"
    },
    {
      "cell_type": "code",
      "source": [
        "n = int(input(\"Input n: \"))\n"
      ],
      "metadata": {
        "id": "gA8mIKJ4LJ4t"
      },
      "execution_count": null,
      "outputs": [],
      "id": "gA8mIKJ4LJ4t"
    },
    {
      "cell_type": "code",
      "source": [],
      "metadata": {
        "id": "gEXQs_UCM4LI"
      },
      "id": "gEXQs_UCM4LI",
      "execution_count": null,
      "outputs": []
    }
  ],
  "metadata": {
    "colab": {
      "provenance": []
    },
    "kernelspec": {
      "display_name": "Python 3 (ipykernel)",
      "language": "python",
      "name": "python3"
    },
    "language_info": {
      "codemirror_mode": {
        "name": "ipython",
        "version": 3
      },
      "file_extension": ".py",
      "mimetype": "text/x-python",
      "name": "python",
      "nbconvert_exporter": "python",
      "pygments_lexer": "ipython3",
      "version": "3.10.9"
    }
  },
  "nbformat": 4,
  "nbformat_minor": 5
}