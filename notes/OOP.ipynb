{
 "cells": [
  {
   "cell_type": "markdown",
   "id": "a330b970-4ffd-419d-be83-0bc2ec2fc74f",
   "metadata": {
    "tags": []
   },
   "source": [
    "## Object oriented programming (OOP) \n",
    "\n",
    "Basically everything in Python is an object. Objects are bundles of data (attributes) and methods (functions or behaviors).\n",
    "\n",
    "A class defines an abstract set of possible objects sharing certain characteristics. Once you define the class, you can *instantiate* it, which gives you an instance of the class.\n",
    "\n",
    "> \"Classes provide a means of bundling data and functionality together. Creating a new class creates a new *type* of object, allowing new *instances* of that type to be made.\"\n",
    "\n",
    "https://docs.python.org/3/tutorial/classes.html\n",
    "\n",
    "https://realpython.com/python3-object-oriented-programming/"
   ]
  },
  {
   "cell_type": "code",
   "execution_count": null,
   "id": "96e7aca6-97e6-4be3-8f71-260930cf9815",
   "metadata": {
    "tags": []
   },
   "outputs": [],
   "source": [
    "class Cat: # define class\n",
    "    pass "
   ]
  },
  {
   "cell_type": "code",
   "execution_count": null,
   "id": "94239771-f9e9-4a50-8122-993a60dda5b4",
   "metadata": {
    "tags": []
   },
   "outputs": [],
   "source": [
    "cat = Animal() # cat is an instance of class Animal"
   ]
  },
  {
   "cell_type": "code",
   "execution_count": null,
   "id": "2aa6ecbc-8af1-4574-8648-6e42d29540ed",
   "metadata": {
    "tags": []
   },
   "outputs": [],
   "source": [
    "print(type(cat))"
   ]
  },
  {
   "cell_type": "code",
   "execution_count": null,
   "id": "98a1e817-d8ac-43a7-a42c-5aae6cd5f04e",
   "metadata": {
    "tags": []
   },
   "outputs": [],
   "source": [
    "print(type(Animal)) # just like list, int, etc"
   ]
  },
  {
   "cell_type": "code",
   "execution_count": null,
   "id": "f377ef46-c31a-42a9-9d31-025ca27aea7a",
   "metadata": {
    "tags": []
   },
   "outputs": [],
   "source": [
    "print(type(list), type(int))"
   ]
  },
  {
   "cell_type": "markdown",
   "id": "838c2081-d33d-4f91-a1fb-002545af4850",
   "metadata": {},
   "source": [
    "### Methods, class variables, self\n",
    "Methods: functions defined inside a class. \n",
    "\n",
    "The `self` prefix is required to refer to local data and functions -- that is, data and functions that are only available within the object.\n",
    "Additionally, all methods automatically take `self` as their first argument -- even when they are not named `self`! Always use `self` as the first argument of a method to avoid confusion.\n",
    "\n",
    "\n",
    "__class variables__: defined outside any method, shared across all instances of that class "
   ]
  },
  {
   "cell_type": "code",
   "execution_count": null,
   "id": "9e9c0384-0e57-4a26-a01d-152947d91637",
   "metadata": {
    "tags": []
   },
   "outputs": [],
   "source": [
    "class Cat: # define class\n",
    "    # class variables: shared across all instances of Cat \n",
    "    genus = \"Felis\"\n",
    "    species = \"catus\"\n",
    "    \n",
    "    def get_scientific_name(self): # self has to be the first argument in class methods. self refers to the instance of that class.\n",
    "        return self.genus + \" \" + self.species"
   ]
  },
  {
   "cell_type": "code",
   "execution_count": null,
   "id": "9eb90590-8190-4c19-9617-c9d4aa364ac9",
   "metadata": {
    "tags": []
   },
   "outputs": [],
   "source": [
    "kitty = Cat()\n",
    "print(kitty.genus) # access class variable\n",
    "print(kitty.get_scientific_name()) # think of it as shorthand for Cat.get_scientific_name(kitty), self is special argument name"
   ]
  },
  {
   "cell_type": "code",
   "execution_count": null,
   "id": "3b84a2d0-254e-4ff8-ad6c-eeabe71252a4",
   "metadata": {
    "tags": []
   },
   "outputs": [],
   "source": [
    "print(Cat.get_scientific_name(kitty)) # The line above translates to this."
   ]
  },
  {
   "cell_type": "code",
   "execution_count": null,
   "id": "83046098-cba3-43ea-b332-910ae5d03b66",
   "metadata": {
    "tags": []
   },
   "outputs": [],
   "source": [
    "boba = Cat()\n",
    "print(boba.genus, type(boba))\n",
    "print(boba.get_scientific_name())"
   ]
  },
  {
   "cell_type": "markdown",
   "id": "29cd78aa-16a4-4046-9021-2ff4bba5cce7",
   "metadata": {},
   "source": [
    "### `__init__`, instance variables\n",
    "The __`__init__()` method__ Allows one to pass additional data when initializing an object. Defined this way are __instance variables__, which may differ between different instances of the same class."
   ]
  },
  {
   "cell_type": "code",
   "execution_count": null,
   "id": "240f9e17-63c2-4c79-9a07-a8138f5dbac7",
   "metadata": {
    "tags": []
   },
   "outputs": [],
   "source": [
    "class Cat: # define class\n",
    "    # class variables: shared across all instances of Cat \n",
    "    genus = \"Felis\"\n",
    "    species = \"catus\"\n",
    "    \n",
    "    def __init__(self, size, color):\n",
    "        self.size = size\n",
    "        self.color = color # instance variables: specific to the instance of Cat\n",
    "    \n",
    "    def describe(self, s):\n",
    "        print(s, 'color:', self.color, 'size:', self.size)\n",
    " "
   ]
  },
  {
   "cell_type": "code",
   "execution_count": null,
   "id": "61b39575-fca6-4fae-a80b-6887db7811de",
   "metadata": {
    "tags": []
   },
   "outputs": [],
   "source": [
    "kitty = Cat('medium', 'tortie') # equivalent to Cat.__init__(kitty, 'medium', 'tortie')\n",
    "kitty.describe('hello i am a cat with')"
   ]
  },
  {
   "cell_type": "code",
   "execution_count": null,
   "id": "47da7dac-ce8e-49ba-bae6-0f6a6ec528cd",
   "metadata": {
    "tags": []
   },
   "outputs": [],
   "source": [
    "boba = Cat()"
   ]
  },
  {
   "cell_type": "code",
   "execution_count": null,
   "id": "a90c51f8-1f5c-4928-962f-e38e667d7626",
   "metadata": {
    "tags": []
   },
   "outputs": [],
   "source": [
    "kitty.genus"
   ]
  },
  {
   "cell_type": "code",
   "execution_count": null,
   "id": "5c04fce7-ffd7-4b2c-bf3c-0e3bcf1ebc1f",
   "metadata": {
    "tags": []
   },
   "outputs": [],
   "source": [
    "Cat.genus # recommended way for accessing class variables"
   ]
  },
  {
   "cell_type": "code",
   "execution_count": null,
   "id": "ef86a4c8-8a8f-44d2-aa70-a2663c8db6f5",
   "metadata": {},
   "outputs": [],
   "source": [
    "class Complex :\n",
    "    '''class representing complex numbers. supports basic complex arithmetic'''\n",
    "    def __init__(self, real, imag=0.0):\n",
    "        self.real = real   # instance variable\n",
    "        self.imag = imag   # instance variable\n",
    "\n",
    "    def add(self, other):\n",
    "        return Complex(self.real + other.real, self.imag + other.imag)\n",
    "\n",
    "    def sub(self, other):\n",
    "        return Complex(self.real - other.real, self.imag - other.imag)\n",
    "\n",
    "    def mul(self, other):\n",
    "        return Complex(self.real*other.real - self.imag*other.imag,\n",
    "                       self.imag*other.real + self.real*other.imag)\n",
    "\n",
    "    def display(self):\n",
    "        print('{:.2f}+{:.2f}i'.format(self.real, self.imag))\n",
    "\n",
    "c1 = Complex(1.1,-0.3)   #directly create Complex object/instance\n",
    "c2 = Complex(5.5,2)      #directly create Complex object/instance\n",
    "c3 = c1.mul(c2)          #indirectly create Complex object/instance\n",
    "c3.display()"
   ]
  },
  {
   "cell_type": "markdown",
   "id": "c6b54b78-d1ce-4af6-bf4a-a70b2f944c23",
   "metadata": {},
   "source": [
    "### Magic methods\n",
    "\n",
    "The \"magic\" in \"magic method\" refers to the fact that Python will automatically use these methods when interpreting symbols like `+` and `*`. \n",
    "\n",
    "https://rszalski.github.io/magicmethods/\n",
    "\n",
    "http://minhhh.github.io/posts/a-guide-to-pythons-magic-methods "
   ]
  },
  {
   "cell_type": "code",
   "execution_count": null,
   "id": "3645b8d7-84d4-4ebb-b110-555ce95d24be",
   "metadata": {
    "tags": []
   },
   "outputs": [],
   "source": [
    "# we want vectors that work like (1, 2) + (3, 4) = (4, 6)\n",
    "(1, 2) + (3, 4) # because for lists and tuples, A + B is A concetante B"
   ]
  },
  {
   "cell_type": "code",
   "execution_count": null,
   "id": "473008ba-1252-4257-a342-b48fd2ff4ae8",
   "metadata": {
    "tags": []
   },
   "outputs": [],
   "source": [
    "class Complex:\n",
    "    '''this is a class demo with magic methods'''\n",
    "    def __init__(self, real, imag=0.0):\n",
    "        self.real = real\n",
    "        self.imag = imag\n",
    "\n",
    "    def __add__(self, other):\n",
    "        return Complex(self.real + other.real, self.imag + other.imag)\n",
    "\n",
    "    def __sub__(self, other):\n",
    "        return Complex(self.real - other.real, self.imag - other.imag)\n",
    "\n",
    "    def __mul__(self, other):\n",
    "        return Complex(self.real * other.real - self.imag * other.imag,\n",
    "                       self.imag * other.real + self.real * other.imag)\n",
    "\n",
    "    def __str__(self):\n",
    "        return '{:.2f} + {:.2f}i'.format(self.real, self.imag)\n"
   ]
  },
  {
   "cell_type": "code",
   "execution_count": null,
   "id": "f63ef1e9-c504-4fed-b285-8286ccf9f5a5",
   "metadata": {},
   "outputs": [],
   "source": [
    "c1 = Complex(2.3,10)\n",
    "c2 = Complex(5.2,-2.9)\n",
    "print(c1 * c2)"
   ]
  },
  {
   "cell_type": "markdown",
   "id": "e43d213c-89df-4ac4-aad5-3091a1736f29",
   "metadata": {},
   "source": [
    "## Example: Polynomial numbers"
   ]
  },
  {
   "cell_type": "code",
   "execution_count": null,
   "id": "d23bc2ef-e77b-4a78-8487-d336d2c047f2",
   "metadata": {
    "tags": []
   },
   "outputs": [],
   "source": [
    "class Polynomial :\n",
    "    '''\n",
    "    This class implements a univariate polynomial.\n",
    "    Arithmetic operations such as + - are supported. (* is an exercise)\n",
    "    '''\n",
    "    \n",
    "    def __init__(self, init = 0) :\n",
    "        self.__poly_coeff = []     # list storing coefficients (private instance variable)\n",
    "\n",
    "        # Creates constant polynomial p(x) = init\n",
    "        if isinstance(init, int) or isinstance(init, float) :\n",
    "            self.__poly_coeff = [init]\n",
    "            \n",
    "        # Copy the coefficients from given list\n",
    "        # init[n] = 'n-th coefficient'\n",
    "        elif isinstance(init, list) :\n",
    "            self.__poly_coeff = init.copy()\n",
    "            \n",
    "        # Copy the given Polynomial instance\n",
    "        elif isinstance(init, Polynomial) :\n",
    "            for n in range(init.degree()+1) :\n",
    "                self.set_coeff(n, init.get_coeff(n))\n",
    "        \n",
    "\n",
    "    # Returns the degree of Polynomial\n",
    "    def degree(self) :\n",
    "        return max([0]+[n for n,c in enumerate(self.__poly_coeff) if c != 0.0])\n",
    "\n",
    "    # Sets the coefficient of given degree term\n",
    "    def set_coeff(self, deg, new_coeff) :\n",
    "        if len(self.__poly_coeff) <= deg :\n",
    "            self.__poly_coeff += [0.0 for _ in range(deg + 1 - len(self.__poly_coeff))]\n",
    "        self.__poly_coeff[deg] = new_coeff\n",
    "    \n",
    "    # Returns the coefficient of given degree term\n",
    "    def get_coeff(self, deg) :\n",
    "        return 0 if self.degree() < deg else self.__poly_coeff[deg]\n",
    "    \n",
    "    \n",
    "    # -self\n",
    "    def __neg__(self) :\n",
    "        result = Polynomial()\n",
    "        for n in range(self.degree() + 1) :\n",
    "            result.set_coeff(n, -self.__poly_coeff[n])\n",
    "        return result\n",
    "    \n",
    "    # self + poly2\n",
    "    def __add__(self, poly2) :\n",
    "        result = Polynomial(self)\n",
    "        result += poly2\n",
    "        return result\n",
    "        \n",
    "    # self - poly2\n",
    "    def __sub__(self, poly2) :\n",
    "        result = Polynomial(self)\n",
    "        result -= poly2\n",
    "        return result\n",
    "    \n",
    "    # Overload += (self += poly2)\n",
    "    def __iadd__(self, poly2) :\n",
    "        poly2 = Polynomial(poly2)\n",
    "        for n in range(max(self.degree(),poly2.degree()) + 1) :\n",
    "            self.set_coeff(n, self.get_coeff(n) + poly2.get_coeff(n))\n",
    "        return self\n",
    "    \n",
    "    # Overload -=\n",
    "    def __isub__(self, poly2) :\n",
    "        return (self.__iadd__(-poly2))\n",
    "    \n",
    "    # Operators with Polynomial instance on the right\n",
    "    __radd__ = __add__      # other + self\n",
    "    \n",
    "    # poly2 - self\n",
    "    def __rsub__(self, poly2) :\n",
    "        return -Polynomial(self) + poly\n",
    "\n",
    "    # Evaluation of polynomial at x : p(x)\n",
    "    def __call__(self,x):\n",
    "        return sum([self.get_coeff(n)*(x**n) for n in range(self.degree() + 1)])\n",
    "    \n",
    "    #returns algebraic formula of polynomial as a string\n",
    "    def __str__(self):\n",
    "        coeff_list = [self.get_coeff(n) for n in range(self.degree() + 1) ]\n",
    "        \n",
    "        expr = ''\n",
    "        # Generate polynomial expression\n",
    "        for n in range(self.degree(), 0, -1) :\n",
    "            if coeff_list[n] == 0 : \n",
    "                pass\n",
    "            elif coeff_list[n] == 1 :\n",
    "                expr += '+ x^{0} '.format(n)\n",
    "            elif coeff_list[n] == -1 :\n",
    "                expr += '- x^{0} '.format(n)\n",
    "            elif coeff_list[n] < 0 :\n",
    "                expr += '- {0:.2f}x^{1} '.format(- coeff_list[n], n)\n",
    "                pass\n",
    "            else :\n",
    "                expr += '+ {0:.2f}x^{1} '.format(coeff_list[n], n)\n",
    "        \n",
    "        if coeff_list[0] < 0 :\n",
    "            expr += '- ' + '{:.2f}'.format(- coeff_list[0])\n",
    "        elif coeff_list[0] > 0 :\n",
    "            expr += '+ ' + '{:.2f}'.format(coeff_list[0])\n",
    "        \n",
    "        if expr[:2] == \"+ \":\n",
    "            return expr[2:]\n",
    "        elif expr[:2] == \"- \":\n",
    "            return \"-\" + expr[2:]\n"
   ]
  },
  {
   "cell_type": "code",
   "execution_count": null,
   "id": "640f3892-001c-4735-bc96-44d6ff25ef70",
   "metadata": {
    "tags": []
   },
   "outputs": [],
   "source": [
    "# Test code\n",
    "p1 = Polynomial()\n",
    "p1.set_coeff(0, 1.2)\n",
    "p1.set_coeff(3, 2.2)\n",
    "p1.set_coeff(7, -9.0)\n",
    "p1.set_coeff(7, 0.0)\n",
    "# # degree of polynomial is now 3\n",
    "print(p1)\n",
    "print(-p1)  #call negation operator\n",
    "\n",
    "print(p1.degree())\n",
    "\n",
    "p2 = Polynomial([1, 1.3])\n",
    "# print(p2.get_coeff(0))\n",
    "# print(p2.get_coeff(1))\n",
    "# print(p2.get_coeff(2))  #should be 0\n",
    "# print(p2.get_coeff(3))  #should be 0\n",
    "# print(p2.get_coeff(4))  #should be 0\n",
    "# print(p2.get_coeff(5))  #should be 0\n",
    "\n",
    "print(p2 + p1)"
   ]
  },
  {
   "cell_type": "code",
   "execution_count": null,
   "id": "2664de50-8ec7-4d7a-9792-c1467ec73082",
   "metadata": {
    "tags": []
   },
   "outputs": [],
   "source": [
    "Polynomial.__doc__"
   ]
  },
  {
   "cell_type": "code",
   "execution_count": null,
   "id": "2c17fe5e-6dac-4568-981e-b4c47a2b0884",
   "metadata": {
    "tags": []
   },
   "outputs": [],
   "source": [
    "help(Polynomial)"
   ]
  },
  {
   "cell_type": "markdown",
   "id": "d8330673-1666-4fa6-b52e-314fa1701bf6",
   "metadata": {},
   "source": [
    "## Inheritance and Overriding\n",
    "\n",
    "Because Python is not a strongly-typed language, inheritance is not used to provide type-safety. Rather, inheritance is used to re-use certain features of another class and to build on top of it."
   ]
  },
  {
   "cell_type": "code",
   "execution_count": null,
   "id": "157f9384-d541-4d02-81af-7c99415a3cf3",
   "metadata": {},
   "outputs": [],
   "source": [
    "pantry = {\n",
    "    'rice (lbs)' : 2,\n",
    "    'harissa (jars)' : 1,\n",
    "    'onions' : 5,\n",
    "    'lemons' : 3\n",
    "}"
   ]
  },
  {
   "cell_type": "code",
   "execution_count": null,
   "id": "dc7faa72-ff7b-47cf-8419-1dc682dcc77b",
   "metadata": {},
   "outputs": [],
   "source": [
    "shopping_trip = {\n",
    "    'rice (lbs)' : 1,\n",
    "    'onions' : 2,\n",
    "    'spinach (lbs)': 1\n",
    "}"
   ]
  },
  {
   "cell_type": "code",
   "execution_count": null,
   "id": "c3d92344-f8cf-4a4d-b9fe-d3f1d048997e",
   "metadata": {},
   "outputs": [],
   "source": [
    "# pantry + shopping_trip\n",
    "# TypeError: unsupported operand type(s) for +: 'dict' and 'dict'"
   ]
  },
  {
   "cell_type": "markdown",
   "id": "6265e58e-0993-4715-a75b-52e0f4e93c06",
   "metadata": {},
   "source": [
    "How can we get objects that does the usual `dict` things *but also* support\n",
    "```\n",
    "pantry + shopping_trip = \n",
    "{\n",
    "    \"rice (lbs)\" : 3,\n",
    "    \"harissa (jars)\" : 1,\n",
    "    \"onions\" : 7,\n",
    "    \"lemons\" : 3,\n",
    "    \"spinach (lbs)\" : 1\n",
    "}\n",
    "```\n",
    "?\n",
    "\n",
    "=> we can do this by implementing a new class that inherits from dict and adding new methods to it. \n",
    "\n",
    "Inheritance is one of the superpowers of object-oriented programming. It lets classes reuse code from other classes & gives hierarchical structure to objects.\n",
    "\n",
    "Define new class A that inherits from B by writing\n",
    "```\n",
    "class A(B):\n",
    "    pass \n",
    "```\n"
   ]
  },
  {
   "cell_type": "code",
   "execution_count": null,
   "id": "ae4125ce-7122-4f12-b612-4ef9815028d5",
   "metadata": {},
   "outputs": [],
   "source": [
    "class ArithmeticDict(dict): # ArithmeticDict inherits from dict, all of its methods and attributes \n",
    "    pass\n",
    "\n",
    "class RandomDict(ArithmeticDict): # RandomDict inherits from ArithmeticDict, all of its methods and attributes\n",
    "    pass"
   ]
  },
  {
   "cell_type": "code",
   "execution_count": null,
   "id": "73a382f7-a16c-4c0c-9ea7-2bb43bd07542",
   "metadata": {},
   "outputs": [],
   "source": [
    "# this is NOT how inheritance works\n",
    "# you need to put the CLASS inside the parentheses, not an INSTANCE of the class \n",
    "\n",
    "D = {1: 2}\n",
    "\n",
    "class ArithmeticDict1(D):\n",
    "    pass"
   ]
  },
  {
   "cell_type": "code",
   "execution_count": null,
   "id": "2f3eea75-630b-4b25-a243-19b8a7c8acb1",
   "metadata": {},
   "outputs": [],
   "source": [
    "D = ArithmeticDict() # D is an instance of class ArithmeticDict\n",
    "\n",
    "# D can do anything that an instance of dict can do\n",
    "\n",
    "D['5'] = 1\n",
    "D.update({'2': 5, '1': 6})\n",
    "print(D)\n",
    "\n",
    "# so can X, which is an instance of RandomDict\n",
    "X = RandomDict()\n",
    "X['5'] = 1\n",
    "X.update({'2': 5, '1': 6})\n",
    "print(X)\n",
    "\n",
    "# behind the scenes of X.update({'2': 5, '1': 6}):\n",
    "# 1. Python looks for an update method in RandomDict\n",
    "# 2. doesn't find it, so goes up the chain\n",
    "# 3. looks for an update method in ArithmeticDict\n",
    "# 4. doesn't find it, so goes up the chain\n",
    "# 5. looks for an update method in dict\n",
    "# 6. calls that dict method"
   ]
  },
  {
   "cell_type": "markdown",
   "id": "b1cd2935-91f4-4968-b309-af805d138046",
   "metadata": {},
   "source": [
    "`isinstance(obj, class)`: True if obj is instance of class, False else"
   ]
  },
  {
   "cell_type": "code",
   "execution_count": null,
   "id": "48d3a0f9-906c-4589-b10c-023dbb77a116",
   "metadata": {},
   "outputs": [],
   "source": [
    "print(type(D), type(X))"
   ]
  },
  {
   "cell_type": "code",
   "execution_count": null,
   "id": "151691ef-e5a4-4c78-ac8d-adadb60e7a93",
   "metadata": {},
   "outputs": [],
   "source": [
    "isinstance(X, RandomDict), isinstance(X, ArithmeticDict), isinstance(X, dict) \n",
    "# an instance of a RandomDict is also an instance of ArithmeticDict and dict"
   ]
  },
  {
   "cell_type": "code",
   "execution_count": null,
   "id": "5caab40e-fe30-4218-b1e8-2b6568db921f",
   "metadata": {},
   "outputs": [],
   "source": [
    "isinstance(D, RandomDict), isinstance(D, ArithmeticDict), isinstance(D, dict)\n",
    "# every instance of class ArithmeticDict is also an instance of dict"
   ]
  },
  {
   "cell_type": "code",
   "execution_count": null,
   "id": "be3790ed-48bd-4e79-a8e1-3417f67be9e2",
   "metadata": {},
   "outputs": [],
   "source": [
    "# check the difference from:\n",
    "type(D) == RandomDict, type(D) == ArithmeticDict, type(D) == dict"
   ]
  },
  {
   "cell_type": "markdown",
   "id": "86865678-47e0-49d2-b88f-e8279d31add6",
   "metadata": {},
   "source": [
    "`issubclass(class A, class B)`: True if class A is a subclass of class B, False else"
   ]
  },
  {
   "cell_type": "code",
   "execution_count": null,
   "id": "8e5facde-4b6c-4808-9a98-b96bd59d2178",
   "metadata": {},
   "outputs": [],
   "source": [
    "issubclass(RandomDict, ArithmeticDict), issubclass(ArithmeticDict, dict), issubclass(RandomDict, dict)\n",
    "# note that RandomDict is also a subclass of dict"
   ]
  },
  {
   "cell_type": "markdown",
   "id": "76939781-2aaf-4828-91bb-b4849d9df3d4",
   "metadata": {},
   "source": [
    "Let's make that new class that can handle A + B the way we want"
   ]
  },
  {
   "cell_type": "code",
   "execution_count": null,
   "id": "f116c063-b5d3-48e7-9b46-449772a436b8",
   "metadata": {},
   "outputs": [],
   "source": [
    "class ArithmeticDict(dict):\n",
    "    def __add__(self, other): \n",
    "        # self has to be an instance of ArithmeticDict\n",
    "        # we assume for now that other is also an instance of ArithmeticDict\n",
    "        \n",
    "        new = self.copy() # this is a dictionary... why?\n",
    "        #print(type(new)) \n",
    "        \n",
    "        for key, value in other.items():\n",
    "            if key in new:\n",
    "                new[key] += value\n",
    "            else:\n",
    "                new[key] = value\n",
    "        \n",
    "        return ArithmeticDict(new) # return a new instance of ArithmeticDict\n"
   ]
  },
  {
   "cell_type": "code",
   "execution_count": null,
   "id": "a6722abc-3fa8-46e6-a02e-1731dd36a324",
   "metadata": {},
   "outputs": [],
   "source": [
    "# https://docs.python.org/3/library/stdtypes.html#typesmapping\n",
    "\n",
    "# class dict:\n",
    "#     def __init__(self, items):\n",
    "#         pass\n",
    "#         # if items is None, create empty dict\n",
    "#         # if there is items, keep that dictionary\n",
    "#     def copy(self):\n",
    "#         # returns copy of self, which is a dictionary\n"
   ]
  },
  {
   "cell_type": "code",
   "execution_count": null,
   "id": "d13bca22-1bac-48d9-8256-53a618c83e73",
   "metadata": {},
   "outputs": [],
   "source": [
    "pantry = {\n",
    "    'rice (lbs)' : 2,\n",
    "    'harissa (jars)' : 1,\n",
    "    'onions' : 5,\n",
    "    'lemons' : 3\n",
    "}\n",
    "\n",
    "shopping_trip = {\n",
    "    'rice (lbs)' : 1,\n",
    "    'onions' : 2,\n",
    "    'spinach (lbs)': 1\n",
    "}"
   ]
  },
  {
   "cell_type": "code",
   "execution_count": null,
   "id": "ecf12833-a8d7-4a37-abb0-a67b9cc787ff",
   "metadata": {},
   "outputs": [],
   "source": [
    "for key, value in pantry.items(): #[('rice (lbs)', 2), ('harissa (jars)', 1), ...]\n",
    "    print(key, value)"
   ]
  },
  {
   "cell_type": "code",
   "execution_count": null,
   "id": "c1fe9cdf-c20e-4325-b0bb-1db0ea3725b0",
   "metadata": {},
   "outputs": [],
   "source": [
    "#ArithmeticDict([1, 2, 3, 4])"
   ]
  },
  {
   "cell_type": "code",
   "execution_count": null,
   "id": "2054a0e2-a94b-4061-a9de-2006f1649c79",
   "metadata": {},
   "outputs": [],
   "source": [
    "pantry_A = ArithmeticDict(pantry)\n",
    "shopping_trip_A = ArithmeticDict(shopping_trip)\n",
    "\n",
    "print(pantry_A)"
   ]
  },
  {
   "cell_type": "code",
   "execution_count": null,
   "id": "db31f681-ff71-431f-af23-91295a235efe",
   "metadata": {},
   "outputs": [],
   "source": [
    "D =  pantry_A + shopping_trip_A\n",
    "print(D)\n",
    "print(type(D), isinstance(D, dict))"
   ]
  },
  {
   "cell_type": "markdown",
   "id": "04a48fce-e9ac-4617-9d79-9c8fd49100cb",
   "metadata": {},
   "source": [
    "You can override superclass's methods by defining methods with the SAME NAME in your new class"
   ]
  },
  {
   "cell_type": "markdown",
   "id": "100a97f9-c5e4-41e6-b5e7-21b83fd87dc3",
   "metadata": {},
   "source": [
    "`super()`: Python knows how to translate that into the superclass."
   ]
  },
  {
   "cell_type": "code",
   "execution_count": null,
   "id": "b6cd602b-622f-4461-a8a6-32dc9fc891e9",
   "metadata": {},
   "outputs": [],
   "source": [
    "class Cat: # define class\n",
    "    \n",
    "    genus = \"Felis\"\n",
    "    species = \"catus\"\n",
    "    \n",
    "    def __init__(self, size, color):\n",
    "        self.size = size\n",
    "        self.color = color \n",
    "    \n",
    "    def describe(self, s): # method belonging to Cat class\n",
    "        print(s, 'color:', self.color, 'size:', self.size)\n",
    " "
   ]
  },
  {
   "cell_type": "code",
   "execution_count": null,
   "id": "b6485afa-cf2b-47a2-934a-341ddf97eb39",
   "metadata": {},
   "outputs": [],
   "source": [
    "class TortieCat(Cat):\n",
    "    def __init__(self, size): # size = 'medium'\n",
    "        super().__init__(size, 'tortie')\n",
    "        # Python knows how to translate this to Cat.__init__(self, size, 'tortie')\n",
    "        \n",
    "        # by the end of this __init__ method, \n",
    "        # self.size = size\n",
    "        # self.color = 'tortie' \n",
    "        # now we can run puppycat = TortieCat('medium')\n",
    "    def describe(self, s): # overriding \n",
    "        print(s, \"tortie cat of size:\", self.size)"
   ]
  },
  {
   "cell_type": "code",
   "execution_count": null,
   "id": "e3e6fb07-aecb-42ca-b6b1-4cc6c5bd2202",
   "metadata": {},
   "outputs": [],
   "source": [
    "tcat = Cat('medium', 'tortie')\n",
    "tcat.describe('hello')"
   ]
  },
  {
   "cell_type": "code",
   "execution_count": null,
   "id": "c87f5daf-37d6-48fb-a648-bf491a7bcaf1",
   "metadata": {},
   "outputs": [],
   "source": [
    "tcat = TortieCat('medium')\n",
    "tcat.describe('hello')"
   ]
  },
  {
   "cell_type": "markdown",
   "id": "409c5262-a51b-423e-8886-bb7959a1da18",
   "metadata": {},
   "source": [
    "## Iterators\n",
    "\n",
    "Container objects can be looped over using a for loop, but how?\n",
    "\n"
   ]
  },
  {
   "cell_type": "code",
   "execution_count": null,
   "id": "34055802-879b-4320-8e4d-0e9563fb941a",
   "metadata": {
    "tags": []
   },
   "outputs": [],
   "source": [
    "for element in [1, 2, 3]:\n",
    "    print(element)\n",
    "    \n",
    "for element in (1, 2, 3):\n",
    "    print(element)\n",
    "    \n",
    "for element in {1, 2, 3}:\n",
    "    print(element)\n",
    "    \n",
    "for key in {'one':1, 'two':2}:\n",
    "    print(key)  # iterate over keys but not values\n",
    "    \n",
    "for char in \"ABC\":\n",
    "    print(char)"
   ]
  },
  {
   "cell_type": "markdown",
   "id": "f6ae4b99-f96d-4f3c-866a-251a98201595",
   "metadata": {},
   "source": [
    "Generally, you can use for loops with __iterables__, which are objects that provide an __iterator__ through the method `__iter()__`."
   ]
  },
  {
   "cell_type": "code",
   "execution_count": null,
   "id": "4eef207c-3a11-44e3-9fd0-d51193088ec1",
   "metadata": {
    "tags": []
   },
   "outputs": [],
   "source": [
    "print(range(5).__iter__())"
   ]
  },
  {
   "cell_type": "markdown",
   "id": "b06a6d7b-8e71-41fe-b742-724e5be73e56",
   "metadata": {
    "tags": []
   },
   "source": [
    "An __iterator__ provides access to the elements with the method `__next__()`.\n",
    "\n",
    "The following loop manually iterates through `range(5)`, an iterable."
   ]
  },
  {
   "cell_type": "code",
   "execution_count": null,
   "id": "afe62d32-cb2c-4db0-83ff-3c2356daed17",
   "metadata": {
    "tags": []
   },
   "outputs": [],
   "source": [
    "itr = range(5).__iter__()\n",
    "while True:\n",
    "    print(itr.__next__())"
   ]
  },
  {
   "cell_type": "markdown",
   "id": "b2f2ad9b-74b4-43ef-b566-2865d4869b45",
   "metadata": {},
   "source": [
    "Usually, there is no need to directly call `__iter__`; it is better to use a `for` loop. The example above is for learning purposes.\n",
    "\n",
    "The end of the iterator is signaled using an `StopIteration` exception."
   ]
  },
  {
   "cell_type": "code",
   "execution_count": null,
   "id": "16742efc-9d57-4d9d-b14b-b739e4d431a5",
   "metadata": {
    "tags": []
   },
   "outputs": [],
   "source": [
    "itr = range(5).__iter__()\n",
    "while True:\n",
    "    try:\n",
    "        print(itr.__next__())\n",
    "    except StopIteration:\n",
    "        break"
   ]
  },
  {
   "cell_type": "code",
   "execution_count": null,
   "id": "146c7737-006b-447e-9e64-3741be159b21",
   "metadata": {
    "tags": []
   },
   "outputs": [],
   "source": [
    "class Sentence:\n",
    "    def __init__(self, sentence):\n",
    "        self.sentence = sentence\n",
    "        \n",
    "    def __iter__(self):\n",
    "        return SentenceIter(self.sentence)\n",
    "\n",
    "class SentenceIter:\n",
    "    def __init__(self, sentence):\n",
    "        self.words = sentence.split()  # returns a list of words separated by spaces\n",
    "        self.index = 0\n",
    "\n",
    "    def __next__(self):\n",
    "        if self.index >= len(self.words):\n",
    "            raise StopIteration  # StopIteration exception signals end of iterator\n",
    "        index = self.index\n",
    "        self.index += 1\n",
    "        return self.words[index]\n"
   ]
  },
  {
   "cell_type": "code",
   "execution_count": null,
   "id": "d533d9f1-2fd5-4ccb-ad1f-ab2bb77b5f72",
   "metadata": {
    "tags": []
   },
   "outputs": [],
   "source": [
    "my_sentence = Sentence('This is a test')\n",
    "# for word in my_sentence:\n",
    "#     print(word)\n",
    "\n",
    "stIter = iter(my_sentence)\n",
    "\n",
    "print(next(stIter))\n",
    "print(next(stIter))\n",
    "print(next(stIter))\n",
    "print(next(stIter))\n",
    "print(next(stIter))  # out of elements"
   ]
  },
  {
   "cell_type": "code",
   "execution_count": null,
   "id": "e1573538-cdff-4ce3-9574-2ca50026bfe8",
   "metadata": {},
   "outputs": [],
   "source": [
    "class Fibo:\n",
    "    def __init__(self):\n",
    "        self.index = -1\n",
    "        \n",
    "    def __iter__(self):\n",
    "        return self\n",
    "    \n",
    "    def __next__(self):\n",
    "        self.index += 1\n",
    "        if self.index == 0:\n",
    "            return 0\n",
    "        elif self.index == 1:\n",
    "            self.prev, self.curr = 0, 1\n",
    "            return 1\n",
    "        else:\n",
    "            next = self.prev + self.curr\n",
    "            self.prev, self.curr = self.curr, next\n",
    "            return self.curr\n",
    "\n",
    "\n",
    "for num in Fibo():\n",
    "    if num > 100:\n",
    "        break\n",
    "    print(num)"
   ]
  },
  {
   "cell_type": "markdown",
   "id": "19970b4a-7df2-4011-9a8c-110727e2a5fa",
   "metadata": {},
   "source": [
    "## Generators\n",
    "https://docs.python.org/3/tutorial/classes.html#generators"
   ]
  },
  {
   "cell_type": "markdown",
   "id": "f30ca707-083d-48b1-b1af-4326c2dab178",
   "metadata": {},
   "source": [
    "generators are syntactic shortcut for writing iterators. \n",
    "\n",
    "the main differences are: syntax looks like a function and not a class, and uses the keyword `yield` where you would normally use `return`"
   ]
  },
  {
   "cell_type": "code",
   "execution_count": null,
   "id": "4c2f88de-168a-4332-8efe-c879c8550e27",
   "metadata": {
    "tags": []
   },
   "outputs": [],
   "source": [
    "def word_generator(sentence):\n",
    "    words = sentence.split()\n",
    "    for w in words: \n",
    "        yield w\n",
    "    \n"
   ]
  },
  {
   "cell_type": "markdown",
   "id": "60dee2ec-7ee1-4068-8b40-cb47219e1bf7",
   "metadata": {},
   "source": [
    "Although `word_generator` is written like a function, there is an important difference: `word_generator` __remembers the value of `i`__ between calls of `next()`. This is an example of a __stateful__ operation -- the result of the call `next(it)` depends on the __state__ of it.\n",
    "\n",
    "Iterators and generators provide an easy way to define operations that remember their state, while custom classes are a more general, but often more labor-intensive, solution."
   ]
  },
  {
   "cell_type": "code",
   "execution_count": null,
   "id": "834d530b-5c13-42cc-994c-26417bb4c5ba",
   "metadata": {
    "tags": []
   },
   "outputs": [],
   "source": [
    "data = \"Hello my name is Seyoon\"\n",
    "\n",
    "Gen = word_generator(data)\n"
   ]
  },
  {
   "cell_type": "code",
   "execution_count": null,
   "id": "c474ae8b-79e6-4885-9ccd-0b6d55d0833e",
   "metadata": {
    "tags": []
   },
   "outputs": [],
   "source": [
    "for w in Gen:\n",
    "    print(letter)"
   ]
  },
  {
   "cell_type": "markdown",
   "id": "fcda3f95-55bd-4358-9850-4afea6e7499d",
   "metadata": {},
   "source": [
    "Iterables are not required to end. "
   ]
  },
  {
   "cell_type": "code",
   "execution_count": null,
   "id": "20ad5ed6-ae5c-4fff-9139-3f59e8ae016c",
   "metadata": {
    "tags": []
   },
   "outputs": [],
   "source": [
    "def fibonacci():\n",
    "    x, y = 0, 1\n",
    "    while True:\n",
    "        yield x\n",
    "        x, y = y, x + y"
   ]
  },
  {
   "cell_type": "code",
   "execution_count": null,
   "id": "166e993d-5a97-4b75-ab96-1f65772ac421",
   "metadata": {
    "tags": []
   },
   "outputs": [],
   "source": [
    "f = fibonacci()\n",
    "for n in f:\n",
    "    if n > 100:\n",
    "        break\n",
    "    print(n)"
   ]
  }
 ],
 "metadata": {
  "kernelspec": {
   "display_name": "Python [conda env:PIC16B-24W] *",
   "language": "python",
   "name": "conda-env-PIC16B-24W-py"
  },
  "language_info": {
   "codemirror_mode": {
    "name": "ipython",
    "version": 3
   },
   "file_extension": ".py",
   "mimetype": "text/x-python",
   "name": "python",
   "nbconvert_exporter": "python",
   "pygments_lexer": "ipython3",
   "version": "3.11.6"
  }
 },
 "nbformat": 4,
 "nbformat_minor": 5
}
