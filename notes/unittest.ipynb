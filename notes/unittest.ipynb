{
 "cells": [
  {
   "cell_type": "markdown",
   "id": "2cfaa2a9-c438-480a-8ad5-ef363144c20d",
   "metadata": {},
   "source": [
    "## Unit testing\n",
    "\n",
    "Let's think about a function that looks up dictionary keys with a certain `val`. "
   ]
  },
  {
   "cell_type": "code",
   "execution_count": null,
   "id": "1d337c65",
   "metadata": {},
   "outputs": [],
   "source": [
    "def reverse_lookup(D, val):\n",
    "    \"\"\"\n",
    "    Finds all keys in dictionary D with value val\n",
    "    \"\"\"\n",
    "    if not isinstance(D, dict):\n",
    "        raise TypeError(\"First argument must be a dict!\")\n",
    "    \n",
    "    return [key for key in D.keys() if D[key] == val] # [x for x in L if x is something]"
   ]
  },
  {
   "cell_type": "markdown",
   "id": "7c479f77-f3c2-49d2-9387-c59e39b9d398",
   "metadata": {},
   "source": [
    "Example usage would be with the dictionary `D` as following:"
   ]
  },
  {
   "cell_type": "code",
   "execution_count": null,
   "id": "9b7f099f",
   "metadata": {},
   "outputs": [],
   "source": [
    "D = {\"Potter\": \"student\",\n",
    "     \"Dumbledore\": \"professor\",\n",
    "     \"Malfoy\": \"student\", \n",
    "     \"Snape\": \"professor\"}"
   ]
  },
  {
   "cell_type": "markdown",
   "id": "802acb98-1566-4468-9bbf-925b1a0affa8",
   "metadata": {},
   "source": [
    "`reverse_lookup(D, \"Student\")` should be `[\"Potter\", \"Malfoy\"]."
   ]
  },
  {
   "cell_type": "code",
   "execution_count": null,
   "id": "8b0f7c97",
   "metadata": {},
   "outputs": [],
   "source": [
    "reverse_lookup(D, \"student\") # expect to see [\"Potter\", \"Malfoy\"]"
   ]
  },
  {
   "cell_type": "markdown",
   "id": "39b4c43c-4a99-477d-8402-ff67adf3ad76",
   "metadata": {},
   "source": [
    "And should expect an empty list if the key with that value does not exist."
   ]
  },
  {
   "cell_type": "code",
   "execution_count": null,
   "id": "0c40b723",
   "metadata": {},
   "outputs": [],
   "source": [
    "reverse_lookup(D, \"owl\") # expect to see []"
   ]
  },
  {
   "cell_type": "code",
   "execution_count": null,
   "id": "05843827",
   "metadata": {},
   "outputs": [],
   "source": [
    "D = [\"Potter\", \"Dumbledore\", \"Malfoy\", \"Snape\"]\n",
    "\n",
    "reverse_lookup(D, \"student\") # expect to see TypeError raised"
   ]
  },
  {
   "cell_type": "markdown",
   "id": "a952eab1",
   "metadata": {},
   "source": [
    "How do we systematically check if the function is working as expected? We have a formal way using the `unittest` module. \n",
    "\n",
    "unittest https://docs.python.org/3/library/unittest.html\n",
    "\n",
    "https://docs.python.org/3/library/unittest.html#assert-methods"
   ]
  },
  {
   "cell_type": "code",
   "execution_count": null,
   "id": "3f5a2032",
   "metadata": {},
   "outputs": [],
   "source": [
    "import unittest"
   ]
  },
  {
   "cell_type": "code",
   "execution_count": null,
   "id": "b4846f6e",
   "metadata": {},
   "outputs": [],
   "source": [
    "class TestReverseLookUp(unittest.TestCase): # class called TestCase defined in module unittest\n",
    "    \n",
    "    def test_standard_lookup(self):\n",
    "        D = {\"Potter\": \"student\",\n",
    "                \"Dumbledore\": \"professor\",\n",
    "                \"Malfoy\": \"student\", \n",
    "                \"Snape\": \"professor\"}\n",
    "        res = reverse_lookup(D, \"student\") # expect to see [\"Potter\", \"Malfoy\"]\n",
    "        self.assertEqual(len(res), 2) # assert that len(res) == 2\n",
    "        \n",
    "    def test_no_match(self):\n",
    "        D = {\"Potter\": \"student\",\n",
    "                \"Dumbledore\": \"professor\",\n",
    "                \"Malfoy\": \"student\", \n",
    "                \"Snape\": \"professor\"}\n",
    "        \n",
    "        res = reverse_lookup(D, \"owl\") \n",
    "        self.assertEqual(len(res), 0)\n",
    "        \n",
    "    def test_type_error(self):\n",
    "        D = [\"Potter\", \"Dumbledore\", \"Malfoy\", \"Snape\"]\n",
    "        \n",
    "        with self.assertRaises(TypeError):\n",
    "            reverse_lookup(D, \"student\") # assert that this line raises a TypeError\n",
    "    \n",
    "    # purposefully wrong test case to show you what happens when a test fails\n",
    "    def test_prof_incorrect(self):\n",
    "        D = {\"Potter\": \"student\",\n",
    "                \"Dumbledore\": \"professor\",\n",
    "                \"Malfoy\": \"student\", \n",
    "                \"Snape\": \"professor\"}\n",
    "        res = reverse_lookup(D, \"professor\")\n",
    "        self.assertEqual(len(res), 3)"
   ]
  },
  {
   "cell_type": "code",
   "execution_count": null,
   "id": "d56c89c6",
   "metadata": {},
   "outputs": [],
   "source": [
    "tester = TestReverseLookUp()"
   ]
  },
  {
   "cell_type": "code",
   "execution_count": null,
   "id": "ef06de9f",
   "metadata": {},
   "outputs": [],
   "source": [
    "tester.test_standard_lookup()\n",
    "tester.test_no_match()\n",
    "tester.test_type_error()\n",
    "\n",
    "# if nothing happens, that means your code passed all the test cases"
   ]
  },
  {
   "cell_type": "code",
   "execution_count": null,
   "id": "dea5782f",
   "metadata": {},
   "outputs": [],
   "source": [
    "tester.test_prof_incorrect()"
   ]
  },
  {
   "cell_type": "markdown",
   "id": "28056939",
   "metadata": {},
   "source": [
    "### Tests in Modules\n",
    "While this test setup works well, it's cumbersome -- you need to call and run the tests by hand each time. The standard and much more convenient approach is to embed your tests into the module in which you define your classes and functions. An example of this approach is shown in the accompanying file `unit_test_example.py`. The key trick is in the following two lines:\n",
    "\n",
    "```python\n",
    "if __name__ == \"__main__\":\n",
    "    unittest.main()\n",
    "```\n",
    "\n",
    "The `unittest.main()` method will find all classes that inherit from `unittest.TestCase`, construct an instance of each class, and then run each method of each class exactly once, with custom exception handling to ensure that all tests run even if some of them produce `AssertionError`s. It will then give a summary of the number of failures and the time it took to run the tests. The first line ensures that the unit tests are performed only when running the module as a script, and not when importing the module.\n",
    "\n",
    "```python\n",
    "import unit_test_example # tests not run\n",
    "```"
   ]
  },
  {
   "cell_type": "code",
   "execution_count": null,
   "id": "04c428bf-e08a-4a66-9d0f-0a3597a161a6",
   "metadata": {
    "tags": []
   },
   "outputs": [],
   "source": [
    "import unit_test_example"
   ]
  },
  {
   "cell_type": "code",
   "execution_count": null,
   "id": "29a1fa7d-7454-42c8-aab0-18f2cbb6f676",
   "metadata": {},
   "outputs": [],
   "source": [
    "unit_test_example.reverse_lookup"
   ]
  }
 ],
 "metadata": {
  "kernelspec": {
   "display_name": "Python 3 (ipykernel)",
   "language": "python",
   "name": "python3"
  },
  "language_info": {
   "codemirror_mode": {
    "name": "ipython",
    "version": 3
   },
   "file_extension": ".py",
   "mimetype": "text/x-python",
   "name": "python",
   "nbconvert_exporter": "python",
   "pygments_lexer": "ipython3",
   "version": "3.11.6"
  }
 },
 "nbformat": 4,
 "nbformat_minor": 5
}
