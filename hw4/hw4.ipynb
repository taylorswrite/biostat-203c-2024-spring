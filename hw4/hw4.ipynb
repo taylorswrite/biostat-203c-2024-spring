{
 "cells": [
  {
   "cell_type": "markdown",
   "id": "4a5ec0ce-a3ed-4d8c-ba9b-eda7d7ac5ba2",
   "metadata": {},
   "source": [
    "# Homework 4"
   ]
  },
  {
   "cell_type": "markdown",
   "id": "483292de-c8df-47fd-97a3-ac44957f53f7",
   "metadata": {},
   "source": [
    "Due date: May 26, 2024\n",
    "\n",
    "### Submission instructions: \n",
    "- __Autograder will not be used for scoring, but you still need to submit the python file converted from this notebook (.py) and the notebook file (.ipynb) to the code submission window.__ \n",
    "To convert a Jupyter Notebook (`.ipynb`) to a regular Python script (`.py`):\n",
    "  - In Jupyter Notebook: File > Download as > Python (.py)\n",
    "  - In JupyterLab: File > Save and Export Notebook As... > Executable Script\n",
    "  - In VS Code Jupyter Notebook App: In the toolbar, there is an Export menu. Click on it, and select Python script.\n",
    "- Submit `hw4.ipynb` and `hw4.py` on Gradescope under the window \"Homework 4 - code\". Do **NOT** change the file name.\n",
    "- Convert this notebook into a pdf file and submit it on Gradescope under the window \"Homework 4 - PDF\". Make sure all your code and text outputs in the problems are visible. \n",
    "\n",
    "\n",
    "### General instructions: \n",
    "\n",
    "In this homework, we will use pandas to build a cohort of ICU stays and visualize the results from the MIMIC-IV dataset, which you did for Homework 3 in BIOSTAT 203B. \n",
    "\n",
    "For processing the Parquet files, one other option is [`polars`](https://pola.rs/). The package is designed for rapid analysis of data frames, possibly larger than memory, with pandas-like syntax, Apache Arrow-based data representation and the Rust language as its backend. Syntax is similar to what you have used for `pyarrow`. You are allowed to use any method you like for analyzing data, but use of `pyarrow`, `duckdb`, or `polars` is certainly recommended for larger files to save your memory and time. (_Hint_: If you want to try `polars`, look into `scan_parquet()` and `LazyFrame`. The package `polars` supports lazy evaluation similar to what you have seen in the R `arrow` package.)\n",
    "\n",
    "For visualization, you may use packages `matplotlib`, `seaborn`, and/or `plotly`. The use of `plotnine` is not allowed."
   ]
  },
  {
   "cell_type": "markdown",
   "id": "a64a3d0c-a13d-41df-b140-7494951b94e2",
   "metadata": {},
   "source": [
    "Please run the code below to show your system information:"
   ]
  },
  {
   "cell_type": "code",
   "execution_count": null,
   "id": "6176177f-b7b8-4a86-9ec7-67f1ebf5905a",
   "metadata": {
    "tags": []
   },
   "outputs": [],
   "source": [
    "import platform, psutil, json\n",
    "def get_system_info():\n",
    "    try:\n",
    "        info={}\n",
    "        info['platform']=platform.system()\n",
    "        info['platform-release']=platform.release()\n",
    "        info['platform-version']=platform.version()\n",
    "        info['architecture']=platform.machine()\n",
    "        info['processor']=platform.processor()\n",
    "        info['ram']=str(round(psutil.virtual_memory().total / (1024.0 **3)))+\" GB\"\n",
    "        for k, v in info.items():\n",
    "            print(f\"{k}:\\t{v}\")\n",
    "    except Exception as e:\n",
    "        logging.exception(e)"
   ]
  },
  {
   "cell_type": "code",
   "execution_count": null,
   "id": "1dd86c1f-0eca-4589-876b-59feea048f1a",
   "metadata": {
    "tags": []
   },
   "outputs": [],
   "source": [
    "get_system_info()"
   ]
  },
  {
   "cell_type": "code",
   "execution_count": 1,
   "id": "388ae46c-95ed-4947-9e78-5441b0a63de9",
   "metadata": {
    "tags": []
   },
   "outputs": [],
   "source": [
    "import pandas as pd\n",
    "import numpy as np\n",
    "import seaborn as sns\n",
    "import pyarrow as pa\n",
    "import duckdb\n",
    "import plotly.express as px"
   ]
  },
  {
   "cell_type": "markdown",
   "id": "e72d1891-e144-4aec-83d8-b8e27bb9698b",
   "metadata": {},
   "source": [
    "## Problem 1. Visualizing patient trajectory\n",
    "\n",
    "Visualizing a patient’s encounters in a health care system is a common task in clinical data analysis. In this question, we will visualize a patient’s ADT (admission-discharge-transfer) history and ICU vitals in the MIMIC-IV data."
   ]
  },
  {
   "cell_type": "markdown",
   "id": "a15d1fd7-5922-42fd-8acc-923e8803f1d0",
   "metadata": {},
   "source": [
    "### (A). ADT history\n",
    "A patient’s ADT history records the time of admission, discharge, and transfer in the hospital. This figure shows the ADT history of the patient with subject_id `10001217` in the MIMIC-IV data. The x-axis is the calendar time, and the y-axis is the type of event (ADT, lab, procedure). The color of the line segment represents the care unit. The size of the line segment represents whether the care unit is an ICU/CCU. The crosses represent lab events, and the shape of the dots represents the type of procedure. The title of the figure shows the patient’s demographic information and the subtitle shows top 3 diagnoses. Try to create a figure similar to the below:\n",
    "\n",
    "<figure>\n",
    "  <img src=\"https://raw.githubusercontent.com/ucla-biostat-203b/2024winter/main/hw/hw3/10001217_adt.png\" style=\"width:600px\">\n",
    "</figure>\n",
    "\n",
    "\n",
    "Your figure does not need to be the same, but all the information in this figure should be reasonably arranged in your figure. Hint: consider using `dodge` keyword arguments of seaborn to do something similar to `jitter` of `ggplot2`. \n",
    "\n",
    "\n",
    "\n",
    "Hint: We need to pull information from data files `patients.csv.gz`, `admissions.csv.gz`, `transfers.csv.gz`, `labevents.csv.gz`, `procedures_icd.csv.gz`, `diagnoses_icd.csv.gz`, `d_icd_procedures.csv.gz`, and `d_icd_diagnoses.csv.gz`. For the big file `labevents.csv.gz`, use the Parquet file you generated in Homework 3. More information is available in later problems.\n",
    "\n",
    "For reproducibility, make the Parquet file available at the current working directory, for example, by a symbolic link. Make your code reproducible using relative path.\n",
    "\n",
    "Do a similar visualization for the patient `10013310`."
   ]
  },
  {
   "cell_type": "markdown",
   "id": "517cb7da-e92b-4383-a6ca-b763dc20d355",
   "metadata": {},
   "source": [
    "### (B). ICU stays\n",
    "ICU stays are a subset of ADT history. This figure shows the vitals of the patient `10001217` during ICU stays. The x-axis is the calendar time, and the y-axis is the value of the vital. The color of the line represents the type of vital. The facet grid shows the abbreviation of the vital and the stay ID. These vitals are: heart rate (220045), systolic non-invasive blood pressure (220179), diastolic non-invasive blood pressure (220180), body temperature in Fahrenheit (223761), and respiratory rate (220210). Try to create a figure similar to below:\n",
    "\n",
    "\n",
    "<figure>\n",
    "  <img src=\"https://raw.githubusercontent.com/ucla-biostat-203b/2024winter/main/hw/hw3/10001217_icu.png\" style=\"width:600px\">\n",
    "</figure>\n",
    "\n",
    "Repeat a similar visualization for the patient `10013310`."
   ]
  },
  {
   "cell_type": "code",
   "execution_count": null,
   "id": "b473681e-10e0-41dc-bef2-c4d63478df89",
   "metadata": {},
   "outputs": [],
   "source": []
  },
  {
   "cell_type": "markdown",
   "id": "6244ac93-d851-494a-9e79-3045a9d0f3c0",
   "metadata": {},
   "source": [
    "## Problem 2. ICU stays"
   ]
  },
  {
   "cell_type": "markdown",
   "id": "1a3856d9-9464-434d-bcb8-73d773a75845",
   "metadata": {},
   "source": [
    "`icustays.csv.gz` (https://mimic.mit.edu/docs/iv/modules/icu/icustays/) contains data about Intensive Care Units (ICU) stays. The first 10 lines are:"
   ]
  },
  {
   "cell_type": "code",
   "execution_count": 2,
   "id": "e5df16e2-3f44-4a3a-ab16-02098b8c6004",
   "metadata": {
    "tags": []
   },
   "outputs": [
    {
     "name": "stdout",
     "output_type": "stream",
     "text": [
      "subject_id,hadm_id,stay_id,first_careunit,last_careunit,intime,outtime,los\n",
      "10000032,29079034,39553978,Medical Intensive Care Unit (MICU),Medical Intensive Care Unit (MICU),2180-07-23 14:00:00,2180-07-23 23:50:47,0.4102662037037037\n",
      "10000980,26913865,39765666,Medical Intensive Care Unit (MICU),Medical Intensive Care Unit (MICU),2189-06-27 08:42:00,2189-06-27 20:38:27,0.4975347222222222\n",
      "10001217,24597018,37067082,Surgical Intensive Care Unit (SICU),Surgical Intensive Care Unit (SICU),2157-11-20 19:18:02,2157-11-21 22:08:00,1.1180324074074075\n",
      "10001217,27703517,34592300,Surgical Intensive Care Unit (SICU),Surgical Intensive Care Unit (SICU),2157-12-19 15:42:24,2157-12-20 14:27:41,0.9481134259259258\n",
      "10001725,25563031,31205490,Medical/Surgical Intensive Care Unit (MICU/SICU),Medical/Surgical Intensive Care Unit (MICU/SICU),2110-04-11 15:52:22,2110-04-12 23:59:56,1.338587962962963\n",
      "10001884,26184834,37510196,Medical Intensive Care Unit (MICU),Medical Intensive Care Unit (MICU),2131-01-11 04:20:05,2131-01-20 08:27:30,9.171817129629629\n",
      "10002013,23581541,39060235,Cardiac Vascular Intensive Care Unit (CVICU),Cardiac Vascular Intensive Care Unit (CVICU),2160-05-18 10:00:53,2160-05-19 17:33:33,1.3143518518518518\n",
      "10002155,20345487,32358465,Medical Intensive Care Unit (MICU),Medical Intensive Care Unit (MICU),2131-03-09 21:33:00,2131-03-10 18:09:21,0.8585763888888889\n",
      "10002155,23822395,33685454,Coronary Care Unit (CCU),Coronary Care Unit (CCU),2129-08-04 12:45:00,2129-08-10 17:02:38,6.178912037037037\n",
      "zcat: error writing to output: Broken pipe\n"
     ]
    }
   ],
   "source": [
    "!zcat < ~/mimic/icu/icustays.csv.gz | head"
   ]
  },
  {
   "cell_type": "markdown",
   "id": "db68612f-6755-4916-8485-d72a0ad5e4c0",
   "metadata": {},
   "source": [
    "### (A). Ingestion"
   ]
  },
  {
   "cell_type": "markdown",
   "id": "e06854a3-b121-4f8b-92f5-b6bd4d761658",
   "metadata": {},
   "source": [
    "Import `icustays.csv.gz` as a DataFrame `icustays_df`."
   ]
  },
  {
   "cell_type": "markdown",
   "id": "d5678552-a26d-4296-bcf6-1a78bb60da36",
   "metadata": {},
   "source": [
    "### (B). Summary and visualization"
   ]
  },
  {
   "cell_type": "markdown",
   "id": "a67e4ae0-cf6f-4dd8-856f-bad0f3a33bf3",
   "metadata": {},
   "source": [
    "How many unique `subject_id`? Can a `subject_id` have multiple ICU stays? Summarize the number of ICU stays per `subject_id` by graphs."
   ]
  },
  {
   "cell_type": "markdown",
   "id": "b50d36ae-5bfc-433f-ad41-0a1d87925d2d",
   "metadata": {},
   "source": [
    "## Problem 3. `admissions` data\n",
    "\n",
    "Information of the patients admitted into hospital is available in `admissions.csv.gz`. See https://mimic.mit.edu/docs/iv/modules/hosp/admissions/ for details of each field in this file. The first 10 lines are"
   ]
  },
  {
   "cell_type": "code",
   "execution_count": 3,
   "id": "31d15378-1916-437b-8296-6b10f7457225",
   "metadata": {
    "tags": []
   },
   "outputs": [
    {
     "name": "stdout",
     "output_type": "stream",
     "text": [
      "subject_id,hadm_id,admittime,dischtime,deathtime,admission_type,admit_provider_id,admission_location,discharge_location,insurance,language,marital_status,race,edregtime,edouttime,hospital_expire_flag\n",
      "10000032,22595853,2180-05-06 22:23:00,2180-05-07 17:15:00,,URGENT,P874LG,TRANSFER FROM HOSPITAL,HOME,Other,ENGLISH,WIDOWED,WHITE,2180-05-06 19:17:00,2180-05-06 23:30:00,0\n",
      "10000032,22841357,2180-06-26 18:27:00,2180-06-27 18:49:00,,EW EMER.,P09Q6Y,EMERGENCY ROOM,HOME,Medicaid,ENGLISH,WIDOWED,WHITE,2180-06-26 15:54:00,2180-06-26 21:31:00,0\n",
      "10000032,25742920,2180-08-05 23:44:00,2180-08-07 17:50:00,,EW EMER.,P60CC5,EMERGENCY ROOM,HOSPICE,Medicaid,ENGLISH,WIDOWED,WHITE,2180-08-05 20:58:00,2180-08-06 01:44:00,0\n",
      "10000032,29079034,2180-07-23 12:35:00,2180-07-25 17:55:00,,EW EMER.,P30KEH,EMERGENCY ROOM,HOME,Medicaid,ENGLISH,WIDOWED,WHITE,2180-07-23 05:54:00,2180-07-23 14:00:00,0\n",
      "10000068,25022803,2160-03-03 23:16:00,2160-03-04 06:26:00,,EU OBSERVATION,P51VDL,EMERGENCY ROOM,,Other,ENGLISH,SINGLE,WHITE,2160-03-03 21:55:00,2160-03-04 06:26:00,0\n",
      "10000084,23052089,2160-11-21 01:56:00,2160-11-25 14:52:00,,EW EMER.,P6957U,WALK-IN/SELF REFERRAL,HOME HEALTH CARE,Medicare,ENGLISH,MARRIED,WHITE,2160-11-20 20:36:00,2160-11-21 03:20:00,0\n",
      "10000084,29888819,2160-12-28 05:11:00,2160-12-28 16:07:00,,EU OBSERVATION,P63AD6,PHYSICIAN REFERRAL,,Medicare,ENGLISH,MARRIED,WHITE,2160-12-27 18:32:00,2160-12-28 16:07:00,0\n",
      "10000108,27250926,2163-09-27 23:17:00,2163-09-28 09:04:00,,EU OBSERVATION,P38XXV,EMERGENCY ROOM,,Other,ENGLISH,SINGLE,WHITE,2163-09-27 16:18:00,2163-09-28 09:04:00,0\n",
      "10000117,22927623,2181-11-15 02:05:00,2181-11-15 14:52:00,,EU OBSERVATION,P2358X,EMERGENCY ROOM,,Other,ENGLISH,DIVORCED,WHITE,2181-11-14 21:51:00,2181-11-15 09:57:00,0\n",
      "zcat: error writing to output: Broken pipe\n"
     ]
    }
   ],
   "source": [
    "!zcat < ~/mimic/hosp/admissions.csv.gz | head"
   ]
  },
  {
   "cell_type": "markdown",
   "id": "ffe4fa89-0aa6-4d6b-97b8-c63e3c7af0a3",
   "metadata": {},
   "source": [
    "### (A). Ingestion\n",
    "Import `admissions.csv.gz` as a data frame `admissions_df`."
   ]
  },
  {
   "cell_type": "markdown",
   "id": "8f912096-cebd-43dc-9b22-b2da2823c895",
   "metadata": {},
   "source": [
    "### (B). Summary and visualization\n",
    "\n",
    "Summarize the following information by graphics and explain any patterns you see.\n",
    "\n",
    "- number of admissions per patient\n",
    "- admission hour of day (anything unusual?)\n",
    "- admission minute (anything unusual?)\n",
    "- length of hospital stay (from admission to discharge) (anything unusual?)\n",
    "\n",
    "According to the MIMIC-IV documentation:\n",
    "\n",
    "> All dates in the database have been shifted to protect patient confidentiality. Dates will be internally consistent for the same patient, but randomly distributed in the future. Dates of birth which occur in the present time are not true dates of birth. Furthermore, dates of birth which occur before the year 1900 occur if the patient is older than 89. In these cases, the patient’s age at their first admission has been fixed to 300."
   ]
  },
  {
   "cell_type": "markdown",
   "id": "8eecce5d-8577-43c9-852b-95c4599ec052",
   "metadata": {},
   "source": [
    "## Problem 4. `patients` data\n",
    "Patient information is available in `patients.csv.gz`. See https://mimic.mit.edu/docs/iv/modules/hosp/patients/ for details of each field in this file. The first 10 lines are:"
   ]
  },
  {
   "cell_type": "code",
   "execution_count": 4,
   "id": "83a0de99-57ce-43a5-934f-8c15a75ec7b2",
   "metadata": {
    "tags": []
   },
   "outputs": [
    {
     "name": "stdout",
     "output_type": "stream",
     "text": [
      "subject_id,gender,anchor_age,anchor_year,anchor_year_group,dod\n",
      "10000032,F,52,2180,2014 - 2016,2180-09-09\n",
      "10000048,F,23,2126,2008 - 2010,\n",
      "10000068,F,19,2160,2008 - 2010,\n",
      "10000084,M,72,2160,2017 - 2019,2161-02-13\n",
      "10000102,F,27,2136,2008 - 2010,\n",
      "10000108,M,25,2163,2014 - 2016,\n",
      "10000115,M,24,2154,2017 - 2019,\n",
      "10000117,F,48,2174,2008 - 2010,\n",
      "10000178,F,59,2157,2017 - 2019,\n",
      "zcat: error writing to output: Broken pipe\n"
     ]
    }
   ],
   "source": [
    "!zcat < ~/mimic/hosp/patients.csv.gz | head"
   ]
  },
  {
   "cell_type": "markdown",
   "id": "7ba0e71a-b864-48d2-a261-5c48518e4dbf",
   "metadata": {},
   "source": [
    "### (A). Ingestion\n",
    "Import `patients.csv.gz` (https://mimic.mit.edu/docs/iv/modules/hosp/patients/) as a data frame `patients_df`."
   ]
  },
  {
   "cell_type": "markdown",
   "id": "d1be5f75-c91c-451a-b95d-c30cd55d23a6",
   "metadata": {},
   "source": [
    "### (B). Summary and visaulization\n",
    "Summarize variables `gender` and `anchor_age` by graphics, and explain any patterns you see."
   ]
  },
  {
   "cell_type": "markdown",
   "id": "bb6be0e0-7535-4bea-8405-d75fd959eba9",
   "metadata": {},
   "source": [
    "## Problem 5. Lab results\n",
    "labevents.csv.gz (https://mimic.mit.edu/docs/iv/modules/hosp/labevents/) contains all laboratory measurements for patients. The first 10 lines are"
   ]
  },
  {
   "cell_type": "code",
   "execution_count": 5,
   "id": "39efa5f4-d11a-4ec2-bcd6-67a547058ce5",
   "metadata": {
    "tags": []
   },
   "outputs": [
    {
     "name": "stdout",
     "output_type": "stream",
     "text": [
      "labevent_id,subject_id,hadm_id,specimen_id,itemid,order_provider_id,charttime,storetime,value,valuenum,valueuom,ref_range_lower,ref_range_upper,flag,priority,comments\n",
      "1,10000032,,45421181,51237,P28Z0X,2180-03-23 11:51:00,2180-03-23 15:15:00,1.4,1.4,,0.9,1.1,abnormal,ROUTINE,\n",
      "2,10000032,,45421181,51274,P28Z0X,2180-03-23 11:51:00,2180-03-23 15:15:00,___,15.1,sec,9.4,12.5,abnormal,ROUTINE,VERIFIED.\n",
      "3,10000032,,52958335,50853,P28Z0X,2180-03-23 11:51:00,2180-03-25 11:06:00,___,15,ng/mL,30,60,abnormal,ROUTINE,NEW ASSAY IN USE ___: DETECTS D2 AND D3 25-OH ACCURATELY.\n",
      "4,10000032,,52958335,50861,P28Z0X,2180-03-23 11:51:00,2180-03-23 16:40:00,102,102,IU/L,0,40,abnormal,ROUTINE,\n",
      "5,10000032,,52958335,50862,P28Z0X,2180-03-23 11:51:00,2180-03-23 16:40:00,3.3,3.3,g/dL,3.5,5.2,abnormal,ROUTINE,\n",
      "6,10000032,,52958335,50863,P28Z0X,2180-03-23 11:51:00,2180-03-23 16:40:00,109,109,IU/L,35,105,abnormal,ROUTINE,\n",
      "7,10000032,,52958335,50864,P28Z0X,2180-03-23 11:51:00,2180-03-23 16:40:00,___,8,ng/mL,0,8.7,,ROUTINE,MEASURED BY ___.\n",
      "8,10000032,,52958335,50868,P28Z0X,2180-03-23 11:51:00,2180-03-23 16:40:00,12,12,mEq/L,8,20,,ROUTINE,\n",
      "9,10000032,,52958335,50878,P28Z0X,2180-03-23 11:51:00,2180-03-23 16:40:00,143,143,IU/L,0,40,abnormal,ROUTINE,\n",
      "zcat: error writing to output: Broken pipe\n"
     ]
    }
   ],
   "source": [
    "!zcat < ~/mimic/hosp/labevents.csv.gz | head"
   ]
  },
  {
   "cell_type": "markdown",
   "id": "2541cd27-c4ad-4112-ad9d-d36d9522f9fc",
   "metadata": {},
   "source": [
    "`d_labitems.csv.gz` (https://mimic.mit.edu/docs/iv/modules/hosp/d_labitems/) is the dictionary of lab measurements."
   ]
  },
  {
   "cell_type": "code",
   "execution_count": 6,
   "id": "2a2c3a28-f1f0-4fe1-b7e4-2dc41664d7f3",
   "metadata": {
    "tags": []
   },
   "outputs": [
    {
     "name": "stdout",
     "output_type": "stream",
     "text": [
      "itemid,label,fluid,category\n",
      "50801,Alveolar-arterial Gradient,Blood,Blood Gas\n",
      "50802,Base Excess,Blood,Blood Gas\n",
      "50803,\"Calculated Bicarbonate, Whole Blood\",Blood,Blood Gas\n",
      "50804,Calculated Total CO2,Blood,Blood Gas\n",
      "50805,Carboxyhemoglobin,Blood,Blood Gas\n",
      "50806,\"Chloride, Whole Blood\",Blood,Blood Gas\n",
      "50808,Free Calcium,Blood,Blood Gas\n",
      "50809,Glucose,Blood,Blood Gas\n",
      "50810,\"Hematocrit, Calculated\",Blood,Blood Gas\n"
     ]
    }
   ],
   "source": [
    "!zcat < ~/mimic/hosp/d_labitems.csv.gz | head\n"
   ]
  },
  {
   "cell_type": "markdown",
   "id": "2a2313a8-3b0c-4378-9dec-14e5bf3d7ae0",
   "metadata": {},
   "source": [
    "We are interested in the lab measurements of creatinine (50912), potassium (50971), sodium (50983), chloride (50902), bicarbonate (50882), hematocrit (51221), white blood cell count (51301), and glucose (50931). Retrieve a subset of `labevents.csv.gz` that only containing these items for the patients in `icustays_df`. Further restrict to the last available measurement (by `storetime`) before the ICU stay. The final `labevents_df` should have one row per ICU stay and columns for each lab measurement.\n",
    "(ten columns with column names `subject_id`, `stay_id`, `Bicarbonate`, `Chloride`, ...)\n",
    "\n",
    "\n",
    "_Hint_: Use the Parquet format you generated in Homework 3. For reproducibility, make `labevents.parquet` file available at the current working directory, for example, by a symbolic link."
   ]
  },
  {
   "cell_type": "markdown",
   "id": "53202d36-290c-4dc3-8777-2e087abedb09",
   "metadata": {},
   "source": [
    "## Problem 6. Vitals from charted events"
   ]
  },
  {
   "cell_type": "markdown",
   "id": "b1f474a7-1302-4e42-bda0-8026295292f3",
   "metadata": {},
   "source": [
    "`chartevents.csv.gz` (https://mimic.mit.edu/docs/iv/modules/icu/chartevents/) contains all the charted data available for a patient. During their ICU stay, the primary repository of a patient’s information is their electronic chart. The `itemid` variable indicates a single measurement type in the database. The `value` variable is the value measured for `itemid`. The first 10 lines of `chartevents.csv.gz` are"
   ]
  },
  {
   "cell_type": "code",
   "execution_count": 7,
   "id": "e600de5f-b587-4564-8e8f-7a3db2bfb3e2",
   "metadata": {
    "tags": []
   },
   "outputs": [
    {
     "name": "stdout",
     "output_type": "stream",
     "text": [
      "subject_id,hadm_id,stay_id,caregiver_id,charttime,storetime,itemid,value,valuenum,valueuom,warning\n",
      "10000032,29079034,39553978,47007,2180-07-23 21:01:00,2180-07-23 22:15:00,220179,82,82,mmHg,0\n",
      "10000032,29079034,39553978,47007,2180-07-23 21:01:00,2180-07-23 22:15:00,220180,59,59,mmHg,0\n",
      "10000032,29079034,39553978,47007,2180-07-23 21:01:00,2180-07-23 22:15:00,220181,63,63,mmHg,0\n",
      "10000032,29079034,39553978,47007,2180-07-23 22:00:00,2180-07-23 22:15:00,220045,94,94,bpm,0\n",
      "10000032,29079034,39553978,47007,2180-07-23 22:00:00,2180-07-23 22:15:00,220179,85,85,mmHg,0\n",
      "10000032,29079034,39553978,47007,2180-07-23 22:00:00,2180-07-23 22:15:00,220180,55,55,mmHg,0\n",
      "10000032,29079034,39553978,47007,2180-07-23 22:00:00,2180-07-23 22:15:00,220181,62,62,mmHg,0\n",
      "10000032,29079034,39553978,47007,2180-07-23 22:00:00,2180-07-23 22:15:00,220210,20,20,insp/min,0\n",
      "10000032,29079034,39553978,47007,2180-07-23 22:00:00,2180-07-23 22:15:00,220277,95,95,%,0\n",
      "zcat: error writing to output: Broken pipe\n"
     ]
    }
   ],
   "source": [
    "!zcat < ~/mimic/icu/chartevents.csv.gz | head"
   ]
  },
  {
   "cell_type": "markdown",
   "id": "665fda77-fbe0-412a-9478-35b55d0ad805",
   "metadata": {},
   "source": [
    "`d_items.csv.gz` (https://mimic.mit.edu/docs/iv/modules/icu/d_items/) is the dictionary for the itemid in `chartevents.csv.gz`."
   ]
  },
  {
   "cell_type": "code",
   "execution_count": 8,
   "id": "193edb61-8af6-4264-a40a-366083b9967f",
   "metadata": {
    "tags": []
   },
   "outputs": [
    {
     "name": "stdout",
     "output_type": "stream",
     "text": [
      "itemid,label,abbreviation,linksto,category,unitname,param_type,lownormalvalue,highnormalvalue\n",
      "220001,Problem List,Problem List,chartevents,General,,Text,,\n",
      "220003,ICU Admission date,ICU Admission date,datetimeevents,ADT,,Date and time,,\n",
      "220045,Heart Rate,HR,chartevents,Routine Vital Signs,bpm,Numeric,,\n",
      "220046,Heart rate Alarm - High,HR Alarm - High,chartevents,Alarms,bpm,Numeric,,\n",
      "220047,Heart Rate Alarm - Low,HR Alarm - Low,chartevents,Alarms,bpm,Numeric,,\n",
      "220048,Heart Rhythm,Heart Rhythm,chartevents,Routine Vital Signs,,Text,,\n",
      "220050,Arterial Blood Pressure systolic,ABPs,chartevents,Routine Vital Signs,mmHg,Numeric,90,140\n",
      "220051,Arterial Blood Pressure diastolic,ABPd,chartevents,Routine Vital Signs,mmHg,Numeric,60,90\n",
      "220052,Arterial Blood Pressure mean,ABPm,chartevents,Routine Vital Signs,mmHg,Numeric,,\n",
      "zcat: error writing to output: Broken pipe\n"
     ]
    }
   ],
   "source": [
    "!zcat < ~/mimic/icu/d_items.csv.gz | head"
   ]
  },
  {
   "cell_type": "markdown",
   "id": "2430ade5-d330-4080-aa2d-3ea4e9d28fea",
   "metadata": {},
   "source": [
    "We are interested in the vitals for ICU patients: heart rate (220045), systolic non-invasive blood pressure (220179), diastolic non-invasive blood pressure (220180), body temperature in Fahrenheit (223761), and respiratory rate (220210). Retrieve a subset of `chartevents.csv.gz` only containing these items for the patients in `icustays_tble`. Further restrict to the first vital measurement within the ICU stay. The final `chartevents_tble` should have one row per ICU stay and columns for each vital measurement."
   ]
  },
  {
   "cell_type": "markdown",
   "id": "b8876b03-ec22-4806-9be6-7aec5c0a3afc",
   "metadata": {},
   "source": [
    "Hint: Use the Parquet format you generated in Homework 3. For reproducibility, make `chartevents.parquet` file available at the current working directory, for example, by a symbolic link."
   ]
  },
  {
   "cell_type": "markdown",
   "id": "b0d26962-f9e4-4b9d-a783-c69d4ce4835c",
   "metadata": {},
   "source": [
    "## Problem 7. Putting things together\n",
    "Let us create a data frame `mimic_icu_cohort` for all ICU stays, where rows are all ICU stays of adults (age at `intime` >= 18) and columns contain at least following variables\n",
    "\n",
    "- all variables in `icustays_tble`\n",
    "- all variables in `admissions_tble`\n",
    "- all variables in `patients_tble`\n",
    "- the last lab measurements before the ICU stay in `labevents_tble`\n",
    "- the first vital measurements during the ICU stay in `chartevents_tble`\n",
    "- The final `mimic_icu_cohort` should have one row per ICU stay and columns for each variable."
   ]
  },
  {
   "cell_type": "markdown",
   "id": "b57d3827-ec21-4cb1-9f22-795d6aa7f98c",
   "metadata": {},
   "source": [
    "## Problem 8. Exploratory data analysis (EDA)\n",
    "Summarize the following information about the ICU stay cohort `mimic_icu_cohort` using appropriate method:\n",
    "\n",
    "- Length of ICU stay `los` vs demographic variables (race, insurance, marital_status, gender, age at intime)\n",
    "\n",
    "- Length of ICU stay `los` vs the last available lab measurements before ICU stay\n",
    "\n",
    "- Length of ICU stay `los` vs the first vital measurements within the ICU stay\n",
    "\n",
    "- Length of ICU stay `los` vs first ICU unit\n",
    "\n",
    "At least two plots should be created, with at least one them including multiple facets using an appropriate keyword argument. "
   ]
  },
  {
   "cell_type": "code",
   "execution_count": null,
   "id": "6f103c71-e90d-47f0-9ad9-a6b1de96953b",
   "metadata": {},
   "outputs": [],
   "source": []
  }
 ],
 "metadata": {
  "kernelspec": {
   "display_name": "PIC16B-24W",
   "language": "python",
   "name": "python3"
  },
  "language_info": {
   "codemirror_mode": {
    "name": "ipython",
    "version": 3
   },
   "file_extension": ".py",
   "mimetype": "text/x-python",
   "name": "python",
   "nbconvert_exporter": "python",
   "pygments_lexer": "ipython3",
   "version": "3.11.6"
  }
 },
 "nbformat": 4,
 "nbformat_minor": 5
}
