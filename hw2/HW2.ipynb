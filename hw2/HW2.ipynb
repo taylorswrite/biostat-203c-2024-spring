{
 "cells": [
  {
   "cell_type": "markdown",
   "metadata": {},
   "source": [
    "# Homework 2: Markov Models of Natural Language\n",
    "\n",
    "### Name: William Martinez\n",
    "#### Collaborators: None\n",
    "#### Date: 4/21/24"
   ]
  },
  {
   "cell_type": "markdown",
   "metadata": {},
   "source": [
    "This homework focuses on topics related to string manipulation, dictionaries, and simulations. \n",
    "\n",
    "I encourage collaborating with your peers, but the final text, code, and comments in this homework assignment should still be written by you. Please check the collaboration policy.\n",
    "\n",
    "Submission instructions: \n",
    "- Submit `HW2.py` and `HW2.ipynb` compressed in a one zip file on Gradescope under \"HW2 - Autograder\". Do **NOT** change the file name. \n",
    "- Convert this notebook into a pdf file and submit it on GradeScope under \"HW2 - PDF\". Make sure your text outputs in the latter problems are visible. "
   ]
  },
  {
   "cell_type": "markdown",
   "metadata": {},
   "source": [
    "## Language Models\n",
    "\n",
    "Many of you may have encountered the output of machine learning models which, when \"seeded\" with a small amount of text, produce a larger corpus of text which is expected to be similar or relevant to the seed text. For example, there's been a lot of buzz about the new [GPT-3 model](https://en.wikipedia.org/wiki/GPT-3), related to its [carbon footprint](https://www.forbes.com/sites/robtoews/2020/06/17/deep-learnings-climate-change-problem/#2781c1b16b43), [bigoted tendencies](https://medium.com/fair-bytes/how-biased-is-gpt-3-5b2b91f1177), and, yes, impressive (and often [humorous](https://aiweirdness.com/)) [ability to replicate human-like text in response to prompts.](https://www.technologyreview.com/2020/07/20/1005454/openai-machine-learning-language-generator-gpt-3-nlp/) \n",
    "\n",
    "We are not going to program a complicated deep learning model, but we will construct a much simpler language model that performs a similar task. Using tools like iteration and dictionaries, we will create a family of **Markov language models** for generating text. For the purposes of this assignment, an $n$-th order Markov model is a function that constructs a string of text one letter at a time, using only knowledge of the most recent $n$ letters. You can think of it as a writer with a \"memory\" of $n$ letters. \n"
   ]
  },
  {
   "cell_type": "code",
   "execution_count": 1,
   "metadata": {},
   "outputs": [],
   "source": [
    "# This cell imports your functions defined in HW2.py \n",
    "import random\n",
    "from HW2 import count_characters, count_ngrams, markov_text"
   ]
  },
  {
   "cell_type": "markdown",
   "metadata": {},
   "source": [
    "## Data\n",
    "\n",
    "Our training text for this exercise comes from Jane Austen's novel *Emma*, which Professor Chodrow retrieved from the archives at ([Project Gutenberg](https://www.gutenberg.org/files/158/158-h/158-h.htm#link2H_4_0001)). Intuitively, we are going to write a program that \"writes like Jane Austen,\" albeit in a very limited sense. "
   ]
  },
  {
   "cell_type": "code",
   "execution_count": 2,
   "metadata": {},
   "outputs": [],
   "source": [
    "with open('emma-full.txt', 'r') as f:\n",
    "    s = f.read()"
   ]
  },
  {
   "cell_type": "markdown",
   "metadata": {},
   "source": [
    "# Problem 1: Define `count_characters` in HW2.py\n",
    "\n",
    "Write a function called `count_characters` that counts the number of times each character appears in a user-supplied string `s`. Your function should loop over each element of the string, and sequentually update a `dict` whose keys are characters and whose values are the number of occurrences seen so far.  Your function should then return this dictionary. \n",
    "\n",
    "You may know of other ways to achieve the same result. However, you are encouraged to use the loop approach, since this will generalize to the next exercise.\n",
    "\n",
    "*Note: While the construct `for character in s:` will work for this exercise, it will not generalize to the next one. Consider using `for i in range(len(s)):` instead.* \n",
    "\n",
    "### Example usage: \n",
    "\n",
    "```python\n",
    "count_characters(\"Torto ise!\")\n",
    "{'T': 1, 't' : 1, 'o' : 2, 'r' : 1, 'i' : 1, 's' : 1, 'e' : 1, ' ': 1, '!': 1}\n",
    "```\n",
    "\n",
    "***Hint***: Yes, you did a problem very similar to this one on HW1. "
   ]
  },
  {
   "cell_type": "code",
   "execution_count": 3,
   "metadata": {},
   "outputs": [
    {
     "data": {
      "text/plain": [
       "{'T': 1, 'o': 2, 'r': 1, 't': 1, ' ': 1, 'i': 1, 's': 1, 'e': 1, '!': 1}"
      ]
     },
     "execution_count": 3,
     "metadata": {},
     "output_type": "execute_result"
    }
   ],
   "source": [
    "count_characters(\"Torto ise!\")"
   ]
  },
  {
   "cell_type": "markdown",
   "metadata": {},
   "source": [
    "How many times does 't' appear in Emma? How about '!'?\n",
    "\n",
    "How many different types of characters are in this dictionary?"
   ]
  },
  {
   "cell_type": "code",
   "execution_count": 4,
   "metadata": {},
   "outputs": [
    {
     "data": {
      "text/plain": [
       "82"
      ]
     },
     "execution_count": 4,
     "metadata": {},
     "output_type": "execute_result"
    }
   ],
   "source": [
    "# How many times does 't' appear in emma-full.txt.\n",
    "count_characters(s).get('t')\n",
    "\n",
    "# How many different types of characters are in this dictionary?\n",
    "len(count_characters(s))\n"
   ]
  },
  {
   "cell_type": "markdown",
   "metadata": {},
   "source": [
    "# Problem 2: Define `count_ngrams` in HW2.py\n",
    "\n",
    "An `n`-*gram* is a sequence of `n` letters. For example, `bol` and `old` are the two 3-grams that occur in the string `bold`.\n",
    "\n",
    "Write a function called `count_ngrams` that counts the number of times each `n`-gram occurs in a string, with `n` specified by the user and with default value `n = 1`. Your function should return the dictionary. You should be able to do this by making only a small modification to `count_characters`. \n",
    "\n",
    "### Example usage: \n",
    "\n",
    "```python\n",
    "count_ngrams(\"tortoise\", n = 2)\n",
    "```\n",
    "```\n",
    "{'to': 2, 'or': 1, 'rt': 1, 'oi': 1, 'is': 1, 'se': 1} # output\n",
    "```"
   ]
  },
  {
   "cell_type": "code",
   "execution_count": 5,
   "metadata": {},
   "outputs": [
    {
     "name": "stdout",
     "output_type": "stream",
     "text": [
      "[('CH', 58), ('HA', 56), ('AP', 55), ('PT', 55), ('TE', 55)]\n"
     ]
    }
   ],
   "source": [
    "## The code below was commented because the printed dictionary is too long for\n",
    "## PDF disbursement. Uncomment if you wish to see all dictionary entries.\n",
    "# print(count_ngrams(s, 2))\n",
    "\n",
    "## Print first 5 entries in the dictionary.\n",
    "print(list(count_ngrams(s, 2).items())[:5])"
   ]
  },
  {
   "cell_type": "markdown",
   "metadata": {},
   "source": [
    "How many different types of 2-grams are in this dictionary?"
   ]
  },
  {
   "cell_type": "code",
   "execution_count": 6,
   "metadata": {},
   "outputs": [
    {
     "data": {
      "text/plain": [
       "1236"
      ]
     },
     "execution_count": 6,
     "metadata": {},
     "output_type": "execute_result"
    }
   ],
   "source": [
    "# write your answer here\n",
    "len(count_ngrams(s, 2))"
   ]
  },
  {
   "cell_type": "markdown",
   "metadata": {},
   "source": [
    "# Problem 3: Define `markov_text` in HW2.py\n",
    "\n",
    "Now we are going to use our `n`-grams to generate some fake text according to a Markov model. Here's how the Markov model of order `n` works: \n",
    "\n",
    "### A. Compute (`n`+1)-gram occurrence frequencies\n",
    "\n",
    "You have already done this in Problem 2!  \n",
    "\n",
    "### B. Starting `n`-gram\n",
    "\n",
    "The starting `n`-gram is the last `n` characters in the argument `seed`.\n",
    "\n",
    "### C. Generate Text\n",
    "\n",
    "Now we generate text one character at a time. To do so:\n",
    "\n",
    "1. Look at the most recent `n` characters in our generated text. Say that `n = 3` and the 3 most recent character are `the`. \n",
    "2. We then look at our list of `n+1`-grams, and focus on grams whose first `n` characters match. Examples matching `the` include `them`, `the `, `thei`, and so on. \n",
    "3. We pick a random one of these `n+1`-grams, weighted according to its number of occurrences. \n",
    "4. The final character of this new `n+1` gram is our next letter. \n",
    "\n",
    "For example, if there are 3 occurrences of `them`, 4 occurrences of `the `, and 1 occurrences of `thei` in the n-gram dictionary, then our next character is `m` with probabiliy 3/8, `[space]` with probability 1/2, and `i` with probability `1/8`. \n",
    "\n",
    "**Remember**: the ***3rd***-order model requires you to compute ***4***-grams. \n",
    "\n",
    "## What you should do\n",
    "\n",
    "Write a function `markov_text` that generates synthetic text according to an `n`-th order Markov model. It should have the following arguments: \n",
    "\n",
    "- `s`, the input string of real text. \n",
    "- `n`, the order of the model. \n",
    "- `length`, the size of the text to generate. Use a default value of 100. \n",
    "-  `seed`, the initial string that gets the Markov model started. I used `\"Emma Woodhouse\"` (the full name of the protagonist of the novel) as my `seed`, but any subset of `s` of length `n` or larger will work. \n",
    "\n",
    "It should return a string with the length of `len(seed) + length`.\n",
    "\n",
    "Demonstrate the output of your function for a couple different choices of the order `n`. \n",
    "\n",
    "\n",
    "## Expected Output\n",
    "\n",
    "Here are a few examples of the output of this function. Because of randomness, your results won't look exactly like this, but they should be qualitatively similar. \n",
    "\n",
    "```python\n",
    "markov_text(s, n = 2, length = 200, seed = \"Emma Woodhouse\")\n",
    "```\n",
    "```\n",
    "Emma Woodhouse ne goo thimser. John mile sawas amintrought will on I kink you kno but every sh inat he fing as sat buty aft from the it. She cousency ined, yount; ate nambery quirld diall yethery, yould hat earatte\n",
    "```\n",
    "```python\n",
    "markov_text(s, n = 4, length = 200, seed = \"Emma Woodhouse\")\n",
    "```\n",
    "\n",
    "```\n",
    "Emma Woodhouse!”—Emma, as love,            Kitty, only this person no infering ever, while, and tried very were no do be very friendly and into aid,    Man's me to loudness of Harriet's. Harriet belonger opinion an\n",
    "```\n",
    "\n",
    "```python\n",
    "markov_text(s, n = 10, length = 200, seed = \"Emma Woodhouse\")\n",
    "```\n",
    "\n",
    "```\n",
    "Emma Woodhouse's party could be acceptable to them, that if she ever were disposed to think of nothing but good. It will be an excellent charade remains, fit for any acquainted with the child was given up to them.\n",
    "```\n",
    "\n",
    "## Notes and Hints\n",
    "\n",
    "***Hint***: A good function for performing the random choice is the `choices()` function in the `random` module. You can use it like this: \n",
    "\n",
    "```python\n",
    "import random\n",
    "\n",
    "options = [\"One\", \"Two\", \"Three\"]\n",
    "weights = [1, 2, 3] # \"Two\" is twice as likely as \"One\", \"Three\" three times as likely. \n",
    "\n",
    "random.choices(options, weights) \n",
    "```\n",
    "\n",
    "```\n",
    "['One'] # output\n",
    "```\n",
    "\n",
    "The first and second arguments must be lists of equal length. Note also that the return value is a list -- if you want the value *in* the list, you need to get it out via indexing.  \n",
    "\n",
    "***Note***: For grading purposes, the `options` should be the possible `n+1`-grams in the order of first appeareance in the text. If you are working through the strings from beginning to end, you will not have issues with this, as dictionary keys are ordered. Please do NOT use [`random.seed()`](https://www.w3schools.com/python/ref_random_seed.asp) in your function -- the autograder code will do it. You are welcome to try it out in your notebook for reproducible results if you are interested. \n",
    "\n",
    "***Hint***: The first thing your function should do is call `count_ngrams` above to generate the required dictionary. Then, handle the logic described above in the main loop."
   ]
  },
  {
   "cell_type": "code",
   "execution_count": 7,
   "metadata": {},
   "outputs": [
    {
     "name": "stdout",
     "output_type": "stream",
     "text": [
      "Emma Woodhouse’s health, not merely no grammatical errors, but as a companion all this, and began talking of its effect upon her approach afraid,\n",
      "    So fatal to my suit before.\n",
      "\n",
      "“I cannot imagine the\n"
     ]
    }
   ],
   "source": [
    "print(markov_text(s, n = 10, length = 200, seed = \"Emma Woodhouse\"))"
   ]
  },
  {
   "cell_type": "markdown",
   "metadata": {},
   "source": [
    "# Problem 4\n",
    "\n",
    "Using a `for`-loop, print the output of your function for `n` ranging from `1` to `10` (including 10).\n",
    "\n",
    "Then, write down a few observations. How does the generated text depend on `n`? How does the time required to generate the text depend on `n`? Do your best to explain each observation.  \n",
    "\n",
    "What do you think could happen if you were to repeat this assignment but in unit of words and not in unit of characters? For example, 2-grams would indicate two words, and not two characters.\n",
    "\n",
    "What heuristics would you consider adding to your model to improve its prediction performance?"
   ]
  },
  {
   "cell_type": "markdown",
   "metadata": {},
   "source": [
    "1. How does the generated text depend on `n`?\n",
    "\n",
    "    **Answer:** As `n` increases, the text generation becomes more legible, the sentences\n",
    "    have more correctly spelled words and better grammar.\n",
    "\n",
    "2. How does the time required to generate the text depend on `n`?\n",
    "\n",
    "    **Answer:** As `n` increases, the text generation runtime increases.\n",
    "\n",
    "3. What heuristics would you consider adding to your model to improve its prediction performance?\n",
    "\n",
    "    **Answer:** The size of `n` is a determinate of prediction quality, but if `n` is too large, the number of matches will decrease and possibly overfit the Markov method, making the generative text become more like a copy of the original text. To make the prediction performance better I would add a additional similar text sources to increase the number of ngram matches when `n` is large (n > 15)."
   ]
  },
  {
   "cell_type": "code",
   "execution_count": 8,
   "metadata": {},
   "outputs": [
    {
     "name": "stdout",
     "output_type": "stream",
     "text": [
      "Generated test using n-gram n value of  1 : \n",
      "Emma Woodhouseratheded, d po quld ised a med fo me d Theverough ind s beaidjewhed metoote, ig ant ughu? thasherdarremmainsssetherer g bey r bed hede Mrm s litind ain armu al stre be s ney woontared d \n",
      "Generated test using n-gram n value of  2 : \n",
      "Emma Woodhouse; “I duch will ither?—Ind hazlect the we henjoymomere so forand to bodhown Mish ot youled she but fors. He d’s, doinigh miturell ble inte ot he musing at as an hing ston.\n",
      "\n",
      "“I and not owe\n",
      "Generated test using n-gram n value of  3 : \n",
      "Emma Woodhousembrank Churrying a laughtley, were to laugh; the anot by so methey circumstatterns, no differrupted she worthy yet. Mr. Comtes not thould by pers rightle, “It was ston. Mrs. She garden, \n",
      "Generated test using n-gram n value of  4 : \n",
      "Emma Woodhouse, she for these could busy as was ther to get as much obligence, and sent to marry fright instance as than Isabella’s calmness of ever, extremely well your from the other, or they were h\n",
      "Generated test using n-gram n value of  5 : \n",
      "Emma Woodhouse of a finery. Whenever has enough. But there were to marriage, my duty or want moment, supposing her family. Don’t ask no more it as the pulse before herself—”\n",
      "\n",
      "“No, no, that I thing as \n",
      "Generated test using n-gram n value of  6 : \n",
      "Emma Woodhouse not advise?”\n",
      "\n",
      "“But I,” he answer.\n",
      "\n",
      "Her tears running to stop him; and turn of the others.”\n",
      "\n",
      "Supper mad. He was pleasure grows older at your voice which had prevented to refrain on busin\n",
      "Generated test using n-gram n value of  7 : \n",
      "Emma Woodhouse’s account of judging one or two handsome, elegant way, most brother, in forestall Jane Fairfax. Mrs. Martin would be fit for poor Isabella’s coloured deeply as she ought to be lively ci\n",
      "Generated test using n-gram n value of  8 : \n",
      "Emma Woodhouse had been very earnestly, on the subject was to help Mr. Weston’s wishing to understood as my wish,” said she, “we are determined to ruin the rest.—To Emma’s wonder which I did their own\n",
      "Generated test using n-gram n value of  9 : \n",
      "Emma Woodhouse began rather a pleasure to me the most solicitation, Harriet, than with another.—But it would be much worse colds at the worst judge of his heart and time would be no harm in his profes\n",
      "Generated test using n-gram n value of  10 : \n",
      "Emma Woodhouse, one must laugh at my warmth—but, upon my honour, that it has nothing to do with William’s wants, but it was very much obliged to be altogether the uncertainty of being miserably behind\n"
     ]
    }
   ],
   "source": [
    "\n",
    "random.seed(203)\n",
    "num_gen_text = 10\n",
    "## Print the n value used to generate text and the generated text.\n",
    "for i in range(1, num_gen_text + 1):\n",
    "    print(\"Generated test using n-gram n value of \", i, \": \")\n",
    "    print(markov_text(s, n = i, length = 200, seed = \"Emma Woodhouse\"))\n",
    "    "
   ]
  },
  {
   "cell_type": "markdown",
   "metadata": {},
   "source": [
    "# Problem 5\n",
    "\n",
    "Try running your program with a different text! \n",
    "\n",
    "You can \n",
    "- find any movie script from https://imsdb.com/ or a book by Shakespeare, Hemingway, Beowulf, O.Henry, A.A. Milne, etc from https://www.gutenberg.org/\n",
    "- ctrl + a to select all text on the page\n",
    "- copy paste into a new `.txt` file. let's call it `book.txt`.\n",
    "- put `book.txt` in the same folder as emma-full.txt.\n",
    "- run the following code to read the file into variable `s`.\n",
    "```python\n",
    "with open('book.txt', 'r') as f:\n",
    "    s = f.read()\n",
    "```\n",
    "- run `markov_text` on `s` with appropriate parameters.\n",
    "\n",
    "Show your output here. Which parameters did you pick and why? Do you see any difference from when you ran the program with Emma? How so?"
   ]
  },
  {
   "cell_type": "markdown",
   "metadata": {},
   "source": [
    "1. Which parameters did you pick and why?\n",
    "\n",
    "    **Answer:** Set `n` to the length of `seed`. The length of `seed` is the\n",
    "    maximum length that can be set for `n` and when `n` is large, the\n",
    "    the text prediction quality increases.\n",
    "\n",
    "2. Do you see any difference from when you ran the program with Emma?\n",
    "\n",
    "    **Answer:** The movie script from \"Avengers: End Game\" was used to create\n",
    "    the (n+1)gram frequency dictionary for generating text. The movie script has\n",
    "    more formatting, whitespace, and new lines than Jane Austen's novel *Emma*.\n",
    "    Therefore, the generated text from \"Avengers: End Game\" has more generated\n",
    "    formatting than the generated text using the novel *Emma*.\n"
   ]
  },
  {
   "cell_type": "code",
   "execution_count": 9,
   "metadata": {},
   "outputs": [
    {
     "name": "stdout",
     "output_type": "stream",
     "text": [
      "Generated test using n-gram n value of  8 : \n",
      "Iron Man.\n",
      "\n",
      "SNAP!\n",
      "\n",
      "WHOOSH! EVERYTHING COMES SMASHING THROUGH THE HORDE,\n",
      "CARRYING THE PIECES TOGETHER.\n",
      "\n",
      "            SCOTT LANG (CONT'D)\n",
      "               I'd offer to cook you dinner thinking of giving me\n",
      "\n"
     ]
    }
   ],
   "source": [
    "# book.txt contains the script for \"Avengers: End Game\". Read and assign to s.\n",
    "with open('book.txt', 'r') as f:\n",
    "    s = f.read()\n",
    "\n",
    "seed = \"Iron Man\"\n",
    "n_max = len(seed)\n",
    "print(\"Generated test using n-gram n value of \", n_max, \": \")\n",
    "print(markov_text(s, n = n_max, length = 200, seed = seed))"
   ]
  }
 ],
 "metadata": {
  "interpreter": {
   "hash": "949777d72b0d2535278d3dc13498b2535136f6dfe0678499012e853ee9abcab1"
  },
  "kernelspec": {
   "display_name": "Python 3 (ipykernel)",
   "language": "python",
   "name": "python3"
  },
  "language_info": {
   "codemirror_mode": {
    "name": "ipython",
    "version": 3
   },
   "file_extension": ".py",
   "mimetype": "text/x-python",
   "name": "python",
   "nbconvert_exporter": "python",
   "pygments_lexer": "ipython3",
   "version": "3.11.6"
  }
 },
 "nbformat": 4,
 "nbformat_minor": 4
}
