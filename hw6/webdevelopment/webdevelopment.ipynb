{
 "cells": [
  {
   "cell_type": "markdown",
   "id": "7f04ac95-8c93-4552-959c-5252ace56c7a",
   "metadata": {},
   "source": [
    "# Web Development with Dash\n",
    "\n",
    "\n",
    "__iClicker__: Any comments about the course so far\n",
    "\n",
    "\n",
    "\n",
    "Today's materials are based on the [official tutorial](https://dash.plotly.com/tutorial).\n",
    "\n",
    "\n"
   ]
  },
  {
   "cell_type": "markdown",
   "id": "0cff1089-e031-49ce-8d8c-81809f5e9125",
   "metadata": {},
   "source": [
    "## Hello, world!\n",
    "\n",
    "Very short definition of web development: creating and maintaining websites. \n",
    "\n",
    "Often, it is done by writing a bunch of HTML (HyperText Markup Language) files. Then what do we do it with Python? We generate HTML files using Python programming. \n",
    "\n",
    "With high-level data-focused web development tools, we can create nice interactive visualizations, as we have seen in BIOSTAT 203B with Shiny. In 203C, we will do it with Python, using the package Dash created by Plotly.\n",
    "\n",
    "Building and launching an app with Dash can be done with just 5 lines of code.\n"
   ]
  },
  {
   "cell_type": "code",
   "execution_count": null,
   "id": "0f5993ad-20d3-48dc-ab2d-f83a6af823fb",
   "metadata": {
    "tags": []
   },
   "outputs": [],
   "source": [
    "from dash import Dash, html\n",
    "\n",
    "app = Dash()\n",
    "\n",
    "app.layout = [html.Div(children='Hello World')]\n",
    "\n",
    "if __name__ == '__main__':\n",
    "    app.run(debug=True)"
   ]
  },
  {
   "cell_type": "markdown",
   "id": "0c7b6a7b-68ab-4b3d-8dc9-9f231b7ef464",
   "metadata": {},
   "source": [
    "We can launch the app within a Jupyter Notebook with a recent version of Dash, but let's see how to lanch webapp from Terminal."
   ]
  },
  {
   "cell_type": "markdown",
   "id": "6deb06ac-8dbd-422a-99f6-e433a539a09b",
   "metadata": {
    "tags": []
   },
   "source": [
    "- `from dash import Dash, html`: a common way to import Dash. You will almost always import these two items, and you might need more.\n",
    "- `app = Dash()` is called Dash constructor, initializing your app. You will almost always use this line of code. \n",
    "- `app.layout = [html.Div(children='Hello World')]`\n",
    "  - A `layout` of an app represents the app components to be displayed in the web browser.\n",
    "  - Here, it is given as a list, but it could be a singleton Dash component. \n",
    "  - This example has one `html.Div` component in the list, representing the `div` tag in HTML file. \n",
    "  - `Div` has a few properties, we use `children` property to add text to the page.\n",
    "  \n",
    "```python\n",
    "if __name__ == '__main__':\n",
    "    app.run(debug=True)\n",
    "```\n",
    "\n",
    "This is almost always used to launch the app. `if __name__ == '__main__':` part allows you to run the code when the file is run as a script, but not when it's imported as a module from somewhere else -- The automatically-generated varible `__name__` contains the value `\"__main__\"` if it is launched as a script, and something else if it is imported as a module."
   ]
  },
  {
   "cell_type": "code",
   "execution_count": null,
   "id": "09245549-992a-42b7-926b-40f1ba6d50b3",
   "metadata": {
    "tags": []
   },
   "outputs": [],
   "source": [
    "__name__"
   ]
  },
  {
   "cell_type": "markdown",
   "id": "e480b729-6354-4032-8fba-328e87ea691e",
   "metadata": {},
   "source": [
    "## Connecting to Data\n",
    "\n",
    "Any Python code that loads data will work. `dash` contains a component for displaying a data table:"
   ]
  },
  {
   "cell_type": "code",
   "execution_count": null,
   "id": "1966dc0e-9b35-40b7-9e5d-28e7df4a1841",
   "metadata": {
    "tags": []
   },
   "outputs": [],
   "source": [
    "# Import packages\n",
    "from dash import Dash, html, dash_table\n",
    "import pandas as pd\n",
    "\n",
    "# Incorporate data\n",
    "df = pd.read_csv('https://raw.githubusercontent.com/plotly/datasets/master/gapminder2007.csv')\n",
    "\n",
    "# Initialize the app\n",
    "app = Dash()\n",
    "\n",
    "# App layout\n",
    "app.layout = [\n",
    "    html.Div(children='My First App with Data'),\n",
    "    dash_table.DataTable(data=df.to_dict('records'), page_size=10)\n",
    "]\n",
    "\n",
    "# Run the app\n",
    "if __name__ == '__main__':\n",
    "    app.run(debug=True)"
   ]
  },
  {
   "cell_type": "code",
   "execution_count": null,
   "id": "1afd6ad3-a50f-4431-a6ce-1e279d7d965a",
   "metadata": {
    "tags": []
   },
   "outputs": [],
   "source": [
    "df.to_dict('records')[:5]"
   ]
  },
  {
   "cell_type": "markdown",
   "id": "16dec6a9-35cb-47be-8c48-5118919f8b49",
   "metadata": {},
   "source": [
    "If you are actually deploying the webapp, the server, a remote computer where Python will run and generate HTML files, and provide them when accessed with a proper URL it is connected to, must have the access to the data. "
   ]
  },
  {
   "cell_type": "markdown",
   "id": "100b346a-a554-40b1-a70c-202ed1f8320c",
   "metadata": {},
   "source": [
    "## Visualizing the Data\n"
   ]
  },
  {
   "cell_type": "markdown",
   "id": "30ab8b67-d04c-4848-add3-8d53584ba279",
   "metadata": {},
   "source": [
    "`dcc`: Dask core component"
   ]
  },
  {
   "cell_type": "code",
   "execution_count": null,
   "id": "59b95884-fff3-4b0f-82df-163e5f5783fb",
   "metadata": {
    "tags": []
   },
   "outputs": [],
   "source": [
    "# Import packages\n",
    "from dash import Dash, html, dash_table, dcc\n",
    "import pandas as pd\n",
    "import plotly.express as px\n",
    "\n",
    "# Incorporate data\n",
    "df = pd.read_csv('https://raw.githubusercontent.com/plotly/datasets/master/gapminder2007.csv')\n",
    "\n",
    "# Initialize the app\n",
    "app = Dash()\n",
    "\n",
    "# App layout\n",
    "app.layout = [\n",
    "    html.Div(children='My First App with Data and a Graph'),\n",
    "    dash_table.DataTable(data=df.to_dict('records'), page_size=10),\n",
    "    dcc.Graph(figure=px.histogram(df, x='continent', y='lifeExp', histfunc='avg'))\n",
    "]\n",
    "\n",
    "# Run the app\n",
    "if __name__ == '__main__':\n",
    "    app.run(debug=True)"
   ]
  },
  {
   "cell_type": "markdown",
   "id": "64d53941-04db-4003-af05-a327f751555a",
   "metadata": {},
   "source": [
    "## Controls and Callbacks"
   ]
  },
  {
   "cell_type": "markdown",
   "id": "57fb3990-f05c-4416-a559-8755ee49a117",
   "metadata": {},
   "source": [
    "So far, what we have discussed is a static web app that displays data and a graph. However, you will often want to develop interactive web app, that reacts to user input. You will add controls to the app using \"callback\" function. \n",
    "\n",
    "When you interact with a input component, a callback function will automatically be called, changing the content in the output component. \n",
    "\n",
    "We will add radio buttons to the app layout, and build a callback to interactively update the historam. "
   ]
  },
  {
   "cell_type": "code",
   "execution_count": null,
   "id": "c3e52c45-e418-4617-9860-c2cf26e780cd",
   "metadata": {
    "tags": []
   },
   "outputs": [],
   "source": [
    "# Import packages\n",
    "from dash import Dash, html, dash_table, dcc, callback, Output, Input\n",
    "import pandas as pd\n",
    "import plotly.express as px\n",
    "\n",
    "# Incorporate data\n",
    "df = pd.read_csv('https://raw.githubusercontent.com/plotly/datasets/master/gapminder2007.csv')\n",
    "\n",
    "# Initialize the app\n",
    "app = Dash()\n",
    "\n",
    "# App layout\n",
    "app.layout = [\n",
    "    html.Div(children='My First App with Data, Graph, and Controls'),\n",
    "    html.Hr(),\n",
    "    dcc.RadioItems(options=['pop', 'lifeExp', 'gdpPercap'], value='lifeExp', id='controls-and-radio-item'),\n",
    "    dash_table.DataTable(data=df.to_dict('records'), page_size=6),\n",
    "    dcc.Graph(figure={}, id='controls-and-graph')\n",
    "]\n",
    "\n",
    "# Add controls to build the interaction\n",
    "@callback(\n",
    "    Output(component_id='controls-and-graph', component_property='figure'),\n",
    "    Input(component_id='controls-and-radio-item', component_property='value')\n",
    ")\n",
    "def update_graph(col_chosen):\n",
    "    fig = px.histogram(df, x='continent', y=col_chosen, histfunc='avg')\n",
    "    return fig\n",
    "\n",
    "# Run the app\n",
    "if __name__ == '__main__':\n",
    "    app.run(debug=True)"
   ]
  },
  {
   "cell_type": "markdown",
   "id": "f5d081fc-ba8b-40f6-a009-6d0853596069",
   "metadata": {},
   "source": [
    "```python\n",
    "app.layout = [\n",
    "    html.Div(children='My First App with Data, Graph, and Controls'),\n",
    "    html.Hr(),\n",
    "    dcc.RadioItems(options=['pop', 'lifeExp', 'gdpPercap'], value='lifeExp', id='controls-and-radio-item'),\n",
    "    dash_table.DataTable(data=df.to_dict('records'), page_size=6),\n",
    "    dcc.Graph(figure={}, id='controls-and-graph')\n",
    "]\n",
    "```\n",
    "\n",
    "- `RadioItems` contain `options` corresponding to each of the radio button. \n",
    "- `id` is defined for both `RadioItems` and `Graph`: they are used for referring to them later in the callback. "
   ]
  },
  {
   "cell_type": "markdown",
   "id": "e05a8aa5-cedd-4ae5-8adc-aa90ba7e5fdf",
   "metadata": {},
   "source": [
    "```python\n",
    "# Add controls to build the interaction\n",
    "@callback(\n",
    "    Output(component_id='controls-and-graph', component_property='figure'),\n",
    "    Input(component_id='controls-and-radio-item', component_property='value')\n",
    ")\n",
    "def update_graph(col_chosen):\n",
    "    fig = px.histogram(df, x='continent', y=col_chosen, histfunc='avg')\n",
    "    return fig\n",
    "```"
   ]
  },
  {
   "cell_type": "markdown",
   "id": "39904e47-39c7-4100-9c65-490639746242",
   "metadata": {},
   "source": [
    "- __decorator__: `@callback` is a decorator of a function. It is basically a function that takes a function as an argument and returns a function, often modifying how a function acts. The modified function is bound to the original function name, `update_graph`. \n",
    "- __inputs and outputs__: specific properties of a component, defined by `component_property` keyword argument. \n",
    "- `col_chosen`: component property `value` of the `RadioItems`. We draw the histogram inside the callback function with the y axis being the chosen item corresponding to a column name of the dataframe `df`. \n",
    "- At the end of the function, the histogram is returned, assigned to the `figure` property of `dcc.Graph`."
   ]
  },
  {
   "cell_type": "markdown",
   "id": "e722b76e-eb5c-471e-806c-27df45842d6a",
   "metadata": {},
   "source": [
    "## Styling\n",
    "\n",
    "There are a number of ways to style your app.\n",
    "\n",
    "- HTML and CSS\n",
    "- Dash Design Kit (DDK)\n",
    "- Dash Bootstrap Components (a separate package)\n",
    "- Dash Mantine Components (a separate package)\n",
    "\n",
    "### HTML + CSS"
   ]
  },
  {
   "cell_type": "code",
   "execution_count": null,
   "id": "efb42228-55c3-4ad9-95c0-3da3144fc70c",
   "metadata": {
    "tags": []
   },
   "outputs": [],
   "source": [
    "# Import packages\n",
    "from dash import Dash, html, dash_table, dcc, callback, Output, Input\n",
    "import pandas as pd\n",
    "import plotly.express as px\n",
    "\n",
    "# Incorporate data\n",
    "df = pd.read_csv('https://raw.githubusercontent.com/plotly/datasets/master/gapminder2007.csv')\n",
    "\n",
    "# Initialize the app - incorporate css\n",
    "external_stylesheets = ['https://codepen.io/chriddyp/pen/bWLwgP.css']\n",
    "app = Dash(external_stylesheets=external_stylesheets)\n",
    "\n",
    "# App layout\n",
    "app.layout = [\n",
    "    html.Div(className='row', children='My First App with Data, Graph, and Controls',\n",
    "             style={'textAlign': 'center', 'color': 'blue', 'fontSize': 30}),\n",
    "\n",
    "    html.Div(className='row', children=[\n",
    "        dcc.RadioItems(options=['pop', 'lifeExp', 'gdpPercap'],\n",
    "                       value='lifeExp',\n",
    "                       inline=True,\n",
    "                       id='my-radio-buttons-final')\n",
    "    ]),\n",
    "\n",
    "    html.Div(className='row', children=[\n",
    "        html.Div(className='six columns', children=[\n",
    "            dash_table.DataTable(data=df.to_dict('records'), page_size=11, style_table={'overflowX': 'auto'})\n",
    "        ]),\n",
    "        html.Div(className='six columns', children=[\n",
    "            dcc.Graph(figure={}, id='histo-chart-final')\n",
    "        ])\n",
    "    ])\n",
    "]\n",
    "\n",
    "# Add controls to build the interaction\n",
    "@callback(\n",
    "    Output(component_id='histo-chart-final', component_property='figure'),\n",
    "    Input(component_id='my-radio-buttons-final', component_property='value')\n",
    ")\n",
    "def update_graph(col_chosen):\n",
    "    fig = px.histogram(df, x='continent', y=col_chosen, histfunc='avg')\n",
    "    return fig\n",
    "\n",
    "# Run the app\n",
    "if __name__ == '__main__':\n",
    "    app.run(debug=True)"
   ]
  },
  {
   "cell_type": "markdown",
   "id": "dd6003e3-d386-443c-885e-ead8cab2d886",
   "metadata": {},
   "source": [
    "### Dash Bootstrap Components\n",
    "\n",
    "- A community-maintained library built off of the bootstrap component system.\n",
    "  - Bootstrap is a widely-used open-source front development tool\n",
    "- Not officially maintained or supported by the Plotly company\n",
    "\n",
    "We define rows in `dbc.Row` and columns in `dbc.Col` components in a `dbc.Container` .\n"
   ]
  },
  {
   "cell_type": "code",
   "execution_count": null,
   "id": "bde1f0ad-72bc-426e-a4f3-8c3cea3429fc",
   "metadata": {
    "tags": []
   },
   "outputs": [],
   "source": [
    "# Import packages\n",
    "from dash import Dash, html, dash_table, dcc, callback, Output, Input\n",
    "import pandas as pd\n",
    "import plotly.express as px\n",
    "import dash_bootstrap_components as dbc\n",
    "\n",
    "# Incorporate data\n",
    "df = pd.read_csv('https://raw.githubusercontent.com/plotly/datasets/master/gapminder2007.csv')\n",
    "\n",
    "# Initialize the app - incorporate a Dash Bootstrap theme\n",
    "external_stylesheets = [dbc.themes.CERULEAN]\n",
    "app = Dash(__name__, external_stylesheets=external_stylesheets)\n",
    "\n",
    "# App layout\n",
    "app.layout = dbc.Container([\n",
    "    dbc.Row([\n",
    "        html.Div('My First App with Data, Graph, and Controls', className=\"text-primary text-center fs-3\")\n",
    "    ]),\n",
    "\n",
    "    dbc.Row([\n",
    "        dbc.RadioItems(options=[{\"label\": x, \"value\": x} for x in ['pop', 'lifeExp', 'gdpPercap']],\n",
    "                       value='lifeExp',\n",
    "                       inline=True,\n",
    "                       id='radio-buttons-final')\n",
    "    ]),\n",
    "\n",
    "    dbc.Row([\n",
    "        dbc.Col([\n",
    "            dash_table.DataTable(data=df.to_dict('records'), page_size=12, style_table={'overflowX': 'auto'})\n",
    "        ], width=6),\n",
    "\n",
    "        dbc.Col([\n",
    "            dcc.Graph(figure={}, id='my-first-graph-final')\n",
    "        ], width=6),\n",
    "    ]),\n",
    "\n",
    "], fluid=True)\n",
    "\n",
    "# Add controls to build the interaction\n",
    "@callback(\n",
    "    Output(component_id='my-first-graph-final', component_property='figure'),\n",
    "    Input(component_id='radio-buttons-final', component_property='value')\n",
    ")\n",
    "def update_graph(col_chosen):\n",
    "    fig = px.histogram(df, x='continent', y=col_chosen, histfunc='avg')\n",
    "    return fig\n",
    "\n",
    "# Run the app\n",
    "if __name__ == '__main__':\n",
    "    app.run(debug=True)"
   ]
  },
  {
   "cell_type": "markdown",
   "id": "19ac4ad3-aa15-4363-8a78-b229d775147b",
   "metadata": {},
   "source": [
    "## Machine learning model inside a webapp?\n",
    "\n",
    "Let's think about a classifier for handwritten digits (MNIST). We will have a file representing an image uploaded by the user, and classify which digit it is using a pre-built model. Please run code inside `mnist-prep.ipynb` before running the cell below.\n",
    "\n",
    "\n",
    "\n",
    "\n",
    "\n",
    "### The Layout\n",
    "\n",
    "We use the `Upload` component for uploading the file. \n",
    "\n",
    "### The Callback\n",
    "\n",
    "Think about the following six steps:\n",
    "\n",
    "1. Access the image\n",
    "2. Load the pickled ML model\n",
    "3. Run the ML model on the image\n",
    "4. Store the ML model's prediction in some Python variable\n",
    "5. Show the image\n",
    "6. Print the prediction and some message"
   ]
  },
  {
   "cell_type": "code",
   "execution_count": null,
   "id": "9b4c22d8-41c5-48d5-9848-af34865c88d6",
   "metadata": {},
   "outputs": [],
   "source": [
    "from dash import Dash, dcc, html, dash_table, Input, Output, State, callback, no_update\n",
    "\n",
    "import base64\n",
    "import datetime\n",
    "import io\n",
    "\n",
    "import pandas as pd\n",
    "import numpy as np\n",
    "import sklearn\n",
    "import pickle\n",
    "\n",
    "external_stylesheets = ['https://codepen.io/chriddyp/pen/bWLwgP.css']\n",
    "\n",
    "app = Dash(__name__, external_stylesheets=external_stylesheets)\n",
    "\n",
    "app.layout = html.Div([\n",
    "    dcc.Upload(\n",
    "        id='upload-data',\n",
    "        children=html.Div([\n",
    "            'Drag and Drop or ',\n",
    "            html.A('Select Files')\n",
    "        ]),\n",
    "        style={\n",
    "            'width': '100%',\n",
    "            'height': '60px',\n",
    "            'lineHeight': '60px',\n",
    "            'borderWidth': '1px',\n",
    "            'borderStyle': 'dashed',\n",
    "            'borderRadius': '5px',\n",
    "            'textAlign': 'center',\n",
    "            'margin': '10px'\n",
    "        },\n",
    "        # Allow multiple files to be uploaded\n",
    "        multiple=False\n",
    "    ),\n",
    "    html.Div(id='output-data-upload'),\n",
    "    dcc.Graph(figure={}, id='output-fig'),\n",
    "    html.Div(id='output-prediction')\n",
    "    \n",
    "])\n",
    "\n",
    "# Three outputs, one input, two states (taken from the uploaded data)\n",
    "@callback(Output('output-data-upload', 'children'),\n",
    "                Output('output-fig', 'figure'),\n",
    "                Output('output-prediction', 'children'),\n",
    "                Input('upload-data', 'contents'),\n",
    "                State('upload-data', 'filename'),\n",
    "                State('upload-data', 'last_modified'))\n",
    "def update_output(content, name, date):\n",
    "    if content is not None:\n",
    "        children, fig, digit = parse_contents(content, name, date) \n",
    "        return children, fig, digit\n",
    "    else: \n",
    "        # default values with empty image\n",
    "        return (None, px.imshow(np.zeros((8, 8)), range_color=(0, 16), color_continuous_scale=\"Greys\"), None)\n",
    "    \n",
    "\n",
    "def parse_contents(contents, filename, date):\n",
    "    content_type, content_string = contents.split(',')\n",
    "\n",
    "    decoded = base64.b64decode(content_string)\n",
    "    try:\n",
    "        if 'txt' in filename:\n",
    "            # Step 1: loading the image\n",
    "            arr = np.loadtxt(\n",
    "                io.StringIO(decoded.decode('utf-8')))\n",
    "            \n",
    "            # Step 2: loading the picked model\n",
    "            model = pickle.load(open('model.pkl', 'rb'))\n",
    "            \n",
    "            # Step 3: running a ML model on the image\n",
    "            # Step 4: store the ML model's prediction in some Python variable\n",
    "            x = arr.reshape(1, 64)\n",
    "            digit = model.predict(x)[0]\n",
    "        \n",
    "            return (\n",
    "                html.Div(str(arr)),\n",
    "                # Step 5: Show the image\n",
    "                px.imshow(arr, range_color=(0, 16), color_continuous_scale=\"Greys\"),\n",
    "                # Step 6: Print the prediction and some message\n",
    "                html.Div(f\"This looks like a {digit}!\")\n",
    "            )\n",
    "            \n",
    "    except Exception as e:\n",
    "        print(e)\n",
    "        return (html.Div([\n",
    "            'There was an error processing this file.'\n",
    "        ]),\n",
    "        px.imshow(np.zeros((8, 8)), range_color=(0, 16), color_continuous_scale=\"Greys\"),\n",
    "        None)\n",
    "\n",
    "if __name__ == '__main__':\n",
    "    app.run(debug=True)"
   ]
  },
  {
   "cell_type": "markdown",
   "id": "aa08657b-5067-45b0-a7d0-5920c2a811b1",
   "metadata": {},
   "source": [
    "You can change the visuals further more. \n",
    "\n",
    "- Can we let the user decide the color palettes, using [this guide](https://plotly.com/python/colorscales/#colorscales-in-dash)?\n",
    "- Can we remove the tick-numbers?\n",
    "- Can we make predictions with multiple files at the same time?\n"
   ]
  },
  {
   "cell_type": "code",
   "execution_count": null,
   "id": "aba08f68-15f0-4393-ab07-bd6342caaca1",
   "metadata": {},
   "outputs": [],
   "source": []
  }
 ],
 "metadata": {
  "kernelspec": {
   "display_name": "203C",
   "language": "python",
   "name": "203c"
  },
  "language_info": {
   "codemirror_mode": {
    "name": "ipython",
    "version": 3
   },
   "file_extension": ".py",
   "mimetype": "text/x-python",
   "name": "python",
   "nbconvert_exporter": "python",
   "pygments_lexer": "ipython3",
   "version": "3.11.6"
  }
 },
 "nbformat": 4,
 "nbformat_minor": 5
}
